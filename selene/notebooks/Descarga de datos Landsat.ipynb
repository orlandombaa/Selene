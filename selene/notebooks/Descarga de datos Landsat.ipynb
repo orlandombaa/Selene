{
 "cells": [
  {
   "cell_type": "markdown",
   "id": "591c72d926f7520d",
   "metadata": {},
   "source": [
    "# Descarta de datos\n",
    "Actualmente se estan descargando los datos del satelite **Sentinel-2 y  Landsat 9**\n"
   ]
  },
  {
   "cell_type": "markdown",
   "id": "311394d52656111b",
   "metadata": {},
   "source": [
    "**ESTABLECIMIENTO DE FECHAS DE INTERES**"
   ]
  },
  {
   "cell_type": "code",
   "id": "1c832ccd14788405",
   "metadata": {
    "ExecuteTime": {
     "end_time": "2025-01-13T05:48:59.856265Z",
     "start_time": "2025-01-13T05:48:59.847587Z"
    }
   },
   "source": [
    "from datetime import datetime\n",
    "\n",
    "# Create a specific date and time\n",
    "start_date = datetime(year=2024, month=10, day=1)  # Year, Month, Day, con un digito las que son de 1\n",
    "\n",
    "# end date\n",
    "end_date = datetime(year=2025, month=1, day=8)"
   ],
   "outputs": [
    {
     "data": {
      "text/plain": [
       "<IPython.core.display.HTML object>"
      ],
      "text/html": [
       "\n",
       "            <style>\n",
       "                .geemap-dark {\n",
       "                    --jp-widgets-color: white;\n",
       "                    --jp-widgets-label-color: white;\n",
       "                    --jp-ui-font-color1: white;\n",
       "                    --jp-layout-color2: #454545;\n",
       "                    background-color: #383838;\n",
       "                }\n",
       "\n",
       "                .geemap-dark .jupyter-button {\n",
       "                    --jp-layout-color3: #383838;\n",
       "                }\n",
       "\n",
       "                .geemap-colab {\n",
       "                    background-color: var(--colab-primary-surface-color, white);\n",
       "                }\n",
       "\n",
       "                .geemap-colab .jupyter-button {\n",
       "                    --jp-layout-color3: var(--colab-primary-surface-color, white);\n",
       "                }\n",
       "            </style>\n",
       "            "
      ]
     },
     "metadata": {},
     "output_type": "display_data"
    }
   ],
   "execution_count": 29
  },
  {
   "cell_type": "markdown",
   "id": "4f0bfce0547801b",
   "metadata": {},
   "source": [
    "**IMPORTACION DE LIBRERIAS**"
   ]
  },
  {
   "cell_type": "code",
   "id": "5bb9b9cd4eb9e169",
   "metadata": {
    "ExecuteTime": {
     "end_time": "2025-01-13T05:49:00.850464Z",
     "start_time": "2025-01-13T05:49:00.846824Z"
    }
   },
   "source": [
    "import os\n",
    "import json\n",
    "import ee \n",
    "import geopandas as gpd\n",
    "import matplotlib.pyplot as plt\n",
    "import geemap\n",
    "import pandas as pd"
   ],
   "outputs": [
    {
     "data": {
      "text/plain": [
       "<IPython.core.display.HTML object>"
      ],
      "text/html": [
       "\n",
       "            <style>\n",
       "                .geemap-dark {\n",
       "                    --jp-widgets-color: white;\n",
       "                    --jp-widgets-label-color: white;\n",
       "                    --jp-ui-font-color1: white;\n",
       "                    --jp-layout-color2: #454545;\n",
       "                    background-color: #383838;\n",
       "                }\n",
       "\n",
       "                .geemap-dark .jupyter-button {\n",
       "                    --jp-layout-color3: #383838;\n",
       "                }\n",
       "\n",
       "                .geemap-colab {\n",
       "                    background-color: var(--colab-primary-surface-color, white);\n",
       "                }\n",
       "\n",
       "                .geemap-colab .jupyter-button {\n",
       "                    --jp-layout-color3: var(--colab-primary-surface-color, white);\n",
       "                }\n",
       "            </style>\n",
       "            "
      ]
     },
     "metadata": {},
     "output_type": "display_data"
    }
   ],
   "execution_count": 30
  },
  {
   "cell_type": "code",
   "id": "51411ca7d9e7712d",
   "metadata": {
    "ExecuteTime": {
     "end_time": "2025-01-13T05:49:02.300113Z",
     "start_time": "2025-01-13T05:49:02.296396Z"
    }
   },
   "source": [
    "# Extración de fechas\n",
    "start_year = start_date.year\n",
    "start_month = start_date.month\n",
    "start_day = start_date.day\n",
    "\n",
    "end_year = end_date.year\n",
    "end_month = end_date.month\n",
    "end_day = end_date.day"
   ],
   "outputs": [
    {
     "data": {
      "text/plain": [
       "<IPython.core.display.HTML object>"
      ],
      "text/html": [
       "\n",
       "            <style>\n",
       "                .geemap-dark {\n",
       "                    --jp-widgets-color: white;\n",
       "                    --jp-widgets-label-color: white;\n",
       "                    --jp-ui-font-color1: white;\n",
       "                    --jp-layout-color2: #454545;\n",
       "                    background-color: #383838;\n",
       "                }\n",
       "\n",
       "                .geemap-dark .jupyter-button {\n",
       "                    --jp-layout-color3: #383838;\n",
       "                }\n",
       "\n",
       "                .geemap-colab {\n",
       "                    background-color: var(--colab-primary-surface-color, white);\n",
       "                }\n",
       "\n",
       "                .geemap-colab .jupyter-button {\n",
       "                    --jp-layout-color3: var(--colab-primary-surface-color, white);\n",
       "                }\n",
       "            </style>\n",
       "            "
      ]
     },
     "metadata": {},
     "output_type": "display_data"
    }
   ],
   "execution_count": 31
  },
  {
   "cell_type": "markdown",
   "id": "daf4986a5dde4c83",
   "metadata": {},
   "source": [
    "## Autentificación para GCP "
   ]
  },
  {
   "cell_type": "code",
   "id": "fc7a058a33f4ea0a",
   "metadata": {
    "ExecuteTime": {
     "end_time": "2025-01-13T05:49:06.188175Z",
     "start_time": "2025-01-13T05:49:05.507240Z"
    }
   },
   "source": [
    "# 1) Obtención de la dirección de trabajo \n",
    "direction = os.getcwd()\n",
    "\n",
    "# Remove the last part of the path\n",
    "direction = os.path.dirname(direction)\n",
    "\n",
    "# Dirección de la llave \n",
    "service_account= direction + '/conf/local/gcp-for-data-science-397913-4fd843feede1.json'\n",
    "\n",
    "# Autentificación \n",
    "credentials = ee.ServiceAccountCredentials(email=None,key_file=service_account)\n",
    "ee.Initialize(credentials)"
   ],
   "outputs": [
    {
     "data": {
      "text/plain": [
       "<IPython.core.display.HTML object>"
      ],
      "text/html": [
       "\n",
       "            <style>\n",
       "                .geemap-dark {\n",
       "                    --jp-widgets-color: white;\n",
       "                    --jp-widgets-label-color: white;\n",
       "                    --jp-ui-font-color1: white;\n",
       "                    --jp-layout-color2: #454545;\n",
       "                    background-color: #383838;\n",
       "                }\n",
       "\n",
       "                .geemap-dark .jupyter-button {\n",
       "                    --jp-layout-color3: #383838;\n",
       "                }\n",
       "\n",
       "                .geemap-colab {\n",
       "                    background-color: var(--colab-primary-surface-color, white);\n",
       "                }\n",
       "\n",
       "                .geemap-colab .jupyter-button {\n",
       "                    --jp-layout-color3: var(--colab-primary-surface-color, white);\n",
       "                }\n",
       "            </style>\n",
       "            "
      ]
     },
     "metadata": {},
     "output_type": "display_data"
    }
   ],
   "execution_count": 32
  },
  {
   "cell_type": "markdown",
   "id": "b54978af94170958",
   "metadata": {},
   "source": [
    "## 1) Importación del área de interés \n",
    "**NOTA:** Se obtiene el área de interés por medio de un archivo tipo Geojson, kml o shape. Para este ejemplo se utilizará un KML."
   ]
  },
  {
   "cell_type": "code",
   "id": "326fd727173f5124",
   "metadata": {
    "ExecuteTime": {
     "end_time": "2025-01-13T05:49:07.868228Z",
     "start_time": "2025-01-13T05:49:07.862464Z"
    }
   },
   "source": [
    "import geojson\n",
    "\n",
    "# Nombre del archivo GeoJson a exportar\n",
    "geojson_path = direction + \"/data/01_raw/AOI.geojson\"\n",
    "\n",
    "# Cargar el archivo GeoJSON\n",
    "with open(geojson_path, \"r\") as f:\n",
    "    data = geojson.load(f)"
   ],
   "outputs": [
    {
     "data": {
      "text/plain": [
       "<IPython.core.display.HTML object>"
      ],
      "text/html": [
       "\n",
       "            <style>\n",
       "                .geemap-dark {\n",
       "                    --jp-widgets-color: white;\n",
       "                    --jp-widgets-label-color: white;\n",
       "                    --jp-ui-font-color1: white;\n",
       "                    --jp-layout-color2: #454545;\n",
       "                    background-color: #383838;\n",
       "                }\n",
       "\n",
       "                .geemap-dark .jupyter-button {\n",
       "                    --jp-layout-color3: #383838;\n",
       "                }\n",
       "\n",
       "                .geemap-colab {\n",
       "                    background-color: var(--colab-primary-surface-color, white);\n",
       "                }\n",
       "\n",
       "                .geemap-colab .jupyter-button {\n",
       "                    --jp-layout-color3: var(--colab-primary-surface-color, white);\n",
       "                }\n",
       "            </style>\n",
       "            "
      ]
     },
     "metadata": {},
     "output_type": "display_data"
    }
   ],
   "execution_count": 33
  },
  {
   "metadata": {},
   "cell_type": "markdown",
   "source": [
    "**CREACION DE UN EARTH ENGINE GEOMETRY**\n",
    "\n",
    "Es necesario utilizar el AOI y tranformalo.\n",
    "\n",
    "- **[Creación de un geometria para Earth Engine](https://developers.google.com/earth-engine/apidocs/ee-geometry)**: La geometria de earth engine se puede crear a partir de un GeoJSON, esto serivara para hacer el corte en las imagenes satelitales de interés\n"
   ],
   "id": "85e0362917fea1e4"
  },
  {
   "metadata": {
    "ExecuteTime": {
     "end_time": "2025-01-13T05:49:09.715094Z",
     "start_time": "2025-01-13T05:49:09.710172Z"
    }
   },
   "cell_type": "code",
   "source": [
    "# Step 4: Convert to Earth Engine Geometry\n",
    "area_interest = ee.Geometry(geo_json=data)\n",
    "type(area_interest)"
   ],
   "id": "a4f4a536bfe9424a",
   "outputs": [
    {
     "data": {
      "text/plain": [
       "<IPython.core.display.HTML object>"
      ],
      "text/html": [
       "\n",
       "            <style>\n",
       "                .geemap-dark {\n",
       "                    --jp-widgets-color: white;\n",
       "                    --jp-widgets-label-color: white;\n",
       "                    --jp-ui-font-color1: white;\n",
       "                    --jp-layout-color2: #454545;\n",
       "                    background-color: #383838;\n",
       "                }\n",
       "\n",
       "                .geemap-dark .jupyter-button {\n",
       "                    --jp-layout-color3: #383838;\n",
       "                }\n",
       "\n",
       "                .geemap-colab {\n",
       "                    background-color: var(--colab-primary-surface-color, white);\n",
       "                }\n",
       "\n",
       "                .geemap-colab .jupyter-button {\n",
       "                    --jp-layout-color3: var(--colab-primary-surface-color, white);\n",
       "                }\n",
       "            </style>\n",
       "            "
      ]
     },
     "metadata": {},
     "output_type": "display_data"
    },
    {
     "data": {
      "text/plain": [
       "ee.geometry.Geometry"
      ]
     },
     "execution_count": 34,
     "metadata": {},
     "output_type": "execute_result"
    }
   ],
   "execution_count": 34
  },
  {
   "cell_type": "markdown",
   "id": "5151a0452db9fd55",
   "metadata": {},
   "source": [
    "## 2) Descarga de imagenes satelitales\n",
    "En esta sección se abordarán los siguientes procesos \n",
    "\n",
    "\n",
    "- Descarga de datos satelitales para esa área junto con un filtro al área de intrés, fechas y nubosidad"
   ]
  },
  {
   "cell_type": "markdown",
   "id": "f96b81270dc108aa",
   "metadata": {},
   "source": [
    "### 2.2) Creación de un mapa base e integración de área de interés"
   ]
  },
  {
   "cell_type": "markdown",
   "id": "4135e9d0c1001f84",
   "metadata": {},
   "source": [
    "**AÑADIMOS LA GEOMETRIA AL MAPA**"
   ]
  },
  {
   "cell_type": "code",
   "id": "e6dfcc8309aea06",
   "metadata": {
    "ExecuteTime": {
     "end_time": "2025-01-13T05:49:16.875208Z",
     "start_time": "2025-01-13T05:49:16.376247Z"
    }
   },
   "source": [
    "# 1) Creación del mapa base \n",
    "Map  = geemap.Map()\n",
    "\n",
    "# Anadimos un base map distinto \n",
    "Map.add_basemap(basemap=\"Esri.WorldImagery\")  # Imagene satelital de ESRI \n",
    "\n",
    "# 2) Add the geometry to the map\n",
    "Map.addLayer(area_interest, {\"color\": \"red\"}, \"Cleaned Geometry\")\n",
    "\n",
    "# Center the map on the geometry\n",
    "Map.centerObject(area_interest, 11)"
   ],
   "outputs": [
    {
     "data": {
      "text/plain": [
       "<IPython.core.display.HTML object>"
      ],
      "text/html": [
       "\n",
       "            <style>\n",
       "                .geemap-dark {\n",
       "                    --jp-widgets-color: white;\n",
       "                    --jp-widgets-label-color: white;\n",
       "                    --jp-ui-font-color1: white;\n",
       "                    --jp-layout-color2: #454545;\n",
       "                    background-color: #383838;\n",
       "                }\n",
       "\n",
       "                .geemap-dark .jupyter-button {\n",
       "                    --jp-layout-color3: #383838;\n",
       "                }\n",
       "\n",
       "                .geemap-colab {\n",
       "                    background-color: var(--colab-primary-surface-color, white);\n",
       "                }\n",
       "\n",
       "                .geemap-colab .jupyter-button {\n",
       "                    --jp-layout-color3: var(--colab-primary-surface-color, white);\n",
       "                }\n",
       "            </style>\n",
       "            "
      ]
     },
     "metadata": {},
     "output_type": "display_data"
    }
   ],
   "execution_count": 35
  },
  {
   "cell_type": "markdown",
   "id": "2ddac04750e4573c",
   "metadata": {},
   "source": [
    "### 2.3) Descarga de imagenes satelitales\n",
    "\n",
    "**IMPORTANTE:**\n",
    " Se hará la descarga de las imagenes en los años que se eligieron al inicio para los siguientes satelites:\n",
    "\n",
    "\n",
    "- Sentinel 2:\n",
    "  Bandas seleccionadas:\n",
    "     - B2: Banda azul, central Wavelength = 490nm\n",
    "     - B3: Banda verde, central Wavelength = 560nm\n",
    "     - B4: Banda roja, central Wavelength = 665nm\n",
    "     - B8: Banda Near Infrared, central Wavelength = 842nm, utilizada con algunas de las bandas RGB para el cálculo del NDVI\n",
    "     - B11: Banda (SWIR 1), central Wavelength = 1610nm,  utilizada para el cálculo de NDWI\n",
    "\n",
    "<br>\n",
    "\n",
    "   - LandSat 9, bandas seleccionadas:\n",
    "     - B10: Banda termica , utilizada para el cálculo de Land Surface Temperature\n"
   ]
  },
  {
   "metadata": {},
   "cell_type": "markdown",
   "source": "#### 2.3.1) Set up de filtros  ",
   "id": "48201c9b75950efa"
  },
  {
   "cell_type": "code",
   "id": "f673964e547274b8",
   "metadata": {
    "ExecuteTime": {
     "end_time": "2025-01-13T05:50:15.009394Z",
     "start_time": "2025-01-13T05:50:14.981329Z"
    }
   },
   "source": [
    "# 1) Importación del image collection de Copernicus\n",
    "landsat9 = ee.ImageCollection(args='LANDSAT/LC09/C02/T1_L2')\n",
    "\n",
    "# 2) Filtro por área de interés\n",
    "landsat9 = landsat9.filterBounds(geometry=area_interest)\n",
    "\n",
    "# 3) Filtro por fechas de interés\n",
    "landsat9 = landsat9.filterDate(start=f\"{start_year}-{start_month}-{start_day}\",\n",
    "                                 end=f\"{end_year}-{end_month}-{end_day}\")  # año, mes y día\n",
    "\n",
    "# 5) Filtro por nubosidad\n",
    "landsat9 = landsat9.filterMetadata('CLOUD_COVER', 'less_than', 20)  # Only images with < 20% cloud cover, DIFERENCIA EN CODIGO\n",
    "# NOTE: This is still a image collection object\n",
    "\n",
    "# 6) Seleccion Bandas necesarias\n",
    "landsat9  = landsat9.select([\"SR_B2\", \"SR_B3\", \"SR_B4\", \"ST_B10\"]) # La ST_B10 es la infrarroja\n",
    "type(landsat9) # Esto es un Image Collection"
   ],
   "outputs": [
    {
     "data": {
      "text/plain": [
       "<IPython.core.display.HTML object>"
      ],
      "text/html": [
       "\n",
       "            <style>\n",
       "                .geemap-dark {\n",
       "                    --jp-widgets-color: white;\n",
       "                    --jp-widgets-label-color: white;\n",
       "                    --jp-ui-font-color1: white;\n",
       "                    --jp-layout-color2: #454545;\n",
       "                    background-color: #383838;\n",
       "                }\n",
       "\n",
       "                .geemap-dark .jupyter-button {\n",
       "                    --jp-layout-color3: #383838;\n",
       "                }\n",
       "\n",
       "                .geemap-colab {\n",
       "                    background-color: var(--colab-primary-surface-color, white);\n",
       "                }\n",
       "\n",
       "                .geemap-colab .jupyter-button {\n",
       "                    --jp-layout-color3: var(--colab-primary-surface-color, white);\n",
       "                }\n",
       "            </style>\n",
       "            "
      ]
     },
     "metadata": {},
     "output_type": "display_data"
    },
    {
     "data": {
      "text/plain": [
       "ee.imagecollection.ImageCollection"
      ]
     },
     "execution_count": 36,
     "metadata": {},
     "output_type": "execute_result"
    }
   ],
   "execution_count": 36
  },
  {
   "metadata": {
    "ExecuteTime": {
     "end_time": "2025-01-13T05:53:17.858003Z",
     "start_time": "2025-01-13T05:53:17.652856Z"
    }
   },
   "cell_type": "code",
   "source": [
    "# Convert the image collection to a list\n",
    "landsat_list = landsat9.toList(landsat9.size())\n",
    "\n",
    "# Get the second image (index 1 because indexing starts at 0)\n",
    "second_image = ee.Image(landsat_list.get(0))\n",
    "\n",
    "# Extract the acquisition time from the metadata\n",
    "scene_center_time = second_image.get('SCENE_CENTER_TIME').getInfo()\n",
    "\n",
    "# Print the result\n",
    "print(f\"Scene Center Time (UTC): {scene_center_time}\")\n",
    "\n",
    "# HAY QUE  Integrar la hora a la que fue tomado esto en el nombre de la imagen\n",
    "\n"
   ],
   "id": "1020d72e75b822dd",
   "outputs": [
    {
     "data": {
      "text/plain": [
       "<IPython.core.display.HTML object>"
      ],
      "text/html": [
       "\n",
       "            <style>\n",
       "                .geemap-dark {\n",
       "                    --jp-widgets-color: white;\n",
       "                    --jp-widgets-label-color: white;\n",
       "                    --jp-ui-font-color1: white;\n",
       "                    --jp-layout-color2: #454545;\n",
       "                    background-color: #383838;\n",
       "                }\n",
       "\n",
       "                .geemap-dark .jupyter-button {\n",
       "                    --jp-layout-color3: #383838;\n",
       "                }\n",
       "\n",
       "                .geemap-colab {\n",
       "                    background-color: var(--colab-primary-surface-color, white);\n",
       "                }\n",
       "\n",
       "                .geemap-colab .jupyter-button {\n",
       "                    --jp-layout-color3: var(--colab-primary-surface-color, white);\n",
       "                }\n",
       "            </style>\n",
       "            "
      ]
     },
     "metadata": {},
     "output_type": "display_data"
    },
    {
     "name": "stdout",
     "output_type": "stream",
     "text": [
      "Scene Center Time (UTC): 17:35:27.2816520Z\n"
     ]
    }
   ],
   "execution_count": 42
  },
  {
   "metadata": {},
   "cell_type": "markdown",
   "source": "#### 2.3.2) Obtención del ID de cada imagen y sus fechas",
   "id": "45c8d98a66b77593"
  },
  {
   "cell_type": "code",
   "id": "6995425d525866dd",
   "metadata": {
    "ExecuteTime": {
     "end_time": "2025-01-13T05:50:20.458722Z",
     "start_time": "2025-01-13T05:50:20.273488Z"
    }
   },
   "source": [
    "# Get the list of image IDs from the filtered ImageCollection\n",
    "landsat9_images_ids = landsat9.aggregate_array('system:index').getInfo()\n",
    "\n",
    "# Cantidad de imagenes\n",
    "number_landsat = len(landsat9_images_ids)\n",
    "print(\"Cantidad de imagenes de landsat:\", number_landsat)"
   ],
   "outputs": [
    {
     "data": {
      "text/plain": [
       "<IPython.core.display.HTML object>"
      ],
      "text/html": [
       "\n",
       "            <style>\n",
       "                .geemap-dark {\n",
       "                    --jp-widgets-color: white;\n",
       "                    --jp-widgets-label-color: white;\n",
       "                    --jp-ui-font-color1: white;\n",
       "                    --jp-layout-color2: #454545;\n",
       "                    background-color: #383838;\n",
       "                }\n",
       "\n",
       "                .geemap-dark .jupyter-button {\n",
       "                    --jp-layout-color3: #383838;\n",
       "                }\n",
       "\n",
       "                .geemap-colab {\n",
       "                    background-color: var(--colab-primary-surface-color, white);\n",
       "                }\n",
       "\n",
       "                .geemap-colab .jupyter-button {\n",
       "                    --jp-layout-color3: var(--colab-primary-surface-color, white);\n",
       "                }\n",
       "            </style>\n",
       "            "
      ]
     },
     "metadata": {},
     "output_type": "display_data"
    },
    {
     "name": "stdout",
     "output_type": "stream",
     "text": [
      "Cantidad de imagenes de landsat: 12\n"
     ]
    }
   ],
   "execution_count": 37
  },
  {
   "metadata": {},
   "cell_type": "markdown",
   "source": "**LANDSAT**",
   "id": "66d75de454dc026a"
  },
  {
   "metadata": {
    "ExecuteTime": {
     "end_time": "2025-01-13T00:06:09.748542Z",
     "start_time": "2025-01-13T00:06:05.111758Z"
    }
   },
   "cell_type": "code",
   "source": [
    "# Lista donde se almacenara el ID de las imagenes y su fecha\n",
    "landsat_ids_and_dates = []\n",
    "\n",
    "#  Creación de la lista ee\n",
    "landsat_list = landsat9.toList(landsat9.size()) # Esto genera una ee list que contiene todo el listado de imagenes y metadados\n",
    "\n",
    "# Inicio del ciclo\n",
    "for i in range(0,number_landsat):\n",
    "    # Aqui  se esta obteniedo cada imagen de la lista\n",
    "    image = ee.Image(landsat_list.get(i)) # Aqui hace la vinculación a una imagen en particula, en este caso toma la lista de ee y va tomar la imagen i, otra opcion tal vez mas sencilla de visualizar es usando directamtne el ID del a imagen (str)\n",
    "\n",
    "    # Se toma el ID de la imagen\n",
    "    image_id = image.get('system:index').getInfo()\n",
    "\n",
    "    # Se toma la fecha de imagen\n",
    "    date = ee.Date(image.get('system:time_start')).format('YYYY-MM-dd').getInfo()\n",
    "\n",
    "    # Se integra los resultados a la lista\n",
    "    landsat_ids_and_dates.append({'ID': image_id, 'Date': date})\n",
    "\n",
    "# Convertirlo a un pandas DF\n",
    "landsat_ids_and_dates  = pd.DataFrame(data= landsat_ids_and_dates )\n",
    "print(\"Cantidad de imagenes:\", len(landsat_ids_and_dates [\"Date\"]))\n",
    "\n",
    "# Tranformar la columna Date a tipo date\n",
    "landsat_ids_and_dates ['Date'] = pd.to_datetime(arg=landsat_ids_and_dates ['Date'])\n",
    "landsat_ids_and_dates [\"Satelite\"] = \"LANDSAT/LC09/C02/T1_L2\"\n",
    "landsat_ids_and_dates.head(n=5) # Visualizacion"
   ],
   "id": "37d6788ff63fcd0d",
   "outputs": [
    {
     "data": {
      "text/plain": [
       "<IPython.core.display.HTML object>"
      ],
      "text/html": [
       "\n",
       "            <style>\n",
       "                .geemap-dark {\n",
       "                    --jp-widgets-color: white;\n",
       "                    --jp-widgets-label-color: white;\n",
       "                    --jp-ui-font-color1: white;\n",
       "                    --jp-layout-color2: #454545;\n",
       "                    background-color: #383838;\n",
       "                }\n",
       "\n",
       "                .geemap-dark .jupyter-button {\n",
       "                    --jp-layout-color3: #383838;\n",
       "                }\n",
       "\n",
       "                .geemap-colab {\n",
       "                    background-color: var(--colab-primary-surface-color, white);\n",
       "                }\n",
       "\n",
       "                .geemap-colab .jupyter-button {\n",
       "                    --jp-layout-color3: var(--colab-primary-surface-color, white);\n",
       "                }\n",
       "            </style>\n",
       "            "
      ]
     },
     "metadata": {},
     "output_type": "display_data"
    },
    {
     "name": "stdout",
     "output_type": "stream",
     "text": [
      "Cantidad de imagenes: 12\n"
     ]
    },
    {
     "data": {
      "text/plain": [
       "                     ID       Date                Satelite\n",
       "0  LC09_032043_20241011 2024-10-11  LANDSAT/LC09/C02/T1_L2\n",
       "1  LC09_032043_20241027 2024-10-27  LANDSAT/LC09/C02/T1_L2\n",
       "2  LC09_032043_20241112 2024-11-12  LANDSAT/LC09/C02/T1_L2\n",
       "3  LC09_032043_20241128 2024-11-28  LANDSAT/LC09/C02/T1_L2\n",
       "4  LC09_032043_20241214 2024-12-14  LANDSAT/LC09/C02/T1_L2"
      ],
      "text/html": [
       "<div>\n",
       "<style scoped>\n",
       "    .dataframe tbody tr th:only-of-type {\n",
       "        vertical-align: middle;\n",
       "    }\n",
       "\n",
       "    .dataframe tbody tr th {\n",
       "        vertical-align: top;\n",
       "    }\n",
       "\n",
       "    .dataframe thead th {\n",
       "        text-align: right;\n",
       "    }\n",
       "</style>\n",
       "<table border=\"1\" class=\"dataframe\">\n",
       "  <thead>\n",
       "    <tr style=\"text-align: right;\">\n",
       "      <th></th>\n",
       "      <th>ID</th>\n",
       "      <th>Date</th>\n",
       "      <th>Satelite</th>\n",
       "    </tr>\n",
       "  </thead>\n",
       "  <tbody>\n",
       "    <tr>\n",
       "      <th>0</th>\n",
       "      <td>LC09_032043_20241011</td>\n",
       "      <td>2024-10-11</td>\n",
       "      <td>LANDSAT/LC09/C02/T1_L2</td>\n",
       "    </tr>\n",
       "    <tr>\n",
       "      <th>1</th>\n",
       "      <td>LC09_032043_20241027</td>\n",
       "      <td>2024-10-27</td>\n",
       "      <td>LANDSAT/LC09/C02/T1_L2</td>\n",
       "    </tr>\n",
       "    <tr>\n",
       "      <th>2</th>\n",
       "      <td>LC09_032043_20241112</td>\n",
       "      <td>2024-11-12</td>\n",
       "      <td>LANDSAT/LC09/C02/T1_L2</td>\n",
       "    </tr>\n",
       "    <tr>\n",
       "      <th>3</th>\n",
       "      <td>LC09_032043_20241128</td>\n",
       "      <td>2024-11-28</td>\n",
       "      <td>LANDSAT/LC09/C02/T1_L2</td>\n",
       "    </tr>\n",
       "    <tr>\n",
       "      <th>4</th>\n",
       "      <td>LC09_032043_20241214</td>\n",
       "      <td>2024-12-14</td>\n",
       "      <td>LANDSAT/LC09/C02/T1_L2</td>\n",
       "    </tr>\n",
       "  </tbody>\n",
       "</table>\n",
       "</div>"
      ]
     },
     "execution_count": 25,
     "metadata": {},
     "output_type": "execute_result"
    }
   ],
   "execution_count": 25
  },
  {
   "metadata": {},
   "cell_type": "markdown",
   "source": "### 2.3.3) Solicitud de descarga",
   "id": "40b258ac1e2a4d57"
  },
  {
   "metadata": {},
   "cell_type": "markdown",
   "source": "**LANDSAT**",
   "id": "2da60bb4383053d"
  },
  {
   "metadata": {
    "ExecuteTime": {
     "end_time": "2025-01-13T00:06:19.076597Z",
     "start_time": "2025-01-13T00:06:19.067768Z"
    }
   },
   "cell_type": "code",
   "source": [
    "# 1) Creación de un diccionario vacio\n",
    "landsat_images_dic  = {}\n",
    "\n",
    "# Inicio de la solocitud de descarga\n",
    "\n",
    "for i in landsat_ids_and_dates.index:\n",
    "    # Extracción del ID de la imagen\n",
    "    ID = landsat_ids_and_dates[\"ID\"].loc[i]\n",
    "\n",
    "    # Extracción de la fecha de la imagen\n",
    "    image_date = landsat_ids_and_dates[\"Date\"].loc[i]\n",
    "\n",
    "    # Solicitud de descarga\n",
    "    image = landsat9.filter(ee.Filter.eq(name='system:index',value= ID)).first()\n",
    "\n",
    "    # Recorte de la imagen usando la función de clip de ee\n",
    "    image = image.clip(area_interest)  # Recorta al área de interés\n",
    "\n",
    "    # 7) Almacenar en el diccionario\n",
    "    landsat_images_dic[f\"Image_{image_date}\"] = image"
   ],
   "id": "3c0a7d90d6551c28",
   "outputs": [
    {
     "data": {
      "text/plain": [
       "<IPython.core.display.HTML object>"
      ],
      "text/html": [
       "\n",
       "            <style>\n",
       "                .geemap-dark {\n",
       "                    --jp-widgets-color: white;\n",
       "                    --jp-widgets-label-color: white;\n",
       "                    --jp-ui-font-color1: white;\n",
       "                    --jp-layout-color2: #454545;\n",
       "                    background-color: #383838;\n",
       "                }\n",
       "\n",
       "                .geemap-dark .jupyter-button {\n",
       "                    --jp-layout-color3: #383838;\n",
       "                }\n",
       "\n",
       "                .geemap-colab {\n",
       "                    background-color: var(--colab-primary-surface-color, white);\n",
       "                }\n",
       "\n",
       "                .geemap-colab .jupyter-button {\n",
       "                    --jp-layout-color3: var(--colab-primary-surface-color, white);\n",
       "                }\n",
       "            </style>\n",
       "            "
      ]
     },
     "metadata": {},
     "output_type": "display_data"
    }
   ],
   "execution_count": 26
  },
  {
   "cell_type": "markdown",
   "id": "c98c6ce7788bd208",
   "metadata": {},
   "source": [
    "**PENDIENTE:**\n",
    "- Hay que meter un filtro de nubosidad más estricto, que evaluemos la cantidad de nubes pero SOLO en la zona de interés."
   ]
  },
  {
   "cell_type": "code",
   "id": "dc2a4fa13ee0010",
   "metadata": {
    "ExecuteTime": {
     "end_time": "2025-01-13T00:06:21.282805Z",
     "start_time": "2025-01-13T00:06:21.278017Z"
    }
   },
   "source": [
    "## ES LO QUE ME PUSO EL CHAT PARA EL FILTRADO DE NUBES EN EL AREA DE INTERES \n",
    "\n",
    "#def cloud_percentage_in_aoi(image, aoi):\n",
    " #   \"\"\"Calculate cloud percentage within the area of interest (AOI).\"\"\"\n",
    "    # Mask clouds using QA60 band (1 = clouds, 0 = clear)\n",
    "  #  cloud_mask = image.select('QA60').eq(1)\n",
    "    \n",
    "    # Calculate the total number of pixels in the AOI\n",
    "   # total_pixels = ee.Number(image.clip(aoi).reduceRegion(\n",
    "    #    reducer=ee.Reducer.count(),\n",
    "     #   geometry=aoi,\n",
    "      #  scale=10,\n",
    "       # maxPixels=1e13\n",
    "   # ).values().get(0))\n",
    "\n",
    "    # Calculate cloud pixels in the AOI\n",
    "   # cloud_pixels = ee.Number(cloud_mask.clip(aoi).reduceRegion(\n",
    "    #    reducer=ee.Reducer.count(),\n",
    "     #   geometry=aoi,\n",
    "      #  scale=10,\n",
    "       # maxPixels=1e13\n",
    "   # ).values().get(0))\n",
    "    \n",
    "    # Calculate cloud percentage\n",
    "   # cloud_percentage = cloud_pixels.divide(total_pixels).multiply(100)\n",
    "   # return cloud_percentage\n",
    "\n",
    "# Main script\n",
    "#image_dic = {}  # Dictionary to store images\n",
    "\n",
    "#for i in years:\n",
    " #   for z in months:\n",
    "  #      if i <= current_year and z <= current_month:\n",
    "            # 1) Import Sentinel-2 image collection\n",
    "   #         sentinel2 = ee.ImageCollection(\"COPERNICUS/S2_SR\") \\\n",
    "    #            .filterBounds(area_interest) \\\n",
    "     #           .filterDate(f\"{i}-{z}-01\", f\"{i}-{z}-28\") \\\n",
    "      #          .filter(ee.Filter.lt(\"CLOUDY_PIXEL_PERCENTAGE\", 20))  # Rough initial filter\n",
    "            \n",
    "            # 2) Filter images based on AOI-specific cloud percentage\n",
    "       #     def filter_by_aoi_cloud(image):\n",
    "        #        cloud_percent = cloud_percentage_in_aoi(image, area_interest)\n",
    "         #       return image.set('CLOUD_PERCENT_AOI', cloud_percent)\n",
    "            \n",
    "            # Apply AOI-specific cloud percentage calculation\n",
    "          #  images_with_cloud_info = sentinel2.map(filter_by_aoi_cloud)\n",
    "\n",
    "            # Filter images where AOI cloud coverage is less than 10%\n",
    "  #          filtered_images = images_with_cloud_info.filter(ee.Filter.lt('CLOUD_PERCENT_AOI', 10))\n",
    "            \n",
    "            # Select the first image\n",
    "   #         image = filtered_images.first()\n",
    "            \n",
    "            # Check if image exists and process\n",
    "    #        if image.getInfo() is not None:\n",
    "                # Select visible bands and band 8\n",
    "     #           image = image.select(['B2', 'B3', 'B4', 'B8'])\n",
    "      #          image = image.clip(area_interest)\n",
    "                \n",
    "                # Store the image\n",
    "       #         image_dic[f\"{i}-{z}\"] = image\n",
    "        #        print(f\"Image for {i}-{z} meets cloud criteria in AOI.\")\n",
    "         #   else:\n",
    "          #      print(f\"No valid image found for {i}-{z}.\")\n"
   ],
   "outputs": [
    {
     "data": {
      "text/plain": [
       "<IPython.core.display.HTML object>"
      ],
      "text/html": [
       "\n",
       "            <style>\n",
       "                .geemap-dark {\n",
       "                    --jp-widgets-color: white;\n",
       "                    --jp-widgets-label-color: white;\n",
       "                    --jp-ui-font-color1: white;\n",
       "                    --jp-layout-color2: #454545;\n",
       "                    background-color: #383838;\n",
       "                }\n",
       "\n",
       "                .geemap-dark .jupyter-button {\n",
       "                    --jp-layout-color3: #383838;\n",
       "                }\n",
       "\n",
       "                .geemap-colab {\n",
       "                    background-color: var(--colab-primary-surface-color, white);\n",
       "                }\n",
       "\n",
       "                .geemap-colab .jupyter-button {\n",
       "                    --jp-layout-color3: var(--colab-primary-surface-color, white);\n",
       "                }\n",
       "            </style>\n",
       "            "
      ]
     },
     "metadata": {},
     "output_type": "display_data"
    }
   ],
   "execution_count": 27
  },
  {
   "cell_type": "markdown",
   "id": "74ee86c2d295e660",
   "metadata": {},
   "source": [
    "## 3) Exportación \n",
    "La exportación la realizaremos a un bucket de GCP\n",
    " \n",
    "API Reference: https://developers.google.com/earth-engine/apidocs/export-image-tocloudstorage#colab-python\n",
    "\n",
    "**NOTA IMPORTANTE:** La exportación de las imagenes debe de cumplir ciertos requerimientos para que earth engine pueda aceder a ellos, los cuales son: \n",
    "\n",
    "It must be located in the US multi-region or US-CENTRAL1 region."
   ]
  },
  {
   "cell_type": "markdown",
   "id": "2d06604fc17e55ac",
   "metadata": {},
   "source": "### 3.1) Exportación de imagenes Sentinel"
  },
  {
   "cell_type": "code",
   "id": "c5f976677fb72d1c",
   "metadata": {
    "ExecuteTime": {
     "end_time": "2025-01-13T00:06:31.730955Z",
     "start_time": "2025-01-13T00:06:28.450966Z"
    }
   },
   "source": [
    "# 1) Obtención de las llaves del diccionario\n",
    "keys = list(landsat_images_dic.keys())\n",
    "sentinel_images_names =[]\n",
    "\n",
    "# Inicio del ciclo \n",
    "for i in keys: \n",
    "    \n",
    "    # 1) Lectura de los datos \n",
    "    image = landsat_images_dic[i]\n",
    "    \n",
    "    task = ee.batch.Export.image.toCloudStorage(\n",
    "    image=image,\n",
    "    #description=f\"Export\", # Este es el nombre del archivo que se exportara , si vas a usar el filenameprexi no es necesario esto \n",
    "    bucket='earth_engine_selene',  # Cambia esto al nombre de tu bucket\n",
    "    region = area_interest, # el parámetro region sirve para definir el área geográfica específica que se va a exportar.\n",
    "    fileNamePrefix=f\"Landsat/Row_Data/{i}\", # Damos una dirección dentro del bucket y le damos nombre\n",
    "    scale=10,  # Resolución en metros\n",
    "    fileFormat='GeoTIFF')  # Formato de archivo\n",
    "    \n",
    "    task.start()  # Inicia la tarea de exportación\n",
    "    print(\"Se exportó la imagen a Cloud Storage:\", i)    \n",
    "    \n",
    "    # Image name\n",
    "    name = f\"{i}\"\n",
    "    sentinel_images_names.append(name)"
   ],
   "outputs": [
    {
     "data": {
      "text/plain": [
       "<IPython.core.display.HTML object>"
      ],
      "text/html": [
       "\n",
       "            <style>\n",
       "                .geemap-dark {\n",
       "                    --jp-widgets-color: white;\n",
       "                    --jp-widgets-label-color: white;\n",
       "                    --jp-ui-font-color1: white;\n",
       "                    --jp-layout-color2: #454545;\n",
       "                    background-color: #383838;\n",
       "                }\n",
       "\n",
       "                .geemap-dark .jupyter-button {\n",
       "                    --jp-layout-color3: #383838;\n",
       "                }\n",
       "\n",
       "                .geemap-colab {\n",
       "                    background-color: var(--colab-primary-surface-color, white);\n",
       "                }\n",
       "\n",
       "                .geemap-colab .jupyter-button {\n",
       "                    --jp-layout-color3: var(--colab-primary-surface-color, white);\n",
       "                }\n",
       "            </style>\n",
       "            "
      ]
     },
     "metadata": {},
     "output_type": "display_data"
    },
    {
     "name": "stdout",
     "output_type": "stream",
     "text": [
      "Se exportó la imagen a Cloud Storage: Image_2024-10-11 00:00:00\n",
      "Se exportó la imagen a Cloud Storage: Image_2024-10-27 00:00:00\n",
      "Se exportó la imagen a Cloud Storage: Image_2024-11-12 00:00:00\n",
      "Se exportó la imagen a Cloud Storage: Image_2024-11-28 00:00:00\n",
      "Se exportó la imagen a Cloud Storage: Image_2024-12-14 00:00:00\n",
      "Se exportó la imagen a Cloud Storage: Image_2024-12-30 00:00:00\n",
      "Se exportó la imagen a Cloud Storage: Image_2024-10-02 00:00:00\n",
      "Se exportó la imagen a Cloud Storage: Image_2024-10-18 00:00:00\n",
      "Se exportó la imagen a Cloud Storage: Image_2024-11-19 00:00:00\n",
      "Se exportó la imagen a Cloud Storage: Image_2024-12-05 00:00:00\n",
      "Se exportó la imagen a Cloud Storage: Image_2024-12-21 00:00:00\n",
      "Se exportó la imagen a Cloud Storage: Image_2025-01-06 00:00:00\n"
     ]
    }
   ],
   "execution_count": 28
  },
  {
   "cell_type": "markdown",
   "id": "2a226d43fb14ee7b",
   "metadata": {},
   "source": [
    "### 3.2) Exportación de mapa html \n",
    "Este mapa contiene las capas agregadas, en este caso solo el área de interés "
   ]
  },
  {
   "cell_type": "code",
   "id": "ef1f5c791afa3107",
   "metadata": {
    "ExecuteTime": {
     "end_time": "2025-01-11T19:56:24.254250Z",
     "start_time": "2025-01-11T19:56:24.235670Z"
    }
   },
   "source": [
    "# Visualizacion del mapa en un broswer \n",
    "html_file = direction + \"/data/02_intermediate/Map.html\" # String de la direccion de exportacion\n",
    "Map.to_html(filename=html_file, title=\"My Map\", width=\"100%\", height=\"880px\") # Exporacion a una html \n",
    "# NOTA : En estos momentos solo agrege el area de interes, no estan las imagenes TIF "
   ],
   "outputs": [
    {
     "data": {
      "text/plain": [
       "<IPython.core.display.HTML object>"
      ],
      "text/html": [
       "\n",
       "            <style>\n",
       "                .geemap-dark {\n",
       "                    --jp-widgets-color: white;\n",
       "                    --jp-widgets-label-color: white;\n",
       "                    --jp-ui-font-color1: white;\n",
       "                    --jp-layout-color2: #454545;\n",
       "                    background-color: #383838;\n",
       "                }\n",
       "\n",
       "                .geemap-dark .jupyter-button {\n",
       "                    --jp-layout-color3: #383838;\n",
       "                }\n",
       "\n",
       "                .geemap-colab {\n",
       "                    background-color: var(--colab-primary-surface-color, white);\n",
       "                }\n",
       "\n",
       "                .geemap-colab .jupyter-button {\n",
       "                    --jp-layout-color3: var(--colab-primary-surface-color, white);\n",
       "                }\n",
       "            </style>\n",
       "            "
      ]
     },
     "metadata": {},
     "output_type": "display_data"
    }
   ],
   "execution_count": 24
  },
  {
   "cell_type": "markdown",
   "id": "153e48cc07688b7f",
   "metadata": {},
   "source": [
    "### 3.3) Exportación del nombre de las imagenes \n",
    "Esto lo utilizaremos pasa saber exactamente que es lo que se exporto al bucket "
   ]
  },
  {
   "cell_type": "code",
   "id": "2ffe3dd1f4f53222",
   "metadata": {
    "ExecuteTime": {
     "end_time": "2025-01-11T20:12:51.116284Z",
     "start_time": "2025-01-11T20:12:51.096980Z"
    }
   },
   "source": [
    "# 1) Creación del pandas DF \n",
    "names = pd.DataFrame(data=sentinel_images_names, columns=[\"Images names\"])\n",
    "\n",
    "# 2) Exportación a csv \n",
    "names.to_csv(path_or_buf=direction + \"/data/02_intermediate/Landsat_images_names.csv\", index=False)"
   ],
   "outputs": [
    {
     "data": {
      "text/plain": [
       "<IPython.core.display.HTML object>"
      ],
      "text/html": [
       "\n",
       "            <style>\n",
       "                .geemap-dark {\n",
       "                    --jp-widgets-color: white;\n",
       "                    --jp-widgets-label-color: white;\n",
       "                    --jp-ui-font-color1: white;\n",
       "                    --jp-layout-color2: #454545;\n",
       "                    background-color: #383838;\n",
       "                }\n",
       "\n",
       "                .geemap-dark .jupyter-button {\n",
       "                    --jp-layout-color3: #383838;\n",
       "                }\n",
       "\n",
       "                .geemap-colab {\n",
       "                    background-color: var(--colab-primary-surface-color, white);\n",
       "                }\n",
       "\n",
       "                .geemap-colab .jupyter-button {\n",
       "                    --jp-layout-color3: var(--colab-primary-surface-color, white);\n",
       "                }\n",
       "            </style>\n",
       "            "
      ]
     },
     "metadata": {},
     "output_type": "display_data"
    }
   ],
   "execution_count": 26
  }
 ],
 "metadata": {
  "kernelspec": {
   "display_name": "Python 3 (ipykernel)",
   "language": "python",
   "name": "python3"
  },
  "language_info": {
   "codemirror_mode": {
    "name": "ipython",
    "version": 3
   },
   "file_extension": ".py",
   "mimetype": "text/x-python",
   "name": "python",
   "nbconvert_exporter": "python",
   "pygments_lexer": "ipython3",
   "version": "3.13.1"
  }
 },
 "nbformat": 4,
 "nbformat_minor": 5
}
