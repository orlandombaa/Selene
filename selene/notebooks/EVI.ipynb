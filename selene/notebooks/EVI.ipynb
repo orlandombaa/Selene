{
 "cells": [
  {
   "metadata": {},
   "cell_type": "markdown",
   "source": [
    "# Enhanced Vegetation Index (EVI)\n",
    "\n",
    "El método Índice de vegetación mejorado (EVI, por sus siglas en inglés) es un índice de vegetación optimizado que tiene en cuenta las influencias atmosféricas y la señal de fondo de la vegetación. Es similar al NDVI, pero es menos sensible al ruido de fondo y atmosférico, y no se satura tanto como el NDVI al visualizar áreas con vegetación verde muy densa.\n",
    "\n",
    "\n",
    "https://pro.arcgis.com/es/pro-app/latest/arcpy/spatial-analyst/evi.htm"
   ],
   "id": "6f63af964046ee9e"
  },
  {
   "metadata": {},
   "cell_type": "code",
   "outputs": [],
   "execution_count": null,
   "source": "",
   "id": "42361be0ed24ce5b"
  }
 ],
 "metadata": {
  "kernelspec": {
   "display_name": "Python 3",
   "language": "python",
   "name": "python3"
  },
  "language_info": {
   "codemirror_mode": {
    "name": "ipython",
    "version": 2
   },
   "file_extension": ".py",
   "mimetype": "text/x-python",
   "name": "python",
   "nbconvert_exporter": "python",
   "pygments_lexer": "ipython2",
   "version": "2.7.6"
  }
 },
 "nbformat": 4,
 "nbformat_minor": 5
}
