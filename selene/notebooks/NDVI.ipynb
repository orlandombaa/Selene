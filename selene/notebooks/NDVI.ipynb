{
 "cells": [
  {
   "cell_type": "markdown",
   "id": "421f33b0083f6599",
   "metadata": {},
   "source": [
    "# Cálculo de NDVI \n",
    "\n",
    "En este notebook se generará la métrica de NDVI. \n",
    "\n",
    "NDVI (Normalized Difference Vegetation Index) is a widely used remote sensing index to measure vegetation health, density, and vigor. It works by leveraging the difference in reflectance properties of vegetation in the red and near-infrared (NIR) portions of the electromagnetic spectrum.\n",
    "\n",
    "Healthy vegetation absorbs most of the red light (used in photosynthesis) and reflects a significant portion of near-infrared light. Unhealthy or sparse vegetation reflects more red light and less near-infrared light.\n",
    "\n",
    "<div style=\"text-align: center;\">\n",
    "    <img src=\"Images/NVDI_formula.png\" alt=\"Descripción de la imagen\" width=\"500\">\n",
    "</div>\n",
    " \n",
    "\n",
    "\n"
   ]
  },
  {
   "cell_type": "markdown",
   "id": "f4d3636c221ba4f6",
   "metadata": {},
   "source": [
    "**IMPORTACION DE LIBRERIAS**"
   ]
  },
  {
   "cell_type": "code",
   "id": "193d29cdde45367b",
   "metadata": {
    "ExecuteTime": {
     "end_time": "2025-01-06T05:44:07.776309Z",
     "start_time": "2025-01-06T05:44:07.770473Z"
    }
   },
   "source": [
    "import os \n",
    "import ee \n",
    "import pandas as pd\n",
    "import geemap\n",
    "import requests\n",
    "import plotly.express as px\n",
    "import matplotlib.pyplot as plt\n",
    "from rasterio.plot import show\n",
    "import rasterio\n",
    "\n",
    "# 1) Obtención de la dirección de trabajo\n",
    "direction = os.getcwd()\n",
    "\n",
    "# Remove the last part of the path\n",
    "direction = os.path.dirname(direction)\n",
    "direction"
   ],
   "outputs": [
    {
     "data": {
      "text/plain": [
       "<IPython.core.display.HTML object>"
      ],
      "text/html": [
       "\n",
       "            <style>\n",
       "                .geemap-dark {\n",
       "                    --jp-widgets-color: white;\n",
       "                    --jp-widgets-label-color: white;\n",
       "                    --jp-ui-font-color1: white;\n",
       "                    --jp-layout-color2: #454545;\n",
       "                    background-color: #383838;\n",
       "                }\n",
       "\n",
       "                .geemap-dark .jupyter-button {\n",
       "                    --jp-layout-color3: #383838;\n",
       "                }\n",
       "\n",
       "                .geemap-colab {\n",
       "                    background-color: var(--colab-primary-surface-color, white);\n",
       "                }\n",
       "\n",
       "                .geemap-colab .jupyter-button {\n",
       "                    --jp-layout-color3: var(--colab-primary-surface-color, white);\n",
       "                }\n",
       "            </style>\n",
       "            "
      ]
     },
     "metadata": {},
     "output_type": "display_data"
    },
    {
     "data": {
      "text/plain": [
       "'/Users/orlandoandrade/Documents/Negocios/Satelites/selene'"
      ]
     },
     "execution_count": 75,
     "metadata": {},
     "output_type": "execute_result"
    }
   ],
   "execution_count": 75
  },
  {
   "cell_type": "markdown",
   "id": "5b61c7fb2f78ff95",
   "metadata": {},
   "source": "## 1) Autentificación"
  },
  {
   "cell_type": "code",
   "id": "2b054b8d75e5e14b",
   "metadata": {
    "ExecuteTime": {
     "end_time": "2025-01-06T05:44:12.984212Z",
     "start_time": "2025-01-06T05:44:12.293447Z"
    }
   },
   "source": [
    "# Dirección de la llave\n",
    "service_account = direction + '/conf/local/gcp-for-data-science-397913-4fd843feede1.json'\n",
    "\n",
    "# Autentificación \n",
    "credentials = ee.ServiceAccountCredentials(email=None, key_file=service_account)\n",
    "ee.Initialize(credentials)"
   ],
   "outputs": [
    {
     "data": {
      "text/plain": [
       "<IPython.core.display.HTML object>"
      ],
      "text/html": [
       "\n",
       "            <style>\n",
       "                .geemap-dark {\n",
       "                    --jp-widgets-color: white;\n",
       "                    --jp-widgets-label-color: white;\n",
       "                    --jp-ui-font-color1: white;\n",
       "                    --jp-layout-color2: #454545;\n",
       "                    background-color: #383838;\n",
       "                }\n",
       "\n",
       "                .geemap-dark .jupyter-button {\n",
       "                    --jp-layout-color3: #383838;\n",
       "                }\n",
       "\n",
       "                .geemap-colab {\n",
       "                    background-color: var(--colab-primary-surface-color, white);\n",
       "                }\n",
       "\n",
       "                .geemap-colab .jupyter-button {\n",
       "                    --jp-layout-color3: var(--colab-primary-surface-color, white);\n",
       "                }\n",
       "            </style>\n",
       "            "
      ]
     },
     "metadata": {},
     "output_type": "display_data"
    }
   ],
   "execution_count": 76
  },
  {
   "cell_type": "markdown",
   "id": "46efced9abce13ec",
   "metadata": {},
   "source": [
    "## 2) Lectura y procesamiento de imagenes  \n",
    "Las imagenes satelitales se almacenaron en un bucket de GCP, por lo que serán leídas de ahi mismo.\n",
    "\n",
    "API Reference:\n",
    " \n",
    "  https://developers.google.com/earth-engine/apidocs/ee-image-loadgeotiff"
   ]
  },
  {
   "cell_type": "markdown",
   "id": "c0e19ed8c3e4a274",
   "metadata": {},
   "source": [
    "### 2.1) Cálculo y exportación de imagenes con NDVI \n",
    "Las imagennes exportadas en "
   ]
  },
  {
   "cell_type": "code",
   "id": "48bba7854eb87c94",
   "metadata": {
    "ExecuteTime": {
     "end_time": "2025-01-06T05:44:27.840700Z",
     "start_time": "2025-01-06T05:44:14.262202Z"
    }
   },
   "source": [
    "# 1) Lectura del nombre de las imagenes en el bucket \n",
    "images_names = pd.read_csv(filepath_or_buffer=direction + \"/data/02_intermediate/images_names.csv\")\n",
    "\n",
    "# diccionario de imagenes \n",
    "images_dic = {}\n",
    "\n",
    "# Importación del mapa base \n",
    "Map = geemap.Map()\n",
    "\n",
    "# Path to the image in the GCS bucket\n",
    "image_center = images_names[\"Images names\"][0]\n",
    "image_center   = f'gs://earth_engine_selene/sentinel2/{image_center}.tif'\n",
    "    \n",
    "# Load the image from the GCS bucket\n",
    "image = ee.Image.loadGeoTIFF(uri=image_center)\n",
    "\n",
    "# Central el mapa \n",
    "Map.centerObject(ee_object=image, zoom= 10)\n",
    "\n",
    "# 2) Inicio del ciclo , se toma el pandas serie para iterar en él\n",
    "for i in images_names[\"Images names\"]:\n",
    "    \n",
    "    # 1) Descarga de imagenes \n",
    "    # Path to the image in the GCS bucket\n",
    "    gcs_path = f'gs://earth_engine_selene/sentinel2/{i}.tif' # Crear más bien un GCP path base\n",
    "    \n",
    "    # Load the image from the GCS bucket\n",
    "    image = ee.Image.loadGeoTIFF(gcs_path)\n",
    "     \n",
    "    # 2) Calculate NDVI (if bands are organized)\n",
    "    image = image.normalizedDifference(['B8', 'B4']).rename('NDVI')  # Renombre de la banda resultante (capa) \n",
    "    print(f\"NDVI Calculated for {i}\")\n",
    "    \n",
    "    # 3) Generaación de URL \n",
    "    rgb_bands = [\"NDVI\"]\n",
    "\n",
    "    # Determinación de los parámetros para la visualización\n",
    "    ndvi_vis = {\n",
    "    \"min\": 0,\n",
    "    \"max\": 1,\n",
    "   \"palette\": [\n",
    "      \"#FF0000\",\n",
    "      \"#FF1700\",\n",
    "      \"#FF2E00\",\n",
    "      \"#FF4500\",\n",
    "      \"#FF6500\",\n",
    "      \"#FF8500\",\n",
    "      \"#FFA500\",\n",
    "      \"#FAC008\",\n",
    "      \"#F6D80F\",\n",
    "      \"#F1F117\",\n",
    "      \"#D1ED19\",\n",
    "      \"#B1E91B\",\n",
    "      \"#91E51D\",\n",
    "      \"#6FE120\",\n",
    "      \"#53C918\",\n",
    "      \"#37B110\",\n",
    "      \"#1B9908\",\n",
    "      \"#008000\"],\n",
    "    \"bands\": rgb_bands}\n",
    "\n",
    "    url = image.getThumbURL(ndvi_vis)\n",
    "    print(f\"Thumbnail URL for {i}: {url}\")\n",
    "        \n",
    "    # 4) Exportación de la imagen a PNG\n",
    "    # Download the image and save it locally\n",
    "    output_file = direction + f\"/data/02_intermediate/NDVI/{i}.png\"\n",
    "\n",
    "    response = requests.get(url=url)\n",
    "    if response.status_code == 200:\n",
    "        with open(file=output_file, mode='wb') as f: #string \"output_file\" para exportar en esa direccion la imagen\n",
    "            f.write(response.content) # Esto es lo que exportara que es el contenido de la respuesta, la imagen\n",
    "        print(f\"Image successfully downloaded as '{output_file}'\")\n",
    "    else:\n",
    "        print(f\"Error: Unable to download the image. HTTP status code {response.status_code}\")\n",
    "    \n",
    "    images_dic[i]  = image # NO es necesario almacenarlo aqui (en un diccionario de python que terminara almacenando los datos en RAM localmente), en pequeño contexto no hay problema pero analizando mayores exteneiones puede tronar.  Hay que simplemente exportar los datos a un bucket y en el post procesamiento leer las imagenes una a una\n",
    "    \n",
    "    # 5) Añadimos la imagen al mapa html \n",
    "    Map.addLayer(ee_object=image,  vis_params= ndvi_vis , name=f'NDWI {i}', shown=True)\n",
    "\n",
    "    # 6) Exportación de las imagenes geotiff al bucket de GCP\n",
    "    # Indicamos la tarea de exportacion\n",
    "    task = ee.batch.Export.image.toCloudStorage(\n",
    "    image=image,\n",
    "    #description=f\"Export\", # Este es el nombre del archivo que se exportara , si vas a usar el filenameprexi no es necesario esto\n",
    "    bucket='earth_engine_selene',  # Cambia esto al nombre de tu bucket\n",
    "    fileNamePrefix=f\"sentinel2/NDVI/NDVI_{i}\", # Damos una dirección dentro del bucket y le damos nombre\n",
    "    scale=10,  # Resolución en metros\n",
    "    fileFormat='GeoTIFF')  # Formato de archivo\n",
    "\n",
    "    # Inicio de la exportación\n",
    "    task.start()  # Inicia la tarea de exportación\n",
    "    print(\"Se exportó la imagen a Cloud Storage:\", i)\n",
    "\n",
    "\n",
    "# Añadimo una legenda, fuera del ciclo \n",
    "Map.add_colorbar(\n",
    "ndvi_vis,\n",
    "label=\"NDVI values\",\n",
    "layer_name=\"SRTM DEM\",\n",
    "orientation=\"vertical\",\n",
    "transparent_bg=True,\n",
    "discrete=False)\n",
    "\n",
    "# Exportación del HTML \n",
    "html_file = direction + \"/data/07_model_output/NDVI/Map_NDVI.html\"\n",
    "Map.to_html(filename=html_file, title=\"My Map\", width=\"100%\", height=\"880px\") # Exporacion a una html "
   ],
   "outputs": [
    {
     "data": {
      "text/plain": [
       "<IPython.core.display.HTML object>"
      ],
      "text/html": [
       "\n",
       "            <style>\n",
       "                .geemap-dark {\n",
       "                    --jp-widgets-color: white;\n",
       "                    --jp-widgets-label-color: white;\n",
       "                    --jp-ui-font-color1: white;\n",
       "                    --jp-layout-color2: #454545;\n",
       "                    background-color: #383838;\n",
       "                }\n",
       "\n",
       "                .geemap-dark .jupyter-button {\n",
       "                    --jp-layout-color3: #383838;\n",
       "                }\n",
       "\n",
       "                .geemap-colab {\n",
       "                    background-color: var(--colab-primary-surface-color, white);\n",
       "                }\n",
       "\n",
       "                .geemap-colab .jupyter-button {\n",
       "                    --jp-layout-color3: var(--colab-primary-surface-color, white);\n",
       "                }\n",
       "            </style>\n",
       "            "
      ]
     },
     "metadata": {},
     "output_type": "display_data"
    },
    {
     "name": "stdout",
     "output_type": "stream",
     "text": [
      "NDVI Calculated for image_2023-1\n",
      "Thumbnail URL for image_2023-1: https://earthengine.googleapis.com/v1/projects/earthengine-legacy/thumbnails/222b68d7b8cedca72eb7fe738fa8cdbd-b8efef0d86cfa0a575fd5c0055b011fb:getPixels\n",
      "Image successfully downloaded as '/Users/orlandoandrade/Documents/Negocios/Satelites/selene/data/02_intermediate/NDVI/image_2023-1.png'\n",
      "Se exportó la imagen a Cloud Storage: image_2023-1\n",
      "NDVI Calculated for image_2023-3\n",
      "Thumbnail URL for image_2023-3: https://earthengine.googleapis.com/v1/projects/earthengine-legacy/thumbnails/87794fe15ce327223d39f474582b5164-96d4159ed256c1e4cefc5166d7c553b4:getPixels\n",
      "Image successfully downloaded as '/Users/orlandoandrade/Documents/Negocios/Satelites/selene/data/02_intermediate/NDVI/image_2023-3.png'\n",
      "Se exportó la imagen a Cloud Storage: image_2023-3\n",
      "NDVI Calculated for image_2023-5\n",
      "Thumbnail URL for image_2023-5: https://earthengine.googleapis.com/v1/projects/earthengine-legacy/thumbnails/9ada008548127d85e6257042dc4cf60b-02dc1508d22d44db837ac95559d41ddd:getPixels\n",
      "Image successfully downloaded as '/Users/orlandoandrade/Documents/Negocios/Satelites/selene/data/02_intermediate/NDVI/image_2023-5.png'\n",
      "Se exportó la imagen a Cloud Storage: image_2023-5\n",
      "NDVI Calculated for image_2023-7\n",
      "Thumbnail URL for image_2023-7: https://earthengine.googleapis.com/v1/projects/earthengine-legacy/thumbnails/8a2d728f80aec43fff4fb2060184fd0c-5dcb1ac4d623a0c9f841d6c068af3230:getPixels\n",
      "Image successfully downloaded as '/Users/orlandoandrade/Documents/Negocios/Satelites/selene/data/02_intermediate/NDVI/image_2023-7.png'\n",
      "Se exportó la imagen a Cloud Storage: image_2023-7\n",
      "NDVI Calculated for image_2023-9\n",
      "Thumbnail URL for image_2023-9: https://earthengine.googleapis.com/v1/projects/earthengine-legacy/thumbnails/e916192e0928e23ea3d621a50ee5cd4c-1cca8fd1fba18e16b01b4b3dcf3e4f3a:getPixels\n",
      "Image successfully downloaded as '/Users/orlandoandrade/Documents/Negocios/Satelites/selene/data/02_intermediate/NDVI/image_2023-9.png'\n",
      "Se exportó la imagen a Cloud Storage: image_2023-9\n",
      "NDVI Calculated for image_2023-10\n",
      "Thumbnail URL for image_2023-10: https://earthengine.googleapis.com/v1/projects/earthengine-legacy/thumbnails/c7d513b46ab13e76c9dbbcc7e5b72d29-31dd26ce02fda373171c170a652e5509:getPixels\n",
      "Image successfully downloaded as '/Users/orlandoandrade/Documents/Negocios/Satelites/selene/data/02_intermediate/NDVI/image_2023-10.png'\n",
      "Se exportó la imagen a Cloud Storage: image_2023-10\n",
      "NDVI Calculated for image_2023-11\n",
      "Thumbnail URL for image_2023-11: https://earthengine.googleapis.com/v1/projects/earthengine-legacy/thumbnails/7b208447cc538f792093a15c7a1fb0be-682c3725816527f82a0e42ba90e88071:getPixels\n",
      "Image successfully downloaded as '/Users/orlandoandrade/Documents/Negocios/Satelites/selene/data/02_intermediate/NDVI/image_2023-11.png'\n",
      "Se exportó la imagen a Cloud Storage: image_2023-11\n"
     ]
    }
   ],
   "execution_count": 77
  },
  {
   "cell_type": "markdown",
   "id": "be5018a9-36db-4a23-8131-644724625390",
   "metadata": {},
   "source": [
    "**VISUALIZACION DEL MAPA**"
   ]
  },
  {
   "cell_type": "code",
   "id": "72cf39f3-a0ff-4bc9-909b-488994217232",
   "metadata": {
    "ExecuteTime": {
     "end_time": "2025-01-06T05:44:27.846703Z",
     "start_time": "2025-01-06T05:44:27.844120Z"
    }
   },
   "source": "#Map",
   "outputs": [
    {
     "data": {
      "text/plain": [
       "<IPython.core.display.HTML object>"
      ],
      "text/html": [
       "\n",
       "            <style>\n",
       "                .geemap-dark {\n",
       "                    --jp-widgets-color: white;\n",
       "                    --jp-widgets-label-color: white;\n",
       "                    --jp-ui-font-color1: white;\n",
       "                    --jp-layout-color2: #454545;\n",
       "                    background-color: #383838;\n",
       "                }\n",
       "\n",
       "                .geemap-dark .jupyter-button {\n",
       "                    --jp-layout-color3: #383838;\n",
       "                }\n",
       "\n",
       "                .geemap-colab {\n",
       "                    background-color: var(--colab-primary-surface-color, white);\n",
       "                }\n",
       "\n",
       "                .geemap-colab .jupyter-button {\n",
       "                    --jp-layout-color3: var(--colab-primary-surface-color, white);\n",
       "                }\n",
       "            </style>\n",
       "            "
      ]
     },
     "metadata": {},
     "output_type": "display_data"
    }
   ],
   "execution_count": 78
  },
  {
   "metadata": {},
   "cell_type": "markdown",
   "source": [
    "### 3) Post procesamiento\n",
    "En esta sección  lo que se busca es  tomas los geotiff generados del NDVI y generar un mapa a partir de estos. El mapa contendrá los siguientes elementos adicionales:\n",
    "\n",
    "- Titulo\n",
    "- Fecha de la imagen\n",
    "- Leyenda con el valor de los colores\n",
    "- Escala de la imagen\n",
    "\n",
    "Para esto se utilizarán 2 librerías adicionales las cuales son: **Rasterio y matplolib**.\n",
    "\n",
    "[Rasterio tiene un modulo de visualización (plot)](https://rasterio.readthedocs.io/en/stable/topics/plotting.html) que se convina con matplotlib para la visualización de archivos tipo raster\n",
    "\n",
    "**IMPORTANTE:** Para que rasterio pueda hacer la lectura directamente desde el bucket es necesario que haga la autentificación con mi service account en variasbles del sistema."
   ],
   "id": "d92b03f69ea56e00"
  },
  {
   "metadata": {
    "ExecuteTime": {
     "end_time": "2025-01-06T05:44:27.854424Z",
     "start_time": "2025-01-06T05:44:27.852Z"
    }
   },
   "cell_type": "code",
   "source": [
    "# Autentificacion , variables del sistema\n",
    "import os\n",
    "os.environ['GOOGLE_APPLICATION_CREDENTIALS'] =  service_account"
   ],
   "id": "683cf4aa5e87cce3",
   "outputs": [
    {
     "data": {
      "text/plain": [
       "<IPython.core.display.HTML object>"
      ],
      "text/html": [
       "\n",
       "            <style>\n",
       "                .geemap-dark {\n",
       "                    --jp-widgets-color: white;\n",
       "                    --jp-widgets-label-color: white;\n",
       "                    --jp-ui-font-color1: white;\n",
       "                    --jp-layout-color2: #454545;\n",
       "                    background-color: #383838;\n",
       "                }\n",
       "\n",
       "                .geemap-dark .jupyter-button {\n",
       "                    --jp-layout-color3: #383838;\n",
       "                }\n",
       "\n",
       "                .geemap-colab {\n",
       "                    background-color: var(--colab-primary-surface-color, white);\n",
       "                }\n",
       "\n",
       "                .geemap-colab .jupyter-button {\n",
       "                    --jp-layout-color3: var(--colab-primary-surface-color, white);\n",
       "                }\n",
       "            </style>\n",
       "            "
      ]
     },
     "metadata": {},
     "output_type": "display_data"
    }
   ],
   "execution_count": 79
  },
  {
   "metadata": {
    "ExecuteTime": {
     "end_time": "2025-01-06T05:44:28.500877Z",
     "start_time": "2025-01-06T05:44:27.862405Z"
    }
   },
   "cell_type": "code",
   "source": [
    "# Autentificacion con la libreria de google\n",
    "from google.cloud import storage\n",
    "\n",
    "client = storage.Client.from_service_account_json(json_credentials_path=service_account)\n",
    "buckets = list(client.list_buckets())\n",
    "buckets\n",
    "\n",
    "# PROBAR  SI ESTO ES NECEARIO O NO !!!"
   ],
   "id": "dc2c3e38d48f82e3",
   "outputs": [
    {
     "data": {
      "text/plain": [
       "<IPython.core.display.HTML object>"
      ],
      "text/html": [
       "\n",
       "            <style>\n",
       "                .geemap-dark {\n",
       "                    --jp-widgets-color: white;\n",
       "                    --jp-widgets-label-color: white;\n",
       "                    --jp-ui-font-color1: white;\n",
       "                    --jp-layout-color2: #454545;\n",
       "                    background-color: #383838;\n",
       "                }\n",
       "\n",
       "                .geemap-dark .jupyter-button {\n",
       "                    --jp-layout-color3: #383838;\n",
       "                }\n",
       "\n",
       "                .geemap-colab {\n",
       "                    background-color: var(--colab-primary-surface-color, white);\n",
       "                }\n",
       "\n",
       "                .geemap-colab .jupyter-button {\n",
       "                    --jp-layout-color3: var(--colab-primary-surface-color, white);\n",
       "                }\n",
       "            </style>\n",
       "            "
      ]
     },
     "metadata": {},
     "output_type": "display_data"
    },
    {
     "data": {
      "text/plain": [
       "[<Bucket: cv_portafolio_web_orlando>,\n",
       " <Bucket: earth_engine_selene>,\n",
       " <Bucket: test_data_science_orlando>]"
      ]
     },
     "execution_count": 80,
     "metadata": {},
     "output_type": "execute_result"
    }
   ],
   "execution_count": 80
  },
  {
   "metadata": {
    "ExecuteTime": {
     "end_time": "2025-01-06T05:44:34.490790Z",
     "start_time": "2025-01-06T05:44:33.986169Z"
    }
   },
   "cell_type": "code",
   "source": [
    "import rasterio\n",
    "from rasterio.plot import show\n",
    "import matplotlib.pyplot as plt\n",
    "from matplotlib.colors import ListedColormap, Normalize\n",
    "from matplotlib_scalebar.scalebar import ScaleBar  # <-- for the scale bar\n",
    "\n",
    "# Definir la paleta de colores personalizada\n",
    "palette = [\n",
    "    \"#FF0000\", \"#FF1700\", \"#FF2E00\", \"#FF4500\", \"#FF6500\", \"#FF8500\",\n",
    "    \"#FFA500\", \"#FAC008\", \"#F6D80F\", \"#F1F117\", \"#D1ED19\", \"#B1E91B\",\n",
    "    \"#91E51D\", \"#6FE120\", \"#53C918\", \"#37B110\", \"#1B9908\", \"#008000\"\n",
    "]\n",
    "\n",
    "cmap = ListedColormap(colors=palette) # Esto crea una lista de colores que puede ser integrado directamente en la figura\n",
    "\n",
    "# Fijar el rango de valores de -1 a 1 para todas las imágenes\n",
    "norm = Normalize(vmin=0, vmax=1) # IMPORTANTE: Hay que confirmar si es necesario que las imagenes las mostremos de -1 a 1. Por lo que entiendo de los valores de NDVI en las plantas su valores realmente van desde cercano de 0 a 1. Los valores negativos serán asociados a otras superfices. Por lo que no veo necesario inclurilas dentro de la escala (los valores negativos).\n",
    "\n",
    "# Suponiendo que 'images_names' es un DataFrame o diccionario con la llave \"Images names\"\n",
    "# Y que 'direction' es una variable con la ruta de salida\n",
    "for i in images_names[\"Images names\"]:\n",
    "\n",
    "    # Ruta del archivo TIFF\n",
    "    tiff_path = f\"gs://earth_engine_selene/sentinel2/NDVI/NDVI_{i}.tif\"\n",
    "\n",
    "    # Lectura del archivo\n",
    "    with rasterio.open(tiff_path) as src:\n",
    "        # Lectura del archivo\n",
    "        raster_data = src.read(1) # Creo que aqui se selecciona la banda de la imagen, hay que confirmar\n",
    "\n",
    "        fig, ax = plt.subplots(figsize=(8, 6))\n",
    "\n",
    "        # Plot del raster con la paleta personalizada y escala fija\n",
    "        img = ax.imshow(raster_data, cmap=cmap, norm=norm)\n",
    "\n",
    "        # Añadir una barra de colores (leyenda de NDVI)\n",
    "        cbar = fig.colorbar(img, ax=ax)\n",
    "        cbar.set_label('NDVI Value')\n",
    "\n",
    "        # -------------------------------------------------\n",
    "        # AÑADIR LA BARRA DE ESCALA (ScaleBar)\n",
    "        # -------------------------------------------------\n",
    "        # (1) Obtener la resolución de pixel (asumiendo un CRS en metros, por ejemplo UTM)\n",
    "        pixel_size_x = abs(src.transform[0])  # tamaño de pixel en X (ej. metros)\n",
    "\n",
    "        # (2) Crear y añadir la ScaleBar\n",
    "        scalebar = ScaleBar(\n",
    "            pixel_size_x,\n",
    "            units='m',         # 'm' para metros, 'km' si desea kilómetros\n",
    "            location='lower left',  # use espacio, no subrayado (p.ej. \"lower left\")\n",
    "            length_fraction=0.25    # porcentaje del ancho del eje que ocupa la scale bar\n",
    "        )\n",
    "        ax.add_artist(scalebar)\n",
    "\n",
    "        # Quitar los valores de los ejes X e Y\n",
    "        ax.set_xticks([])\n",
    "        ax.set_yticks([])\n",
    "        ax.set_xlabel('')\n",
    "        ax.set_ylabel('')\n",
    "\n",
    "        # Añadir título\n",
    "        ax.set_title(f\"NDVI Map {i}\")\n",
    "\n",
    "        # Guardar la figura en un archivo .png\n",
    "        fig.savefig(direction + f\"/data/07_model_output/NDVI/static maps/NDVI_{i}.png\")\n",
    "\n",
    "        # Cerrar la figura para no mostrarla en pantalla\n",
    "        plt.close(fig)"
   ],
   "id": "be0158c46012487d",
   "outputs": [
    {
     "data": {
      "text/plain": [
       "<IPython.core.display.HTML object>"
      ],
      "text/html": [
       "\n",
       "            <style>\n",
       "                .geemap-dark {\n",
       "                    --jp-widgets-color: white;\n",
       "                    --jp-widgets-label-color: white;\n",
       "                    --jp-ui-font-color1: white;\n",
       "                    --jp-layout-color2: #454545;\n",
       "                    background-color: #383838;\n",
       "                }\n",
       "\n",
       "                .geemap-dark .jupyter-button {\n",
       "                    --jp-layout-color3: #383838;\n",
       "                }\n",
       "\n",
       "                .geemap-colab {\n",
       "                    background-color: var(--colab-primary-surface-color, white);\n",
       "                }\n",
       "\n",
       "                .geemap-colab .jupyter-button {\n",
       "                    --jp-layout-color3: var(--colab-primary-surface-color, white);\n",
       "                }\n",
       "            </style>\n",
       "            "
      ]
     },
     "metadata": {},
     "output_type": "display_data"
    }
   ],
   "execution_count": 81
  },
  {
   "metadata": {
    "ExecuteTime": {
     "end_time": "2025-01-06T05:44:36.009470Z",
     "start_time": "2025-01-06T05:44:36.005044Z"
    }
   },
   "cell_type": "code",
   "source": "pixel_size_x",
   "id": "a260ae4fc577bacb",
   "outputs": [
    {
     "data": {
      "text/plain": [
       "<IPython.core.display.HTML object>"
      ],
      "text/html": [
       "\n",
       "            <style>\n",
       "                .geemap-dark {\n",
       "                    --jp-widgets-color: white;\n",
       "                    --jp-widgets-label-color: white;\n",
       "                    --jp-ui-font-color1: white;\n",
       "                    --jp-layout-color2: #454545;\n",
       "                    background-color: #383838;\n",
       "                }\n",
       "\n",
       "                .geemap-dark .jupyter-button {\n",
       "                    --jp-layout-color3: #383838;\n",
       "                }\n",
       "\n",
       "                .geemap-colab {\n",
       "                    background-color: var(--colab-primary-surface-color, white);\n",
       "                }\n",
       "\n",
       "                .geemap-colab .jupyter-button {\n",
       "                    --jp-layout-color3: var(--colab-primary-surface-color, white);\n",
       "                }\n",
       "            </style>\n",
       "            "
      ]
     },
     "metadata": {},
     "output_type": "display_data"
    },
    {
     "data": {
      "text/plain": [
       "10.0"
      ]
     },
     "execution_count": 82,
     "metadata": {},
     "output_type": "execute_result"
    }
   ],
   "execution_count": 82
  },
  {
   "cell_type": "markdown",
   "id": "7b2c665a-0fef-4b2a-97c4-a1a53b0931c1",
   "metadata": {},
   "source": [
    "Referencia de como añadir elementos a los mapas:\n",
    "\n",
    "https://www.youtube.com/watch?v=qiKns09X1Ao"
   ]
  },
  {
   "cell_type": "code",
   "execution_count": null,
   "id": "668f532e-8ea1-470a-b447-d4050b0d568f",
   "metadata": {},
   "outputs": [],
   "source": [
    "## PENDIENTE : Establecer rangos de salud y hacer mas bien la visualizacion de manera categorica.\n",
    "pendiente = \"RANGOS DE SALUD\" # Profundizar en lo que se muestra en la sigueinte imagen\n",
    "\n",
    "\n",
    "### IMPORTANTE: Esta seccion va tener que tener sus categorias de valores por tipo de cultivo por semana!!!, ahorita lo voy a simplificar y lo dejare de manera generica de todo el año."
   ]
  },
  {
   "metadata": {},
   "cell_type": "markdown",
   "source": [
    "<div style=\"text-align: center;\">\n",
    "    <img src=\"Images/NDVI_categories.png\" alt=\"Descripción de la imagen\" width=\"500\">\n",
    "</div>\n"
   ],
   "id": "4b91225e4466409c"
  },
  {
   "cell_type": "markdown",
   "id": "cba1996f638e4200",
   "metadata": {},
   "source": [
    "### 2.2)  NVDI promedio en el tiempo \n",
    "Para poder generar un scatter plot de los niveles de NVDI en la imagen a traves del tiempo hay que hacer un calculo de agregación (en este caso un promedio) de los valores de NVDI de los pixeles en cada imagen  y asociarlas"
   ]
  },
  {
   "cell_type": "code",
   "id": "451b59ec8938daff",
   "metadata": {
    "ExecuteTime": {
     "end_time": "2025-01-06T05:31:11.551063Z",
     "start_time": "2025-01-06T05:31:09.232486Z"
    }
   },
   "source": [
    "# Obtengo las llaves del diccionario \n",
    "keys  =  list(images_dic.keys()) # Recordemos que estas imagenes ya solo contienen la banda (indice de NVDI) calculado\n",
    "    # Adicionalmente, recordemos que no se van a estar leyendo  las imagenes del diccionario, dado que ahí estaríua lamacenando los datos localmente. Cada vez que vaya a utilizarf las imagenes resultantres hay que leerlas irectamente dede GCP.\n",
    "\n",
    "# Almacenamiento de la media del NVDI \n",
    "nvdi_values ={}\n",
    "\n",
    "for i in keys:\n",
    "    # Extracción de la imagen \n",
    "    ndvi_image = images_dic[i]\n",
    "    \n",
    "    # Calculo de la media de NVDI de toda la imagen \n",
    "    # Calculate mean using reduceRegion\n",
    "    mean = ndvi_image.reduceRegion(\n",
    "        reducer=ee.Reducer.mean(),\n",
    "        scale=10,  # Pixel resolution (meters)\n",
    "        maxPixels=1e9 # Esto es importante, es el número maximo de pixeles que se usarán para el cálculo \n",
    "    )\n",
    "    # Esto es un ee diccionary \n",
    "    # The result is a earth engine diccionary, it is neccesary. In order to do this is neccesary to use the function get info()\n",
    "    mean = mean.getInfo() # This returns a python dictionary\n",
    "    \n",
    "    # Almacenamiento de los resultados \n",
    "    nvdi_values[i] = mean[\"NDVI\"] # Esta es la llave del diccionario"
   ],
   "outputs": [
    {
     "data": {
      "text/plain": [
       "<IPython.core.display.HTML object>"
      ],
      "text/html": [
       "\n",
       "            <style>\n",
       "                .geemap-dark {\n",
       "                    --jp-widgets-color: white;\n",
       "                    --jp-widgets-label-color: white;\n",
       "                    --jp-ui-font-color1: white;\n",
       "                    --jp-layout-color2: #454545;\n",
       "                    background-color: #383838;\n",
       "                }\n",
       "\n",
       "                .geemap-dark .jupyter-button {\n",
       "                    --jp-layout-color3: #383838;\n",
       "                }\n",
       "\n",
       "                .geemap-colab {\n",
       "                    background-color: var(--colab-primary-surface-color, white);\n",
       "                }\n",
       "\n",
       "                .geemap-colab .jupyter-button {\n",
       "                    --jp-layout-color3: var(--colab-primary-surface-color, white);\n",
       "                }\n",
       "            </style>\n",
       "            "
      ]
     },
     "metadata": {},
     "output_type": "display_data"
    }
   ],
   "execution_count": 70
  },
  {
   "cell_type": "markdown",
   "id": "d459726f9ace5a34",
   "metadata": {},
   "source": [
    "**RESULTADOS EN UN PANDAS DF**"
   ]
  },
  {
   "cell_type": "code",
   "id": "fcbcba52f0555e36",
   "metadata": {
    "ExecuteTime": {
     "end_time": "2025-01-06T05:31:32.266387Z",
     "start_time": "2025-01-06T05:31:32.248094Z"
    }
   },
   "source": [
    "# Convertimos los resultados a un pandas DF \n",
    "ndvi_mean_data = pd.DataFrame(list(nvdi_values.items()), columns =[\"Date\", \"NDVI\"])\n",
    "ndvi_mean_data"
   ],
   "outputs": [
    {
     "data": {
      "text/plain": [
       "<IPython.core.display.HTML object>"
      ],
      "text/html": [
       "\n",
       "            <style>\n",
       "                .geemap-dark {\n",
       "                    --jp-widgets-color: white;\n",
       "                    --jp-widgets-label-color: white;\n",
       "                    --jp-ui-font-color1: white;\n",
       "                    --jp-layout-color2: #454545;\n",
       "                    background-color: #383838;\n",
       "                }\n",
       "\n",
       "                .geemap-dark .jupyter-button {\n",
       "                    --jp-layout-color3: #383838;\n",
       "                }\n",
       "\n",
       "                .geemap-colab {\n",
       "                    background-color: var(--colab-primary-surface-color, white);\n",
       "                }\n",
       "\n",
       "                .geemap-colab .jupyter-button {\n",
       "                    --jp-layout-color3: var(--colab-primary-surface-color, white);\n",
       "                }\n",
       "            </style>\n",
       "            "
      ]
     },
     "metadata": {},
     "output_type": "display_data"
    },
    {
     "data": {
      "text/plain": [
       "            Date      NDVI\n",
       "0   image_2023-1  0.245787\n",
       "1   image_2023-3  0.358347\n",
       "2   image_2023-5  0.261947\n",
       "3   image_2023-7  0.117241\n",
       "4   image_2023-9  0.143728\n",
       "5  image_2023-10  0.167872\n",
       "6  image_2023-11  0.123687"
      ],
      "text/html": [
       "<div>\n",
       "<style scoped>\n",
       "    .dataframe tbody tr th:only-of-type {\n",
       "        vertical-align: middle;\n",
       "    }\n",
       "\n",
       "    .dataframe tbody tr th {\n",
       "        vertical-align: top;\n",
       "    }\n",
       "\n",
       "    .dataframe thead th {\n",
       "        text-align: right;\n",
       "    }\n",
       "</style>\n",
       "<table border=\"1\" class=\"dataframe\">\n",
       "  <thead>\n",
       "    <tr style=\"text-align: right;\">\n",
       "      <th></th>\n",
       "      <th>Date</th>\n",
       "      <th>NDVI</th>\n",
       "    </tr>\n",
       "  </thead>\n",
       "  <tbody>\n",
       "    <tr>\n",
       "      <th>0</th>\n",
       "      <td>image_2023-1</td>\n",
       "      <td>0.245787</td>\n",
       "    </tr>\n",
       "    <tr>\n",
       "      <th>1</th>\n",
       "      <td>image_2023-3</td>\n",
       "      <td>0.358347</td>\n",
       "    </tr>\n",
       "    <tr>\n",
       "      <th>2</th>\n",
       "      <td>image_2023-5</td>\n",
       "      <td>0.261947</td>\n",
       "    </tr>\n",
       "    <tr>\n",
       "      <th>3</th>\n",
       "      <td>image_2023-7</td>\n",
       "      <td>0.117241</td>\n",
       "    </tr>\n",
       "    <tr>\n",
       "      <th>4</th>\n",
       "      <td>image_2023-9</td>\n",
       "      <td>0.143728</td>\n",
       "    </tr>\n",
       "    <tr>\n",
       "      <th>5</th>\n",
       "      <td>image_2023-10</td>\n",
       "      <td>0.167872</td>\n",
       "    </tr>\n",
       "    <tr>\n",
       "      <th>6</th>\n",
       "      <td>image_2023-11</td>\n",
       "      <td>0.123687</td>\n",
       "    </tr>\n",
       "  </tbody>\n",
       "</table>\n",
       "</div>"
      ]
     },
     "execution_count": 71,
     "metadata": {},
     "output_type": "execute_result"
    }
   ],
   "execution_count": 71
  },
  {
   "cell_type": "markdown",
   "id": "8d4d7db0c8232dc",
   "metadata": {},
   "source": [
    "**VISUALIZACION EN EL TIEMPO**"
   ]
  },
  {
   "cell_type": "code",
   "id": "a9a0e10ffb884bd6",
   "metadata": {
    "ExecuteTime": {
     "end_time": "2025-01-06T05:31:38.330034Z",
     "start_time": "2025-01-06T05:31:38.207213Z"
    }
   },
   "source": [
    "# Crear el gráfico con Plotly\n",
    "fig = px.line(\n",
    "    data_frame=ndvi_mean_data, x='Date', y='NDVI',\n",
    "    markers=True,\n",
    "    title='NDVI Over Time',\n",
    "    labels={'Date': 'Date', 'NDVI': 'NDVI Value'}\n",
    ")\n",
    "\n",
    "# Mostrar el gráfico\n",
    "#fig.show()"
   ],
   "outputs": [
    {
     "data": {
      "text/plain": [
       "<IPython.core.display.HTML object>"
      ],
      "text/html": [
       "\n",
       "            <style>\n",
       "                .geemap-dark {\n",
       "                    --jp-widgets-color: white;\n",
       "                    --jp-widgets-label-color: white;\n",
       "                    --jp-ui-font-color1: white;\n",
       "                    --jp-layout-color2: #454545;\n",
       "                    background-color: #383838;\n",
       "                }\n",
       "\n",
       "                .geemap-dark .jupyter-button {\n",
       "                    --jp-layout-color3: #383838;\n",
       "                }\n",
       "\n",
       "                .geemap-colab {\n",
       "                    background-color: var(--colab-primary-surface-color, white);\n",
       "                }\n",
       "\n",
       "                .geemap-colab .jupyter-button {\n",
       "                    --jp-layout-color3: var(--colab-primary-surface-color, white);\n",
       "                }\n",
       "            </style>\n",
       "            "
      ]
     },
     "metadata": {},
     "output_type": "display_data"
    }
   ],
   "execution_count": 72
  },
  {
   "cell_type": "markdown",
   "id": "6609864c1637d837",
   "metadata": {},
   "source": [
    "## 4) Exportación\n",
    "Se exportará los resultados finales"
   ]
  },
  {
   "cell_type": "code",
   "execution_count": 13,
   "id": "c71d913a1275cc45",
   "metadata": {
    "ExecuteTime": {
     "end_time": "2025-01-04T16:49:31.577221Z",
     "start_time": "2025-01-04T16:49:31.544986Z"
    }
   },
   "outputs": [
    {
     "data": {
      "text/html": [
       "\n",
       "            <style>\n",
       "                .geemap-dark {\n",
       "                    --jp-widgets-color: white;\n",
       "                    --jp-widgets-label-color: white;\n",
       "                    --jp-ui-font-color1: white;\n",
       "                    --jp-layout-color2: #454545;\n",
       "                    background-color: #383838;\n",
       "                }\n",
       "\n",
       "                .geemap-dark .jupyter-button {\n",
       "                    --jp-layout-color3: #383838;\n",
       "                }\n",
       "\n",
       "                .geemap-colab {\n",
       "                    background-color: var(--colab-primary-surface-color, white);\n",
       "                }\n",
       "\n",
       "                .geemap-colab .jupyter-button {\n",
       "                    --jp-layout-color3: var(--colab-primary-surface-color, white);\n",
       "                }\n",
       "            </style>\n",
       "            "
      ],
      "text/plain": [
       "<IPython.core.display.HTML object>"
      ]
     },
     "metadata": {},
     "output_type": "display_data"
    }
   ],
   "source": [
    "# Exportación de tabla promedio del NVDI del área de interes\n",
    "ndvi_mean_data.to_csv(path_or_buf=direction + \"/data/07_model_output/NDVI/Medias_NDVI.csv\", index=False)\n",
    "\n",
    "# Exportación del grafico\n",
    "fig.write_html(direction +\"/data/07_model_output/NDVI/NDVI_time.html\")"
   ]
  }
 ],
 "metadata": {
  "kernelspec": {
   "display_name": "Python 3 (ipykernel)",
   "language": "python",
   "name": "python3"
  },
  "language_info": {
   "codemirror_mode": {
    "name": "ipython",
    "version": 3
   },
   "file_extension": ".py",
   "mimetype": "text/x-python",
   "name": "python",
   "nbconvert_exporter": "python",
   "pygments_lexer": "ipython3",
   "version": "3.13.1"
  }
 },
 "nbformat": 4,
 "nbformat_minor": 5
}
