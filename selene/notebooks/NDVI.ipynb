{
 "cells": [
  {
   "cell_type": "markdown",
   "id": "421f33b0083f6599",
   "metadata": {},
   "source": [
    "# Cálculo de NDVI \n",
    "\n",
    "En este notebook se generará la métrica de NDVI. \n",
    "\n",
    "NDVI (Normalized Difference Vegetation Index) is a widely used remote sensing index to measure vegetation health, density, and vigor. It works by leveraging the difference in reflectance properties of vegetation in the red and near-infrared (NIR) portions of the electromagnetic spectrum.\n",
    "\n",
    "Healthy vegetation absorbs most of the red light (used in photosynthesis) and reflects a significant portion of near-infrared light. Unhealthy or sparse vegetation reflects more red light and less near-infrared light.\n",
    "\n",
    "<div style=\"text-align: center;\">\n",
    "    <img src=\"Images/NVDI_formula.png\" alt=\"Descripción de la imagen\" width=\"500\">\n",
    "</div>\n",
    " \n",
    "\n",
    "\n"
   ]
  },
  {
   "cell_type": "markdown",
   "id": "f4d3636c221ba4f6",
   "metadata": {},
   "source": [
    "**IMPORTACION DE LIBRERIAS**"
   ]
  },
  {
   "cell_type": "code",
   "id": "193d29cdde45367b",
   "metadata": {
    "ExecuteTime": {
     "end_time": "2025-01-24T17:09:47.501836Z",
     "start_time": "2025-01-24T17:09:47.475077Z"
    }
   },
   "source": [
    "import os \n",
    "import ee \n",
    "import pandas as pd\n",
    "import geemap\n",
    "import requests\n",
    "import plotly.express as px\n",
    "import matplotlib.pyplot as plt\n",
    "from rasterio.plot import show\n",
    "import rasterio\n",
    "\n",
    "# 1) Obtención de la dirección de trabajo\n",
    "direction = os.getcwd()\n",
    "\n",
    "# Remove the last part of the path\n",
    "direction = os.path.dirname(direction)\n",
    "direction"
   ],
   "outputs": [
    {
     "data": {
      "text/plain": [
       "<IPython.core.display.HTML object>"
      ],
      "text/html": [
       "\n",
       "            <style>\n",
       "                .geemap-dark {\n",
       "                    --jp-widgets-color: white;\n",
       "                    --jp-widgets-label-color: white;\n",
       "                    --jp-ui-font-color1: white;\n",
       "                    --jp-layout-color2: #454545;\n",
       "                    background-color: #383838;\n",
       "                }\n",
       "\n",
       "                .geemap-dark .jupyter-button {\n",
       "                    --jp-layout-color3: #383838;\n",
       "                }\n",
       "\n",
       "                .geemap-colab {\n",
       "                    background-color: var(--colab-primary-surface-color, white);\n",
       "                }\n",
       "\n",
       "                .geemap-colab .jupyter-button {\n",
       "                    --jp-layout-color3: var(--colab-primary-surface-color, white);\n",
       "                }\n",
       "            </style>\n",
       "            "
      ]
     },
     "metadata": {},
     "output_type": "display_data"
    },
    {
     "data": {
      "text/plain": [
       "'/Users/orlandoandrade/Documents/Negocios/Satelites/selene'"
      ]
     },
     "execution_count": 16,
     "metadata": {},
     "output_type": "execute_result"
    }
   ],
   "execution_count": 16
  },
  {
   "cell_type": "markdown",
   "id": "5b61c7fb2f78ff95",
   "metadata": {},
   "source": "## 1) Autentificación"
  },
  {
   "cell_type": "code",
   "id": "2b054b8d75e5e14b",
   "metadata": {
    "ExecuteTime": {
     "end_time": "2025-01-24T17:09:48.037490Z",
     "start_time": "2025-01-24T17:09:47.508895Z"
    }
   },
   "source": [
    "# Dirección de la llave\n",
    "service_account = direction + '/conf/local/gcp-for-data-science-397913-4fd843feede1.json'\n",
    "\n",
    "# Autentificación \n",
    "credentials = ee.ServiceAccountCredentials(email=None, key_file=service_account)\n",
    "ee.Initialize(credentials)"
   ],
   "outputs": [
    {
     "data": {
      "text/plain": [
       "<IPython.core.display.HTML object>"
      ],
      "text/html": [
       "\n",
       "            <style>\n",
       "                .geemap-dark {\n",
       "                    --jp-widgets-color: white;\n",
       "                    --jp-widgets-label-color: white;\n",
       "                    --jp-ui-font-color1: white;\n",
       "                    --jp-layout-color2: #454545;\n",
       "                    background-color: #383838;\n",
       "                }\n",
       "\n",
       "                .geemap-dark .jupyter-button {\n",
       "                    --jp-layout-color3: #383838;\n",
       "                }\n",
       "\n",
       "                .geemap-colab {\n",
       "                    background-color: var(--colab-primary-surface-color, white);\n",
       "                }\n",
       "\n",
       "                .geemap-colab .jupyter-button {\n",
       "                    --jp-layout-color3: var(--colab-primary-surface-color, white);\n",
       "                }\n",
       "            </style>\n",
       "            "
      ]
     },
     "metadata": {},
     "output_type": "display_data"
    }
   ],
   "execution_count": 17
  },
  {
   "cell_type": "markdown",
   "id": "46efced9abce13ec",
   "metadata": {},
   "source": [
    "## 2) Lectura y procesamiento de imagenes  \n",
    "Las imagenes satelitales se almacenaron en un bucket de GCP, por lo que serán leídas de ahi mismo.\n",
    "\n",
    "API Reference:\n",
    " \n",
    "  https://developers.google.com/earth-engine/apidocs/ee-image-loadgeotiff"
   ]
  },
  {
   "cell_type": "markdown",
   "id": "c0e19ed8c3e4a274",
   "metadata": {},
   "source": [
    "### 2.1) Cálculo y exportación de imagenes con NDVI \n",
    "Las imagennes exportadas en "
   ]
  },
  {
   "cell_type": "code",
   "id": "48bba7854eb87c94",
   "metadata": {
    "ExecuteTime": {
     "end_time": "2025-01-24T17:10:16.422032Z",
     "start_time": "2025-01-24T17:09:48.066830Z"
    }
   },
   "source": [
    "# 1) Lectura del nombre de las imagenes en el bucket \n",
    "images_names = pd.read_csv(filepath_or_buffer=direction + \"/data/02_intermediate/sentinel_images_names.csv\")\n",
    "\n",
    "# diccionario de imagenes \n",
    "images_dic = {}\n",
    "\n",
    "# Importación del mapa base \n",
    "Map = geemap.Map()\n",
    "\n",
    "# Path to the image in the GCS bucket\n",
    "image_center = images_names[\"Images names\"][0]\n",
    "image_center   = f'gs://earth_engine_selene/sentinel2/Row_Data/{image_center}.tif'\n",
    "    \n",
    "# Load the image from the GCS bucket\n",
    "image = ee.Image.loadGeoTIFF(uri=image_center)\n",
    "\n",
    "# Central el mapa \n",
    "Map.centerObject(ee_object=image, zoom= 10)\n",
    "\n",
    "# 2) Inicio del ciclo , se toma el pandas serie para iterar en él\n",
    "for i in images_names[\"Images names\"]:\n",
    "    \n",
    "    # 1) Descarga de imagenes \n",
    "    # Path to the image in the GCS bucket\n",
    "    gcs_path = f'gs://earth_engine_selene/sentinel2/Row_Data/{i}.tif' # Crear más bien un GCP path base\n",
    "    \n",
    "    # Load the image from the GCS bucket\n",
    "    image = ee.Image.loadGeoTIFF(gcs_path)\n",
    "     \n",
    "    # 2) Calculate NDVI (if bands are organized)\n",
    "    image = image.normalizedDifference(['B8', 'B4']).rename('NDVI')  # Renombre de la banda resultante (capa) \n",
    "    print(f\"NDVI Calculated for {i}\")\n",
    "    \n",
    "    # 3) Generaación de URL \n",
    "    rgb_bands = [\"NDVI\"]\n",
    "\n",
    "    # Determinación de los parámetros para la visualización\n",
    "    ndvi_vis = {\n",
    "    \"min\": 0,\n",
    "    \"max\": 1,\n",
    "   \"palette\": [\n",
    "      \"#FF0000\",\n",
    "      \"#FF1700\",\n",
    "      \"#FF2E00\",\n",
    "      \"#FF4500\",\n",
    "      \"#FF6500\",\n",
    "      \"#FF8500\",\n",
    "      \"#FFA500\",\n",
    "      \"#FAC008\",\n",
    "      \"#F6D80F\",\n",
    "      \"#F1F117\",\n",
    "      \"#D1ED19\",\n",
    "      \"#B1E91B\",\n",
    "      \"#91E51D\",\n",
    "      \"#6FE120\",\n",
    "      \"#53C918\",\n",
    "      \"#37B110\",\n",
    "      \"#1B9908\",\n",
    "      \"#008000\"],\n",
    "    \"bands\": rgb_bands}\n",
    "\n",
    "    url = image.getThumbURL(ndvi_vis)\n",
    "    print(f\"Thumbnail URL for {i}: {url}\")\n",
    "        \n",
    "    # 4) Exportación de la imagen a PNG\n",
    "    # Download the image and save it locally\n",
    "    output_file = direction + f\"/data/02_intermediate/NDVI/{i}.png\"\n",
    "\n",
    "    response = requests.get(url=url)\n",
    "    if response.status_code == 200:\n",
    "        with open(file=output_file, mode='wb') as f: #string \"output_file\" para exportar en esa direccion la imagen\n",
    "            f.write(response.content) # Esto es lo que exportara que es el contenido de la respuesta, la imagen\n",
    "        print(f\"Image successfully downloaded as '{output_file}'\")\n",
    "    else:\n",
    "        print(f\"Error: Unable to download the image. HTTP status code {response.status_code}\")\n",
    "    \n",
    "    images_dic[i]  = image # NO es necesario almacenarlo aqui (en un diccionario de python que terminara almacenando los datos en RAM localmente), en pequeño contexto no hay problema pero analizando mayores exteneiones puede tronar.  Hay que simplemente exportar los datos a un bucket y en el post procesamiento leer las imagenes una a una\n",
    "    \n",
    "    # 5) Añadimos la imagen al mapa html \n",
    "    Map.addLayer(ee_object=image,  vis_params= ndvi_vis , name=f'NDWI {i}', shown=True)\n",
    "\n",
    "    # 6) Exportación de las imagenes geotiff al bucket de GCP\n",
    "    # Indicamos la tarea de exportacion\n",
    "    task = ee.batch.Export.image.toCloudStorage(\n",
    "    image=image,\n",
    "    #description=f\"Export\", # Este es el nombre del archivo que se exportara , si vas a usar el filenameprexi no es necesario esto\n",
    "    bucket='earth_engine_selene',  # Cambia esto al nombre de tu bucket\n",
    "    fileNamePrefix=f\"sentinel2/NDVI/NDVI_{i}\", # Damos una dirección dentro del bucket y le damos nombre\n",
    "    scale=10,  # Resolución en metros\n",
    "    fileFormat='GeoTIFF')  # Formato de archivo\n",
    "\n",
    "    # Inicio de la exportación\n",
    "    task.start()  # Inicia la tarea de exportación\n",
    "    print(\"Se exportó la imagen a Cloud Storage:\", i)\n",
    "\n",
    "\n",
    "# Añadimo una legenda, fuera del ciclo \n",
    "Map.add_colorbar(\n",
    "ndvi_vis,\n",
    "label=\"NDVI values\",\n",
    "layer_name=\"SRTM DEM\",\n",
    "orientation=\"vertical\",\n",
    "transparent_bg=True,\n",
    "discrete=False)\n",
    "\n",
    "# Exportación del HTML \n",
    "html_file = direction + \"/data/07_model_output/NDVI/Map_NDVI.html\"\n",
    "Map.to_html(filename=html_file, title=\"My Map\", width=\"100%\", height=\"880px\") # Exporacion a una html "
   ],
   "outputs": [
    {
     "data": {
      "text/plain": [
       "<IPython.core.display.HTML object>"
      ],
      "text/html": [
       "\n",
       "            <style>\n",
       "                .geemap-dark {\n",
       "                    --jp-widgets-color: white;\n",
       "                    --jp-widgets-label-color: white;\n",
       "                    --jp-ui-font-color1: white;\n",
       "                    --jp-layout-color2: #454545;\n",
       "                    background-color: #383838;\n",
       "                }\n",
       "\n",
       "                .geemap-dark .jupyter-button {\n",
       "                    --jp-layout-color3: #383838;\n",
       "                }\n",
       "\n",
       "                .geemap-colab {\n",
       "                    background-color: var(--colab-primary-surface-color, white);\n",
       "                }\n",
       "\n",
       "                .geemap-colab .jupyter-button {\n",
       "                    --jp-layout-color3: var(--colab-primary-surface-color, white);\n",
       "                }\n",
       "            </style>\n",
       "            "
      ]
     },
     "metadata": {},
     "output_type": "display_data"
    },
    {
     "name": "stdout",
     "output_type": "stream",
     "text": [
      "NDVI Calculated for Image_2024-10-04 00:00:00\n",
      "Thumbnail URL for Image_2024-10-04 00:00:00: https://earthengine.googleapis.com/v1/projects/earthengine-legacy/thumbnails/53fd1d8058e885efc566fcde58012d53-f87efd89a4f1dc48622446b7bbe2935f:getPixels\n",
      "Image successfully downloaded as '/Users/orlandoandrade/Documents/Negocios/Satelites/selene/data/02_intermediate/NDVI/Image_2024-10-04 00:00:00.png'\n",
      "Se exportó la imagen a Cloud Storage: Image_2024-10-04 00:00:00\n",
      "NDVI Calculated for Image_2024-10-14 00:00:00\n",
      "Thumbnail URL for Image_2024-10-14 00:00:00: https://earthengine.googleapis.com/v1/projects/earthengine-legacy/thumbnails/a5e910811644003e813e12260f40bf59-eb11b92bbae5d05e4207bb6e3a82cb89:getPixels\n",
      "Image successfully downloaded as '/Users/orlandoandrade/Documents/Negocios/Satelites/selene/data/02_intermediate/NDVI/Image_2024-10-14 00:00:00.png'\n",
      "Se exportó la imagen a Cloud Storage: Image_2024-10-14 00:00:00\n",
      "NDVI Calculated for Image_2024-10-19 00:00:00\n",
      "Thumbnail URL for Image_2024-10-19 00:00:00: https://earthengine.googleapis.com/v1/projects/earthengine-legacy/thumbnails/85f17bcbab33e776171c6fd40f450fba-dbc1123ddc323eee47c0ecb195440e99:getPixels\n",
      "Image successfully downloaded as '/Users/orlandoandrade/Documents/Negocios/Satelites/selene/data/02_intermediate/NDVI/Image_2024-10-19 00:00:00.png'\n",
      "Se exportó la imagen a Cloud Storage: Image_2024-10-19 00:00:00\n",
      "NDVI Calculated for Image_2024-10-24 00:00:00\n",
      "Thumbnail URL for Image_2024-10-24 00:00:00: https://earthengine.googleapis.com/v1/projects/earthengine-legacy/thumbnails/c6f032820529b61b290a09100d3e9254-436dd9bfd0900f35283b8d89c6b28bac:getPixels\n",
      "Image successfully downloaded as '/Users/orlandoandrade/Documents/Negocios/Satelites/selene/data/02_intermediate/NDVI/Image_2024-10-24 00:00:00.png'\n",
      "Se exportó la imagen a Cloud Storage: Image_2024-10-24 00:00:00\n",
      "NDVI Calculated for Image_2024-10-29 00:00:00\n",
      "Thumbnail URL for Image_2024-10-29 00:00:00: https://earthengine.googleapis.com/v1/projects/earthengine-legacy/thumbnails/3b50c5bb4b57a4837dc203bde15b866c-e4ae6f22025b1bd8ae5cf8561694e125:getPixels\n",
      "Image successfully downloaded as '/Users/orlandoandrade/Documents/Negocios/Satelites/selene/data/02_intermediate/NDVI/Image_2024-10-29 00:00:00.png'\n",
      "Se exportó la imagen a Cloud Storage: Image_2024-10-29 00:00:00\n",
      "NDVI Calculated for Image_2024-11-03 00:00:00\n",
      "Thumbnail URL for Image_2024-11-03 00:00:00: https://earthengine.googleapis.com/v1/projects/earthengine-legacy/thumbnails/c191ee03879959900230690acc058d32-1b570514b7dc35292152f87f2cf4f755:getPixels\n",
      "Image successfully downloaded as '/Users/orlandoandrade/Documents/Negocios/Satelites/selene/data/02_intermediate/NDVI/Image_2024-11-03 00:00:00.png'\n",
      "Se exportó la imagen a Cloud Storage: Image_2024-11-03 00:00:00\n",
      "NDVI Calculated for Image_2024-11-08 00:00:00\n",
      "Thumbnail URL for Image_2024-11-08 00:00:00: https://earthengine.googleapis.com/v1/projects/earthengine-legacy/thumbnails/4c7060680540f0cb4cf5bed567a8b983-d2aa9bfcc47c7ca41aac9fd07338eeaf:getPixels\n",
      "Image successfully downloaded as '/Users/orlandoandrade/Documents/Negocios/Satelites/selene/data/02_intermediate/NDVI/Image_2024-11-08 00:00:00.png'\n",
      "Se exportó la imagen a Cloud Storage: Image_2024-11-08 00:00:00\n",
      "NDVI Calculated for Image_2024-11-13 00:00:00\n",
      "Thumbnail URL for Image_2024-11-13 00:00:00: https://earthengine.googleapis.com/v1/projects/earthengine-legacy/thumbnails/95fd8e4b2ab8b4c14a26c6c4102bcbfd-9ac78fea9cd394bec6e130d17f44ed0f:getPixels\n",
      "Image successfully downloaded as '/Users/orlandoandrade/Documents/Negocios/Satelites/selene/data/02_intermediate/NDVI/Image_2024-11-13 00:00:00.png'\n",
      "Se exportó la imagen a Cloud Storage: Image_2024-11-13 00:00:00\n",
      "NDVI Calculated for Image_2024-11-18 00:00:00\n",
      "Thumbnail URL for Image_2024-11-18 00:00:00: https://earthengine.googleapis.com/v1/projects/earthengine-legacy/thumbnails/4a32cf26ddcd9d309dccdcfd48c275ae-b9993f3da01c1562f8ed964a8775db9e:getPixels\n",
      "Image successfully downloaded as '/Users/orlandoandrade/Documents/Negocios/Satelites/selene/data/02_intermediate/NDVI/Image_2024-11-18 00:00:00.png'\n",
      "Se exportó la imagen a Cloud Storage: Image_2024-11-18 00:00:00\n",
      "NDVI Calculated for Image_2024-11-23 00:00:00\n",
      "Thumbnail URL for Image_2024-11-23 00:00:00: https://earthengine.googleapis.com/v1/projects/earthengine-legacy/thumbnails/db3d40b9e6d80aaed6bf15f6dcc51f18-4e45f164828cd9c6f0130141d9adf94d:getPixels\n",
      "Image successfully downloaded as '/Users/orlandoandrade/Documents/Negocios/Satelites/selene/data/02_intermediate/NDVI/Image_2024-11-23 00:00:00.png'\n",
      "Se exportó la imagen a Cloud Storage: Image_2024-11-23 00:00:00\n",
      "NDVI Calculated for Image_2024-11-28 00:00:00\n",
      "Thumbnail URL for Image_2024-11-28 00:00:00: https://earthengine.googleapis.com/v1/projects/earthengine-legacy/thumbnails/2ef24dddf34d6038c06b3e18f0079a40-174d8d2f1a8513be849823dae5d731ae:getPixels\n",
      "Image successfully downloaded as '/Users/orlandoandrade/Documents/Negocios/Satelites/selene/data/02_intermediate/NDVI/Image_2024-11-28 00:00:00.png'\n",
      "Se exportó la imagen a Cloud Storage: Image_2024-11-28 00:00:00\n",
      "NDVI Calculated for Image_2024-12-03 00:00:00\n",
      "Thumbnail URL for Image_2024-12-03 00:00:00: https://earthengine.googleapis.com/v1/projects/earthengine-legacy/thumbnails/deb0edd4ab531660068c58fe133a0f05-fcf4aa735c9513d931e805dfdc8c4d68:getPixels\n",
      "Image successfully downloaded as '/Users/orlandoandrade/Documents/Negocios/Satelites/selene/data/02_intermediate/NDVI/Image_2024-12-03 00:00:00.png'\n",
      "Se exportó la imagen a Cloud Storage: Image_2024-12-03 00:00:00\n",
      "NDVI Calculated for Image_2024-12-18 00:00:00\n",
      "Thumbnail URL for Image_2024-12-18 00:00:00: https://earthengine.googleapis.com/v1/projects/earthengine-legacy/thumbnails/8fb626f440f43fce6486923000949aff-515e58a42f8c0ca56569c63af3eec7b5:getPixels\n",
      "Image successfully downloaded as '/Users/orlandoandrade/Documents/Negocios/Satelites/selene/data/02_intermediate/NDVI/Image_2024-12-18 00:00:00.png'\n",
      "Se exportó la imagen a Cloud Storage: Image_2024-12-18 00:00:00\n",
      "NDVI Calculated for Image_2024-12-23 00:00:00\n",
      "Thumbnail URL for Image_2024-12-23 00:00:00: https://earthengine.googleapis.com/v1/projects/earthengine-legacy/thumbnails/4c8bb9b48a27dea64a8fff94e90a81d1-43052ab44a78383d4f109ee63b5e2a51:getPixels\n",
      "Image successfully downloaded as '/Users/orlandoandrade/Documents/Negocios/Satelites/selene/data/02_intermediate/NDVI/Image_2024-12-23 00:00:00.png'\n",
      "Se exportó la imagen a Cloud Storage: Image_2024-12-23 00:00:00\n",
      "NDVI Calculated for Image_2024-12-28 00:00:00\n",
      "Thumbnail URL for Image_2024-12-28 00:00:00: https://earthengine.googleapis.com/v1/projects/earthengine-legacy/thumbnails/73f5049e2e10eb171637f5efe70cad46-0304f2be17ff37b868392e1da4f9997d:getPixels\n",
      "Image successfully downloaded as '/Users/orlandoandrade/Documents/Negocios/Satelites/selene/data/02_intermediate/NDVI/Image_2024-12-28 00:00:00.png'\n",
      "Se exportó la imagen a Cloud Storage: Image_2024-12-28 00:00:00\n",
      "NDVI Calculated for Image_2025-01-02 00:00:00\n",
      "Thumbnail URL for Image_2025-01-02 00:00:00: https://earthengine.googleapis.com/v1/projects/earthengine-legacy/thumbnails/5b814f5230fde99c5990f6398013043b-a2db4ecbd63a9bb9443989775a35cfb7:getPixels\n",
      "Image successfully downloaded as '/Users/orlandoandrade/Documents/Negocios/Satelites/selene/data/02_intermediate/NDVI/Image_2025-01-02 00:00:00.png'\n",
      "Se exportó la imagen a Cloud Storage: Image_2025-01-02 00:00:00\n"
     ]
    }
   ],
   "execution_count": 18
  },
  {
   "cell_type": "markdown",
   "id": "be5018a9-36db-4a23-8131-644724625390",
   "metadata": {},
   "source": [
    "**VISUALIZACION DEL MAPA**"
   ]
  },
  {
   "cell_type": "code",
   "id": "72cf39f3-a0ff-4bc9-909b-488994217232",
   "metadata": {
    "ExecuteTime": {
     "end_time": "2025-01-24T17:10:16.475142Z",
     "start_time": "2025-01-24T17:10:16.471876Z"
    }
   },
   "source": "#Map",
   "outputs": [
    {
     "data": {
      "text/plain": [
       "<IPython.core.display.HTML object>"
      ],
      "text/html": [
       "\n",
       "            <style>\n",
       "                .geemap-dark {\n",
       "                    --jp-widgets-color: white;\n",
       "                    --jp-widgets-label-color: white;\n",
       "                    --jp-ui-font-color1: white;\n",
       "                    --jp-layout-color2: #454545;\n",
       "                    background-color: #383838;\n",
       "                }\n",
       "\n",
       "                .geemap-dark .jupyter-button {\n",
       "                    --jp-layout-color3: #383838;\n",
       "                }\n",
       "\n",
       "                .geemap-colab {\n",
       "                    background-color: var(--colab-primary-surface-color, white);\n",
       "                }\n",
       "\n",
       "                .geemap-colab .jupyter-button {\n",
       "                    --jp-layout-color3: var(--colab-primary-surface-color, white);\n",
       "                }\n",
       "            </style>\n",
       "            "
      ]
     },
     "metadata": {},
     "output_type": "display_data"
    }
   ],
   "execution_count": 19
  },
  {
   "metadata": {},
   "cell_type": "markdown",
   "source": [
    "### 3) Post procesamiento\n",
    "En esta sección  lo que se busca es  tomas los geotiff generados del NDVI y generar un mapa a partir de estos. El mapa contendrá los siguientes elementos adicionales:\n",
    "\n",
    "- Titulo\n",
    "- Fecha de la imagen\n",
    "- Leyenda con el valor de los colores\n",
    "- Escala de la imagen\n",
    "\n",
    "Para esto se utilizarán 2 librerías adicionales las cuales son: **Rasterio y matplolib**.\n",
    "\n",
    "[Rasterio tiene un modulo de visualización (plot)](https://rasterio.readthedocs.io/en/stable/topics/plotting.html) que se convina con matplotlib para la visualización de archivos tipo raster\n",
    "\n",
    "**IMPORTANTE:** Para que rasterio pueda hacer la lectura directamente desde el bucket es necesario que haga la autentificación con mi service account en variasbles del sistema."
   ],
   "id": "d92b03f69ea56e00"
  },
  {
   "metadata": {
    "ExecuteTime": {
     "end_time": "2025-01-24T17:10:16.494827Z",
     "start_time": "2025-01-24T17:10:16.487716Z"
    }
   },
   "cell_type": "code",
   "source": [
    "# Autentificacion , variables del sistema\n",
    "import os\n",
    "os.environ['GOOGLE_APPLICATION_CREDENTIALS'] =  service_account"
   ],
   "id": "683cf4aa5e87cce3",
   "outputs": [
    {
     "data": {
      "text/plain": [
       "<IPython.core.display.HTML object>"
      ],
      "text/html": [
       "\n",
       "            <style>\n",
       "                .geemap-dark {\n",
       "                    --jp-widgets-color: white;\n",
       "                    --jp-widgets-label-color: white;\n",
       "                    --jp-ui-font-color1: white;\n",
       "                    --jp-layout-color2: #454545;\n",
       "                    background-color: #383838;\n",
       "                }\n",
       "\n",
       "                .geemap-dark .jupyter-button {\n",
       "                    --jp-layout-color3: #383838;\n",
       "                }\n",
       "\n",
       "                .geemap-colab {\n",
       "                    background-color: var(--colab-primary-surface-color, white);\n",
       "                }\n",
       "\n",
       "                .geemap-colab .jupyter-button {\n",
       "                    --jp-layout-color3: var(--colab-primary-surface-color, white);\n",
       "                }\n",
       "            </style>\n",
       "            "
      ]
     },
     "metadata": {},
     "output_type": "display_data"
    }
   ],
   "execution_count": 20
  },
  {
   "metadata": {
    "ExecuteTime": {
     "end_time": "2025-01-24T17:10:17.211316Z",
     "start_time": "2025-01-24T17:10:16.534786Z"
    }
   },
   "cell_type": "code",
   "source": [
    "# Autentificacion con la libreria de google\n",
    "from google.cloud import storage\n",
    "\n",
    "client = storage.Client.from_service_account_json(json_credentials_path=service_account)\n",
    "buckets = list(client.list_buckets())\n",
    "buckets\n",
    "\n",
    "# PROBAR  SI ESTO ES NECEARIO O NO !!!"
   ],
   "id": "dc2c3e38d48f82e3",
   "outputs": [
    {
     "data": {
      "text/plain": [
       "<IPython.core.display.HTML object>"
      ],
      "text/html": [
       "\n",
       "            <style>\n",
       "                .geemap-dark {\n",
       "                    --jp-widgets-color: white;\n",
       "                    --jp-widgets-label-color: white;\n",
       "                    --jp-ui-font-color1: white;\n",
       "                    --jp-layout-color2: #454545;\n",
       "                    background-color: #383838;\n",
       "                }\n",
       "\n",
       "                .geemap-dark .jupyter-button {\n",
       "                    --jp-layout-color3: #383838;\n",
       "                }\n",
       "\n",
       "                .geemap-colab {\n",
       "                    background-color: var(--colab-primary-surface-color, white);\n",
       "                }\n",
       "\n",
       "                .geemap-colab .jupyter-button {\n",
       "                    --jp-layout-color3: var(--colab-primary-surface-color, white);\n",
       "                }\n",
       "            </style>\n",
       "            "
      ]
     },
     "metadata": {},
     "output_type": "display_data"
    },
    {
     "data": {
      "text/plain": [
       "[<Bucket: cv_portafolio_web_orlando>,\n",
       " <Bucket: earth_engine_selene>,\n",
       " <Bucket: test_data_science_orlando>]"
      ]
     },
     "execution_count": 21,
     "metadata": {},
     "output_type": "execute_result"
    }
   ],
   "execution_count": 21
  },
  {
   "metadata": {
    "ExecuteTime": {
     "end_time": "2025-01-24T17:10:19.962404Z",
     "start_time": "2025-01-24T17:10:18.615476Z"
    }
   },
   "cell_type": "code",
   "source": [
    "import rasterio\n",
    "from rasterio.plot import show\n",
    "import matplotlib.pyplot as plt\n",
    "from matplotlib.colors import ListedColormap, Normalize\n",
    "from matplotlib_scalebar.scalebar import ScaleBar  # <-- for the scale bar\n",
    "\n",
    "# Definir la paleta de colores personalizada\n",
    "palette = [\n",
    "    \"#FF0000\", \"#FF1700\", \"#FF2E00\", \"#FF4500\", \"#FF6500\", \"#FF8500\",\n",
    "    \"#FFA500\", \"#FAC008\", \"#F6D80F\", \"#F1F117\", \"#D1ED19\", \"#B1E91B\",\n",
    "    \"#91E51D\", \"#6FE120\", \"#53C918\", \"#37B110\", \"#1B9908\", \"#008000\"\n",
    "]\n",
    "\n",
    "cmap = ListedColormap(colors=palette) # Esto crea una lista de colores que puede ser integrado directamente en la figura\n",
    "\n",
    "# Fijar el rango de valores de -1 a 1 para todas las imágenes\n",
    "norm = Normalize(vmin=0, vmax=1) # IMPORTANTE: Hay que confirmar si es necesario que las imagenes las mostremos de -1 a 1. Por lo que entiendo de los valores de NDVI en las plantas su valores realmente van desde cercano de 0 a 1. Los valores negativos serán asociados a otras superfices. Por lo que no veo necesario inclurilas dentro de la escala (los valores negativos).\n",
    "\n",
    "# Suponiendo que 'images_names' es un DataFrame o diccionario con la llave \"Images names\"\n",
    "# Y que 'direction' es una variable con la ruta de salida\n",
    "for i in images_names[\"Images names\"]:\n",
    "    print(i)\n",
    "\n",
    "    # Ruta del archivo TIFF\n",
    "    tiff_path = f\"gs://earth_engine_selene/sentinel2/NDVI/NDVI_{i}.tif\"\n",
    "\n",
    "    # Lectura del archivo\n",
    "    with rasterio.open(tiff_path) as src:\n",
    "        # Lectura del archivo\n",
    "        raster_data = src.read(1) # Creo que aqui se selecciona la banda de la imagen, hay que confirmar\n",
    "\n",
    "        fig, ax = plt.subplots(figsize=(8, 6))\n",
    "\n",
    "        # Plot del raster con la paleta personalizada y escala fija\n",
    "        img = ax.imshow(raster_data, cmap=cmap, norm=norm)\n",
    "\n",
    "        # Añadir una barra de colores (leyenda de NDVI)\n",
    "        cbar = fig.colorbar(img, ax=ax)\n",
    "        cbar.set_label('NDVI Value')\n",
    "\n",
    "        # -------------------------------------------------\n",
    "        # AÑADIR LA BARRA DE ESCALA (ScaleBar)\n",
    "        # -------------------------------------------------\n",
    "        # (1) Obtener la resolución de pixel (asumiendo un CRS en metros, por ejemplo UTM)\n",
    "        pixel_size_x = abs(src.transform[0])  # tamaño de pixel en X (ej. metros)\n",
    "\n",
    "        # (2) Crear y añadir la ScaleBar\n",
    "        scalebar = ScaleBar(\n",
    "            pixel_size_x,\n",
    "            units='m',         # 'm' para metros, 'km' si desea kilómetros\n",
    "            location='lower left',  # use espacio, no subrayado (p.ej. \"lower left\")\n",
    "            length_fraction=0.25    # porcentaje del ancho del eje que ocupa la scale bar\n",
    "        )\n",
    "        ax.add_artist(scalebar)\n",
    "\n",
    "        # Quitar los valores de los ejes X e Y\n",
    "        ax.set_xticks([])\n",
    "        ax.set_yticks([])\n",
    "        ax.set_xlabel('')\n",
    "        ax.set_ylabel('')\n",
    "\n",
    "        # Añadir título\n",
    "        ax.set_title(f\"NDVI Map {i}\")\n",
    "\n",
    "        # Guardar la figura en un archivo .png\n",
    "        fig.savefig(direction + f\"/data/07_model_output/NDVI/static maps/NDVI_{i}.png\")\n",
    "\n",
    "        # Cerrar la figura para no mostrarla en pantalla\n",
    "        plt.close(fig)"
   ],
   "id": "be0158c46012487d",
   "outputs": [
    {
     "data": {
      "text/plain": [
       "<IPython.core.display.HTML object>"
      ],
      "text/html": [
       "\n",
       "            <style>\n",
       "                .geemap-dark {\n",
       "                    --jp-widgets-color: white;\n",
       "                    --jp-widgets-label-color: white;\n",
       "                    --jp-ui-font-color1: white;\n",
       "                    --jp-layout-color2: #454545;\n",
       "                    background-color: #383838;\n",
       "                }\n",
       "\n",
       "                .geemap-dark .jupyter-button {\n",
       "                    --jp-layout-color3: #383838;\n",
       "                }\n",
       "\n",
       "                .geemap-colab {\n",
       "                    background-color: var(--colab-primary-surface-color, white);\n",
       "                }\n",
       "\n",
       "                .geemap-colab .jupyter-button {\n",
       "                    --jp-layout-color3: var(--colab-primary-surface-color, white);\n",
       "                }\n",
       "            </style>\n",
       "            "
      ]
     },
     "metadata": {},
     "output_type": "display_data"
    },
    {
     "name": "stdout",
     "output_type": "stream",
     "text": [
      "Image_2024-10-04 00:00:00\n",
      "Image_2024-10-14 00:00:00\n",
      "Image_2024-10-19 00:00:00\n",
      "Image_2024-10-24 00:00:00\n",
      "Image_2024-10-29 00:00:00\n",
      "Image_2024-11-03 00:00:00\n",
      "Image_2024-11-08 00:00:00\n"
     ]
    },
    {
     "ename": "RasterioIOError",
     "evalue": "'/vsigs/earth_engine_selene/sentinel2/NDVI/NDVI_Image_2024-11-08 00:00:00.tif' does not exist in the file system, and is not recognized as a supported dataset name.",
     "output_type": "error",
     "traceback": [
      "\u001B[0;31m---------------------------------------------------------------------------\u001B[0m",
      "\u001B[0;31mCPLE_OpenFailedError\u001B[0m                      Traceback (most recent call last)",
      "File \u001B[0;32mrasterio/_base.pyx:310\u001B[0m, in \u001B[0;36mrasterio._base.DatasetBase.__init__\u001B[0;34m()\u001B[0m\n",
      "File \u001B[0;32mrasterio/_base.pyx:221\u001B[0m, in \u001B[0;36mrasterio._base.open_dataset\u001B[0;34m()\u001B[0m\n",
      "File \u001B[0;32mrasterio/_err.pyx:359\u001B[0m, in \u001B[0;36mrasterio._err.exc_wrap_pointer\u001B[0;34m()\u001B[0m\n",
      "\u001B[0;31mCPLE_OpenFailedError\u001B[0m: '/vsigs/earth_engine_selene/sentinel2/NDVI/NDVI_Image_2024-11-08 00:00:00.tif' does not exist in the file system, and is not recognized as a supported dataset name.",
      "\nDuring handling of the above exception, another exception occurred:\n",
      "\u001B[0;31mRasterioIOError\u001B[0m                           Traceback (most recent call last)",
      "Cell \u001B[0;32mIn[22], line 28\u001B[0m\n\u001B[1;32m     25\u001B[0m tiff_path \u001B[38;5;241m=\u001B[39m \u001B[38;5;124mf\u001B[39m\u001B[38;5;124m\"\u001B[39m\u001B[38;5;124mgs://earth_engine_selene/sentinel2/NDVI/NDVI_\u001B[39m\u001B[38;5;132;01m{\u001B[39;00mi\u001B[38;5;132;01m}\u001B[39;00m\u001B[38;5;124m.tif\u001B[39m\u001B[38;5;124m\"\u001B[39m\n\u001B[1;32m     27\u001B[0m \u001B[38;5;66;03m# Lectura del archivo\u001B[39;00m\n\u001B[0;32m---> 28\u001B[0m \u001B[38;5;28;01mwith\u001B[39;00m \u001B[43mrasterio\u001B[49m\u001B[38;5;241;43m.\u001B[39;49m\u001B[43mopen\u001B[49m\u001B[43m(\u001B[49m\u001B[43mtiff_path\u001B[49m\u001B[43m)\u001B[49m \u001B[38;5;28;01mas\u001B[39;00m src:\n\u001B[1;32m     29\u001B[0m     \u001B[38;5;66;03m# Lectura del archivo\u001B[39;00m\n\u001B[1;32m     30\u001B[0m     raster_data \u001B[38;5;241m=\u001B[39m src\u001B[38;5;241m.\u001B[39mread(\u001B[38;5;241m1\u001B[39m) \u001B[38;5;66;03m# Creo que aqui se selecciona la banda de la imagen, hay que confirmar\u001B[39;00m\n\u001B[1;32m     32\u001B[0m     fig, ax \u001B[38;5;241m=\u001B[39m plt\u001B[38;5;241m.\u001B[39msubplots(figsize\u001B[38;5;241m=\u001B[39m(\u001B[38;5;241m8\u001B[39m, \u001B[38;5;241m6\u001B[39m))\n",
      "File \u001B[0;32m~/miniconda3/envs/EarthEngine/lib/python3.13/site-packages/rasterio/env.py:463\u001B[0m, in \u001B[0;36mensure_env_with_credentials.<locals>.wrapper\u001B[0;34m(*args, **kwds)\u001B[0m\n\u001B[1;32m    460\u001B[0m     session \u001B[38;5;241m=\u001B[39m DummySession()\n\u001B[1;32m    462\u001B[0m \u001B[38;5;28;01mwith\u001B[39;00m env_ctor(session\u001B[38;5;241m=\u001B[39msession):\n\u001B[0;32m--> 463\u001B[0m     \u001B[38;5;28;01mreturn\u001B[39;00m \u001B[43mf\u001B[49m\u001B[43m(\u001B[49m\u001B[38;5;241;43m*\u001B[39;49m\u001B[43margs\u001B[49m\u001B[43m,\u001B[49m\u001B[43m \u001B[49m\u001B[38;5;241;43m*\u001B[39;49m\u001B[38;5;241;43m*\u001B[39;49m\u001B[43mkwds\u001B[49m\u001B[43m)\u001B[49m\n",
      "File \u001B[0;32m~/miniconda3/envs/EarthEngine/lib/python3.13/site-packages/rasterio/__init__.py:356\u001B[0m, in \u001B[0;36mopen\u001B[0;34m(fp, mode, driver, width, height, count, crs, transform, dtype, nodata, sharing, opener, **kwargs)\u001B[0m\n\u001B[1;32m    353\u001B[0m     path \u001B[38;5;241m=\u001B[39m _parse_path(raw_dataset_path)\n\u001B[1;32m    355\u001B[0m \u001B[38;5;28;01mif\u001B[39;00m mode \u001B[38;5;241m==\u001B[39m \u001B[38;5;124m\"\u001B[39m\u001B[38;5;124mr\u001B[39m\u001B[38;5;124m\"\u001B[39m:\n\u001B[0;32m--> 356\u001B[0m     dataset \u001B[38;5;241m=\u001B[39m \u001B[43mDatasetReader\u001B[49m\u001B[43m(\u001B[49m\u001B[43mpath\u001B[49m\u001B[43m,\u001B[49m\u001B[43m \u001B[49m\u001B[43mdriver\u001B[49m\u001B[38;5;241;43m=\u001B[39;49m\u001B[43mdriver\u001B[49m\u001B[43m,\u001B[49m\u001B[43m \u001B[49m\u001B[43msharing\u001B[49m\u001B[38;5;241;43m=\u001B[39;49m\u001B[43msharing\u001B[49m\u001B[43m,\u001B[49m\u001B[43m \u001B[49m\u001B[38;5;241;43m*\u001B[39;49m\u001B[38;5;241;43m*\u001B[39;49m\u001B[43mkwargs\u001B[49m\u001B[43m)\u001B[49m\n\u001B[1;32m    357\u001B[0m \u001B[38;5;28;01melif\u001B[39;00m mode \u001B[38;5;241m==\u001B[39m \u001B[38;5;124m\"\u001B[39m\u001B[38;5;124mr+\u001B[39m\u001B[38;5;124m\"\u001B[39m:\n\u001B[1;32m    358\u001B[0m     dataset \u001B[38;5;241m=\u001B[39m get_writer_for_path(path, driver\u001B[38;5;241m=\u001B[39mdriver)(\n\u001B[1;32m    359\u001B[0m         path, mode, driver\u001B[38;5;241m=\u001B[39mdriver, sharing\u001B[38;5;241m=\u001B[39msharing, \u001B[38;5;241m*\u001B[39m\u001B[38;5;241m*\u001B[39mkwargs\n\u001B[1;32m    360\u001B[0m     )\n",
      "File \u001B[0;32mrasterio/_base.pyx:312\u001B[0m, in \u001B[0;36mrasterio._base.DatasetBase.__init__\u001B[0;34m()\u001B[0m\n",
      "\u001B[0;31mRasterioIOError\u001B[0m: '/vsigs/earth_engine_selene/sentinel2/NDVI/NDVI_Image_2024-11-08 00:00:00.tif' does not exist in the file system, and is not recognized as a supported dataset name."
     ]
    }
   ],
   "execution_count": 22
  },
  {
   "metadata": {
    "ExecuteTime": {
     "end_time": "2025-01-24T17:10:20.518992Z",
     "start_time": "2025-01-06T05:44:36.005044Z"
    }
   },
   "cell_type": "code",
   "source": "pixel_size_x",
   "id": "a260ae4fc577bacb",
   "outputs": [
    {
     "data": {
      "text/plain": [
       "<IPython.core.display.HTML object>"
      ],
      "text/html": [
       "\n",
       "            <style>\n",
       "                .geemap-dark {\n",
       "                    --jp-widgets-color: white;\n",
       "                    --jp-widgets-label-color: white;\n",
       "                    --jp-ui-font-color1: white;\n",
       "                    --jp-layout-color2: #454545;\n",
       "                    background-color: #383838;\n",
       "                }\n",
       "\n",
       "                .geemap-dark .jupyter-button {\n",
       "                    --jp-layout-color3: #383838;\n",
       "                }\n",
       "\n",
       "                .geemap-colab {\n",
       "                    background-color: var(--colab-primary-surface-color, white);\n",
       "                }\n",
       "\n",
       "                .geemap-colab .jupyter-button {\n",
       "                    --jp-layout-color3: var(--colab-primary-surface-color, white);\n",
       "                }\n",
       "            </style>\n",
       "            "
      ]
     },
     "metadata": {},
     "output_type": "display_data"
    },
    {
     "data": {
      "text/plain": [
       "10.0"
      ]
     },
     "execution_count": 82,
     "metadata": {},
     "output_type": "execute_result"
    }
   ],
   "execution_count": 82
  },
  {
   "cell_type": "markdown",
   "id": "7b2c665a-0fef-4b2a-97c4-a1a53b0931c1",
   "metadata": {},
   "source": [
    "Referencia de como añadir elementos a los mapas:\n",
    "\n",
    "https://www.youtube.com/watch?v=qiKns09X1Ao"
   ]
  },
  {
   "cell_type": "code",
   "execution_count": null,
   "id": "668f532e-8ea1-470a-b447-d4050b0d568f",
   "metadata": {},
   "outputs": [],
   "source": [
    "## PENDIENTE : Establecer rangos de salud y hacer mas bien la visualizacion de manera categorica.\n",
    "pendiente = \"RANGOS DE SALUD\" # Profundizar en lo que se muestra en la sigueinte imagen\n",
    "\n",
    "\n",
    "### IMPORTANTE: Esta seccion va tener que tener sus categorias de valores por tipo de cultivo por semana!!!, ahorita lo voy a simplificar y lo dejare de manera generica de todo el año."
   ]
  },
  {
   "metadata": {},
   "cell_type": "markdown",
   "source": [
    "<div style=\"text-align: center;\">\n",
    "    <img src=\"Images/NDVI_categories.png\" alt=\"Descripción de la imagen\" width=\"500\">\n",
    "</div>\n"
   ],
   "id": "4b91225e4466409c"
  },
  {
   "cell_type": "markdown",
   "id": "cba1996f638e4200",
   "metadata": {},
   "source": [
    "### 2.2)  NVDI promedio en el tiempo \n",
    "Para poder generar un scatter plot de los niveles de NVDI en la imagen a traves del tiempo hay que hacer un calculo de agregación (en este caso un promedio) de los valores de NVDI de los pixeles en cada imagen  y asociarlas"
   ]
  },
  {
   "cell_type": "code",
   "id": "451b59ec8938daff",
   "metadata": {
    "ExecuteTime": {
     "end_time": "2025-01-24T17:10:20.593135Z",
     "start_time": "2025-01-06T05:31:09.232486Z"
    }
   },
   "source": [
    "# Obtengo las llaves del diccionario \n",
    "keys  =  list(images_dic.keys()) # Recordemos que estas imagenes ya solo contienen la banda (indice de NVDI) calculado\n",
    "    # Adicionalmente, recordemos que no se van a estar leyendo  las imagenes del diccionario, dado que ahí estaríua lamacenando los datos localmente. Cada vez que vaya a utilizarf las imagenes resultantres hay que leerlas irectamente dede GCP.\n",
    "\n",
    "# Almacenamiento de la media del NVDI \n",
    "nvdi_values ={}\n",
    "\n",
    "for i in keys:\n",
    "    # Extracción de la imagen \n",
    "    ndvi_image = images_dic[i]\n",
    "    \n",
    "    # Calculo de la media de NVDI de toda la imagen \n",
    "    # Calculate mean using reduceRegion\n",
    "    mean = ndvi_image.reduceRegion(\n",
    "        reducer=ee.Reducer.mean(),\n",
    "        scale=10,  # Pixel resolution (meters)\n",
    "        maxPixels=1e9 # Esto es importante, es el número maximo de pixeles que se usarán para el cálculo \n",
    "    )\n",
    "    # Esto es un ee diccionary \n",
    "    # The result is a earth engine diccionary, it is neccesary. In order to do this is neccesary to use the function get info()\n",
    "    mean = mean.getInfo() # This returns a python dictionary\n",
    "    \n",
    "    # Almacenamiento de los resultados \n",
    "    nvdi_values[i] = mean[\"NDVI\"] # Esta es la llave del diccionario"
   ],
   "outputs": [
    {
     "data": {
      "text/plain": [
       "<IPython.core.display.HTML object>"
      ],
      "text/html": [
       "\n",
       "            <style>\n",
       "                .geemap-dark {\n",
       "                    --jp-widgets-color: white;\n",
       "                    --jp-widgets-label-color: white;\n",
       "                    --jp-ui-font-color1: white;\n",
       "                    --jp-layout-color2: #454545;\n",
       "                    background-color: #383838;\n",
       "                }\n",
       "\n",
       "                .geemap-dark .jupyter-button {\n",
       "                    --jp-layout-color3: #383838;\n",
       "                }\n",
       "\n",
       "                .geemap-colab {\n",
       "                    background-color: var(--colab-primary-surface-color, white);\n",
       "                }\n",
       "\n",
       "                .geemap-colab .jupyter-button {\n",
       "                    --jp-layout-color3: var(--colab-primary-surface-color, white);\n",
       "                }\n",
       "            </style>\n",
       "            "
      ]
     },
     "metadata": {},
     "output_type": "display_data"
    }
   ],
   "execution_count": 70
  },
  {
   "cell_type": "markdown",
   "id": "d459726f9ace5a34",
   "metadata": {},
   "source": [
    "**RESULTADOS EN UN PANDAS DF**"
   ]
  },
  {
   "cell_type": "code",
   "id": "fcbcba52f0555e36",
   "metadata": {
    "ExecuteTime": {
     "end_time": "2025-01-24T17:10:20.595974Z",
     "start_time": "2025-01-06T05:31:32.248094Z"
    }
   },
   "source": [
    "# Convertimos los resultados a un pandas DF \n",
    "ndvi_mean_data = pd.DataFrame(list(nvdi_values.items()), columns =[\"Date\", \"NDVI\"])\n",
    "ndvi_mean_data"
   ],
   "outputs": [
    {
     "data": {
      "text/plain": [
       "<IPython.core.display.HTML object>"
      ],
      "text/html": [
       "\n",
       "            <style>\n",
       "                .geemap-dark {\n",
       "                    --jp-widgets-color: white;\n",
       "                    --jp-widgets-label-color: white;\n",
       "                    --jp-ui-font-color1: white;\n",
       "                    --jp-layout-color2: #454545;\n",
       "                    background-color: #383838;\n",
       "                }\n",
       "\n",
       "                .geemap-dark .jupyter-button {\n",
       "                    --jp-layout-color3: #383838;\n",
       "                }\n",
       "\n",
       "                .geemap-colab {\n",
       "                    background-color: var(--colab-primary-surface-color, white);\n",
       "                }\n",
       "\n",
       "                .geemap-colab .jupyter-button {\n",
       "                    --jp-layout-color3: var(--colab-primary-surface-color, white);\n",
       "                }\n",
       "            </style>\n",
       "            "
      ]
     },
     "metadata": {},
     "output_type": "display_data"
    },
    {
     "data": {
      "text/plain": [
       "            Date      NDVI\n",
       "0   image_2023-1  0.245787\n",
       "1   image_2023-3  0.358347\n",
       "2   image_2023-5  0.261947\n",
       "3   image_2023-7  0.117241\n",
       "4   image_2023-9  0.143728\n",
       "5  image_2023-10  0.167872\n",
       "6  image_2023-11  0.123687"
      ],
      "text/html": [
       "<div>\n",
       "<style scoped>\n",
       "    .dataframe tbody tr th:only-of-type {\n",
       "        vertical-align: middle;\n",
       "    }\n",
       "\n",
       "    .dataframe tbody tr th {\n",
       "        vertical-align: top;\n",
       "    }\n",
       "\n",
       "    .dataframe thead th {\n",
       "        text-align: right;\n",
       "    }\n",
       "</style>\n",
       "<table border=\"1\" class=\"dataframe\">\n",
       "  <thead>\n",
       "    <tr style=\"text-align: right;\">\n",
       "      <th></th>\n",
       "      <th>Date</th>\n",
       "      <th>NDVI</th>\n",
       "    </tr>\n",
       "  </thead>\n",
       "  <tbody>\n",
       "    <tr>\n",
       "      <th>0</th>\n",
       "      <td>image_2023-1</td>\n",
       "      <td>0.245787</td>\n",
       "    </tr>\n",
       "    <tr>\n",
       "      <th>1</th>\n",
       "      <td>image_2023-3</td>\n",
       "      <td>0.358347</td>\n",
       "    </tr>\n",
       "    <tr>\n",
       "      <th>2</th>\n",
       "      <td>image_2023-5</td>\n",
       "      <td>0.261947</td>\n",
       "    </tr>\n",
       "    <tr>\n",
       "      <th>3</th>\n",
       "      <td>image_2023-7</td>\n",
       "      <td>0.117241</td>\n",
       "    </tr>\n",
       "    <tr>\n",
       "      <th>4</th>\n",
       "      <td>image_2023-9</td>\n",
       "      <td>0.143728</td>\n",
       "    </tr>\n",
       "    <tr>\n",
       "      <th>5</th>\n",
       "      <td>image_2023-10</td>\n",
       "      <td>0.167872</td>\n",
       "    </tr>\n",
       "    <tr>\n",
       "      <th>6</th>\n",
       "      <td>image_2023-11</td>\n",
       "      <td>0.123687</td>\n",
       "    </tr>\n",
       "  </tbody>\n",
       "</table>\n",
       "</div>"
      ]
     },
     "execution_count": 71,
     "metadata": {},
     "output_type": "execute_result"
    }
   ],
   "execution_count": 71
  },
  {
   "cell_type": "markdown",
   "id": "8d4d7db0c8232dc",
   "metadata": {},
   "source": [
    "**VISUALIZACION EN EL TIEMPO**"
   ]
  },
  {
   "cell_type": "code",
   "id": "a9a0e10ffb884bd6",
   "metadata": {
    "ExecuteTime": {
     "end_time": "2025-01-24T17:10:20.608159Z",
     "start_time": "2025-01-06T05:31:38.207213Z"
    }
   },
   "source": [
    "# Crear el gráfico con Plotly\n",
    "fig = px.line(\n",
    "    data_frame=ndvi_mean_data, x='Date', y='NDVI',\n",
    "    markers=True,\n",
    "    title='NDVI Over Time',\n",
    "    labels={'Date': 'Date', 'NDVI': 'NDVI Value'}\n",
    ")\n",
    "\n",
    "# Mostrar el gráfico\n",
    "#fig.show()"
   ],
   "outputs": [
    {
     "data": {
      "text/plain": [
       "<IPython.core.display.HTML object>"
      ],
      "text/html": [
       "\n",
       "            <style>\n",
       "                .geemap-dark {\n",
       "                    --jp-widgets-color: white;\n",
       "                    --jp-widgets-label-color: white;\n",
       "                    --jp-ui-font-color1: white;\n",
       "                    --jp-layout-color2: #454545;\n",
       "                    background-color: #383838;\n",
       "                }\n",
       "\n",
       "                .geemap-dark .jupyter-button {\n",
       "                    --jp-layout-color3: #383838;\n",
       "                }\n",
       "\n",
       "                .geemap-colab {\n",
       "                    background-color: var(--colab-primary-surface-color, white);\n",
       "                }\n",
       "\n",
       "                .geemap-colab .jupyter-button {\n",
       "                    --jp-layout-color3: var(--colab-primary-surface-color, white);\n",
       "                }\n",
       "            </style>\n",
       "            "
      ]
     },
     "metadata": {},
     "output_type": "display_data"
    }
   ],
   "execution_count": 72
  },
  {
   "cell_type": "markdown",
   "id": "6609864c1637d837",
   "metadata": {},
   "source": [
    "## 4) Exportación\n",
    "Se exportará los resultados finales"
   ]
  },
  {
   "cell_type": "code",
   "execution_count": 13,
   "id": "c71d913a1275cc45",
   "metadata": {
    "ExecuteTime": {
     "end_time": "2025-01-24T17:10:20.612902Z",
     "start_time": "2025-01-04T16:49:31.544986Z"
    }
   },
   "outputs": [
    {
     "data": {
      "text/html": [
       "\n",
       "            <style>\n",
       "                .geemap-dark {\n",
       "                    --jp-widgets-color: white;\n",
       "                    --jp-widgets-label-color: white;\n",
       "                    --jp-ui-font-color1: white;\n",
       "                    --jp-layout-color2: #454545;\n",
       "                    background-color: #383838;\n",
       "                }\n",
       "\n",
       "                .geemap-dark .jupyter-button {\n",
       "                    --jp-layout-color3: #383838;\n",
       "                }\n",
       "\n",
       "                .geemap-colab {\n",
       "                    background-color: var(--colab-primary-surface-color, white);\n",
       "                }\n",
       "\n",
       "                .geemap-colab .jupyter-button {\n",
       "                    --jp-layout-color3: var(--colab-primary-surface-color, white);\n",
       "                }\n",
       "            </style>\n",
       "            "
      ],
      "text/plain": [
       "<IPython.core.display.HTML object>"
      ]
     },
     "metadata": {},
     "output_type": "display_data"
    }
   ],
   "source": [
    "# Exportación de tabla promedio del NVDI del área de interes\n",
    "ndvi_mean_data.to_csv(path_or_buf=direction + \"/data/07_model_output/NDVI/Medias_NDVI.csv\", index=False)\n",
    "\n",
    "# Exportación del grafico\n",
    "fig.write_html(direction +\"/data/07_model_output/NDVI/NDVI_time.html\")"
   ]
  }
 ],
 "metadata": {
  "kernelspec": {
   "display_name": "Python 3 (ipykernel)",
   "language": "python",
   "name": "python3"
  },
  "language_info": {
   "codemirror_mode": {
    "name": "ipython",
    "version": 3
   },
   "file_extension": ".py",
   "mimetype": "text/x-python",
   "name": "python",
   "nbconvert_exporter": "python",
   "pygments_lexer": "ipython3",
   "version": "3.13.1"
  }
 },
 "nbformat": 4,
 "nbformat_minor": 5
}
