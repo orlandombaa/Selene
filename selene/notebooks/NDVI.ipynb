{
 "cells": [
  {
   "cell_type": "markdown",
   "id": "421f33b0083f6599",
   "metadata": {},
   "source": [
    "# Cálculo de NDVI \n",
    "\n",
    "En este notebook se generará la métrica de NDVI. \n",
    "\n",
    "NDVI (Normalized Difference Vegetation Index) is a widely used remote sensing index to measure vegetation health, density, and vigor. It works by leveraging the difference in reflectance properties of vegetation in the red and near-infrared (NIR) portions of the electromagnetic spectrum.\n",
    "\n",
    "Healthy vegetation absorbs most of the red light (used in photosynthesis) and reflects a significant portion of near-infrared light. Unhealthy or sparse vegetation reflects more red light and less near-infrared light.\n",
    "\n",
    "<div style=\"text-align: center;\">\n",
    "    <img src=\"Images/NVDI_formula.png\" alt=\"Descripción de la imagen\" width=\"500\">\n",
    "</div>\n",
    " \n",
    "\n",
    "\n"
   ]
  },
  {
   "cell_type": "markdown",
   "id": "f4d3636c221ba4f6",
   "metadata": {},
   "source": [
    "**IMPORTACION DE LIBRERIAS**"
   ]
  },
  {
   "cell_type": "code",
   "id": "193d29cdde45367b",
   "metadata": {
    "ExecuteTime": {
     "end_time": "2025-01-31T22:14:10.377939Z",
     "start_time": "2025-01-31T22:14:09.071713Z"
    }
   },
   "source": [
    "import os \n",
    "import ee \n",
    "import pandas as pd\n",
    "import geemap\n",
    "import requests\n",
    "import plotly.express as px\n",
    "import matplotlib.pyplot as plt\n",
    "from rasterio.plot import show\n",
    "import rasterio\n",
    "\n",
    "# 1) Obtención de la dirección de trabajo\n",
    "direction = os.getcwd()\n",
    "\n",
    "# Remove the last part of the path\n",
    "direction = os.path.dirname(direction)\n",
    "direction"
   ],
   "outputs": [
    {
     "data": {
      "text/plain": [
       "'/Users/orlandoandrade/Documents/Negocios/Satelites/selene'"
      ]
     },
     "execution_count": 2,
     "metadata": {},
     "output_type": "execute_result"
    }
   ],
   "execution_count": 2
  },
  {
   "cell_type": "markdown",
   "id": "5b61c7fb2f78ff95",
   "metadata": {},
   "source": "## 1) Autentificación"
  },
  {
   "cell_type": "code",
   "id": "2b054b8d75e5e14b",
   "metadata": {
    "ExecuteTime": {
     "end_time": "2025-01-31T22:14:14.532411Z",
     "start_time": "2025-01-31T22:14:10.382957Z"
    }
   },
   "source": [
    "# Dirección de la llave\n",
    "service_account = direction + '/conf/local/gcp-for-data-science-397913-4fd843feede1.json'\n",
    "\n",
    "# Autentificación \n",
    "credentials = ee.ServiceAccountCredentials(email=None, key_file=service_account)\n",
    "ee.Initialize(credentials)"
   ],
   "outputs": [
    {
     "data": {
      "text/plain": [
       "<IPython.core.display.HTML object>"
      ],
      "text/html": [
       "\n",
       "            <style>\n",
       "                .geemap-dark {\n",
       "                    --jp-widgets-color: white;\n",
       "                    --jp-widgets-label-color: white;\n",
       "                    --jp-ui-font-color1: white;\n",
       "                    --jp-layout-color2: #454545;\n",
       "                    background-color: #383838;\n",
       "                }\n",
       "\n",
       "                .geemap-dark .jupyter-button {\n",
       "                    --jp-layout-color3: #383838;\n",
       "                }\n",
       "\n",
       "                .geemap-colab {\n",
       "                    background-color: var(--colab-primary-surface-color, white);\n",
       "                }\n",
       "\n",
       "                .geemap-colab .jupyter-button {\n",
       "                    --jp-layout-color3: var(--colab-primary-surface-color, white);\n",
       "                }\n",
       "            </style>\n",
       "            "
      ]
     },
     "metadata": {},
     "output_type": "display_data"
    }
   ],
   "execution_count": 3
  },
  {
   "cell_type": "markdown",
   "id": "46efced9abce13ec",
   "metadata": {},
   "source": [
    "## 2) Lectura y procesamiento de imagenes  \n",
    "Las imagenes satelitales se almacenaron en un bucket de GCP, por lo que serán leídas de ahi mismo.\n",
    "\n",
    "API Reference:\n",
    " \n",
    "  https://developers.google.com/earth-engine/apidocs/ee-image-loadgeotiff"
   ]
  },
  {
   "cell_type": "markdown",
   "id": "c0e19ed8c3e4a274",
   "metadata": {},
   "source": [
    "### 2.1) Cálculo y exportación de imagenes con NDVI \n",
    "Las imagennes exportadas en "
   ]
  },
  {
   "cell_type": "code",
   "id": "48bba7854eb87c94",
   "metadata": {
    "ExecuteTime": {
     "end_time": "2025-01-31T22:14:49.022072Z",
     "start_time": "2025-01-31T22:14:14.547608Z"
    }
   },
   "source": [
    "# 1) Lectura del nombre de las imagenes en el bucket \n",
    "images_names = pd.read_csv(filepath_or_buffer=direction + \"/data/02_intermediate/sentinel_images_names.csv\")\n",
    "\n",
    "# diccionario de imagenes \n",
    "images_dic = {}\n",
    "\n",
    "# Importación del mapa base \n",
    "Map = geemap.Map()\n",
    "\n",
    "# Path to the image in the GCS bucket\n",
    "image_center = images_names[\"Images names\"][0]\n",
    "image_center   = f'gs://earth_engine_selene/sentinel2/Row_Data/{image_center}.tif'\n",
    "    \n",
    "# Load the image from the GCS bucket\n",
    "image = ee.Image.loadGeoTIFF(uri=image_center)\n",
    "\n",
    "# Central el mapa \n",
    "Map.centerObject(ee_object=image, zoom= 10)\n",
    "\n",
    "# 2) Inicio del ciclo , se toma el pandas serie para iterar en él\n",
    "for i in images_names[\"Images names\"]:\n",
    "    \n",
    "    # 1) Descarga de imagenes \n",
    "    # Path to the image in the GCS bucket\n",
    "    gcs_path = f'gs://earth_engine_selene/sentinel2/Row_Data/{i}.tif' # Crear más bien un GCP path base\n",
    "    \n",
    "    # Load the image from the GCS bucket\n",
    "    image = ee.Image.loadGeoTIFF(gcs_path)\n",
    "     \n",
    "    # 2) Calculate NDVI (if bands are organized)\n",
    "    image = image.normalizedDifference(bandNames=['B8', 'B4']).rename('NDVI')  # Renombre de la banda resultante (capa)\n",
    "    print(f\"NDVI Calculated for {i}\")\n",
    "    \n",
    "    # 3) Generaación de URL \n",
    "    rgb_bands = [\"NDVI\"]\n",
    "\n",
    "    # Determinación de los parámetros para la visualización\n",
    "    ndvi_vis = {\n",
    "    \"min\": 0,\n",
    "    \"max\": 1,\n",
    "   \"palette\": [\n",
    "      \"#FF0000\",\n",
    "      \"#FF1700\",\n",
    "      \"#FF2E00\",\n",
    "      \"#FF4500\",\n",
    "      \"#FF6500\",\n",
    "      \"#FF8500\",\n",
    "      \"#FFA500\",\n",
    "      \"#FAC008\",\n",
    "      \"#F6D80F\",\n",
    "      \"#F1F117\",\n",
    "      \"#D1ED19\",\n",
    "      \"#B1E91B\",\n",
    "      \"#91E51D\",\n",
    "      \"#6FE120\",\n",
    "      \"#53C918\",\n",
    "      \"#37B110\",\n",
    "      \"#1B9908\",\n",
    "      \"#008000\"],\n",
    "    \"bands\": rgb_bands}\n",
    "\n",
    "    url = image.getThumbURL(ndvi_vis)\n",
    "    print(f\"Thumbnail URL for {i}: {url}\")\n",
    "        \n",
    "    # 4) Exportación de la imagen a PNG\n",
    "    # Download the image and save it locally\n",
    "    output_file = direction + f\"/data/02_intermediate/NDVI/{i}.png\"\n",
    "\n",
    "    response = requests.get(url=url)\n",
    "    if response.status_code == 200:\n",
    "        with open(file=output_file, mode='wb') as f: #string \"output_file\" para exportar en esa direccion la imagen\n",
    "            f.write(response.content) # Esto es lo que exportara que es el contenido de la respuesta, la imagen\n",
    "        print(f\"Image successfully downloaded as '{output_file}'\")\n",
    "    else:\n",
    "        print(f\"Error: Unable to download the image. HTTP status code {response.status_code}\")\n",
    "    \n",
    "    images_dic[i]  = image # NO es necesario almacenarlo aqui (en un diccionario de python que terminara almacenando los datos en RAM localmente), en pequeño contexto no hay problema pero analizando mayores exteneiones puede tronar.  Hay que simplemente exportar los datos a un bucket y en el post procesamiento leer las imagenes una a una\n",
    "    \n",
    "    # 5) Añadimos la imagen al mapa html \n",
    "    Map.addLayer(ee_object=image,  vis_params= ndvi_vis , name=f'NDWI {i}', shown=True)\n",
    "\n",
    "    # 6) Exportación de las imágen procesado geotiff al bucket de GCP, está imagen ya cotiene el cálculo de NDVI\n",
    "    # Indicamos la tarea de exportacion\n",
    "    task = ee.batch.Export.image.toCloudStorage(\n",
    "    image=image,\n",
    "    #description=f\"Export\", # Este es el nombre del archivo que se exportara , si vas a usar el filenameprexi no es necesario esto\n",
    "    bucket='earth_engine_selene',  # Cambia esto al nombre de tu bucket\n",
    "    fileNamePrefix=f\"sentinel2/NDVI/NDVI_{i}\", # Damos una dirección dentro del bucket y le damos nombre\n",
    "    scale=10,  # Resolución en metros\n",
    "    fileFormat='GeoTIFF')  # Formato de archivo\n",
    "\n",
    "    # Inicio de la exportación\n",
    "    task.start()  # Inicia la tarea de exportación\n",
    "    print(\"Se exportó la imagen a Cloud Storage:\", i)\n",
    "\n",
    "\n",
    "# Añadimo una legenda, fuera del ciclo \n",
    "Map.add_colorbar(\n",
    "ndvi_vis,\n",
    "label=\"NDVI values\",\n",
    "layer_name=\"SRTM DEM\",\n",
    "orientation=\"vertical\",\n",
    "transparent_bg=True,\n",
    "discrete=False)\n",
    "\n",
    "# Exportación del HTML \n",
    "html_file = direction + \"/data/07_model_output/NDVI/Map_NDVI.html\"\n",
    "Map.to_html(filename=html_file, title=\"My Map\", width=\"100%\", height=\"880px\") # Exporacion a una html "
   ],
   "outputs": [
    {
     "data": {
      "text/plain": [
       "<IPython.core.display.HTML object>"
      ],
      "text/html": [
       "\n",
       "            <style>\n",
       "                .geemap-dark {\n",
       "                    --jp-widgets-color: white;\n",
       "                    --jp-widgets-label-color: white;\n",
       "                    --jp-ui-font-color1: white;\n",
       "                    --jp-layout-color2: #454545;\n",
       "                    background-color: #383838;\n",
       "                }\n",
       "\n",
       "                .geemap-dark .jupyter-button {\n",
       "                    --jp-layout-color3: #383838;\n",
       "                }\n",
       "\n",
       "                .geemap-colab {\n",
       "                    background-color: var(--colab-primary-surface-color, white);\n",
       "                }\n",
       "\n",
       "                .geemap-colab .jupyter-button {\n",
       "                    --jp-layout-color3: var(--colab-primary-surface-color, white);\n",
       "                }\n",
       "            </style>\n",
       "            "
      ]
     },
     "metadata": {},
     "output_type": "display_data"
    },
    {
     "name": "stdout",
     "output_type": "stream",
     "text": [
      "NDVI Calculated for Image_2024-10-04 00:00:00\n",
      "Thumbnail URL for Image_2024-10-04 00:00:00: https://earthengine.googleapis.com/v1/projects/earthengine-legacy/thumbnails/53fd1d8058e885efc566fcde58012d53-af96fd206fd108d206b0913691f91394:getPixels\n",
      "Image successfully downloaded as '/Users/orlandoandrade/Documents/Negocios/Satelites/selene/data/02_intermediate/NDVI/Image_2024-10-04 00:00:00.png'\n",
      "Se exportó la imagen a Cloud Storage: Image_2024-10-04 00:00:00\n",
      "NDVI Calculated for Image_2024-10-14 00:00:00\n",
      "Thumbnail URL for Image_2024-10-14 00:00:00: https://earthengine.googleapis.com/v1/projects/earthengine-legacy/thumbnails/a5e910811644003e813e12260f40bf59-15257b191904c5bed9145d050248451f:getPixels\n",
      "Image successfully downloaded as '/Users/orlandoandrade/Documents/Negocios/Satelites/selene/data/02_intermediate/NDVI/Image_2024-10-14 00:00:00.png'\n",
      "Se exportó la imagen a Cloud Storage: Image_2024-10-14 00:00:00\n",
      "NDVI Calculated for Image_2024-10-19 00:00:00\n",
      "Thumbnail URL for Image_2024-10-19 00:00:00: https://earthengine.googleapis.com/v1/projects/earthengine-legacy/thumbnails/85f17bcbab33e776171c6fd40f450fba-cdafc07c97913f6ead3bb912c75531d9:getPixels\n",
      "Image successfully downloaded as '/Users/orlandoandrade/Documents/Negocios/Satelites/selene/data/02_intermediate/NDVI/Image_2024-10-19 00:00:00.png'\n",
      "Se exportó la imagen a Cloud Storage: Image_2024-10-19 00:00:00\n",
      "NDVI Calculated for Image_2024-10-24 00:00:00\n",
      "Thumbnail URL for Image_2024-10-24 00:00:00: https://earthengine.googleapis.com/v1/projects/earthengine-legacy/thumbnails/c6f032820529b61b290a09100d3e9254-abe09e75c82d63ede034bf67ce789451:getPixels\n",
      "Image successfully downloaded as '/Users/orlandoandrade/Documents/Negocios/Satelites/selene/data/02_intermediate/NDVI/Image_2024-10-24 00:00:00.png'\n",
      "Se exportó la imagen a Cloud Storage: Image_2024-10-24 00:00:00\n",
      "NDVI Calculated for Image_2024-10-29 00:00:00\n",
      "Thumbnail URL for Image_2024-10-29 00:00:00: https://earthengine.googleapis.com/v1/projects/earthengine-legacy/thumbnails/3b50c5bb4b57a4837dc203bde15b866c-d99a6a5867141fa1904f3e04cf78aae6:getPixels\n",
      "Image successfully downloaded as '/Users/orlandoandrade/Documents/Negocios/Satelites/selene/data/02_intermediate/NDVI/Image_2024-10-29 00:00:00.png'\n",
      "Se exportó la imagen a Cloud Storage: Image_2024-10-29 00:00:00\n",
      "NDVI Calculated for Image_2024-11-03 00:00:00\n",
      "Thumbnail URL for Image_2024-11-03 00:00:00: https://earthengine.googleapis.com/v1/projects/earthengine-legacy/thumbnails/c191ee03879959900230690acc058d32-a5a70a08fb8b0cbec18c69eb61f82237:getPixels\n",
      "Image successfully downloaded as '/Users/orlandoandrade/Documents/Negocios/Satelites/selene/data/02_intermediate/NDVI/Image_2024-11-03 00:00:00.png'\n",
      "Se exportó la imagen a Cloud Storage: Image_2024-11-03 00:00:00\n",
      "NDVI Calculated for Image_2024-11-08 00:00:00\n",
      "Thumbnail URL for Image_2024-11-08 00:00:00: https://earthengine.googleapis.com/v1/projects/earthengine-legacy/thumbnails/4c7060680540f0cb4cf5bed567a8b983-d3bcdc25956f08829d6a06b9ab73eee4:getPixels\n",
      "Image successfully downloaded as '/Users/orlandoandrade/Documents/Negocios/Satelites/selene/data/02_intermediate/NDVI/Image_2024-11-08 00:00:00.png'\n",
      "Se exportó la imagen a Cloud Storage: Image_2024-11-08 00:00:00\n",
      "NDVI Calculated for Image_2024-11-13 00:00:00\n",
      "Thumbnail URL for Image_2024-11-13 00:00:00: https://earthengine.googleapis.com/v1/projects/earthengine-legacy/thumbnails/95fd8e4b2ab8b4c14a26c6c4102bcbfd-8aea0d5c0873b69a052a85ad73f19de1:getPixels\n",
      "Image successfully downloaded as '/Users/orlandoandrade/Documents/Negocios/Satelites/selene/data/02_intermediate/NDVI/Image_2024-11-13 00:00:00.png'\n",
      "Se exportó la imagen a Cloud Storage: Image_2024-11-13 00:00:00\n",
      "NDVI Calculated for Image_2024-11-18 00:00:00\n",
      "Thumbnail URL for Image_2024-11-18 00:00:00: https://earthengine.googleapis.com/v1/projects/earthengine-legacy/thumbnails/4a32cf26ddcd9d309dccdcfd48c275ae-007f2a7c409906561a7bfcf7ca91aee8:getPixels\n",
      "Image successfully downloaded as '/Users/orlandoandrade/Documents/Negocios/Satelites/selene/data/02_intermediate/NDVI/Image_2024-11-18 00:00:00.png'\n",
      "Se exportó la imagen a Cloud Storage: Image_2024-11-18 00:00:00\n",
      "NDVI Calculated for Image_2024-11-23 00:00:00\n",
      "Thumbnail URL for Image_2024-11-23 00:00:00: https://earthengine.googleapis.com/v1/projects/earthengine-legacy/thumbnails/db3d40b9e6d80aaed6bf15f6dcc51f18-4561966ff0e52b2aaf9340bf291b452d:getPixels\n",
      "Image successfully downloaded as '/Users/orlandoandrade/Documents/Negocios/Satelites/selene/data/02_intermediate/NDVI/Image_2024-11-23 00:00:00.png'\n",
      "Se exportó la imagen a Cloud Storage: Image_2024-11-23 00:00:00\n",
      "NDVI Calculated for Image_2024-11-28 00:00:00\n",
      "Thumbnail URL for Image_2024-11-28 00:00:00: https://earthengine.googleapis.com/v1/projects/earthengine-legacy/thumbnails/2ef24dddf34d6038c06b3e18f0079a40-15fcb7ad8786b078d85b3f78793eb085:getPixels\n",
      "Image successfully downloaded as '/Users/orlandoandrade/Documents/Negocios/Satelites/selene/data/02_intermediate/NDVI/Image_2024-11-28 00:00:00.png'\n",
      "Se exportó la imagen a Cloud Storage: Image_2024-11-28 00:00:00\n",
      "NDVI Calculated for Image_2024-12-03 00:00:00\n",
      "Thumbnail URL for Image_2024-12-03 00:00:00: https://earthengine.googleapis.com/v1/projects/earthengine-legacy/thumbnails/deb0edd4ab531660068c58fe133a0f05-466a9827426d4cfd27e10ca8fcd0e106:getPixels\n",
      "Image successfully downloaded as '/Users/orlandoandrade/Documents/Negocios/Satelites/selene/data/02_intermediate/NDVI/Image_2024-12-03 00:00:00.png'\n",
      "Se exportó la imagen a Cloud Storage: Image_2024-12-03 00:00:00\n",
      "NDVI Calculated for Image_2024-12-18 00:00:00\n",
      "Thumbnail URL for Image_2024-12-18 00:00:00: https://earthengine.googleapis.com/v1/projects/earthengine-legacy/thumbnails/8fb626f440f43fce6486923000949aff-d6d26c21de9cea6b432e4701c9a51b9b:getPixels\n",
      "Image successfully downloaded as '/Users/orlandoandrade/Documents/Negocios/Satelites/selene/data/02_intermediate/NDVI/Image_2024-12-18 00:00:00.png'\n",
      "Se exportó la imagen a Cloud Storage: Image_2024-12-18 00:00:00\n",
      "NDVI Calculated for Image_2024-12-23 00:00:00\n",
      "Thumbnail URL for Image_2024-12-23 00:00:00: https://earthengine.googleapis.com/v1/projects/earthengine-legacy/thumbnails/4c8bb9b48a27dea64a8fff94e90a81d1-4aeb0098a5d53f46f6baafd796a6d56d:getPixels\n",
      "Image successfully downloaded as '/Users/orlandoandrade/Documents/Negocios/Satelites/selene/data/02_intermediate/NDVI/Image_2024-12-23 00:00:00.png'\n",
      "Se exportó la imagen a Cloud Storage: Image_2024-12-23 00:00:00\n",
      "NDVI Calculated for Image_2024-12-28 00:00:00\n",
      "Thumbnail URL for Image_2024-12-28 00:00:00: https://earthengine.googleapis.com/v1/projects/earthengine-legacy/thumbnails/73f5049e2e10eb171637f5efe70cad46-a89d18a16fb56886c23a5b1364b07c4c:getPixels\n",
      "Image successfully downloaded as '/Users/orlandoandrade/Documents/Negocios/Satelites/selene/data/02_intermediate/NDVI/Image_2024-12-28 00:00:00.png'\n",
      "Se exportó la imagen a Cloud Storage: Image_2024-12-28 00:00:00\n",
      "NDVI Calculated for Image_2025-01-02 00:00:00\n",
      "Thumbnail URL for Image_2025-01-02 00:00:00: https://earthengine.googleapis.com/v1/projects/earthengine-legacy/thumbnails/5b814f5230fde99c5990f6398013043b-b9961c639e4916b88e5868625393bb67:getPixels\n",
      "Image successfully downloaded as '/Users/orlandoandrade/Documents/Negocios/Satelites/selene/data/02_intermediate/NDVI/Image_2025-01-02 00:00:00.png'\n",
      "Se exportó la imagen a Cloud Storage: Image_2025-01-02 00:00:00\n"
     ]
    }
   ],
   "execution_count": 4
  },
  {
   "cell_type": "markdown",
   "id": "be5018a9-36db-4a23-8131-644724625390",
   "metadata": {},
   "source": [
    "**VISUALIZACION DEL MAPA**"
   ]
  },
  {
   "cell_type": "code",
   "id": "72cf39f3-a0ff-4bc9-909b-488994217232",
   "metadata": {
    "ExecuteTime": {
     "end_time": "2025-01-31T22:14:49.029013Z",
     "start_time": "2025-01-31T22:14:49.026364Z"
    }
   },
   "source": "#Map",
   "outputs": [
    {
     "data": {
      "text/plain": [
       "<IPython.core.display.HTML object>"
      ],
      "text/html": [
       "\n",
       "            <style>\n",
       "                .geemap-dark {\n",
       "                    --jp-widgets-color: white;\n",
       "                    --jp-widgets-label-color: white;\n",
       "                    --jp-ui-font-color1: white;\n",
       "                    --jp-layout-color2: #454545;\n",
       "                    background-color: #383838;\n",
       "                }\n",
       "\n",
       "                .geemap-dark .jupyter-button {\n",
       "                    --jp-layout-color3: #383838;\n",
       "                }\n",
       "\n",
       "                .geemap-colab {\n",
       "                    background-color: var(--colab-primary-surface-color, white);\n",
       "                }\n",
       "\n",
       "                .geemap-colab .jupyter-button {\n",
       "                    --jp-layout-color3: var(--colab-primary-surface-color, white);\n",
       "                }\n",
       "            </style>\n",
       "            "
      ]
     },
     "metadata": {},
     "output_type": "display_data"
    }
   ],
   "execution_count": 5
  },
  {
   "metadata": {},
   "cell_type": "markdown",
   "source": [
    "### 3) Post procesamiento\n",
    "En esta sección  lo que se busca es  tomas los geotiff generados del NDVI y generar un mapa a partir de estos. El mapa contendrá los siguientes elementos adicionales:\n",
    "\n",
    "- Titulo\n",
    "- Fecha de la imagen\n",
    "- Leyenda con el valor de los colores\n",
    "- Escala de la imagen\n",
    "\n",
    "Para esto se utilizarán 2 librerías adicionales las cuales son: **Rasterio y matplolib**.\n",
    "\n",
    "[Rasterio tiene un modulo de visualización (plot)](https://rasterio.readthedocs.io/en/stable/topics/plotting.html) que se convina con matplotlib para la visualización de archivos tipo raster\n",
    "\n",
    "**IMPORTANTE:** Para que rasterio pueda hacer la lectura directamente desde el bucket es necesario que haga la autentificación con mi service account en variasbles del sistema."
   ],
   "id": "d92b03f69ea56e00"
  },
  {
   "metadata": {
    "ExecuteTime": {
     "end_time": "2025-01-31T22:14:49.050143Z",
     "start_time": "2025-01-31T22:14:49.047585Z"
    }
   },
   "cell_type": "code",
   "source": [
    "# Autentificacion , variables del sistema\n",
    "import os\n",
    "os.environ['GOOGLE_APPLICATION_CREDENTIALS'] =  service_account"
   ],
   "id": "683cf4aa5e87cce3",
   "outputs": [
    {
     "data": {
      "text/plain": [
       "<IPython.core.display.HTML object>"
      ],
      "text/html": [
       "\n",
       "            <style>\n",
       "                .geemap-dark {\n",
       "                    --jp-widgets-color: white;\n",
       "                    --jp-widgets-label-color: white;\n",
       "                    --jp-ui-font-color1: white;\n",
       "                    --jp-layout-color2: #454545;\n",
       "                    background-color: #383838;\n",
       "                }\n",
       "\n",
       "                .geemap-dark .jupyter-button {\n",
       "                    --jp-layout-color3: #383838;\n",
       "                }\n",
       "\n",
       "                .geemap-colab {\n",
       "                    background-color: var(--colab-primary-surface-color, white);\n",
       "                }\n",
       "\n",
       "                .geemap-colab .jupyter-button {\n",
       "                    --jp-layout-color3: var(--colab-primary-surface-color, white);\n",
       "                }\n",
       "            </style>\n",
       "            "
      ]
     },
     "metadata": {},
     "output_type": "display_data"
    }
   ],
   "execution_count": 6
  },
  {
   "metadata": {
    "ExecuteTime": {
     "end_time": "2025-01-31T22:14:49.807509Z",
     "start_time": "2025-01-31T22:14:49.064244Z"
    }
   },
   "cell_type": "code",
   "source": [
    "# Autentificacion con la libreria de google\n",
    "from google.cloud import storage\n",
    "\n",
    "client = storage.Client.from_service_account_json(json_credentials_path=service_account)\n",
    "buckets = list(client.list_buckets())\n",
    "buckets\n",
    "\n",
    "# PROBAR  SI ESTO ES NECEARIO O NO !!!"
   ],
   "id": "dc2c3e38d48f82e3",
   "outputs": [
    {
     "data": {
      "text/plain": [
       "<IPython.core.display.HTML object>"
      ],
      "text/html": [
       "\n",
       "            <style>\n",
       "                .geemap-dark {\n",
       "                    --jp-widgets-color: white;\n",
       "                    --jp-widgets-label-color: white;\n",
       "                    --jp-ui-font-color1: white;\n",
       "                    --jp-layout-color2: #454545;\n",
       "                    background-color: #383838;\n",
       "                }\n",
       "\n",
       "                .geemap-dark .jupyter-button {\n",
       "                    --jp-layout-color3: #383838;\n",
       "                }\n",
       "\n",
       "                .geemap-colab {\n",
       "                    background-color: var(--colab-primary-surface-color, white);\n",
       "                }\n",
       "\n",
       "                .geemap-colab .jupyter-button {\n",
       "                    --jp-layout-color3: var(--colab-primary-surface-color, white);\n",
       "                }\n",
       "            </style>\n",
       "            "
      ]
     },
     "metadata": {},
     "output_type": "display_data"
    },
    {
     "data": {
      "text/plain": [
       "[<Bucket: cv_portafolio_web_orlando>,\n",
       " <Bucket: earth_engine_selene>,\n",
       " <Bucket: test_data_science_orlando>]"
      ]
     },
     "execution_count": 7,
     "metadata": {},
     "output_type": "execute_result"
    }
   ],
   "execution_count": 7
  },
  {
   "metadata": {
    "ExecuteTime": {
     "end_time": "2025-01-31T22:15:03.983376Z",
     "start_time": "2025-01-31T22:14:49.822723Z"
    }
   },
   "cell_type": "code",
   "source": [
    "import rasterio\n",
    "from rasterio.plot import show\n",
    "import matplotlib.pyplot as plt\n",
    "from matplotlib.colors import ListedColormap, Normalize\n",
    "from matplotlib_scalebar.scalebar import ScaleBar  # <-- for the scale bar\n",
    "\n",
    "# Definir la paleta de colores personalizada\n",
    "palette = [\n",
    "    \"#FF0000\", \"#FF1700\", \"#FF2E00\", \"#FF4500\", \"#FF6500\", \"#FF8500\",\n",
    "    \"#FFA500\", \"#FAC008\", \"#F6D80F\", \"#F1F117\", \"#D1ED19\", \"#B1E91B\",\n",
    "    \"#91E51D\", \"#6FE120\", \"#53C918\", \"#37B110\", \"#1B9908\", \"#008000\"\n",
    "]\n",
    "\n",
    "cmap = ListedColormap(colors=palette) # Esto crea una lista de colores que puede ser integrado directamente en la figura\n",
    "\n",
    "# Fijar el rango de valores de -1 a 1 para todas las imágenes\n",
    "norm = Normalize(vmin=0, vmax=1) # IMPORTANTE: Hay que confirmar si es necesario que las imagenes las mostremos de -1 a 1. Por lo que entiendo de los valores de NDVI en las plantas su valores realmente van desde cercano de 0 a 1. Los valores negativos serán asociados a otras superfices. Por lo que no veo necesario inclurilas dentro de la escala (los valores negativos).\n",
    "\n",
    "# Suponiendo que 'images_names' es un DataFrame o diccionario con la llave \"Images names\"\n",
    "# Y que 'direction' es una variable con la ruta de salida\n",
    "for i in images_names[\"Images names\"]:\n",
    "    print(i)\n",
    "\n",
    "    # Ruta del archivo TIFF\n",
    "    tiff_path = f\"gs://earth_engine_selene/sentinel2/NDVI/NDVI_{i}.tif\"\n",
    "\n",
    "    # Lectura del archivo\n",
    "    with rasterio.open(tiff_path) as src:\n",
    "        # Lectura del archivo\n",
    "        raster_data = src.read(1) # Creo que aqui se selecciona la banda de la imagen, hay que confirmar\n",
    "\n",
    "        fig, ax = plt.subplots(figsize=(8, 6))\n",
    "\n",
    "        # Plot del raster con la paleta personalizada y escala fija\n",
    "        img = ax.imshow(raster_data, cmap=cmap, norm=norm)\n",
    "\n",
    "        # Añadir una barra de colores (leyenda de NDVI)\n",
    "        cbar = fig.colorbar(img, ax=ax)\n",
    "        cbar.set_label('NDVI Value')\n",
    "\n",
    "        # -------------------------------------------------\n",
    "        # AÑADIR LA BARRA DE ESCALA (ScaleBar)\n",
    "        # -------------------------------------------------\n",
    "        # (1) Obtener la resolución de pixel (asumiendo un CRS en metros, por ejemplo UTM)\n",
    "        pixel_size_x = abs(src.transform[0])  # tamaño de pixel en X (ej. metros)\n",
    "\n",
    "        # (2) Crear y añadir la ScaleBar\n",
    "        scalebar = ScaleBar(\n",
    "            pixel_size_x,\n",
    "            units='m',         # 'm' para metros, 'km' si desea kilómetros\n",
    "            location='lower left',  # use espacio, no subrayado (p.ej. \"lower left\")\n",
    "            length_fraction=0.25    # porcentaje del ancho del eje que ocupa la scale bar\n",
    "        )\n",
    "        ax.add_artist(scalebar)\n",
    "\n",
    "        # Quitar los valores de los ejes X e Y\n",
    "        ax.set_xticks([])\n",
    "        ax.set_yticks([])\n",
    "        ax.set_xlabel('')\n",
    "        ax.set_ylabel('')\n",
    "\n",
    "        # Añadir título\n",
    "        ax.set_title(f\"NDVI Map {i}\")\n",
    "\n",
    "        # Guardar la figura en un archivo .png\n",
    "        fig.savefig(direction + f\"/data/07_model_output/Sentinel/NDVI/static maps/NDVI_{i}.png\")\n",
    "\n",
    "        # Cerrar la figura para no mostrarla en pantalla\n",
    "        plt.close(fig)"
   ],
   "id": "be0158c46012487d",
   "outputs": [
    {
     "data": {
      "text/plain": [
       "<IPython.core.display.HTML object>"
      ],
      "text/html": [
       "\n",
       "            <style>\n",
       "                .geemap-dark {\n",
       "                    --jp-widgets-color: white;\n",
       "                    --jp-widgets-label-color: white;\n",
       "                    --jp-ui-font-color1: white;\n",
       "                    --jp-layout-color2: #454545;\n",
       "                    background-color: #383838;\n",
       "                }\n",
       "\n",
       "                .geemap-dark .jupyter-button {\n",
       "                    --jp-layout-color3: #383838;\n",
       "                }\n",
       "\n",
       "                .geemap-colab {\n",
       "                    background-color: var(--colab-primary-surface-color, white);\n",
       "                }\n",
       "\n",
       "                .geemap-colab .jupyter-button {\n",
       "                    --jp-layout-color3: var(--colab-primary-surface-color, white);\n",
       "                }\n",
       "            </style>\n",
       "            "
      ]
     },
     "metadata": {},
     "output_type": "display_data"
    },
    {
     "name": "stdout",
     "output_type": "stream",
     "text": [
      "Image_2024-10-04 00:00:00\n",
      "Image_2024-10-14 00:00:00\n",
      "Image_2024-10-19 00:00:00\n",
      "Image_2024-10-24 00:00:00\n",
      "Image_2024-10-29 00:00:00\n",
      "Image_2024-11-03 00:00:00\n",
      "Image_2024-11-08 00:00:00\n",
      "Image_2024-11-13 00:00:00\n",
      "Image_2024-11-18 00:00:00\n",
      "Image_2024-11-23 00:00:00\n",
      "Image_2024-11-28 00:00:00\n",
      "Image_2024-12-03 00:00:00\n",
      "Image_2024-12-18 00:00:00\n",
      "Image_2024-12-23 00:00:00\n",
      "Image_2024-12-28 00:00:00\n",
      "Image_2025-01-02 00:00:00\n"
     ]
    }
   ],
   "execution_count": 8
  },
  {
   "metadata": {
    "ExecuteTime": {
     "end_time": "2025-01-31T22:15:04.003907Z",
     "start_time": "2025-01-31T22:15:04.000110Z"
    }
   },
   "cell_type": "code",
   "source": "pixel_size_x",
   "id": "a260ae4fc577bacb",
   "outputs": [
    {
     "data": {
      "text/plain": [
       "<IPython.core.display.HTML object>"
      ],
      "text/html": [
       "\n",
       "            <style>\n",
       "                .geemap-dark {\n",
       "                    --jp-widgets-color: white;\n",
       "                    --jp-widgets-label-color: white;\n",
       "                    --jp-ui-font-color1: white;\n",
       "                    --jp-layout-color2: #454545;\n",
       "                    background-color: #383838;\n",
       "                }\n",
       "\n",
       "                .geemap-dark .jupyter-button {\n",
       "                    --jp-layout-color3: #383838;\n",
       "                }\n",
       "\n",
       "                .geemap-colab {\n",
       "                    background-color: var(--colab-primary-surface-color, white);\n",
       "                }\n",
       "\n",
       "                .geemap-colab .jupyter-button {\n",
       "                    --jp-layout-color3: var(--colab-primary-surface-color, white);\n",
       "                }\n",
       "            </style>\n",
       "            "
      ]
     },
     "metadata": {},
     "output_type": "display_data"
    },
    {
     "data": {
      "text/plain": [
       "10.0"
      ]
     },
     "execution_count": 9,
     "metadata": {},
     "output_type": "execute_result"
    }
   ],
   "execution_count": 9
  },
  {
   "cell_type": "markdown",
   "id": "7b2c665a-0fef-4b2a-97c4-a1a53b0931c1",
   "metadata": {},
   "source": [
    "Referencia de como añadir elementos a los mapas:\n",
    "\n",
    "https://www.youtube.com/watch?v=qiKns09X1Ao"
   ]
  },
  {
   "cell_type": "code",
   "id": "668f532e-8ea1-470a-b447-d4050b0d568f",
   "metadata": {
    "ExecuteTime": {
     "end_time": "2025-01-31T22:15:04.022918Z",
     "start_time": "2025-01-31T22:15:04.019612Z"
    }
   },
   "source": [
    "## PENDIENTE : Establecer rangos de salud y hacer mas bien la visualizacion de manera categorica.\n",
    "pendiente = \"RANGOS DE SALUD\" # Profundizar en lo que se muestra en la sigueinte imagen\n",
    "\n",
    "\n",
    "### IMPORTANTE: Esta seccion va tener que tener sus categorias de valores por tipo de cultivo por semana!!!, ahorita lo voy a simplificar y lo dejare de manera generica de todo el año."
   ],
   "outputs": [
    {
     "data": {
      "text/plain": [
       "<IPython.core.display.HTML object>"
      ],
      "text/html": [
       "\n",
       "            <style>\n",
       "                .geemap-dark {\n",
       "                    --jp-widgets-color: white;\n",
       "                    --jp-widgets-label-color: white;\n",
       "                    --jp-ui-font-color1: white;\n",
       "                    --jp-layout-color2: #454545;\n",
       "                    background-color: #383838;\n",
       "                }\n",
       "\n",
       "                .geemap-dark .jupyter-button {\n",
       "                    --jp-layout-color3: #383838;\n",
       "                }\n",
       "\n",
       "                .geemap-colab {\n",
       "                    background-color: var(--colab-primary-surface-color, white);\n",
       "                }\n",
       "\n",
       "                .geemap-colab .jupyter-button {\n",
       "                    --jp-layout-color3: var(--colab-primary-surface-color, white);\n",
       "                }\n",
       "            </style>\n",
       "            "
      ]
     },
     "metadata": {},
     "output_type": "display_data"
    }
   ],
   "execution_count": 10
  },
  {
   "metadata": {},
   "cell_type": "markdown",
   "source": [
    "<div style=\"text-align: center;\">\n",
    "    <img src=\"Images/NDVI_categories.png\" alt=\"Descripción de la imagen\" width=\"500\">\n",
    "</div>\n"
   ],
   "id": "4b91225e4466409c"
  },
  {
   "cell_type": "markdown",
   "id": "cba1996f638e4200",
   "metadata": {},
   "source": [
    "### 2.2)  NVDI promedio en el tiempo \n",
    "Para poder generar un scatter plot de los niveles de NVDI en la imagen a traves del tiempo hay que hacer un calculo de agregación (en este caso un promedio) de los valores de NVDI de los pixeles en cada imagen  y asociarlas"
   ]
  },
  {
   "cell_type": "code",
   "id": "451b59ec8938daff",
   "metadata": {
    "ExecuteTime": {
     "end_time": "2025-01-31T22:15:11.725432Z",
     "start_time": "2025-01-31T22:15:04.041273Z"
    }
   },
   "source": [
    "# Obtengo las llaves del diccionario \n",
    "keys  =  list(images_dic.keys()) # Recordemos que estas imagenes ya solo contienen la banda (indice de NVDI) calculado\n",
    "    # Adicionalmente, recordemos que no se van a estar leyendo  las imagenes del diccionario, dado que ahí estaríua lamacenando los datos localmente. Cada vez que vaya a utilizarf las imagenes resultantres hay que leerlas irectamente dede GCP.\n",
    "\n",
    "# Almacenamiento de la media del NVDI \n",
    "nvdi_values ={}\n",
    "\n",
    "for i in keys:\n",
    "    # Extracción de la imagen \n",
    "    ndvi_image = images_dic[i]\n",
    "    \n",
    "    # Calculo de la media de NVDI de toda la imagen \n",
    "    # Calculate mean using reduceRegion\n",
    "    mean = ndvi_image.reduceRegion(\n",
    "        reducer=ee.Reducer.mean(),\n",
    "        scale=10,  # Pixel resolution (meters)\n",
    "        maxPixels=1e9 # Esto es importante, es el número maximo de pixeles que se usarán para el cálculo \n",
    "    )\n",
    "    # Esto es un ee diccionary \n",
    "    # The result is a earth engine diccionary, it is neccesary. In order to do this is neccesary to use the function get info()\n",
    "    mean = mean.getInfo() # This returns a python dictionary\n",
    "    \n",
    "    # Almacenamiento de los resultados \n",
    "    nvdi_values[i] = mean[\"NDVI\"] # Esta es la llave del diccionario"
   ],
   "outputs": [
    {
     "data": {
      "text/plain": [
       "<IPython.core.display.HTML object>"
      ],
      "text/html": [
       "\n",
       "            <style>\n",
       "                .geemap-dark {\n",
       "                    --jp-widgets-color: white;\n",
       "                    --jp-widgets-label-color: white;\n",
       "                    --jp-ui-font-color1: white;\n",
       "                    --jp-layout-color2: #454545;\n",
       "                    background-color: #383838;\n",
       "                }\n",
       "\n",
       "                .geemap-dark .jupyter-button {\n",
       "                    --jp-layout-color3: #383838;\n",
       "                }\n",
       "\n",
       "                .geemap-colab {\n",
       "                    background-color: var(--colab-primary-surface-color, white);\n",
       "                }\n",
       "\n",
       "                .geemap-colab .jupyter-button {\n",
       "                    --jp-layout-color3: var(--colab-primary-surface-color, white);\n",
       "                }\n",
       "            </style>\n",
       "            "
      ]
     },
     "metadata": {},
     "output_type": "display_data"
    }
   ],
   "execution_count": 11
  },
  {
   "cell_type": "markdown",
   "id": "d459726f9ace5a34",
   "metadata": {},
   "source": [
    "**RESULTADOS EN UN PANDAS DF**"
   ]
  },
  {
   "cell_type": "code",
   "id": "fcbcba52f0555e36",
   "metadata": {
    "ExecuteTime": {
     "end_time": "2025-01-31T22:15:11.763133Z",
     "start_time": "2025-01-31T22:15:11.755126Z"
    }
   },
   "source": [
    "# Convertimos los resultados a un pandas DF \n",
    "ndvi_mean_data = pd.DataFrame(list(nvdi_values.items()), columns =[\"Date\", \"NDVI\"])\n",
    "ndvi_mean_data"
   ],
   "outputs": [
    {
     "data": {
      "text/plain": [
       "<IPython.core.display.HTML object>"
      ],
      "text/html": [
       "\n",
       "            <style>\n",
       "                .geemap-dark {\n",
       "                    --jp-widgets-color: white;\n",
       "                    --jp-widgets-label-color: white;\n",
       "                    --jp-ui-font-color1: white;\n",
       "                    --jp-layout-color2: #454545;\n",
       "                    background-color: #383838;\n",
       "                }\n",
       "\n",
       "                .geemap-dark .jupyter-button {\n",
       "                    --jp-layout-color3: #383838;\n",
       "                }\n",
       "\n",
       "                .geemap-colab {\n",
       "                    background-color: var(--colab-primary-surface-color, white);\n",
       "                }\n",
       "\n",
       "                .geemap-colab .jupyter-button {\n",
       "                    --jp-layout-color3: var(--colab-primary-surface-color, white);\n",
       "                }\n",
       "            </style>\n",
       "            "
      ]
     },
     "metadata": {},
     "output_type": "display_data"
    },
    {
     "data": {
      "text/plain": [
       "                         Date      NDVI\n",
       "0   Image_2024-10-04 00:00:00  0.136826\n",
       "1   Image_2024-10-14 00:00:00  0.096483\n",
       "2   Image_2024-10-19 00:00:00  0.118031\n",
       "3   Image_2024-10-24 00:00:00  0.105557\n",
       "4   Image_2024-10-29 00:00:00  0.109834\n",
       "5   Image_2024-11-03 00:00:00  0.114662\n",
       "6   Image_2024-11-08 00:00:00  0.111058\n",
       "7   Image_2024-11-13 00:00:00  0.120712\n",
       "8   Image_2024-11-18 00:00:00  0.121351\n",
       "9   Image_2024-11-23 00:00:00  0.112846\n",
       "10  Image_2024-11-28 00:00:00  0.128696\n",
       "11  Image_2024-12-03 00:00:00  0.136358\n",
       "12  Image_2024-12-18 00:00:00  0.163830\n",
       "13  Image_2024-12-23 00:00:00  0.175521\n",
       "14  Image_2024-12-28 00:00:00  0.197217\n",
       "15  Image_2025-01-02 00:00:00  0.204375"
      ],
      "text/html": [
       "<div>\n",
       "<style scoped>\n",
       "    .dataframe tbody tr th:only-of-type {\n",
       "        vertical-align: middle;\n",
       "    }\n",
       "\n",
       "    .dataframe tbody tr th {\n",
       "        vertical-align: top;\n",
       "    }\n",
       "\n",
       "    .dataframe thead th {\n",
       "        text-align: right;\n",
       "    }\n",
       "</style>\n",
       "<table border=\"1\" class=\"dataframe\">\n",
       "  <thead>\n",
       "    <tr style=\"text-align: right;\">\n",
       "      <th></th>\n",
       "      <th>Date</th>\n",
       "      <th>NDVI</th>\n",
       "    </tr>\n",
       "  </thead>\n",
       "  <tbody>\n",
       "    <tr>\n",
       "      <th>0</th>\n",
       "      <td>Image_2024-10-04 00:00:00</td>\n",
       "      <td>0.136826</td>\n",
       "    </tr>\n",
       "    <tr>\n",
       "      <th>1</th>\n",
       "      <td>Image_2024-10-14 00:00:00</td>\n",
       "      <td>0.096483</td>\n",
       "    </tr>\n",
       "    <tr>\n",
       "      <th>2</th>\n",
       "      <td>Image_2024-10-19 00:00:00</td>\n",
       "      <td>0.118031</td>\n",
       "    </tr>\n",
       "    <tr>\n",
       "      <th>3</th>\n",
       "      <td>Image_2024-10-24 00:00:00</td>\n",
       "      <td>0.105557</td>\n",
       "    </tr>\n",
       "    <tr>\n",
       "      <th>4</th>\n",
       "      <td>Image_2024-10-29 00:00:00</td>\n",
       "      <td>0.109834</td>\n",
       "    </tr>\n",
       "    <tr>\n",
       "      <th>5</th>\n",
       "      <td>Image_2024-11-03 00:00:00</td>\n",
       "      <td>0.114662</td>\n",
       "    </tr>\n",
       "    <tr>\n",
       "      <th>6</th>\n",
       "      <td>Image_2024-11-08 00:00:00</td>\n",
       "      <td>0.111058</td>\n",
       "    </tr>\n",
       "    <tr>\n",
       "      <th>7</th>\n",
       "      <td>Image_2024-11-13 00:00:00</td>\n",
       "      <td>0.120712</td>\n",
       "    </tr>\n",
       "    <tr>\n",
       "      <th>8</th>\n",
       "      <td>Image_2024-11-18 00:00:00</td>\n",
       "      <td>0.121351</td>\n",
       "    </tr>\n",
       "    <tr>\n",
       "      <th>9</th>\n",
       "      <td>Image_2024-11-23 00:00:00</td>\n",
       "      <td>0.112846</td>\n",
       "    </tr>\n",
       "    <tr>\n",
       "      <th>10</th>\n",
       "      <td>Image_2024-11-28 00:00:00</td>\n",
       "      <td>0.128696</td>\n",
       "    </tr>\n",
       "    <tr>\n",
       "      <th>11</th>\n",
       "      <td>Image_2024-12-03 00:00:00</td>\n",
       "      <td>0.136358</td>\n",
       "    </tr>\n",
       "    <tr>\n",
       "      <th>12</th>\n",
       "      <td>Image_2024-12-18 00:00:00</td>\n",
       "      <td>0.163830</td>\n",
       "    </tr>\n",
       "    <tr>\n",
       "      <th>13</th>\n",
       "      <td>Image_2024-12-23 00:00:00</td>\n",
       "      <td>0.175521</td>\n",
       "    </tr>\n",
       "    <tr>\n",
       "      <th>14</th>\n",
       "      <td>Image_2024-12-28 00:00:00</td>\n",
       "      <td>0.197217</td>\n",
       "    </tr>\n",
       "    <tr>\n",
       "      <th>15</th>\n",
       "      <td>Image_2025-01-02 00:00:00</td>\n",
       "      <td>0.204375</td>\n",
       "    </tr>\n",
       "  </tbody>\n",
       "</table>\n",
       "</div>"
      ]
     },
     "execution_count": 12,
     "metadata": {},
     "output_type": "execute_result"
    }
   ],
   "execution_count": 12
  },
  {
   "cell_type": "markdown",
   "id": "8d4d7db0c8232dc",
   "metadata": {},
   "source": [
    "**VISUALIZACION EN EL TIEMPO**"
   ]
  },
  {
   "cell_type": "code",
   "id": "a9a0e10ffb884bd6",
   "metadata": {
    "ExecuteTime": {
     "end_time": "2025-01-31T22:16:31.447879Z",
     "start_time": "2025-01-31T22:16:31.382111Z"
    }
   },
   "source": [
    "# Crear el gráfico con Plotly\n",
    "fig = px.line(\n",
    "    data_frame=ndvi_mean_data, x='Date', y='NDVI',\n",
    "    markers=True,\n",
    "    title='NDVI Over Time',\n",
    "    labels={'Date': 'Date', 'NDVI': 'NDVI Value'}\n",
    ")\n",
    "\n",
    "# Mostrar el gráfico\n",
    "#fig.show()"
   ],
   "outputs": [
    {
     "data": {
      "text/plain": [
       "<IPython.core.display.HTML object>"
      ],
      "text/html": [
       "\n",
       "            <style>\n",
       "                .geemap-dark {\n",
       "                    --jp-widgets-color: white;\n",
       "                    --jp-widgets-label-color: white;\n",
       "                    --jp-ui-font-color1: white;\n",
       "                    --jp-layout-color2: #454545;\n",
       "                    background-color: #383838;\n",
       "                }\n",
       "\n",
       "                .geemap-dark .jupyter-button {\n",
       "                    --jp-layout-color3: #383838;\n",
       "                }\n",
       "\n",
       "                .geemap-colab {\n",
       "                    background-color: var(--colab-primary-surface-color, white);\n",
       "                }\n",
       "\n",
       "                .geemap-colab .jupyter-button {\n",
       "                    --jp-layout-color3: var(--colab-primary-surface-color, white);\n",
       "                }\n",
       "            </style>\n",
       "            "
      ]
     },
     "metadata": {},
     "output_type": "display_data"
    }
   ],
   "execution_count": 14
  },
  {
   "cell_type": "markdown",
   "id": "6609864c1637d837",
   "metadata": {},
   "source": [
    "## 4) Exportación\n",
    "Se exportará los resultados finales"
   ]
  },
  {
   "cell_type": "code",
   "id": "c71d913a1275cc45",
   "metadata": {
    "ExecuteTime": {
     "end_time": "2025-01-31T22:19:03.937495Z",
     "start_time": "2025-01-31T22:19:03.900803Z"
    }
   },
   "source": [
    "# Exportación de tabla promedio del NVDI del área de interes\n",
    "ndvi_mean_data.to_csv(path_or_buf=direction + \"/data/07_model_output/Sentinel/NDVI/Medias_NDVI.csv\", index=False)\n",
    "\n",
    "# Exportación del grafico\n",
    "fig.write_html(direction +\"/data/07_model_output/Sentinel/NDVI/NDVI_time.html\")"
   ],
   "outputs": [
    {
     "data": {
      "text/plain": [
       "<IPython.core.display.HTML object>"
      ],
      "text/html": [
       "\n",
       "            <style>\n",
       "                .geemap-dark {\n",
       "                    --jp-widgets-color: white;\n",
       "                    --jp-widgets-label-color: white;\n",
       "                    --jp-ui-font-color1: white;\n",
       "                    --jp-layout-color2: #454545;\n",
       "                    background-color: #383838;\n",
       "                }\n",
       "\n",
       "                .geemap-dark .jupyter-button {\n",
       "                    --jp-layout-color3: #383838;\n",
       "                }\n",
       "\n",
       "                .geemap-colab {\n",
       "                    background-color: var(--colab-primary-surface-color, white);\n",
       "                }\n",
       "\n",
       "                .geemap-colab .jupyter-button {\n",
       "                    --jp-layout-color3: var(--colab-primary-surface-color, white);\n",
       "                }\n",
       "            </style>\n",
       "            "
      ]
     },
     "metadata": {},
     "output_type": "display_data"
    }
   ],
   "execution_count": 16
  }
 ],
 "metadata": {
  "kernelspec": {
   "display_name": "Python 3 (ipykernel)",
   "language": "python",
   "name": "python3"
  },
  "language_info": {
   "codemirror_mode": {
    "name": "ipython",
    "version": 3
   },
   "file_extension": ".py",
   "mimetype": "text/x-python",
   "name": "python",
   "nbconvert_exporter": "python",
   "pygments_lexer": "ipython3",
   "version": "3.13.1"
  }
 },
 "nbformat": 4,
 "nbformat_minor": 5
}
