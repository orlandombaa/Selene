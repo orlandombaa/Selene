{
 "cells": [
  {
   "cell_type": "markdown",
   "id": "430944a7ca271618",
   "metadata": {},
   "source": [
    "# True Imagen Landsat\n",
    "\n",
    "**DESCRIBIR DE QUE VA EL NOTEBOOK** las bandas que serán utilizadas, el orden necesario, las longitudes de onda etc."
   ]
  },
  {
   "cell_type": "markdown",
   "id": "785d389c2cceaffb",
   "metadata": {},
   "source": [
    "**Importación de librerías**"
   ]
  },
  {
   "cell_type": "code",
   "id": "ceb9822dcba2b43e",
   "metadata": {
    "ExecuteTime": {
     "end_time": "2025-01-29T16:16:11.213079Z",
     "start_time": "2025-01-29T16:16:11.193003Z"
    }
   },
   "source": [
    "import ee\n",
    "import geemap\n",
    "import os\n",
    "import pandas as pd\n",
    "import json\n",
    "import requests\n",
    "import rasterio\n",
    "from matplotlib.colors import ListedColormap\n",
    "from matplotlib_scalebar.scalebar import ScaleBar  # <-- for the scale bar\n",
    "import matplotlib.pyplot as plt\n",
    "import numpy as np"
   ],
   "outputs": [
    {
     "data": {
      "text/plain": [
       "<IPython.core.display.HTML object>"
      ],
      "text/html": [
       "\n",
       "            <style>\n",
       "                .geemap-dark {\n",
       "                    --jp-widgets-color: white;\n",
       "                    --jp-widgets-label-color: white;\n",
       "                    --jp-ui-font-color1: white;\n",
       "                    --jp-layout-color2: #454545;\n",
       "                    background-color: #383838;\n",
       "                }\n",
       "\n",
       "                .geemap-dark .jupyter-button {\n",
       "                    --jp-layout-color3: #383838;\n",
       "                }\n",
       "\n",
       "                .geemap-colab {\n",
       "                    background-color: var(--colab-primary-surface-color, white);\n",
       "                }\n",
       "\n",
       "                .geemap-colab .jupyter-button {\n",
       "                    --jp-layout-color3: var(--colab-primary-surface-color, white);\n",
       "                }\n",
       "            </style>\n",
       "            "
      ]
     },
     "metadata": {},
     "output_type": "display_data"
    }
   ],
   "execution_count": 19
  },
  {
   "cell_type": "markdown",
   "id": "7f6d5b87b6228a9d",
   "metadata": {},
   "source": [
    "## 1) Autentificación\n"
   ]
  },
  {
   "cell_type": "code",
   "execution_count": 2,
   "id": "9eef4a03c5b32345",
   "metadata": {
    "ExecuteTime": {
     "end_time": "2025-01-29T04:35:03.899811Z",
     "start_time": "2025-01-29T04:35:03.371945Z"
    }
   },
   "outputs": [
    {
     "data": {
      "text/html": [
       "\n",
       "            <style>\n",
       "                .geemap-dark {\n",
       "                    --jp-widgets-color: white;\n",
       "                    --jp-widgets-label-color: white;\n",
       "                    --jp-ui-font-color1: white;\n",
       "                    --jp-layout-color2: #454545;\n",
       "                    background-color: #383838;\n",
       "                }\n",
       "\n",
       "                .geemap-dark .jupyter-button {\n",
       "                    --jp-layout-color3: #383838;\n",
       "                }\n",
       "\n",
       "                .geemap-colab {\n",
       "                    background-color: var(--colab-primary-surface-color, white);\n",
       "                }\n",
       "\n",
       "                .geemap-colab .jupyter-button {\n",
       "                    --jp-layout-color3: var(--colab-primary-surface-color, white);\n",
       "                }\n",
       "            </style>\n",
       "            "
      ],
      "text/plain": [
       "<IPython.core.display.HTML object>"
      ]
     },
     "metadata": {},
     "output_type": "display_data"
    },
    {
     "name": "stdout",
     "output_type": "stream",
     "text": [
      "Dirección del proyecto: /Users/orlandoandrade/Documents/Negocios/Satelites/selene\n"
     ]
    }
   ],
   "source": [
    "# 1) Obtención de la dirección de trabajo\n",
    "direction = os.getcwd()\n",
    "\n",
    "# Remove the last part of the path\n",
    "direction = os.path.dirname(direction)\n",
    "\n",
    "print(\"Dirección del proyecto:\", direction)\n",
    "\n",
    "# Dirección de la llave\n",
    "service_account = direction + '/conf/local/gcp-for-data-science-397913-4fd843feede1.json'\n",
    "\n",
    "# Autentificación\n",
    "credentials = ee.ServiceAccountCredentials(email=None, key_file=service_account)\n",
    "ee.Initialize(credentials)"
   ]
  },
  {
   "cell_type": "markdown",
   "id": "5b3b0a43259989b6",
   "metadata": {},
   "source": [
    "## 2) Importación de datos\n"
   ]
  },
  {
   "cell_type": "markdown",
   "id": "321306505698abf",
   "metadata": {},
   "source": [
    "**NOMBRES DE LAS IMAGENES BASEP**"
   ]
  },
  {
   "cell_type": "code",
   "execution_count": 3,
   "id": "42004149e787824b",
   "metadata": {
    "ExecuteTime": {
     "end_time": "2025-01-29T04:43:27.737499Z",
     "start_time": "2025-01-29T04:43:27.687733Z"
    }
   },
   "outputs": [
    {
     "data": {
      "text/html": [
       "\n",
       "            <style>\n",
       "                .geemap-dark {\n",
       "                    --jp-widgets-color: white;\n",
       "                    --jp-widgets-label-color: white;\n",
       "                    --jp-ui-font-color1: white;\n",
       "                    --jp-layout-color2: #454545;\n",
       "                    background-color: #383838;\n",
       "                }\n",
       "\n",
       "                .geemap-dark .jupyter-button {\n",
       "                    --jp-layout-color3: #383838;\n",
       "                }\n",
       "\n",
       "                .geemap-colab {\n",
       "                    background-color: var(--colab-primary-surface-color, white);\n",
       "                }\n",
       "\n",
       "                .geemap-colab .jupyter-button {\n",
       "                    --jp-layout-color3: var(--colab-primary-surface-color, white);\n",
       "                }\n",
       "            </style>\n",
       "            "
      ],
      "text/plain": [
       "<IPython.core.display.HTML object>"
      ]
     },
     "metadata": {},
     "output_type": "display_data"
    },
    {
     "name": "stdout",
     "output_type": "stream",
     "text": [
      "Total de imagenes: 16\n"
     ]
    },
    {
     "data": {
      "text/html": [
       "<div>\n",
       "<style scoped>\n",
       "    .dataframe tbody tr th:only-of-type {\n",
       "        vertical-align: middle;\n",
       "    }\n",
       "\n",
       "    .dataframe tbody tr th {\n",
       "        vertical-align: top;\n",
       "    }\n",
       "\n",
       "    .dataframe thead th {\n",
       "        text-align: right;\n",
       "    }\n",
       "</style>\n",
       "<table border=\"1\" class=\"dataframe\">\n",
       "  <thead>\n",
       "    <tr style=\"text-align: right;\">\n",
       "      <th></th>\n",
       "      <th>Images names</th>\n",
       "    </tr>\n",
       "  </thead>\n",
       "  <tbody>\n",
       "    <tr>\n",
       "      <th>0</th>\n",
       "      <td>Image_2024-10-04 00:00:00</td>\n",
       "    </tr>\n",
       "    <tr>\n",
       "      <th>1</th>\n",
       "      <td>Image_2024-10-14 00:00:00</td>\n",
       "    </tr>\n",
       "    <tr>\n",
       "      <th>2</th>\n",
       "      <td>Image_2024-10-19 00:00:00</td>\n",
       "    </tr>\n",
       "    <tr>\n",
       "      <th>3</th>\n",
       "      <td>Image_2024-10-24 00:00:00</td>\n",
       "    </tr>\n",
       "  </tbody>\n",
       "</table>\n",
       "</div>"
      ],
      "text/plain": [
       "                Images names\n",
       "0  Image_2024-10-04 00:00:00\n",
       "1  Image_2024-10-14 00:00:00\n",
       "2  Image_2024-10-19 00:00:00\n",
       "3  Image_2024-10-24 00:00:00"
      ]
     },
     "execution_count": 3,
     "metadata": {},
     "output_type": "execute_result"
    }
   ],
   "source": [
    "images_names = pd.read_csv(filepath_or_buffer=direction + \"/data/02_intermediate/sentinel_images_names.csv\")\n",
    "print(\"Total de imagenes:\", len(images_names))\n",
    "images_names.head(n=4)"
   ]
  },
  {
   "cell_type": "markdown",
   "id": "2e900aaa4440d022",
   "metadata": {},
   "source": [
    "**LECTURA DEL AREA DE INTERES (AOI)**"
   ]
  },
  {
   "cell_type": "code",
   "execution_count": 4,
   "id": "1984b67616aa21ac",
   "metadata": {
    "ExecuteTime": {
     "end_time": "2025-01-29T04:44:13.619612Z",
     "start_time": "2025-01-29T04:44:13.609353Z"
    }
   },
   "outputs": [
    {
     "data": {
      "text/html": [
       "\n",
       "            <style>\n",
       "                .geemap-dark {\n",
       "                    --jp-widgets-color: white;\n",
       "                    --jp-widgets-label-color: white;\n",
       "                    --jp-ui-font-color1: white;\n",
       "                    --jp-layout-color2: #454545;\n",
       "                    background-color: #383838;\n",
       "                }\n",
       "\n",
       "                .geemap-dark .jupyter-button {\n",
       "                    --jp-layout-color3: #383838;\n",
       "                }\n",
       "\n",
       "                .geemap-colab {\n",
       "                    background-color: var(--colab-primary-surface-color, white);\n",
       "                }\n",
       "\n",
       "                .geemap-colab .jupyter-button {\n",
       "                    --jp-layout-color3: var(--colab-primary-surface-color, white);\n",
       "                }\n",
       "            </style>\n",
       "            "
      ],
      "text/plain": [
       "<IPython.core.display.HTML object>"
      ]
     },
     "metadata": {},
     "output_type": "display_data"
    }
   ],
   "source": [
    "# Dirección\n",
    "geojson_file =  direction + \"/data/01_raw/AOI.geojson\" # Creo que esta sección no es necesria aqui\n",
    "\n",
    "# Step 1: Load the GeoJSON file\n",
    "with open(geojson_file, \"r\") as f:\n",
    "    geojson_data = json.load(f)"
   ]
  },
  {
   "cell_type": "markdown",
   "id": "8196aac8a5e83dc",
   "metadata": {},
   "source": [
    "**Convertilor a una geometria de earth engine**\n"
   ]
  },
  {
   "cell_type": "code",
   "execution_count": 5,
   "id": "ae4271d21e48f9b9",
   "metadata": {
    "ExecuteTime": {
     "end_time": "2025-01-29T04:45:21.581788Z",
     "start_time": "2025-01-29T04:45:21.561779Z"
    }
   },
   "outputs": [
    {
     "data": {
      "text/html": [
       "\n",
       "            <style>\n",
       "                .geemap-dark {\n",
       "                    --jp-widgets-color: white;\n",
       "                    --jp-widgets-label-color: white;\n",
       "                    --jp-ui-font-color1: white;\n",
       "                    --jp-layout-color2: #454545;\n",
       "                    background-color: #383838;\n",
       "                }\n",
       "\n",
       "                .geemap-dark .jupyter-button {\n",
       "                    --jp-layout-color3: #383838;\n",
       "                }\n",
       "\n",
       "                .geemap-colab {\n",
       "                    background-color: var(--colab-primary-surface-color, white);\n",
       "                }\n",
       "\n",
       "                .geemap-colab .jupyter-button {\n",
       "                    --jp-layout-color3: var(--colab-primary-surface-color, white);\n",
       "                }\n",
       "            </style>\n",
       "            "
      ],
      "text/plain": [
       "<IPython.core.display.HTML object>"
      ]
     },
     "metadata": {},
     "output_type": "display_data"
    },
    {
     "data": {
      "text/plain": [
       "ee.geometry.Geometry"
      ]
     },
     "execution_count": 5,
     "metadata": {},
     "output_type": "execute_result"
    }
   ],
   "source": [
    "area_interest = ee.Geometry(geojson_data) # Creo que esta sección no es ya necesaria aqui\n",
    "type(area_interest)"
   ]
  },
  {
   "cell_type": "markdown",
   "id": "19ea389aabf9db37",
   "metadata": {},
   "source": [
    "## 3) Procesamiento\n"
   ]
  },
  {
   "cell_type": "markdown",
   "id": "bcc42838cf2e88a6",
   "metadata": {},
   "source": [
    "**CREACION DEL MAPA WEB BASE**\n",
    "\n",
    "Se utilizara para inspeccionar las imagenes"
   ]
  },
  {
   "cell_type": "markdown",
   "id": "9f226060196ab7d3",
   "metadata": {},
   "source": [
    "### 3.1) Generación de imagenes reales"
   ]
  },
  {
   "cell_type": "code",
   "id": "a6fa95a21d34636a",
   "metadata": {
    "ExecuteTime": {
     "end_time": "2025-01-29T16:27:31.706993Z",
     "start_time": "2025-01-29T16:27:06.983956Z"
    }
   },
   "source": [
    "# diccionario de imagenes, se usara para el almacenamiento de los resultados\n",
    "images_dic = {}\n",
    "\n",
    "# Creación del mapa web base\n",
    "# Create a map using geemap\n",
    "Map = geemap.Map(zoom=10) # Tengo que ponerle algún centroide para iniciar más cercano en el área de interés\n",
    "\n",
    "# 1) Inicio del ciclo\n",
    "for i in images_names[\"Images names\"]:\n",
    "\n",
    "    # 1.1) Path to the image in the GCS bucket\n",
    "    gcs_path = f'gs://earth_engine_selene/sentinel2/Row_Data/{i}.tif' # Crear más bien un GCP path base\n",
    "\n",
    "    # 1.2) Load the image from the GCS bucket\n",
    "    image = ee.Image.loadGeoTIFF(gcs_path)\n",
    "\n",
    "    # 1.3) Selección de las bandas necesrias\n",
    "    true_color = image.select(selectors=[\"B4\", \"B3\", \"B2\"])\n",
    "\n",
    "    # 1.4) Define visualization parameters\n",
    "    vis_params = {\n",
    "        \"min\": 0,\n",
    "        \"max\": 3000,\n",
    "        \"bands\": [\"B4\", \"B3\", \"B2\"]}\n",
    "\n",
    "    # 1.5) Integración de la imagen a un mapa interactivo\n",
    "    Map.addLayer(ee_object=true_color, vis_params= vis_params,\n",
    "               name=f\"Sentinel-2 True Color {i}\",\n",
    "               shown=False)\n",
    "\n",
    "    # 1.6) Obtección del URL de la  imagen real (la descargaremos como PNG)\n",
    "    url = true_color.getThumbURL(vis_params)\n",
    "\n",
    "    # 1.7) Exportación de la imagen a PNG\n",
    "    # Download the image and save it locally\n",
    "    output_file = direction + f\"/data/07_model_output/Sentinel/RealImage/True_color {i}.png\"\n",
    "    response = requests.get(url=url)\n",
    "    if response.status_code == 200:\n",
    "        with open(file=output_file, mode='wb') as f: #string \"output_file\" para exportar en esa direccion la imagen\n",
    "            f.write(response.content) # Esto es lo que exportara que es el contenido de la respuesta, la imagen\n",
    "        print(f\"Image successfully downloaded as '{output_file}'\")\n",
    "    else:\n",
    "        print(f\"Error: Unable to download the image. HTTP status code {response.status_code}\")\n",
    "\n",
    "    # 1.8) Exportacióm de las imagenes reales a GCP\n",
    "    # Indicamos la tarea de exportacion\n",
    "    task = ee.batch.Export.image.toCloudStorage(\n",
    "    image=true_color,\n",
    "    #description=f\"Export\", # Este es el nombre del archivo que se exportara , si vas a usar el filenameprexi no es necesario esto\n",
    "    bucket='earth_engine_selene',  # Cambia esto al nombre de tu bucket\n",
    "    fileNamePrefix=f\"sentinel2/True_Color/True_Color {i}\", # Damos una dirección dentro del bucket y le damos nombre\n",
    "    scale=10,  # Resolución en metros\n",
    "    fileFormat='GeoTIFF')  # Formato de archivo\n",
    "\n",
    "    # Inicio de la exportación\n",
    "    task.start()  # Inicia la tarea de exportación\n",
    "    print(\"Se exportó correctamente la imagen a Cloud Storage:\", i)\n",
    "\n",
    "# Exportación del HTML\n",
    "html_file = direction + \"/data/07_model_output/Sentinel/RealImage/True_color_Map.html\"\n",
    "Map.to_html(filename=html_file, title=\"True color image\", width=\"100%\", height=\"880px\") # Exporacion a una html"
   ],
   "outputs": [
    {
     "data": {
      "text/plain": [
       "<IPython.core.display.HTML object>"
      ],
      "text/html": [
       "\n",
       "            <style>\n",
       "                .geemap-dark {\n",
       "                    --jp-widgets-color: white;\n",
       "                    --jp-widgets-label-color: white;\n",
       "                    --jp-ui-font-color1: white;\n",
       "                    --jp-layout-color2: #454545;\n",
       "                    background-color: #383838;\n",
       "                }\n",
       "\n",
       "                .geemap-dark .jupyter-button {\n",
       "                    --jp-layout-color3: #383838;\n",
       "                }\n",
       "\n",
       "                .geemap-colab {\n",
       "                    background-color: var(--colab-primary-surface-color, white);\n",
       "                }\n",
       "\n",
       "                .geemap-colab .jupyter-button {\n",
       "                    --jp-layout-color3: var(--colab-primary-surface-color, white);\n",
       "                }\n",
       "            </style>\n",
       "            "
      ]
     },
     "metadata": {},
     "output_type": "display_data"
    },
    {
     "name": "stdout",
     "output_type": "stream",
     "text": [
      "Image successfully downloaded as '/Users/orlandoandrade/Documents/Negocios/Satelites/selene/data/07_model_output/Sentinel/RealImage/True_color Image_2024-10-04 00:00:00.png'\n",
      "Se exportó correctamente la imagen a Cloud Storage: Image_2024-10-04 00:00:00\n",
      "Image successfully downloaded as '/Users/orlandoandrade/Documents/Negocios/Satelites/selene/data/07_model_output/Sentinel/RealImage/True_color Image_2024-10-14 00:00:00.png'\n",
      "Se exportó correctamente la imagen a Cloud Storage: Image_2024-10-14 00:00:00\n",
      "Image successfully downloaded as '/Users/orlandoandrade/Documents/Negocios/Satelites/selene/data/07_model_output/Sentinel/RealImage/True_color Image_2024-10-19 00:00:00.png'\n",
      "Se exportó correctamente la imagen a Cloud Storage: Image_2024-10-19 00:00:00\n",
      "Image successfully downloaded as '/Users/orlandoandrade/Documents/Negocios/Satelites/selene/data/07_model_output/Sentinel/RealImage/True_color Image_2024-10-24 00:00:00.png'\n",
      "Se exportó correctamente la imagen a Cloud Storage: Image_2024-10-24 00:00:00\n",
      "Image successfully downloaded as '/Users/orlandoandrade/Documents/Negocios/Satelites/selene/data/07_model_output/Sentinel/RealImage/True_color Image_2024-10-29 00:00:00.png'\n",
      "Se exportó correctamente la imagen a Cloud Storage: Image_2024-10-29 00:00:00\n",
      "Image successfully downloaded as '/Users/orlandoandrade/Documents/Negocios/Satelites/selene/data/07_model_output/Sentinel/RealImage/True_color Image_2024-11-03 00:00:00.png'\n",
      "Se exportó correctamente la imagen a Cloud Storage: Image_2024-11-03 00:00:00\n",
      "Image successfully downloaded as '/Users/orlandoandrade/Documents/Negocios/Satelites/selene/data/07_model_output/Sentinel/RealImage/True_color Image_2024-11-08 00:00:00.png'\n",
      "Se exportó correctamente la imagen a Cloud Storage: Image_2024-11-08 00:00:00\n",
      "Image successfully downloaded as '/Users/orlandoandrade/Documents/Negocios/Satelites/selene/data/07_model_output/Sentinel/RealImage/True_color Image_2024-11-13 00:00:00.png'\n",
      "Se exportó correctamente la imagen a Cloud Storage: Image_2024-11-13 00:00:00\n",
      "Image successfully downloaded as '/Users/orlandoandrade/Documents/Negocios/Satelites/selene/data/07_model_output/Sentinel/RealImage/True_color Image_2024-11-18 00:00:00.png'\n",
      "Se exportó correctamente la imagen a Cloud Storage: Image_2024-11-18 00:00:00\n",
      "Image successfully downloaded as '/Users/orlandoandrade/Documents/Negocios/Satelites/selene/data/07_model_output/Sentinel/RealImage/True_color Image_2024-11-23 00:00:00.png'\n",
      "Se exportó correctamente la imagen a Cloud Storage: Image_2024-11-23 00:00:00\n",
      "Image successfully downloaded as '/Users/orlandoandrade/Documents/Negocios/Satelites/selene/data/07_model_output/Sentinel/RealImage/True_color Image_2024-11-28 00:00:00.png'\n",
      "Se exportó correctamente la imagen a Cloud Storage: Image_2024-11-28 00:00:00\n",
      "Image successfully downloaded as '/Users/orlandoandrade/Documents/Negocios/Satelites/selene/data/07_model_output/Sentinel/RealImage/True_color Image_2024-12-03 00:00:00.png'\n",
      "Se exportó correctamente la imagen a Cloud Storage: Image_2024-12-03 00:00:00\n",
      "Image successfully downloaded as '/Users/orlandoandrade/Documents/Negocios/Satelites/selene/data/07_model_output/Sentinel/RealImage/True_color Image_2024-12-18 00:00:00.png'\n",
      "Se exportó correctamente la imagen a Cloud Storage: Image_2024-12-18 00:00:00\n",
      "Image successfully downloaded as '/Users/orlandoandrade/Documents/Negocios/Satelites/selene/data/07_model_output/Sentinel/RealImage/True_color Image_2024-12-23 00:00:00.png'\n",
      "Se exportó correctamente la imagen a Cloud Storage: Image_2024-12-23 00:00:00\n",
      "Image successfully downloaded as '/Users/orlandoandrade/Documents/Negocios/Satelites/selene/data/07_model_output/Sentinel/RealImage/True_color Image_2024-12-28 00:00:00.png'\n",
      "Se exportó correctamente la imagen a Cloud Storage: Image_2024-12-28 00:00:00\n",
      "Image successfully downloaded as '/Users/orlandoandrade/Documents/Negocios/Satelites/selene/data/07_model_output/Sentinel/RealImage/True_color Image_2025-01-02 00:00:00.png'\n",
      "Se exportó correctamente la imagen a Cloud Storage: Image_2025-01-02 00:00:00\n"
     ]
    }
   ],
   "execution_count": 23
  },
  {
   "metadata": {},
   "cell_type": "markdown",
   "source": [
    "### 3.2) Porcesamiento de imagenes reales\n",
    "En este sección se integrarán aspectos adicionales a las imagenes como lo son título y escala"
   ],
   "id": "a13eb2f5a588fa55"
  },
  {
   "cell_type": "code",
   "id": "991dc54dc51a1b2f",
   "metadata": {
    "ExecuteTime": {
     "end_time": "2025-01-29T16:43:41.351675Z",
     "start_time": "2025-01-29T16:43:41.298332Z"
    }
   },
   "source": [
    "# Autentificacion , variables del sistema\n",
    "import os\n",
    "os.environ['GOOGLE_APPLICATION_CREDENTIALS'] =  service_account"
   ],
   "outputs": [
    {
     "data": {
      "text/plain": [
       "<IPython.core.display.HTML object>"
      ],
      "text/html": [
       "\n",
       "            <style>\n",
       "                .geemap-dark {\n",
       "                    --jp-widgets-color: white;\n",
       "                    --jp-widgets-label-color: white;\n",
       "                    --jp-ui-font-color1: white;\n",
       "                    --jp-layout-color2: #454545;\n",
       "                    background-color: #383838;\n",
       "                }\n",
       "\n",
       "                .geemap-dark .jupyter-button {\n",
       "                    --jp-layout-color3: #383838;\n",
       "                }\n",
       "\n",
       "                .geemap-colab {\n",
       "                    background-color: var(--colab-primary-surface-color, white);\n",
       "                }\n",
       "\n",
       "                .geemap-colab .jupyter-button {\n",
       "                    --jp-layout-color3: var(--colab-primary-surface-color, white);\n",
       "                }\n",
       "            </style>\n",
       "            "
      ]
     },
     "metadata": {},
     "output_type": "display_data"
    }
   ],
   "execution_count": 28
  },
  {
   "metadata": {
    "ExecuteTime": {
     "end_time": "2025-01-29T16:49:13.987157Z",
     "start_time": "2025-01-29T16:49:13.384279Z"
    }
   },
   "cell_type": "code",
   "source": [
    "import rasterio\n",
    "from rasterio.plot import show\n",
    "import matplotlib.pyplot as plt\n",
    "from matplotlib_scalebar.scalebar import ScaleBar  # For the scale bar\n",
    "\n",
    "# Loop through image names\n",
    "for i in images_names[\"Images names\"]:\n",
    "\n",
    "    true_color_path = f\"gs://earth_engine_selene/sentinel2/True_Color/True_Color {i}.tif\"\n",
    "\n",
    "    # Process True Color Image\n",
    "    with rasterio.open(true_color_path) as src:\n",
    "        raster_data = src.read([1, 2, 3])  # Assuming RGB bands\n",
    "        pixel_size_x = abs(src.transform[0])\n",
    "\n",
    "        fig, ax = plt.subplots(figsize=(8, 6))\n",
    "        img = show(raster_data, ax=ax)\n",
    "\n",
    "        scalebar = ScaleBar(pixel_size_x, units='m', location='lower left', length_fraction=0.25)\n",
    "        ax.add_artist(scalebar)\n",
    "\n",
    "        ax.set_xticks([])\n",
    "        ax.set_yticks([])\n",
    "        ax.set_xlabel('')\n",
    "        ax.set_ylabel('')\n",
    "        ax.set_title(f\"True Color Image {i}\")\n",
    "\n",
    "        fig.savefig(direction + f\"/data/07_model_output/Sentinel/RealImage/TrueColor_Procesado{i}.png\")\n",
    "        plt.close(fig)"
   ],
   "id": "9af7b8927ada82d0",
   "outputs": [
    {
     "data": {
      "text/plain": [
       "<IPython.core.display.HTML object>"
      ],
      "text/html": [
       "\n",
       "            <style>\n",
       "                .geemap-dark {\n",
       "                    --jp-widgets-color: white;\n",
       "                    --jp-widgets-label-color: white;\n",
       "                    --jp-ui-font-color1: white;\n",
       "                    --jp-layout-color2: #454545;\n",
       "                    background-color: #383838;\n",
       "                }\n",
       "\n",
       "                .geemap-dark .jupyter-button {\n",
       "                    --jp-layout-color3: #383838;\n",
       "                }\n",
       "\n",
       "                .geemap-colab {\n",
       "                    background-color: var(--colab-primary-surface-color, white);\n",
       "                }\n",
       "\n",
       "                .geemap-colab .jupyter-button {\n",
       "                    --jp-layout-color3: var(--colab-primary-surface-color, white);\n",
       "                }\n",
       "            </style>\n",
       "            "
      ]
     },
     "metadata": {},
     "output_type": "display_data"
    },
    {
     "name": "stderr",
     "output_type": "stream",
     "text": [
      "Clipping input data to the valid range for imshow with RGB data ([0..1] for floats or [0..255] for integers). Got range [0..5760].\n",
      "Clipping input data to the valid range for imshow with RGB data ([0..1] for floats or [0..255] for integers). Got range [0..9824].\n",
      "Clipping input data to the valid range for imshow with RGB data ([0..1] for floats or [0..255] for integers). Got range [0..5936].\n",
      "Clipping input data to the valid range for imshow with RGB data ([0..1] for floats or [0..255] for integers). Got range [0..5376].\n",
      "Clipping input data to the valid range for imshow with RGB data ([0..1] for floats or [0..255] for integers). Got range [0..5272].\n",
      "Clipping input data to the valid range for imshow with RGB data ([0..1] for floats or [0..255] for integers). Got range [0..5472].\n",
      "Clipping input data to the valid range for imshow with RGB data ([0..1] for floats or [0..255] for integers). Got range [0..5356].\n",
      "Clipping input data to the valid range for imshow with RGB data ([0..1] for floats or [0..255] for integers). Got range [0..5660].\n",
      "Clipping input data to the valid range for imshow with RGB data ([0..1] for floats or [0..255] for integers). Got range [0..6176].\n",
      "Clipping input data to the valid range for imshow with RGB data ([0..1] for floats or [0..255] for integers). Got range [0..5372].\n",
      "Clipping input data to the valid range for imshow with RGB data ([0..1] for floats or [0..255] for integers). Got range [0..6284].\n",
      "Clipping input data to the valid range for imshow with RGB data ([0..1] for floats or [0..255] for integers). Got range [0..6400].\n",
      "Clipping input data to the valid range for imshow with RGB data ([0..1] for floats or [0..255] for integers). Got range [0..6156].\n",
      "Clipping input data to the valid range for imshow with RGB data ([0..1] for floats or [0..255] for integers). Got range [0..6708].\n",
      "Clipping input data to the valid range for imshow with RGB data ([0..1] for floats or [0..255] for integers). Got range [0..7248].\n",
      "Clipping input data to the valid range for imshow with RGB data ([0..1] for floats or [0..255] for integers). Got range [0..6524].\n"
     ]
    }
   ],
   "execution_count": 33
  },
  {
   "metadata": {
    "ExecuteTime": {
     "end_time": "2025-01-29T16:50:21.527319Z",
     "start_time": "2025-01-29T16:50:20.595162Z"
    }
   },
   "cell_type": "code",
   "source": [
    "import rasterio\n",
    "from rasterio.plot import show\n",
    "import numpy as np\n",
    "import matplotlib.pyplot as plt\n",
    "from matplotlib_scalebar.scalebar import ScaleBar\n",
    "\n",
    "# Loop through image names\n",
    "for i in images_names[\"Images names\"]:\n",
    "    true_color_path = f\"gs://earth_engine_selene/sentinel2/True_Color/True_Color {i}.tif\"\n",
    "\n",
    "    with rasterio.open(true_color_path) as src:\n",
    "        raster_data = src.read([3, 2, 1]).astype(np.float32)  # Convert to float for normalization\n",
    "\n",
    "        # Normalize values if necessary\n",
    "        if raster_data.max() > 255:\n",
    "            raster_data = (raster_data / raster_data.max()) * 255\n",
    "            raster_data = raster_data.astype(np.uint8)\n",
    "\n",
    "        # Swap from BGR to RGB (if needed)\n",
    "        raster_data = raster_data[[2, 1, 0], :, :]\n",
    "\n",
    "        # Handle NoData values\n",
    "        no_data_value = src.nodata\n",
    "        if no_data_value is not None:\n",
    "            raster_data = np.where(raster_data == no_data_value, 0, raster_data)\n",
    "\n",
    "        # Get pixel size for scale bar\n",
    "        pixel_size_x = abs(src.transform[0])\n",
    "\n",
    "        fig, ax = plt.subplots(figsize=(8, 6))\n",
    "        img = show(raster_data, ax=ax)\n",
    "\n",
    "        # Add scale bar\n",
    "        scalebar = ScaleBar(pixel_size_x, units='m', location='lower left', length_fraction=0.25)\n",
    "        ax.add_artist(scalebar)\n",
    "\n",
    "        ax.set_xticks([])\n",
    "        ax.set_yticks([])\n",
    "        ax.set_xlabel('')\n",
    "        ax.set_ylabel('')\n",
    "        ax.set_title(f\"True Color Image {i}\")\n",
    "\n",
    "        fig.savefig(direction + f\"/data/07_model_output/Sentinel/RealImage/TrueColor_Procesado_{i}.png\")\n",
    "        plt.close(fig)\n"
   ],
   "id": "bb93430e91cce67",
   "outputs": [
    {
     "data": {
      "text/plain": [
       "<IPython.core.display.HTML object>"
      ],
      "text/html": [
       "\n",
       "            <style>\n",
       "                .geemap-dark {\n",
       "                    --jp-widgets-color: white;\n",
       "                    --jp-widgets-label-color: white;\n",
       "                    --jp-ui-font-color1: white;\n",
       "                    --jp-layout-color2: #454545;\n",
       "                    background-color: #383838;\n",
       "                }\n",
       "\n",
       "                .geemap-dark .jupyter-button {\n",
       "                    --jp-layout-color3: #383838;\n",
       "                }\n",
       "\n",
       "                .geemap-colab {\n",
       "                    background-color: var(--colab-primary-surface-color, white);\n",
       "                }\n",
       "\n",
       "                .geemap-colab .jupyter-button {\n",
       "                    --jp-layout-color3: var(--colab-primary-surface-color, white);\n",
       "                }\n",
       "            </style>\n",
       "            "
      ]
     },
     "metadata": {},
     "output_type": "display_data"
    }
   ],
   "execution_count": 36
  },
  {
   "metadata": {},
   "cell_type": "code",
   "outputs": [],
   "execution_count": null,
   "source": [
    "## NOTA:  Falta modficar los outputs a la carpeta de RealImage, hacer 2 subcarpperas una paras la imagenes solas y otra procesadas (ya con titulo. y escala)\n",
    "a = \"nota\""
   ],
   "id": "e0e9a997f49e9096"
  }
 ],
 "metadata": {
  "kernelspec": {
   "display_name": "Python 3 (ipykernel)",
   "language": "python",
   "name": "python3"
  },
  "language_info": {
   "codemirror_mode": {
    "name": "ipython",
    "version": 3
   },
   "file_extension": ".py",
   "mimetype": "text/x-python",
   "name": "python",
   "nbconvert_exporter": "python",
   "pygments_lexer": "ipython3",
   "version": "3.13.1"
  }
 },
 "nbformat": 4,
 "nbformat_minor": 5
}
