{
 "cells": [
  {
   "cell_type": "markdown",
   "id": "95800ebcdbcd9ea5",
   "metadata": {},
   "source": [
    "# GeeMap\n",
    "\n",
    "**INSPECTOR**\n",
    "\n",
    "Referencia: \n",
    "\n",
    "https://geemap.org/notebooks/126_inspector/"
   ]
  },
  {
   "cell_type": "code",
   "execution_count": 10,
   "id": "6777608948554e2c",
   "metadata": {
    "ExecuteTime": {
     "end_time": "2024-12-28T22:34:31.774734Z",
     "start_time": "2024-12-28T22:34:27.222971Z"
    }
   },
   "outputs": [
    {
     "data": {
      "text/html": [
       "\n",
       "            <style>\n",
       "                .geemap-dark {\n",
       "                    --jp-widgets-color: white;\n",
       "                    --jp-widgets-label-color: white;\n",
       "                    --jp-ui-font-color1: white;\n",
       "                    --jp-layout-color2: #454545;\n",
       "                    background-color: #383838;\n",
       "                }\n",
       "\n",
       "                .geemap-dark .jupyter-button {\n",
       "                    --jp-layout-color3: #383838;\n",
       "                }\n",
       "\n",
       "                .geemap-colab {\n",
       "                    background-color: var(--colab-primary-surface-color, white);\n",
       "                }\n",
       "\n",
       "                .geemap-colab .jupyter-button {\n",
       "                    --jp-layout-color3: var(--colab-primary-surface-color, white);\n",
       "                }\n",
       "            </style>\n",
       "            "
      ],
      "text/plain": [
       "<IPython.core.display.HTML object>"
      ]
     },
     "metadata": {},
     "output_type": "display_data"
    },
    {
     "data": {
      "application/vnd.jupyter.widget-view+json": {
       "model_id": "5386862105644e5ba0839f37fc70559d",
       "version_major": 2,
       "version_minor": 0
      },
      "text/plain": [
       "Map(center=[40, -100], controls=(WidgetControl(options=['position', 'transparent_bg'], widget=SearchDataGUI(ch…"
      ]
     },
     "metadata": {},
     "output_type": "display_data"
    }
   ],
   "source": [
    "import ee\n",
    "import geemap\n",
    "\n",
    "Map = geemap.Map(center=[40, -100], zoom=4)\n",
    "\n",
    "dem = ee.Image(\"USGS/SRTMGL1_003\")\n",
    "landsat7 = ee.Image(\"LANDSAT/LE7_TOA_5YEAR/1999_2003\").select(\"B[1-7]\")\n",
    "states = ee.FeatureCollection(\"TIGER/2018/States\")\n",
    "\n",
    "vis_params = {\n",
    "    \"min\": 0,\n",
    "    \"max\": 4000,\n",
    "    \"palette\": \"terrain\",\n",
    "}\n",
    "Map.addLayer(dem, vis_params, \"SRTM DEM\")\n",
    "Map.addLayer(\n",
    "    landsat7,\n",
    "    {\"bands\": [\"B4\", \"B3\", \"B2\"], \"min\": 20, \"max\": 200, \"gamma\": 2.0},\n",
    "    \"Landsat 7\",\n",
    ")\n",
    "Map.addLayer(states, {}, \"US States\")\n",
    "Map"
   ]
  },
  {
   "cell_type": "markdown",
   "id": "47694316c043100b",
   "metadata": {},
   "source": [
    "**NOTA IMPORTANTE:** Es mejor visualizar estos resultados directamente en un jupyternoteook. Pycharm tiene algunos problemas en la visualizacion. No me sale todas los widgets  y no siempre se visualiza en Pycharm."
   ]
  },
  {
   "cell_type": "markdown",
   "id": "c7043c465c3cbb49",
   "metadata": {},
   "source": [
    "**SEGUNDO EJEMPLO:**"
   ]
  },
  {
   "cell_type": "code",
   "execution_count": 11,
   "id": "6a0e58673c313d6",
   "metadata": {
    "ExecuteTime": {
     "end_time": "2024-12-28T23:13:02.311547Z",
     "start_time": "2024-12-28T23:12:59.261736Z"
    }
   },
   "outputs": [
    {
     "data": {
      "text/html": [
       "\n",
       "            <style>\n",
       "                .geemap-dark {\n",
       "                    --jp-widgets-color: white;\n",
       "                    --jp-widgets-label-color: white;\n",
       "                    --jp-ui-font-color1: white;\n",
       "                    --jp-layout-color2: #454545;\n",
       "                    background-color: #383838;\n",
       "                }\n",
       "\n",
       "                .geemap-dark .jupyter-button {\n",
       "                    --jp-layout-color3: #383838;\n",
       "                }\n",
       "\n",
       "                .geemap-colab {\n",
       "                    background-color: var(--colab-primary-surface-color, white);\n",
       "                }\n",
       "\n",
       "                .geemap-colab .jupyter-button {\n",
       "                    --jp-layout-color3: var(--colab-primary-surface-color, white);\n",
       "                }\n",
       "            </style>\n",
       "            "
      ],
      "text/plain": [
       "<IPython.core.display.HTML object>"
      ]
     },
     "metadata": {},
     "output_type": "display_data"
    }
   ],
   "source": [
    "# Create an interactive map\n",
    "Map = geemap.Map()\n",
    "\n",
    "# Define Area of Interest (AOI)\n",
    "aoi = ee.Geometry.Point([-99.1332, 19.4326])  # Example: Mexico City\n",
    "\n",
    "# Load Sentinel-2 Surface Reflectance data\n",
    "sentinel2 = ee.ImageCollection('COPERNICUS/S2_SR') \\\n",
    "    .filterBounds(aoi) \\\n",
    "    .filterDate('2023-06-01', '2023-06-30') \\\n",
    "    .sort('CLOUDY_PIXEL_PERCENTAGE') \\\n",
    "    .first()\n",
    "\n",
    "# Calculate NDVI (NIR = B8, Red = B4)\n",
    "ndvi = sentinel2.normalizedDifference(['B8', 'B4']).rename('NDVI')\n",
    "\n",
    "# Visualization parameters for NDVI\n",
    "ndvi_vis = {\n",
    "    'min': 0,\n",
    "    'max': 1,\n",
    "    'palette': ['brown', 'yellow', 'green']\n",
    "}\n",
    "\n",
    "# Add layers to the map\n",
    "Map.centerObject(aoi, 10)\n",
    "Map.addLayer(sentinel2.select(['B4', 'B3', 'B2']), {'min': 0, 'max': 3000}, 'Sentinel-2 True Color')\n",
    "Map.addLayer(ndvi, ndvi_vis, 'NDVI')\n",
    "\n",
    "# Display the map\n",
    "#Map"
   ]
  },
  {
   "cell_type": "markdown",
   "id": "1e36222bde4bcbc4",
   "metadata": {},
   "source": [
    "\n",
    "**EXPORTACION**"
   ]
  },
  {
   "cell_type": "code",
   "execution_count": 12,
   "id": "18d12c45ca8f4f7d",
   "metadata": {
    "ExecuteTime": {
     "end_time": "2024-12-28T23:01:45.747501Z",
     "start_time": "2024-12-28T23:01:45.743367Z"
    }
   },
   "outputs": [
    {
     "data": {
      "text/html": [
       "\n",
       "            <style>\n",
       "                .geemap-dark {\n",
       "                    --jp-widgets-color: white;\n",
       "                    --jp-widgets-label-color: white;\n",
       "                    --jp-ui-font-color1: white;\n",
       "                    --jp-layout-color2: #454545;\n",
       "                    background-color: #383838;\n",
       "                }\n",
       "\n",
       "                .geemap-dark .jupyter-button {\n",
       "                    --jp-layout-color3: #383838;\n",
       "                }\n",
       "\n",
       "                .geemap-colab {\n",
       "                    background-color: var(--colab-primary-surface-color, white);\n",
       "                }\n",
       "\n",
       "                .geemap-colab .jupyter-button {\n",
       "                    --jp-layout-color3: var(--colab-primary-surface-color, white);\n",
       "                }\n",
       "            </style>\n",
       "            "
      ],
      "text/plain": [
       "<IPython.core.display.HTML object>"
      ]
     },
     "metadata": {},
     "output_type": "display_data"
    },
    {
     "data": {
      "text/plain": [
       "'/Users/orlandoandrade/Documents/Negocios/Satelites/selene'"
      ]
     },
     "execution_count": 12,
     "metadata": {},
     "output_type": "execute_result"
    }
   ],
   "source": [
    "import os \n",
    "\n",
    "# 1) Obtención de la dirección de trabajo \n",
    "direction = os.getcwd()\n",
    "\n",
    "# Remove the last part of the path\n",
    "direction = os.path.dirname(direction)\n",
    "direction = os.path.dirname(direction)\n",
    "direction"
   ]
  },
  {
   "cell_type": "code",
   "execution_count": 13,
   "id": "365ff07846180a76",
   "metadata": {
    "ExecuteTime": {
     "end_time": "2024-12-28T23:03:52.854989Z",
     "start_time": "2024-12-28T23:03:52.798904Z"
    }
   },
   "outputs": [
    {
     "data": {
      "text/html": [
       "\n",
       "            <style>\n",
       "                .geemap-dark {\n",
       "                    --jp-widgets-color: white;\n",
       "                    --jp-widgets-label-color: white;\n",
       "                    --jp-ui-font-color1: white;\n",
       "                    --jp-layout-color2: #454545;\n",
       "                    background-color: #383838;\n",
       "                }\n",
       "\n",
       "                .geemap-dark .jupyter-button {\n",
       "                    --jp-layout-color3: #383838;\n",
       "                }\n",
       "\n",
       "                .geemap-colab {\n",
       "                    background-color: var(--colab-primary-surface-color, white);\n",
       "                }\n",
       "\n",
       "                .geemap-colab .jupyter-button {\n",
       "                    --jp-layout-color3: var(--colab-primary-surface-color, white);\n",
       "                }\n",
       "            </style>\n",
       "            "
      ],
      "text/plain": [
       "<IPython.core.display.HTML object>"
      ]
     },
     "metadata": {},
     "output_type": "display_data"
    }
   ],
   "source": [
    "html_file = direction + \"/data/02_intermediate/Testing/GeeMap.html\"\n",
    "\n",
    "Map.to_html(filename= html_file, title=\"My Map\", width=\"100%\", height=\"880px\") # Exporacion a una html "
   ]
  },
  {
   "cell_type": "code",
   "execution_count": 15,
   "id": "a5ea8f08",
   "metadata": {},
   "outputs": [
    {
     "data": {
      "text/html": [
       "\n",
       "            <style>\n",
       "                .geemap-dark {\n",
       "                    --jp-widgets-color: white;\n",
       "                    --jp-widgets-label-color: white;\n",
       "                    --jp-ui-font-color1: white;\n",
       "                    --jp-layout-color2: #454545;\n",
       "                    background-color: #383838;\n",
       "                }\n",
       "\n",
       "                .geemap-dark .jupyter-button {\n",
       "                    --jp-layout-color3: #383838;\n",
       "                }\n",
       "\n",
       "                .geemap-colab {\n",
       "                    background-color: var(--colab-primary-surface-color, white);\n",
       "                }\n",
       "\n",
       "                .geemap-colab .jupyter-button {\n",
       "                    --jp-layout-color3: var(--colab-primary-surface-color, white);\n",
       "                }\n",
       "            </style>\n",
       "            "
      ],
      "text/plain": [
       "<IPython.core.display.HTML object>"
      ]
     },
     "metadata": {},
     "output_type": "display_data"
    },
    {
     "data": {
      "text/plain": [
       "'/Users/orlandoandrade/Documents/Negocios/Satelites/selene/data/02_intermediate/Testing/GeeMap.html'"
      ]
     },
     "execution_count": 15,
     "metadata": {},
     "output_type": "execute_result"
    }
   ],
   "source": [
    "html_file"
   ]
  },
  {
   "cell_type": "markdown",
   "id": "70402c8ad3261066",
   "metadata": {},
   "source": [
    "**IMPORTACION**"
   ]
  },
  {
   "cell_type": "code",
   "execution_count": 17,
   "id": "cb69f8dce85d67f",
   "metadata": {},
   "outputs": [
    {
     "data": {
      "text/html": [
       "\n",
       "            <style>\n",
       "                .geemap-dark {\n",
       "                    --jp-widgets-color: white;\n",
       "                    --jp-widgets-label-color: white;\n",
       "                    --jp-ui-font-color1: white;\n",
       "                    --jp-layout-color2: #454545;\n",
       "                    background-color: #383838;\n",
       "                }\n",
       "\n",
       "                .geemap-dark .jupyter-button {\n",
       "                    --jp-layout-color3: #383838;\n",
       "                }\n",
       "\n",
       "                .geemap-colab {\n",
       "                    background-color: var(--colab-primary-surface-color, white);\n",
       "                }\n",
       "\n",
       "                .geemap-colab .jupyter-button {\n",
       "                    --jp-layout-color3: var(--colab-primary-surface-color, white);\n",
       "                }\n",
       "            </style>\n",
       "            "
      ],
      "text/plain": [
       "<IPython.core.display.HTML object>"
      ]
     },
     "metadata": {},
     "output_type": "display_data"
    },
    {
     "data": {
      "text/html": [
       "\n",
       "        <iframe\n",
       "            width=\"100%\"\n",
       "            height=\"800px\"\n",
       "            src=\"/Users/orlandoandrade/Documents/Negocios/Satelites/selene/data/02_intermediate/Testing/GeeMap.html\"\n",
       "            frameborder=\"0\"\n",
       "            allowfullscreen\n",
       "            \n",
       "        ></iframe>\n",
       "        "
      ],
      "text/plain": [
       "<IPython.lib.display.IFrame at 0x13812c250>"
      ]
     },
     "execution_count": 17,
     "metadata": {},
     "output_type": "execute_result"
    }
   ],
   "source": [
    "from IPython.display import IFrame\n",
    "\n",
    "# Display the saved HTML map\n",
    "IFrame(\"/Users/orlandoandrade/Documents/Negocios/Satelites/selene/data/02_intermediate/Testing/GeeMap.html\", width='100%', height='800px')\n"
   ]
  },
  {
   "cell_type": "code",
   "execution_count": null,
   "id": "3e6d9486a8b1ad4",
   "metadata": {},
   "outputs": [],
   "source": []
  }
 ],
 "metadata": {
  "kernelspec": {
   "display_name": "Python 3 (ipykernel)",
   "language": "python",
   "name": "python3"
  },
  "language_info": {
   "codemirror_mode": {
    "name": "ipython",
    "version": 3
   },
   "file_extension": ".py",
   "mimetype": "text/x-python",
   "name": "python",
   "nbconvert_exporter": "python",
   "pygments_lexer": "ipython3",
   "version": "3.11.4"
  }
 },
 "nbformat": 4,
 "nbformat_minor": 5
}
