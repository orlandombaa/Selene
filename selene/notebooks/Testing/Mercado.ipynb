{
 "cells": [
  {
   "metadata": {},
   "cell_type": "markdown",
   "source": [
    "# Mercado \n",
    "\n",
    "En este notebook se busca analizar el tamaño de mercado de agricultura en México. Conocer su nivel de producción, estratificado por tipos de cultivos y por entidades federativas. \n",
    "\n",
    "Fuente de datos: \n",
    "\n",
    "https://www.inegi.org.mx/programas/ca/2022/#tabulados"
   ],
   "id": "81082a7effe17d4a"
  },
  {
   "metadata": {},
   "cell_type": "markdown",
   "source": "## 1) Lectura de datos ",
   "id": "4a11fd3f0c6a9a1c"
  },
  {
   "metadata": {},
   "cell_type": "code",
   "outputs": [],
   "execution_count": null,
   "source": "",
   "id": "85e6cd89bab6e606"
  },
  {
   "metadata": {},
   "cell_type": "code",
   "outputs": [],
   "execution_count": null,
   "source": "",
   "id": "f9a07e7a68bb2f11"
  }
 ],
 "metadata": {
  "kernelspec": {
   "display_name": "Python 3",
   "language": "python",
   "name": "python3"
  },
  "language_info": {
   "codemirror_mode": {
    "name": "ipython",
    "version": 2
   },
   "file_extension": ".py",
   "mimetype": "text/x-python",
   "name": "python",
   "nbconvert_exporter": "python",
   "pygments_lexer": "ipython2",
   "version": "2.7.6"
  }
 },
 "nbformat": 4,
 "nbformat_minor": 5
}
