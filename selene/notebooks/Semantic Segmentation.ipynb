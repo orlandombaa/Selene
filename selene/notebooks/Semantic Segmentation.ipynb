{
 "cells": [
  {
   "metadata": {},
   "cell_type": "markdown",
   "source": "# Semantic Segmentation",
   "id": "a297ceda35c86fbc"
  },
  {
   "metadata": {},
   "cell_type": "code",
   "outputs": [],
   "execution_count": null,
   "source": "",
   "id": "693db96c446926f7"
  },
  {
   "metadata": {},
   "cell_type": "markdown",
   "source": [
    "Fuentes:\n",
    "https://spacenet.ai/spacenet-buildings-dataset-v1/\n"
   ],
   "id": "e6a513d2114a5510"
  }
 ],
 "metadata": {
  "kernelspec": {
   "display_name": "Python 3",
   "language": "python",
   "name": "python3"
  },
  "language_info": {
   "codemirror_mode": {
    "name": "ipython",
    "version": 2
   },
   "file_extension": ".py",
   "mimetype": "text/x-python",
   "name": "python",
   "nbconvert_exporter": "python",
   "pygments_lexer": "ipython2",
   "version": "2.7.6"
  }
 },
 "nbformat": 4,
 "nbformat_minor": 5
}
