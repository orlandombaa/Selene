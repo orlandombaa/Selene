{
 "cells": [
  {
   "cell_type": "markdown",
   "id": "be5a8b1bed467c31",
   "metadata": {},
   "source": [
    "# Land Surface Temperature  (LST) e imagen real\n",
    "\n",
    "En este notebook se hara el cálculo de LST (Land Surface Temperature). Se exploraran 2 métodos, uno \"from scratch\" que consta en utilizar las imagenes satelitales, varias bandas espeisficamente la _______ y hacer los cálculos  para la estimación de la tempertura superficial.\n",
    "\n",
    "El otro método es más directo, pues usa los datos ya procesados de Landsat que ya tienen la temperatura calculada, simlemente hace una tranformación de las unidades de los pixeles.\n",
    "\n",
    "Para ambos casos es indispensable el uso de **LANDSAT 9** debido a que este satelite cuenta con bandas terminas. Espesificaente las  que se muestran en la siguiente table:\n",
    "\n",
    "\n",
    "<div style=\"text-align: center;\">\n",
    "    <img src=\"Images/bandas termincas landsat 9.png\" alt=\"Descripción de la imagen\" width=\"500\">\n",
    "</div>\n",
    "\n",
    "\n",
    "\n"
   ]
  },
  {
   "cell_type": "markdown",
   "id": "dadb43027a03e877",
   "metadata": {},
   "source": [
    "**IMPORTACION DE LIBRERIAS**"
   ]
  },
  {
   "cell_type": "code",
   "execution_count": 1,
   "id": "839868e7e4b6fc30",
   "metadata": {
    "ExecuteTime": {
     "end_time": "2025-01-13T00:18:42.388382Z",
     "start_time": "2025-01-13T00:18:40.871177Z"
    }
   },
   "outputs": [],
   "source": [
    "import ee\n",
    "import geemap\n",
    "import os\n",
    "import pandas as pd\n",
    "import json\n",
    "import rasterio\n",
    "from rasterio.plot import show\n",
    "import matplotlib.pyplot as plt\n",
    "from matplotlib.colors import ListedColormap, Normalize\n",
    "from matplotlib_scalebar.scalebar import ScaleBar  # <-- for the scale bar"
   ]
  },
  {
   "cell_type": "markdown",
   "id": "237c77e436931a9",
   "metadata": {},
   "source": [
    "## 1) Autentificación\n"
   ]
  },
  {
   "cell_type": "code",
   "execution_count": 2,
   "id": "8e4d0d415f822f52",
   "metadata": {
    "ExecuteTime": {
     "end_time": "2025-01-13T00:18:44.504046Z",
     "start_time": "2025-01-13T00:18:43.225322Z"
    }
   },
   "outputs": [
    {
     "data": {
      "text/html": [
       "\n",
       "            <style>\n",
       "                .geemap-dark {\n",
       "                    --jp-widgets-color: white;\n",
       "                    --jp-widgets-label-color: white;\n",
       "                    --jp-ui-font-color1: white;\n",
       "                    --jp-layout-color2: #454545;\n",
       "                    background-color: #383838;\n",
       "                }\n",
       "\n",
       "                .geemap-dark .jupyter-button {\n",
       "                    --jp-layout-color3: #383838;\n",
       "                }\n",
       "\n",
       "                .geemap-colab {\n",
       "                    background-color: var(--colab-primary-surface-color, white);\n",
       "                }\n",
       "\n",
       "                .geemap-colab .jupyter-button {\n",
       "                    --jp-layout-color3: var(--colab-primary-surface-color, white);\n",
       "                }\n",
       "            </style>\n",
       "            "
      ],
      "text/plain": [
       "<IPython.core.display.HTML object>"
      ]
     },
     "metadata": {},
     "output_type": "display_data"
    }
   ],
   "source": [
    "# 1) Obtención de la dirección de trabajo\n",
    "direction = os.getcwd()\n",
    "\n",
    "# Remove the last part of the path\n",
    "direction = os.path.dirname(direction)\n",
    "\n",
    "# Dirección de la llave\n",
    "service_account = direction + '/conf/local/gcp-for-data-science-397913-4fd843feede1.json'\n",
    "\n",
    "# Autentificación\n",
    "credentials = ee.ServiceAccountCredentials(email=None, key_file=service_account)\n",
    "ee.Initialize(credentials)"
   ]
  },
  {
   "cell_type": "markdown",
   "id": "8c651153add3fe5f",
   "metadata": {},
   "source": [
    "## 2) Importación de datos\n"
   ]
  },
  {
   "cell_type": "markdown",
   "id": "f83adf0b07d23ae7",
   "metadata": {},
   "source": [
    "**NOMBRES DE LAS IMAGENES**"
   ]
  },
  {
   "cell_type": "code",
   "execution_count": 3,
   "id": "f5f34be70c97081b",
   "metadata": {
    "ExecuteTime": {
     "end_time": "2025-01-13T00:18:44.762964Z",
     "start_time": "2025-01-13T00:18:44.746529Z"
    }
   },
   "outputs": [
    {
     "data": {
      "text/html": [
       "\n",
       "            <style>\n",
       "                .geemap-dark {\n",
       "                    --jp-widgets-color: white;\n",
       "                    --jp-widgets-label-color: white;\n",
       "                    --jp-ui-font-color1: white;\n",
       "                    --jp-layout-color2: #454545;\n",
       "                    background-color: #383838;\n",
       "                }\n",
       "\n",
       "                .geemap-dark .jupyter-button {\n",
       "                    --jp-layout-color3: #383838;\n",
       "                }\n",
       "\n",
       "                .geemap-colab {\n",
       "                    background-color: var(--colab-primary-surface-color, white);\n",
       "                }\n",
       "\n",
       "                .geemap-colab .jupyter-button {\n",
       "                    --jp-layout-color3: var(--colab-primary-surface-color, white);\n",
       "                }\n",
       "            </style>\n",
       "            "
      ],
      "text/plain": [
       "<IPython.core.display.HTML object>"
      ]
     },
     "metadata": {},
     "output_type": "display_data"
    },
    {
     "data": {
      "text/html": [
       "<div>\n",
       "<style scoped>\n",
       "    .dataframe tbody tr th:only-of-type {\n",
       "        vertical-align: middle;\n",
       "    }\n",
       "\n",
       "    .dataframe tbody tr th {\n",
       "        vertical-align: top;\n",
       "    }\n",
       "\n",
       "    .dataframe thead th {\n",
       "        text-align: right;\n",
       "    }\n",
       "</style>\n",
       "<table border=\"1\" class=\"dataframe\">\n",
       "  <thead>\n",
       "    <tr style=\"text-align: right;\">\n",
       "      <th></th>\n",
       "      <th>Images names</th>\n",
       "    </tr>\n",
       "  </thead>\n",
       "  <tbody>\n",
       "    <tr>\n",
       "      <th>0</th>\n",
       "      <td>Image_2024-10-11 00:00:00</td>\n",
       "    </tr>\n",
       "    <tr>\n",
       "      <th>1</th>\n",
       "      <td>Image_2024-10-27 00:00:00</td>\n",
       "    </tr>\n",
       "    <tr>\n",
       "      <th>2</th>\n",
       "      <td>Image_2024-11-12 00:00:00</td>\n",
       "    </tr>\n",
       "    <tr>\n",
       "      <th>3</th>\n",
       "      <td>Image_2024-11-28 00:00:00</td>\n",
       "    </tr>\n",
       "  </tbody>\n",
       "</table>\n",
       "</div>"
      ],
      "text/plain": [
       "                Images names\n",
       "0  Image_2024-10-11 00:00:00\n",
       "1  Image_2024-10-27 00:00:00\n",
       "2  Image_2024-11-12 00:00:00\n",
       "3  Image_2024-11-28 00:00:00"
      ]
     },
     "execution_count": 3,
     "metadata": {},
     "output_type": "execute_result"
    }
   ],
   "source": [
    "images_names = pd.read_csv(filepath_or_buffer=direction + \"/data/02_intermediate/Landsat_images_names.csv\")\n",
    "images_names.head(n=4)"
   ]
  },
  {
   "cell_type": "markdown",
   "id": "14c4e93738e6635b",
   "metadata": {},
   "source": [
    "**AREA DE INTRERES (AOI)**"
   ]
  },
  {
   "cell_type": "code",
   "execution_count": 4,
   "id": "21e2ee0b6ce19a50",
   "metadata": {
    "ExecuteTime": {
     "end_time": "2025-01-13T00:18:45.839523Z",
     "start_time": "2025-01-13T00:18:45.834327Z"
    }
   },
   "outputs": [
    {
     "data": {
      "text/html": [
       "\n",
       "            <style>\n",
       "                .geemap-dark {\n",
       "                    --jp-widgets-color: white;\n",
       "                    --jp-widgets-label-color: white;\n",
       "                    --jp-ui-font-color1: white;\n",
       "                    --jp-layout-color2: #454545;\n",
       "                    background-color: #383838;\n",
       "                }\n",
       "\n",
       "                .geemap-dark .jupyter-button {\n",
       "                    --jp-layout-color3: #383838;\n",
       "                }\n",
       "\n",
       "                .geemap-colab {\n",
       "                    background-color: var(--colab-primary-surface-color, white);\n",
       "                }\n",
       "\n",
       "                .geemap-colab .jupyter-button {\n",
       "                    --jp-layout-color3: var(--colab-primary-surface-color, white);\n",
       "                }\n",
       "            </style>\n",
       "            "
      ],
      "text/plain": [
       "<IPython.core.display.HTML object>"
      ]
     },
     "metadata": {},
     "output_type": "display_data"
    }
   ],
   "source": [
    "# Dirección\n",
    "geojson_file =  direction + \"/data/01_raw/AOI.geojson\"\n",
    "\n",
    "# Step 1: Load the GeoJSON file\n",
    "with open(geojson_file, \"r\") as f:\n",
    "    geojson_data = json.load(f)"
   ]
  },
  {
   "cell_type": "markdown",
   "id": "be3011006305ebe",
   "metadata": {},
   "source": [
    "**Convertilor a una geometria de earth engine**"
   ]
  },
  {
   "cell_type": "code",
   "execution_count": 5,
   "id": "78241370d0158adc",
   "metadata": {
    "ExecuteTime": {
     "end_time": "2025-01-13T00:18:47.149085Z",
     "start_time": "2025-01-13T00:18:47.144680Z"
    }
   },
   "outputs": [
    {
     "data": {
      "text/html": [
       "\n",
       "            <style>\n",
       "                .geemap-dark {\n",
       "                    --jp-widgets-color: white;\n",
       "                    --jp-widgets-label-color: white;\n",
       "                    --jp-ui-font-color1: white;\n",
       "                    --jp-layout-color2: #454545;\n",
       "                    background-color: #383838;\n",
       "                }\n",
       "\n",
       "                .geemap-dark .jupyter-button {\n",
       "                    --jp-layout-color3: #383838;\n",
       "                }\n",
       "\n",
       "                .geemap-colab {\n",
       "                    background-color: var(--colab-primary-surface-color, white);\n",
       "                }\n",
       "\n",
       "                .geemap-colab .jupyter-button {\n",
       "                    --jp-layout-color3: var(--colab-primary-surface-color, white);\n",
       "                }\n",
       "            </style>\n",
       "            "
      ],
      "text/plain": [
       "<IPython.core.display.HTML object>"
      ]
     },
     "metadata": {},
     "output_type": "display_data"
    },
    {
     "data": {
      "text/plain": [
       "ee.geometry.Geometry"
      ]
     },
     "execution_count": 5,
     "metadata": {},
     "output_type": "execute_result"
    }
   ],
   "source": [
    "area_interest = ee.Geometry(geojson_data)\n",
    "type(area_interest)"
   ]
  },
  {
   "cell_type": "markdown",
   "id": "d209d5e0c316b318",
   "metadata": {},
   "source": [
    "## 3) Procesamiento"
   ]
  },
  {
   "cell_type": "markdown",
   "id": "b2acca874a34a15e",
   "metadata": {},
   "source": [
    "**CREACION DEL MAPA WEB BASE**\n",
    "\n",
    "Se utilizara para inspeccionar las imagenes"
   ]
  },
  {
   "cell_type": "code",
   "execution_count": 6,
   "id": "5d05d3b16344ffc",
   "metadata": {
    "ExecuteTime": {
     "end_time": "2025-01-13T00:28:23.417287Z",
     "start_time": "2025-01-13T00:28:23.101602Z"
    }
   },
   "outputs": [
    {
     "data": {
      "text/html": [
       "\n",
       "            <style>\n",
       "                .geemap-dark {\n",
       "                    --jp-widgets-color: white;\n",
       "                    --jp-widgets-label-color: white;\n",
       "                    --jp-ui-font-color1: white;\n",
       "                    --jp-layout-color2: #454545;\n",
       "                    background-color: #383838;\n",
       "                }\n",
       "\n",
       "                .geemap-dark .jupyter-button {\n",
       "                    --jp-layout-color3: #383838;\n",
       "                }\n",
       "\n",
       "                .geemap-colab {\n",
       "                    background-color: var(--colab-primary-surface-color, white);\n",
       "                }\n",
       "\n",
       "                .geemap-colab .jupyter-button {\n",
       "                    --jp-layout-color3: var(--colab-primary-surface-color, white);\n",
       "                }\n",
       "            </style>\n",
       "            "
      ],
      "text/plain": [
       "<IPython.core.display.HTML object>"
      ]
     },
     "metadata": {},
     "output_type": "display_data"
    }
   ],
   "source": [
    "# 1) Creación del mapa base\n",
    "Map = geemap.Map()\n",
    "\n",
    "# Central el mapa\n",
    "Map.centerObject(ee_object=area_interest, zoom= 10)\n",
    "\n",
    "# 2) Definir la paleta de colores personalizada, es una paleta que va del verde al rojo\n",
    "palette = [\n",
    "    \"#008000\", \"#1B9908\", \"#37B110\", \"#53C918\", \"#6FE120\", \"#91E51D\",\n",
    "    \"#B1E91B\", \"#D1ED19\", \"#F1F117\", \"#F6D80F\", \"#FAC008\", \"#FFA500\",\n",
    "    \"#FF8500\", \"#FF6500\", \"#FF4500\", \"#FF2E00\", \"#FF1700\", \"#FF0000\"\n",
    "]\n",
    "\n",
    "\n",
    "# 3) LST parameters\n",
    "lst_vis = {\n",
    "\"min\": 0,\n",
    "\"max\": 50,\n",
    "\"palette\": palette,\n",
    "\"bands\": \"LST_C\"}\n",
    "\n",
    "\n",
    "# 4) Parámetros para la visualización en color rel\n",
    "# Add the image to the map with a Natural Color visualization\n",
    "real_vis = {\n",
    "    'bands': ['SR_B4', 'SR_B3', 'SR_B2'],  # Corrected the syntax for bands\n",
    "    'min': 8000,                           # Adjusted for Landsat reflectance values\n",
    "    'max': 17000\n",
    "    }"
   ]
  },
  {
   "cell_type": "markdown",
   "id": "140a1dfcac8bc001",
   "metadata": {},
   "source": [
    "### 3.1) Uso de ST_10\n",
    "\n",
    "La ST_10 ya es una banda procesda.... ampliar esto\n",
    "\n",
    "En erth engine ya tiene sets de datos de imagnees con las temperturas procesadas con landsat 9. En este apartando  voy a ir explicando paso a paso este proceos.\n",
    "\n",
    "Esto se logra usando la banda ST_B10, la cual representa la temperatura de la superficie terrestre en Kelvin (K). ST_B10 es el resultado de la aplicación de correcciones atmosféricas y de emisividad.\n",
    "\n",
    "Nivel 2 (L2): Estos productos ya están procesados y calibrados, por lo que no es necesario calcular la temperatura de brillo (BT) o aplicar fórmulas adicionales para obtener la temperatura superficial. Landsat 9 Collection 2, Nivel 2 (L2) realiza las correcciones atmosféricas durante el preprocesamiento de los datos. La banda térmica ST_B10 proporciona directamente la temperatura superficial, lo que ahorra tiempo y reduce la complejidad del análisis.\n",
    "\n",
    "\n",
    "______\n",
    "\n",
    "In the Collection 2, Level-2 product, the thermal band used for surface temperature is typically named ST_B10. This band is already corrected for atmospheric effects and provides an at-satellite brightness temperature, or in some products, an estimated surface temperature in Kelvin. However, you still need to apply the scale factor (and sometimes an additive offset) to convert digital numbers to actual temperature.\n",
    "\n",
    "\n",
    "\n",
    "\n",
    "Los factores de escala puede encontrarse en la documentación oficial de USGS:\n",
    "\n",
    "https://www.usgs.gov/landsat-missions/landsat-collection-2-level-2-science-products"
   ]
  },
  {
   "cell_type": "markdown",
   "id": "ab78dfe8b30c41f0",
   "metadata": {},
   "source": [
    "In the Collection 2, Level-2 product, the thermal band used for surface temperature is typically named ST_B10. This band is already corrected for atmospheric effects and provides an at-satellite brightness temperature, or in some products, an estimated surface temperature in Kelvin. However, you still need to apply the scale factor (and sometimes an additive offset) to convert digital numbers to actual temperature.\n",
    "\n",
    "[According to USGS documentation (for Landsat Collection 2 Level-2 products)](https://www.usgs.gov/landsat-missions/landsat-collection-2-level-2-science-products):\n",
    "\n",
    "ST_B10 (Surface Temperature band) has a scale factor of 0.00341802 (this factor might be subject to slight differences in product documentation, but is typical).\n",
    "An additional offset of 149.0 K is often used.\n",
    "\n",
    "\n",
    "<div style=\"text-align: center;\">\n",
    "    <img src=\"Images/Coorection factors.png\" alt=\"Descripción de la imagen\" width=\"500\">\n",
    "</div>\n",
    "\n",
    "\n",
    "<div style=\"text-align: center;\">\n",
    "    <img src=\"Images/Formula DN to K.png\" alt=\"Descripción de la imagen\" width=\"500\">\n",
    "</div>\n"
   ]
  },
  {
   "cell_type": "markdown",
   "id": "16308f8b263aad0d",
   "metadata": {},
   "source": [
    "**INICIO DEL PROCESAMIENTO**\n",
    "\n",
    "**GENERACION DE LA IMAGEN DE TEMPERATURA SUPRFICIAL Y COLOR REAL**"
   ]
  },
  {
   "cell_type": "code",
   "execution_count": 7,
   "id": "ac1410e0491bf17",
   "metadata": {
    "ExecuteTime": {
     "end_time": "2025-01-13T00:18:58.237941Z",
     "start_time": "2025-01-13T00:18:50.006735Z"
    }
   },
   "outputs": [
    {
     "data": {
      "text/html": [
       "\n",
       "            <style>\n",
       "                .geemap-dark {\n",
       "                    --jp-widgets-color: white;\n",
       "                    --jp-widgets-label-color: white;\n",
       "                    --jp-ui-font-color1: white;\n",
       "                    --jp-layout-color2: #454545;\n",
       "                    background-color: #383838;\n",
       "                }\n",
       "\n",
       "                .geemap-dark .jupyter-button {\n",
       "                    --jp-layout-color3: #383838;\n",
       "                }\n",
       "\n",
       "                .geemap-colab {\n",
       "                    background-color: var(--colab-primary-surface-color, white);\n",
       "                }\n",
       "\n",
       "                .geemap-colab .jupyter-button {\n",
       "                    --jp-layout-color3: var(--colab-primary-surface-color, white);\n",
       "                }\n",
       "            </style>\n",
       "            "
      ],
      "text/plain": [
       "<IPython.core.display.HTML object>"
      ]
     },
     "metadata": {},
     "output_type": "display_data"
    },
    {
     "name": "stdout",
     "output_type": "stream",
     "text": [
      "Se exportó la imagen a Cloud Storage: Image_2024-10-11 00:00:00\n",
      "Se exportó la imagen a Cloud Storage: Image_2024-10-27 00:00:00\n",
      "Se exportó la imagen a Cloud Storage: Image_2024-11-12 00:00:00\n",
      "Se exportó la imagen a Cloud Storage: Image_2024-11-28 00:00:00\n",
      "Se exportó la imagen a Cloud Storage: Image_2024-12-14 00:00:00\n",
      "Se exportó la imagen a Cloud Storage: Image_2024-12-30 00:00:00\n",
      "Se exportó la imagen a Cloud Storage: Image_2024-10-02 00:00:00\n",
      "Se exportó la imagen a Cloud Storage: Image_2024-10-18 00:00:00\n",
      "Se exportó la imagen a Cloud Storage: Image_2024-11-19 00:00:00\n",
      "Se exportó la imagen a Cloud Storage: Image_2024-12-05 00:00:00\n",
      "Se exportó la imagen a Cloud Storage: Image_2024-12-21 00:00:00\n",
      "Se exportó la imagen a Cloud Storage: Image_2025-01-06 00:00:00\n"
     ]
    }
   ],
   "source": [
    "# Diccionario vacio\n",
    "lst_dic = {}\n",
    "\n",
    "# Iteramos sobre el nombre de las imagenes\n",
    "for i in images_names[\"Images names\"]:\n",
    "\n",
    "    # 1) Lectura de la imagen\n",
    "    path = f\"gs://earth_engine_selene/Landsat/Row_Data/{i}.tif\" # Estos archivos tienen las bandas sin procesamiento\n",
    "    image = ee.Image.loadGeoTIFF(uri=path)\n",
    "\n",
    "    # 2) Corte de la imagen al área de interés\n",
    "    image = image.clip(clip_geometry=area_interest)\n",
    "\n",
    "   # 3) Select the thermal band ST_B10 (Surface Temperature band)\n",
    "    thermal_band = image.select(selectors=[\"ST_B10\"])\n",
    "\n",
    "    # Apply scale factor and offset for Landsat 9 L2\n",
    "    # DN * 0.00341802 + 149.0 => Kelvin\n",
    "    # Then subtract 273.15 to get Celsius\n",
    "    lst_celsius = thermal_band.multiply(0.00341802).add(149.0).subtract(273.15) # Vease como uso los métodos (funciones) de EE.\n",
    "\n",
    "    # Rename the band to 'LST_C'\n",
    "    lst_celsius = lst_celsius.rename('LST_C')\n",
    "\n",
    "    # 4) Generación de imagen real\n",
    "    real_image = image.select(selectors=[\"SR_B4\", \"SR_B3\", \"SR_B2\"]) # Seleccionamos en orden RGB las bandas\n",
    "\n",
    "    # 5) Se añade al mapa base web\n",
    "    Map.addLayer(ee_object=lst_celsius,  vis_params= lst_vis, name=f'LST {i}', shown=False)\n",
    "    Map.addLayer(ee_object=real_image,  vis_params= real_vis, name=f'Real Imagen {i}', shown=False)\n",
    "\n",
    "    # 6) Exportación de resultados\n",
    "    # 6.1) Exportación de LST\n",
    "    task = ee.batch.Export.image.toCloudStorage(\n",
    "    image=lst_celsius,\n",
    "    #description=f\"Export\", # Este es el nombre del archivo que se exportara , si vas a usar el filenameprexi no es necesario esto\n",
    "    bucket='earth_engine_selene',  # Cambia esto al nombre de tu bucket\n",
    "    fileNamePrefix=f\"Landsat/LST/{i}\", # Damos una dirección dentro del bucket y le damos nombre\n",
    "    scale=30,  # Resolución en metros\n",
    "    fileFormat='GeoTIFF')  # Formato de archivo\n",
    "\n",
    "    task.start()  # Inicia la tarea de exportación\n",
    "    print(\"Se exportó la imagen a Cloud Storage:\", i)\n",
    "\n",
    "    # 6.2) Exportación de la imagen real\n",
    "    task_2 = ee.batch.Export.image.toCloudStorage(\n",
    "    image=real_image,\n",
    "    #description=f\"Export\", # Este es el nombre del archivo que se exportara , si vas a usar el filenameprexi no es necesario esto\n",
    "    bucket='earth_engine_selene',  # Cambia esto al nombre de tu bucket\n",
    "    fileNamePrefix=f\"Landsat/Real_Image/{i}\", # Damos una dirección dentro del bucket y le damos nombre\n",
    "    scale=30,  # Resolución en metros\n",
    "    fileFormat='GeoTIFF')\n",
    "\n",
    "    task_2.start()"
   ]
  },
  {
   "cell_type": "markdown",
   "id": "826d7fe9-c315-42ea-8dd2-08165e3f7219",
   "metadata": {},
   "source": [
    "**VISUALIZACION DEL MAPA WEB** "
   ]
  },
  {
   "cell_type": "code",
   "execution_count": 8,
   "id": "9e8fbb80-9cbd-4163-becf-74166a717439",
   "metadata": {},
   "outputs": [
    {
     "data": {
      "text/html": [
       "\n",
       "            <style>\n",
       "                .geemap-dark {\n",
       "                    --jp-widgets-color: white;\n",
       "                    --jp-widgets-label-color: white;\n",
       "                    --jp-ui-font-color1: white;\n",
       "                    --jp-layout-color2: #454545;\n",
       "                    background-color: #383838;\n",
       "                }\n",
       "\n",
       "                .geemap-dark .jupyter-button {\n",
       "                    --jp-layout-color3: #383838;\n",
       "                }\n",
       "\n",
       "                .geemap-colab {\n",
       "                    background-color: var(--colab-primary-surface-color, white);\n",
       "                }\n",
       "\n",
       "                .geemap-colab .jupyter-button {\n",
       "                    --jp-layout-color3: var(--colab-primary-surface-color, white);\n",
       "                }\n",
       "            </style>\n",
       "            "
      ],
      "text/plain": [
       "<IPython.core.display.HTML object>"
      ]
     },
     "metadata": {},
     "output_type": "display_data"
    },
    {
     "data": {
      "application/vnd.jupyter.widget-view+json": {
       "model_id": "c96f0369a53b45769108eb62069e2ef9",
       "version_major": 2,
       "version_minor": 0
      },
      "text/plain": [
       "Map(center=[24.77862463999283, -107.65760939283743], controls=(WidgetControl(options=['position', 'transparent…"
      ]
     },
     "metadata": {},
     "output_type": "display_data"
    }
   ],
   "source": [
    "Map"
   ]
  },
  {
   "cell_type": "markdown",
   "id": "19fa9f3a97d0cba1",
   "metadata": {},
   "source": [
    "## 4) Generación de mapas estáticos "
   ]
  },
  {
   "cell_type": "code",
   "execution_count": 9,
   "id": "f9e0a9e4d40f8acf",
   "metadata": {
    "ExecuteTime": {
     "end_time": "2025-01-12T19:51:14.763943Z",
     "start_time": "2025-01-12T19:51:14.760423Z"
    }
   },
   "outputs": [
    {
     "data": {
      "text/html": [
       "\n",
       "            <style>\n",
       "                .geemap-dark {\n",
       "                    --jp-widgets-color: white;\n",
       "                    --jp-widgets-label-color: white;\n",
       "                    --jp-ui-font-color1: white;\n",
       "                    --jp-layout-color2: #454545;\n",
       "                    background-color: #383838;\n",
       "                }\n",
       "\n",
       "                .geemap-dark .jupyter-button {\n",
       "                    --jp-layout-color3: #383838;\n",
       "                }\n",
       "\n",
       "                .geemap-colab {\n",
       "                    background-color: var(--colab-primary-surface-color, white);\n",
       "                }\n",
       "\n",
       "                .geemap-colab .jupyter-button {\n",
       "                    --jp-layout-color3: var(--colab-primary-surface-color, white);\n",
       "                }\n",
       "            </style>\n",
       "            "
      ],
      "text/plain": [
       "<IPython.core.display.HTML object>"
      ]
     },
     "metadata": {},
     "output_type": "display_data"
    }
   ],
   "source": [
    "# Autentificacion , variables del sistema\n",
    "os.environ['GOOGLE_APPLICATION_CREDENTIALS'] =  service_account"
   ]
  },
  {
   "cell_type": "markdown",
   "id": "3036bcdb60dbc12d",
   "metadata": {},
   "source": [
    "### 4.1) Mapas estáticos de temperatura superficial"
   ]
  },
  {
   "cell_type": "code",
   "execution_count": 29,
   "id": "bf6eb9c1a584baed",
   "metadata": {
    "ExecuteTime": {
     "end_time": "2025-01-12T19:51:18.550741Z",
     "start_time": "2025-01-12T19:51:17.788920Z"
    }
   },
   "outputs": [
    {
     "data": {
      "text/html": [
       "\n",
       "            <style>\n",
       "                .geemap-dark {\n",
       "                    --jp-widgets-color: white;\n",
       "                    --jp-widgets-label-color: white;\n",
       "                    --jp-ui-font-color1: white;\n",
       "                    --jp-layout-color2: #454545;\n",
       "                    background-color: #383838;\n",
       "                }\n",
       "\n",
       "                .geemap-dark .jupyter-button {\n",
       "                    --jp-layout-color3: #383838;\n",
       "                }\n",
       "\n",
       "                .geemap-colab {\n",
       "                    background-color: var(--colab-primary-surface-color, white);\n",
       "                }\n",
       "\n",
       "                .geemap-colab .jupyter-button {\n",
       "                    --jp-layout-color3: var(--colab-primary-surface-color, white);\n",
       "                }\n",
       "            </style>\n",
       "            "
      ],
      "text/plain": [
       "<IPython.core.display.HTML object>"
      ]
     },
     "metadata": {},
     "output_type": "display_data"
    },
    {
     "name": "stdout",
     "output_type": "stream",
     "text": [
      "Exportación de: {'Image_2024-10-11 00:00:00'}\n",
      "Exportación de: {'Image_2024-10-27 00:00:00'}\n",
      "Exportación de: {'Image_2024-11-12 00:00:00'}\n",
      "Exportación de: {'Image_2024-11-28 00:00:00'}\n",
      "Exportación de: {'Image_2024-12-14 00:00:00'}\n",
      "Exportación de: {'Image_2024-12-30 00:00:00'}\n",
      "Exportación de: {'Image_2024-10-02 00:00:00'}\n",
      "Exportación de: {'Image_2024-10-18 00:00:00'}\n",
      "Exportación de: {'Image_2024-11-19 00:00:00'}\n",
      "Exportación de: {'Image_2024-12-05 00:00:00'}\n",
      "Exportación de: {'Image_2024-12-21 00:00:00'}\n",
      "Exportación de: {'Image_2025-01-06 00:00:00'}\n"
     ]
    }
   ],
   "source": [
    "cmap = ListedColormap(colors=palette) # Esto crea una lista de colores que puede ser integrado directamente en la figura\n",
    "\n",
    "\n",
    "for i in images_names[\"Images names\"]:\n",
    "    # Ruta del archivo TIFF\n",
    "    tiff_path = f\"gs://earth_engine_selene/Landsat/LST/{i}.tif\"\n",
    "\n",
    "    # Lectura del archivo\n",
    "    with rasterio.open(tiff_path) as src:\n",
    "        # Lectura del archivo\n",
    "        raster_data = src.read(1) # Creo que aqui se selecciona la banda de la imagen, hay que confirmar\n",
    "\n",
    "        fig, ax = plt.subplots(figsize=(8, 6))\n",
    "\n",
    "        # Plot del raster con la paleta personalizada y escala fija\n",
    "        img = ax.imshow(raster_data, cmap=cmap, vmin=0, vmax=50) # <-- Set vmin and vmax here\n",
    "\n",
    "        # Añadir una barra de colores (leyenda de NDVI)\n",
    "        cbar = fig.colorbar(img, ax=ax)\n",
    "        cbar.set_label('Temperature')\n",
    "\n",
    "        # -------------------------------------------------\n",
    "        # AÑADIR LA BARRA DE ESCALA (ScaleBar)\n",
    "        # -------------------------------------------------\n",
    "        # (1) Obtener la resolución de pixel (asumiendo un CRS en metros, por ejemplo UTM)\n",
    "        pixel_size_x = abs(src.transform[0])  # tamaño de pixel en X (ej. metros)\n",
    "\n",
    "        # (2) Crear y añadir la ScaleBar\n",
    "        scalebar = ScaleBar(\n",
    "            pixel_size_x,\n",
    "            units='m',         # 'm' para metros, 'km' si desea kilómetros\n",
    "            location='lower left',  # use espacio, no subrayado (p.ej. \"lower left\")\n",
    "            length_fraction=0.25    # porcentaje del ancho del eje que ocupa la scale bar\n",
    "        )\n",
    "        ax.add_artist(scalebar)\n",
    "\n",
    "        # Quitar los valores de los ejes X e Y\n",
    "        ax.set_xticks([])\n",
    "        ax.set_yticks([])\n",
    "        ax.set_xlabel('')\n",
    "        ax.set_ylabel('')\n",
    "\n",
    "        # Añadir título\n",
    "        ax.set_title(f\"Temperature {i}\")\n",
    "\n",
    "        # Guardar la figura en un archivo .png\n",
    "        fig.savefig(direction + f\"/data/07_model_output/LST/static maps/LST_{i}.png\")\n",
    "\n",
    "        # Cerrar la figura para no mostrarla en pantalla\n",
    "        plt.close(fig)\n",
    "\n",
    "        print(\"Exportación de:\", {i})"
   ]
  },
  {
   "cell_type": "markdown",
   "id": "a25a17a8be6f67b5",
   "metadata": {},
   "source": [
    "### 4.2) Mapas estáticos de imagen real"
   ]
  },
  {
   "cell_type": "code",
   "execution_count": 34,
   "id": "e9a5231fecaedb6e",
   "metadata": {
    "ExecuteTime": {
     "end_time": "2025-01-12T19:52:02.061103Z",
     "start_time": "2025-01-12T19:52:02.050622Z"
    }
   },
   "outputs": [
    {
     "data": {
      "text/html": [
       "\n",
       "            <style>\n",
       "                .geemap-dark {\n",
       "                    --jp-widgets-color: white;\n",
       "                    --jp-widgets-label-color: white;\n",
       "                    --jp-ui-font-color1: white;\n",
       "                    --jp-layout-color2: #454545;\n",
       "                    background-color: #383838;\n",
       "                }\n",
       "\n",
       "                .geemap-dark .jupyter-button {\n",
       "                    --jp-layout-color3: #383838;\n",
       "                }\n",
       "\n",
       "                .geemap-colab {\n",
       "                    background-color: var(--colab-primary-surface-color, white);\n",
       "                }\n",
       "\n",
       "                .geemap-colab .jupyter-button {\n",
       "                    --jp-layout-color3: var(--colab-primary-surface-color, white);\n",
       "                }\n",
       "            </style>\n",
       "            "
      ],
      "text/plain": [
       "<IPython.core.display.HTML object>"
      ]
     },
     "metadata": {},
     "output_type": "display_data"
    },
    {
     "data": {
      "image/png": "[encoded data removed]",
      "text/plain": [
       "<Figure size 1200x1200 with 1 Axes>"
      ]
     },
     "metadata": {},
     "output_type": "display_data"
    }
   ],
   "source": [
    "import rasterio\n",
    "import matplotlib.pyplot as plt\n",
    "import numpy as np\n",
    "\n",
    "# Path to the GeoTIFF file\n",
    "path = \"gs://earth_engine_selene/Landsat/Real_Image/Image_2024-10-02 00:00:00.tif\"\n",
    "\n",
    "# Open the GeoTIFF file\n",
    "with rasterio.open(path) as src:\n",
    "    # Read the RGB bands\n",
    "    red = src.read(1)  # Band 1\n",
    "    green = src.read(2)  # Band 2\n",
    "    blue = src.read(3)  # Band 3\n",
    "\n",
    "    # Normalize the bands (for better visualization)\n",
    "    red = np.clip(red / red.max(), 0, 1)\n",
    "    green = np.clip(green / green.max(), 0, 1)\n",
    "    blue = np.clip(blue / blue.max(), 0, 1)\n",
    "\n",
    "    # Stack the bands into an RGB image\n",
    "    rgb_image = np.dstack((red, green, blue))\n",
    "\n",
    "# Plot the image\n",
    "plt.figure(figsize=(12, 12))\n",
    "plt.imshow(rgb_image)\n",
    "plt.axis('off')  # Turn off axes\n",
    "plt.title(\"Landsat Image (True Color)\")\n",
    "plt.show()\n"
   ]
  },
  {
   "cell_type": "markdown",
   "id": "7a3d188d06d5f23c",
   "metadata": {},
   "source": [
    "## Arreglar esto\n",
    "\n",
    "3.2) Estimación desde cero"
   ]
  },
  {
   "cell_type": "markdown",
   "id": "27134a05fba0796a",
   "metadata": {},
   "source": [
    "Fuentes a consultar:\n",
    "\n",
    "https://medium.com/@Riski-Saputra/mapping-land-surface-temperature-lst-using-landsat-8-imagery-in-arcmap-99bd64f2c3fa\n",
    "\n",
    "https://ris.utwente.nl/ws/portalfiles/portal/147322271/1_s2.0_S030324341930618X_main.pdf\n",
    "\n",
    "\n",
    "Leer este comentario:\n",
    "\n",
    "https://gis.stackexchange.com/questions/433305/error-calculating-lst-in-qgis\n",
    "\n",
    "\n",
    "**Capitulo 36) Heat Islands**\n",
    "\n",
    "\n",
    "\n",
    "LST is influenced by several factors including solar radiation, land cover type, soil moisture, and human activities. It’s typically measured using remote sensing techniques, primarily from satellites equipped with thermal infrared sensors. These sensors detect emitted thermal radiation from the Earth’s surface, allowing for the calculation of LST.\n",
    "\n",
    "\n",
    "En este notebook se seguira un esquema similar de procesamiento al de la siguiente imagen:\n",
    "\n",
    "\n",
    "<div style=\"text-align: center;\">\n",
    "    <img src=\"Images/Flow chart LST.png\" alt=\"Descripción de la imagen\" width=\"500\">\n",
    "</div>\n",
    "\n",
    "\n"
   ]
  },
  {
   "cell_type": "markdown",
   "id": "4053fedb80171486",
   "metadata": {},
   "source": []
  },
  {
   "cell_type": "code",
   "execution_count": null,
   "id": "32b4a1b684ff385e",
   "metadata": {
    "ExecuteTime": {
     "end_time": "2025-01-10T16:13:54.364894Z",
     "start_time": "2025-01-10T16:13:54.363221Z"
    }
   },
   "outputs": [],
   "source": []
  },
  {
   "cell_type": "code",
   "execution_count": null,
   "id": "e1f67abc",
   "metadata": {},
   "outputs": [],
   "source": []
  },
  {
   "cell_type": "markdown",
   "id": "d662d8417dbd9dfe",
   "metadata": {},
   "source": [
    "Conceptos relevantes:\n",
    "\n",
    "**1) SENSOR A UTILIZAR:** \n",
    " \n",
    " En este caso utilizaremos el satelite landsat 9 debido a su sensor infrarrojo térmico (Thermal Infrared Sensor (TIRS)), este se encuentra en la banda 10 y captura la luz en longitudes de onda de 10.6 - 11.9 µm. Vease la sigueinte imagen: \n",
    " \n",
    "<div style=\"text-align: center;\">\n",
    "    <img src=\"Images/Banda 10 landsat 9.png\" alt=\"Descripción de la imagen\" width=\"500\">\n",
    "</div>\n",
    " \n",
    "Esta banda tiene una resolución spacial de 30 metros. The Thermal Band (B10) represents land surface temperature but needs scaling.\n",
    "\n",
    "\n",
    "**2) CALCULOS** \n",
    "\n",
    "Las imagenes (archivos raster del satelite) tienen valores en cada pixel. Sin embargo, estos valores no representan necesariamente el fenómeno físico que queremos observar de la imagen. En este caso la temperatura. When you download Landsat 9 Level-2 data, the raw pixel values (called Digital Numbers or DN) must be converted to physical values like reflectance or temperature. This process is called radiometric calibration.\n",
    "\n",
    "**2.1)  Top of Atmospheric (TOA)**\n",
    "\n",
    "<div style=\"text-align: center;\">\n",
    "    <img src=\"Images/Top of Atmospheric (TOA).png\" alt=\"Descripción de la imagen\" width=\"500\">\n",
    "</div>\n",
    "\n",
    "Raw Digital Numbers (DN) from Landsat's thermal bands (typically Band 10 for Landsat 8/9) must first be converted to TOA spectral radiance.\n",
    "TOA radiance accounts for the energy measured by the satellite at the top of the atmosphere, but it does not represent ground temperature directly.\n",
    "\n",
    "TOA (Top of Atmosphere) se refiere a la cantidad de radiación electromagnética (luz) que es medida por un sensor satelital antes de que haya sido afectada por la atmósfera o la superficie terrestre. En otras palabras, es la radiancia o reflectancia que llega al sensor desde el espacio exterior, proveniente de la superficie terrestre y la atmósfera combinadas.\n",
    "\n",
    "[Fuentes Top of the Atmosphere (TOA)](https://www.un-spider.org/node/10958)\n",
    "\n",
    "\n",
    "**2.2)  Top of Atmosphere Brightness-Temperature (TOA BT)**\n",
    "  \n",
    "A partir de esta medición electromagnetica TOA (Top of Atmosphere) spectral radiance, es posible calcular la tempertura también en la alta atmosfera. Esto se hace con la siguiente ecuación: \n",
    "\n",
    "\n",
    "<div style=\"text-align: center;\">\n",
    "    <img src=\"Images/Top of atmosphere temperature.png\" alt=\"Descripción de la imagen\" width=\"500\">\n",
    "</div>\n",
    "\n",
    "\n",
    "El Top of Atmosphere Brightness Temperature (TOA BT) **es la temperatura aparente** de un objeto negro que emitiría la misma cantidad de radiación que la observada en la parte superior de la atmósfera (TOA) por el sensor del satélite. Se calcula a partir de la radiancia espectral TOA    (𝐿𝜆) y representa una medida de temperatura, pero aún no refleja la temperatura real de la superficie terrestre debido a los efectos de la atmósfera.\n",
    "\n",
    "TOA Brightness Temperature (TOA BT) es la temperatura derivada directamente de la radiancia captada por el sensor sin correcciones atmosféricas ni de emisividad.\n",
    "\n",
    "\n",
    "**2.3) Cálculo del NVDI**\n",
    "\n",
    " NDVI is used to quantify vegetation greenness and is useful in understanding vegetation density and assessing changes in plant health. NDVI is calculated as a ratio between the red (R) and near infrared (NIR) values in traditional fashion. In landsat-8, NIR values is in Band 5 and R values is in Band 4.\n",
    "\n",
    "\n",
    "<div style=\"text-align: center;\">\n",
    "    <img src=\"Images/NDVI.png\" alt=\"Descripción de la imagen\" width=\"500\">\n",
    "</div>\n",
    "\n",
    "\n",
    "\n",
    "**2.4) Cálculo del Proportion of Vegetation (PV)**\n",
    "\n",
    "PV is defined as the ratio of the vertical projection area of vegetation (containing leaves, stalks, and branches) on the ground to the total vegetation area (Deardorff, 1978).\n",
    "\n",
    "La Proporción de Vegetación (PV) es una estimación de la cantidad de vegetación que cubre un píxel individual en una imagen satelital. No se refiere a toda la imagen, sino que se calcula píxel por píxel. Su propósito es estimar qué fracción de la superficie está cubierta por vegetación, lo que influye directamente en el cálculo de la emisividad (E).\n",
    "\n",
    "<div style=\"text-align: center;\">\n",
    "    <img src=\"Images/PV.png\" alt=\"Descripción de la imagen\" width=\"500\">\n",
    "</div>\n",
    "\n",
    "\n",
    "<div style=\"text-align: center;\">\n",
    "    <img src=\"Images/PV interpratacion.png\" alt=\"Descripción de la imagen\" width=\"500\">\n",
    "</div>\n",
    "\n",
    "\n",
    "**2.5) Land Surface Temperature**\n",
    "\n",
    "\n",
    "<div style=\"text-align: center;\">\n",
    "    <img src=\"Images/LST.png\" alt=\"Descripción de la imagen\" width=\"500\">\n",
    "</div>\n",
    "\n",
    "\n"
   ]
  },
  {
   "cell_type": "code",
   "execution_count": 43,
   "id": "e26f8a70d610ce31",
   "metadata": {
    "ExecuteTime": {
     "end_time": "2025-01-01T03:31:36.450515Z",
     "start_time": "2025-01-01T03:31:36.443877Z"
    }
   },
   "outputs": [
    {
     "data": {
      "text/html": [
       "\n",
       "            <style>\n",
       "                .geemap-dark {\n",
       "                    --jp-widgets-color: white;\n",
       "                    --jp-widgets-label-color: white;\n",
       "                    --jp-ui-font-color1: white;\n",
       "                    --jp-layout-color2: #454545;\n",
       "                    background-color: #383838;\n",
       "                }\n",
       "\n",
       "                .geemap-dark .jupyter-button {\n",
       "                    --jp-layout-color3: #383838;\n",
       "                }\n",
       "\n",
       "                .geemap-colab {\n",
       "                    background-color: var(--colab-primary-surface-color, white);\n",
       "                }\n",
       "\n",
       "                .geemap-colab .jupyter-button {\n",
       "                    --jp-layout-color3: var(--colab-primary-surface-color, white);\n",
       "                }\n",
       "            </style>\n",
       "            "
      ],
      "text/plain": [
       "<IPython.core.display.HTML object>"
      ]
     },
     "metadata": {},
     "output_type": "display_data"
    }
   ],
   "source": [
    "# Define Area of Interest (AOI)\n",
    "aoi = ee.Geometry.Point([-99.1332, 19.4326])  # Example: Mexico City\n",
    "\n",
    "# Load Landsat 9 Surface Reflectance Collection\n",
    "landsat9 = ee.ImageCollection('LANDSAT/LC09/C02/T1_L2') \\\n",
    "             .filterBounds(aoi) \\\n",
    "             .filterDate('2023-01-01', '2023-12-31') \\\n",
    "             .filterMetadata('CLOUD_COVER', 'less_than', 10)"
   ]
  },
  {
   "cell_type": "code",
   "execution_count": 44,
   "id": "3a4659f23f399e26",
   "metadata": {
    "ExecuteTime": {
     "end_time": "2025-01-01T03:31:41.654192Z",
     "start_time": "2025-01-01T03:31:41.650963Z"
    }
   },
   "outputs": [
    {
     "data": {
      "text/html": [
       "\n",
       "            <style>\n",
       "                .geemap-dark {\n",
       "                    --jp-widgets-color: white;\n",
       "                    --jp-widgets-label-color: white;\n",
       "                    --jp-ui-font-color1: white;\n",
       "                    --jp-layout-color2: #454545;\n",
       "                    background-color: #383838;\n",
       "                }\n",
       "\n",
       "                .geemap-dark .jupyter-button {\n",
       "                    --jp-layout-color3: #383838;\n",
       "                }\n",
       "\n",
       "                .geemap-colab {\n",
       "                    background-color: var(--colab-primary-surface-color, white);\n",
       "                }\n",
       "\n",
       "                .geemap-colab .jupyter-button {\n",
       "                    --jp-layout-color3: var(--colab-primary-surface-color, white);\n",
       "                }\n",
       "            </style>\n",
       "            "
      ],
      "text/plain": [
       "<IPython.core.display.HTML object>"
      ]
     },
     "metadata": {},
     "output_type": "display_data"
    }
   ],
   "source": [
    "# Select the most recent image\n",
    "image = landsat9.first()"
   ]
  },
  {
   "cell_type": "code",
   "execution_count": 45,
   "id": "d3fa94a9aff801ca",
   "metadata": {},
   "outputs": [
    {
     "data": {
      "text/html": [
       "\n",
       "            <style>\n",
       "                .geemap-dark {\n",
       "                    --jp-widgets-color: white;\n",
       "                    --jp-widgets-label-color: white;\n",
       "                    --jp-ui-font-color1: white;\n",
       "                    --jp-layout-color2: #454545;\n",
       "                    background-color: #383838;\n",
       "                }\n",
       "\n",
       "                .geemap-dark .jupyter-button {\n",
       "                    --jp-layout-color3: #383838;\n",
       "                }\n",
       "\n",
       "                .geemap-colab {\n",
       "                    background-color: var(--colab-primary-surface-color, white);\n",
       "                }\n",
       "\n",
       "                .geemap-colab .jupyter-button {\n",
       "                    --jp-layout-color3: var(--colab-primary-surface-color, white);\n",
       "                }\n",
       "            </style>\n",
       "            "
      ],
      "text/plain": [
       "<IPython.core.display.HTML object>"
      ]
     },
     "metadata": {},
     "output_type": "display_data"
    },
    {
     "data": {
      "application/vnd.jupyter.widget-view+json": {
       "model_id": "22a8f55b36f74f9baa90dfb73d40777f",
       "version_major": 2,
       "version_minor": 0
      },
      "text/plain": [
       "Map(center=[19.432599999999997, -99.1332], controls=(WidgetControl(options=['position', 'transparent_bg'], wid…"
      ]
     },
     "metadata": {},
     "output_type": "display_data"
    }
   ],
   "source": [
    "# Visualize the True Color Composite\n",
    "true_color = {\n",
    "    'bands': ['SR_B4', 'SR_B3', 'SR_B2'],\n",
    "    'min': 0,\n",
    "    'max': 30000,\n",
    "    'gamma': 1.4\n",
    "}\n",
    "\n",
    "# Apply Scaling Factors (Required for L2 products)\n",
    "def scale_image(image):\n",
    "    sr = image.select('SR_B.*').multiply(0.0000275).add(-0.2)  # Surface Reflectance\n",
    "    tir = image.select('ST_B10').multiply(0.00341802).add(149.0)  # Thermal Band 10\n",
    "    return image.addBands(sr, overwrite=True).addBands(tir, overwrite=True)\n",
    "\n",
    "image = scale_image(image)\n",
    "\n",
    "# Calculate NDVI (for Emissivity Estimation)\n",
    "ndvi = image.normalizedDifference(['SR_B5', 'SR_B4']).rename('NDVI')\n",
    "\n",
    "# Estimate Land Surface Emissivity (LSE) using NDVI\n",
    "def calculate_emissivity(ndvi):\n",
    "    return ndvi.expression(\n",
    "        '0.004 * NDVI + 0.986', {\n",
    "            'NDVI': ndvi\n",
    "        }).rename('Emissivity')\n",
    "\n",
    "emissivity = calculate_emissivity(ndvi)\n",
    "\n",
    "# Calculate Land Surface Temperature (LST) in Kelvin\n",
    "lst = image.select('ST_B10').divide(emissivity).rename('LST')\n",
    "\n",
    "# Convert LST to Celsius\n",
    "lst_celsius = lst.subtract(273.15).rename('LST_Celsius')\n",
    "\n",
    "# Visualization Parameters for LST\n",
    "lst_vis = {\n",
    "    'min': 20,\n",
    "    'max': 40,\n",
    "    'palette': ['blue', 'cyan', 'green', 'yellow', 'red']\n",
    "}\n",
    "\n",
    "# Display on Map\n",
    "Map = geemap.Map()\n",
    "Map.centerObject(aoi, 10)\n",
    "Map.addLayer(image, true_color, \"Landsat 9 True Color\")\n",
    "Map.addLayer(lst_celsius, lst_vis, \"Land Surface Temperature (°C)\")\n",
    "Map"
   ]
  },
  {
   "cell_type": "code",
   "execution_count": 29,
   "id": "8182d2036fcfad9",
   "metadata": {
    "ExecuteTime": {
     "end_time": "2025-01-11T21:31:26.161934Z",
     "start_time": "2025-01-11T21:31:25.575206Z"
    }
   },
   "outputs": [
    {
     "data": {
      "text/html": [
       "\n",
       "            <style>\n",
       "                .geemap-dark {\n",
       "                    --jp-widgets-color: white;\n",
       "                    --jp-widgets-label-color: white;\n",
       "                    --jp-ui-font-color1: white;\n",
       "                    --jp-layout-color2: #454545;\n",
       "                    background-color: #383838;\n",
       "                }\n",
       "\n",
       "                .geemap-dark .jupyter-button {\n",
       "                    --jp-layout-color3: #383838;\n",
       "                }\n",
       "\n",
       "                .geemap-colab {\n",
       "                    background-color: var(--colab-primary-surface-color, white);\n",
       "                }\n",
       "\n",
       "                .geemap-colab .jupyter-button {\n",
       "                    --jp-layout-color3: var(--colab-primary-surface-color, white);\n",
       "                }\n",
       "            </style>\n",
       "            "
      ],
      "text/plain": [
       "<IPython.core.display.HTML object>"
      ]
     },
     "metadata": {},
     "output_type": "display_data"
    }
   ],
   "source": []
  },
  {
   "cell_type": "code",
   "execution_count": null,
   "id": "92e5b8dc9e8259f6",
   "metadata": {},
   "outputs": [],
   "source": []
  },
  {
   "cell_type": "code",
   "execution_count": null,
   "id": "50c6da65b69f40ac",
   "metadata": {},
   "outputs": [],
   "source": []
  },
  {
   "cell_type": "code",
   "execution_count": null,
   "id": "2a58180e5b895aa8",
   "metadata": {},
   "outputs": [],
   "source": []
  },
  {
   "cell_type": "markdown",
   "id": "77ecf994",
   "metadata": {},
   "source": [
    "### 3.3) Visualización de resultados"
   ]
  },
  {
   "cell_type": "code",
   "execution_count": 58,
   "id": "f0cc7d08",
   "metadata": {},
   "outputs": [
    {
     "data": {
      "text/html": [
       "\n",
       "            <style>\n",
       "                .geemap-dark {\n",
       "                    --jp-widgets-color: white;\n",
       "                    --jp-widgets-label-color: white;\n",
       "                    --jp-ui-font-color1: white;\n",
       "                    --jp-layout-color2: #454545;\n",
       "                    background-color: #383838;\n",
       "                }\n",
       "\n",
       "                .geemap-dark .jupyter-button {\n",
       "                    --jp-layout-color3: #383838;\n",
       "                }\n",
       "\n",
       "                .geemap-colab {\n",
       "                    background-color: var(--colab-primary-surface-color, white);\n",
       "                }\n",
       "\n",
       "                .geemap-colab .jupyter-button {\n",
       "                    --jp-layout-color3: var(--colab-primary-surface-color, white);\n",
       "                }\n",
       "            </style>\n",
       "            "
      ],
      "text/plain": [
       "<IPython.core.display.HTML object>"
      ]
     },
     "metadata": {},
     "output_type": "display_data"
    }
   ],
   "source": [
    "# Select only the LST band\n",
    "lst_band = lst_composite.select('LST_C')"
   ]
  },
  {
   "cell_type": "code",
   "execution_count": 60,
   "id": "a9776786",
   "metadata": {},
   "outputs": [
    {
     "data": {
      "text/html": [
       "\n",
       "            <style>\n",
       "                .geemap-dark {\n",
       "                    --jp-widgets-color: white;\n",
       "                    --jp-widgets-label-color: white;\n",
       "                    --jp-ui-font-color1: white;\n",
       "                    --jp-layout-color2: #454545;\n",
       "                    background-color: #383838;\n",
       "                }\n",
       "\n",
       "                .geemap-dark .jupyter-button {\n",
       "                    --jp-layout-color3: #383838;\n",
       "                }\n",
       "\n",
       "                .geemap-colab {\n",
       "                    background-color: var(--colab-primary-surface-color, white);\n",
       "                }\n",
       "\n",
       "                .geemap-colab .jupyter-button {\n",
       "                    --jp-layout-color3: var(--colab-primary-surface-color, white);\n",
       "                }\n",
       "            </style>\n",
       "            "
      ],
      "text/plain": [
       "<IPython.core.display.HTML object>"
      ]
     },
     "metadata": {},
     "output_type": "display_data"
    },
    {
     "data": {
      "application/vnd.jupyter.widget-view+json": {
       "model_id": "7091abd203aa43108c6d9a385b3f9267",
       "version_major": 2,
       "version_minor": 0
      },
      "text/plain": [
       "Map(center=[19.4326, -99.1332], controls=(WidgetControl(options=['position', 'transparent_bg'], widget=SearchD…"
      ]
     },
     "metadata": {},
     "output_type": "display_data"
    }
   ],
   "source": [
    "# Create a map\n",
    "Map = geemap.Map(center=[19.4326, -99.1332], zoom=10)\n",
    "\n",
    "# Define visualization parameters for temperature (in Celsius)\n",
    "# Adjust min/max according to typical LST values in your area\n",
    "lst_vis_params = {\n",
    "    'min': 10,   # Example lower bound in °C\n",
    "    'max': 45,   # Example upper bound in °C\n",
    "    'palette': ['blue', 'cyan', 'green', 'yellow', 'orange', 'red']\n",
    "}\n",
    "\n",
    "# Add the LST layer to the map\n",
    "Map.addLayer(lst_band, lst_vis_params, 'LST (Celsius)')\n",
    "\n",
    "# Display the map\n",
    "Map"
   ]
  },
  {
   "cell_type": "markdown",
   "id": "77765988",
   "metadata": {},
   "source": [
    "**INSPECCION DE PROPIEDADES**"
   ]
  },
  {
   "cell_type": "code",
   "execution_count": 46,
   "id": "044705e8",
   "metadata": {},
   "outputs": [
    {
     "data": {
      "text/html": [
       "\n",
       "            <style>\n",
       "                .geemap-dark {\n",
       "                    --jp-widgets-color: white;\n",
       "                    --jp-widgets-label-color: white;\n",
       "                    --jp-ui-font-color1: white;\n",
       "                    --jp-layout-color2: #454545;\n",
       "                    background-color: #383838;\n",
       "                }\n",
       "\n",
       "                .geemap-dark .jupyter-button {\n",
       "                    --jp-layout-color3: #383838;\n",
       "                }\n",
       "\n",
       "                .geemap-colab {\n",
       "                    background-color: var(--colab-primary-surface-color, white);\n",
       "                }\n",
       "\n",
       "                .geemap-colab .jupyter-button {\n",
       "                    --jp-layout-color3: var(--colab-primary-surface-color, white);\n",
       "                }\n",
       "            </style>\n",
       "            "
      ],
      "text/plain": [
       "<IPython.core.display.HTML object>"
      ]
     },
     "metadata": {},
     "output_type": "display_data"
    },
    {
     "name": "stdout",
     "output_type": "stream",
     "text": [
      "Temperatura máxima leida por el sensor en Celcius: 99.849941\n",
      "Algoritmo utilizado para la estimación de la temperatura superficial: 16:59:58.2162960Z\n",
      "Hora de la imagen: 16:59:58.2162960Z\n"
     ]
    },
    {
     "data": {
      "text/plain": [
       "99.849941"
      ]
     },
     "execution_count": 46,
     "metadata": {},
     "output_type": "execute_result"
    }
   ],
   "source": [
    "# Propiedades: \n",
    "#https://developers.google.com/earth-engine/datasets/catalog/LANDSAT_LC09_C02_T1_L2\n",
    "    \n",
    "# Inpseccionamos los metadados de la imagen \n",
    "\n",
    "# Temperatura máxima \n",
    "max_temp= k1 = image.get('TEMPERATURE_MAXIMUM_BAND_ST_B10').getInfo()\n",
    "max_temp = max_temp -273.15\n",
    "\n",
    "# Temperatura minima \n",
    "\n",
    "\n",
    "# Algoritmo utilizado para el cálculo de la temp superficial \n",
    "LST_algoritm = image.get('ALGORITHM_SOURCE_SURFACE_TEMPERATURE').getInfo()\n",
    "\n",
    "#Hora de la imagen \n",
    "scene_time = LST_algoritm = image.get('SCENE_CENTER_TIME').getInfo() # Esto esta en UTC, se tiene que corregir, en el caso de la ciudad de mexico es -6 horas, por lo que esto es alrededor de las 10 de la maañana com 59 minutos \n",
    "\n",
    "\n",
    "print (\"Temperatura máxima leida por el sensor en Celcius:\", max_temp)\n",
    "print (\"Algoritmo utilizado para la estimación de la temperatura superficial:\",LST_algoritm)\n",
    "print (\"Hora de la imagen:\",scene_time)\n",
    "\n",
    "max_temp"
   ]
  },
  {
   "cell_type": "code",
   "execution_count": null,
   "id": "64acaca4472d39cd",
   "metadata": {},
   "outputs": [],
   "source": []
  },
  {
   "cell_type": "markdown",
   "id": "dce48993",
   "metadata": {},
   "source": [
    "**NOTAS ADICIONALES**\n",
    "\n",
    "\n",
    "**Hora de la temperatura:** \n",
    "Landsat satellites (including Landsat 9) have a near-polar, sun-synchronous orbit, which means they generally pass over any given location at (roughly) the same local time on each revisit. For Landsat 8 and 9, the local equatorial crossing time is around 10:00–10:15 a.m. solar time. Consequently, the temperature you see from a single Landsat scene typically corresponds to a mid-morning overpass.\n",
    "\n",
    "\n",
    "Converting to Local Time\n",
    "\n",
    "If you want to know what local time that corresponds to, you have to subtract or add your local UTC offset. For example, if your local time zone is UTC-6 (like Central Standard Time in Mexico City for part of the year):\n",
    "\n",
    "Local Time≈16:59:58UTC−6 hours=10:59:58local\n",
    "\n"
   ]
  },
  {
   "cell_type": "code",
   "execution_count": null,
   "id": "45d65ca5",
   "metadata": {},
   "outputs": [],
   "source": []
  },
  {
   "cell_type": "code",
   "execution_count": 23,
   "id": "b4830c9a",
   "metadata": {},
   "outputs": [
    {
     "data": {
      "text/html": [
       "\n",
       "            <style>\n",
       "                .geemap-dark {\n",
       "                    --jp-widgets-color: white;\n",
       "                    --jp-widgets-label-color: white;\n",
       "                    --jp-ui-font-color1: white;\n",
       "                    --jp-layout-color2: #454545;\n",
       "                    background-color: #383838;\n",
       "                }\n",
       "\n",
       "                .geemap-dark .jupyter-button {\n",
       "                    --jp-layout-color3: #383838;\n",
       "                }\n",
       "\n",
       "                .geemap-colab {\n",
       "                    background-color: var(--colab-primary-surface-color, white);\n",
       "                }\n",
       "\n",
       "                .geemap-colab .jupyter-button {\n",
       "                    --jp-layout-color3: var(--colab-primary-surface-color, white);\n",
       "                }\n",
       "            </style>\n",
       "            "
      ],
      "text/plain": [
       "<IPython.core.display.HTML object>"
      ]
     },
     "metadata": {},
     "output_type": "display_data"
    },
    {
     "name": "stdout",
     "output_type": "stream",
     "text": [
      "Valor máximo de temperatura (K): 372.999941\n"
     ]
    },
    {
     "data": {
      "application/vnd.jupyter.widget-view+json": {
       "model_id": "cd011b39ce6b4c8ba6f6b752c56d6b1c",
       "version_major": 2,
       "version_minor": 0
      },
      "text/plain": [
       "Map(center=[19.432599999999997, -99.1332], controls=(WidgetControl(options=['position', 'transparent_bg'], wid…"
      ]
     },
     "metadata": {},
     "output_type": "display_data"
    }
   ],
   "source": [
    "import ee\n",
    "import geemap\n",
    "\n",
    "# Inicializar Earth Engine\n",
    "ee.Initialize()\n",
    "\n",
    "# Definir el área de interés (Ciudad de México)\n",
    "aoi = ee.Geometry.Point([-99.1332, 19.4326])\n",
    "\n",
    "# Cargar Landsat 9 Level 2 Collection (LST ya corregida)\n",
    "landsat9 = ee.ImageCollection('LANDSAT/LC09/C02/T1_L2') \\\n",
    "             .filterBounds(aoi) \\\n",
    "             .filterDate('2023-01-01', '2023-12-31') \\\n",
    "             .filterMetadata('CLOUD_COVER', 'less_than', 10)\n",
    "\n",
    "# Seleccionar la primera imagen\n",
    "image = landsat9.first()\n",
    "\n",
    "# Obtener el valor máximo de temperatura desde los metadatos\n",
    "temperature_max = image.get('TEMPERATURE_MAXIMUM_BAND_ST_B10').getInfo()\n",
    "\n",
    "print(f\"Valor máximo de temperatura (K): {temperature_max}\")\n",
    "\n",
    "# Convertir Temperatura de Superficie (ST_B10) de Kelvin a Celsius\n",
    "lst_celsius = image.select('ST_B10').subtract(273.15).rename('LST_Celsius')\n",
    "\n",
    "# Visualización de la imagen en color verdadero (True Color Composite)\n",
    "true_color = {\n",
    "    'bands': ['SR_B4', 'SR_B3', 'SR_B2'],\n",
    "    'min': 0,\n",
    "    'max': 30000,\n",
    "    'gamma': 1.4\n",
    "}\n",
    "\n",
    "# Visualización de la temperatura de superficie (LST)\n",
    "lst_vis = {\n",
    "    'min': 20,  # Rango típico de temperatura en °C\n",
    "    'max': 40,\n",
    "    'palette': ['blue', 'cyan', 'green', 'yellow', 'red']\n",
    "}\n",
    "\n",
    "# Mostrar en mapa\n",
    "Map = geemap.Map()\n",
    "Map.centerObject(aoi, 10)\n",
    "Map.addLayer(image, true_color, \"Landsat 9 True Color\")\n",
    "Map.addLayer(lst_celsius, lst_vis, \"Land Surface Temperature (°C)\")\n",
    "Map\n"
   ]
  },
  {
   "cell_type": "code",
   "execution_count": null,
   "id": "f4e37810",
   "metadata": {},
   "outputs": [],
   "source": []
  },
  {
   "cell_type": "code",
   "execution_count": null,
   "id": "a4da3ccf",
   "metadata": {},
   "outputs": [],
   "source": []
  }
 ],
 "metadata": {
  "kernelspec": {
   "display_name": "Python 3 (ipykernel)",
   "language": "python",
   "name": "python3"
  },
  "language_info": {
   "codemirror_mode": {
    "name": "ipython",
    "version": 3
   },
   "file_extension": ".py",
   "mimetype": "text/x-python",
   "name": "python",
   "nbconvert_exporter": "python",
   "pygments_lexer": "ipython3",
   "version": "3.13.1"
  }
 },
 "nbformat": 4,
 "nbformat_minor": 5
}
