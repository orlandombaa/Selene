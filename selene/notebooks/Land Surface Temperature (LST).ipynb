{
 "cells": [
  {
   "cell_type": "markdown",
   "id": "be5a8b1bed467c31",
   "metadata": {},
   "source": [
    "# Land Surface Temperature  (LST)\n",
    "\n",
    "\n",
    "Fuentes a consultar: \n",
    "\n",
    "https://medium.com/@Riski-Saputra/mapping-land-surface-temperature-lst-using-landsat-8-imagery-in-arcmap-99bd64f2c3fa\n",
    "\n",
    "\n",
    "Leer este comentario: \n",
    "\n",
    "https://gis.stackexchange.com/questions/433305/error-calculating-lst-in-qgis\n",
    "\n",
    "\n",
    "**Capitulo 36) Heat Islands**"
   ]
  },
  {
   "cell_type": "markdown",
   "id": "5314cafc91ebb638",
   "metadata": {},
   "source": [
    "**IMPORTACION DE LIBRERIAS**"
   ]
  },
  {
   "cell_type": "code",
   "execution_count": 3,
   "id": "d7639cece67069c9",
   "metadata": {
    "ExecuteTime": {
     "end_time": "2025-01-01T03:30:41.560113Z",
     "start_time": "2025-01-01T03:30:41.557098Z"
    }
   },
   "outputs": [
    {
     "data": {
      "text/html": [
       "\n",
       "            <style>\n",
       "                .geemap-dark {\n",
       "                    --jp-widgets-color: white;\n",
       "                    --jp-widgets-label-color: white;\n",
       "                    --jp-ui-font-color1: white;\n",
       "                    --jp-layout-color2: #454545;\n",
       "                    background-color: #383838;\n",
       "                }\n",
       "\n",
       "                .geemap-dark .jupyter-button {\n",
       "                    --jp-layout-color3: #383838;\n",
       "                }\n",
       "\n",
       "                .geemap-colab {\n",
       "                    background-color: var(--colab-primary-surface-color, white);\n",
       "                }\n",
       "\n",
       "                .geemap-colab .jupyter-button {\n",
       "                    --jp-layout-color3: var(--colab-primary-surface-color, white);\n",
       "                }\n",
       "            </style>\n",
       "            "
      ],
      "text/plain": [
       "<IPython.core.display.HTML object>"
      ]
     },
     "metadata": {},
     "output_type": "display_data"
    }
   ],
   "source": [
    "import ee\n",
    "import geemap\n",
    "import os "
   ]
  },
  {
   "cell_type": "markdown",
   "id": "5e2a3c978bcf660a",
   "metadata": {},
   "source": [
    "## 1) Autentificación "
   ]
  },
  {
   "cell_type": "code",
   "execution_count": 4,
   "id": "34548f9ffea7e4a8",
   "metadata": {
    "ExecuteTime": {
     "end_time": "2025-01-01T03:30:43.446759Z",
     "start_time": "2025-01-01T03:30:42.079516Z"
    }
   },
   "outputs": [
    {
     "data": {
      "text/html": [
       "\n",
       "            <style>\n",
       "                .geemap-dark {\n",
       "                    --jp-widgets-color: white;\n",
       "                    --jp-widgets-label-color: white;\n",
       "                    --jp-ui-font-color1: white;\n",
       "                    --jp-layout-color2: #454545;\n",
       "                    background-color: #383838;\n",
       "                }\n",
       "\n",
       "                .geemap-dark .jupyter-button {\n",
       "                    --jp-layout-color3: #383838;\n",
       "                }\n",
       "\n",
       "                .geemap-colab {\n",
       "                    background-color: var(--colab-primary-surface-color, white);\n",
       "                }\n",
       "\n",
       "                .geemap-colab .jupyter-button {\n",
       "                    --jp-layout-color3: var(--colab-primary-surface-color, white);\n",
       "                }\n",
       "            </style>\n",
       "            "
      ],
      "text/plain": [
       "<IPython.core.display.HTML object>"
      ]
     },
     "metadata": {},
     "output_type": "display_data"
    }
   ],
   "source": [
    "# 1) Obtención de la dirección de trabajo \n",
    "direction = os.getcwd()\n",
    "\n",
    "# Remove the last part of the path\n",
    "direction = os.path.dirname(direction)\n",
    "\n",
    "# Dirección de la llave \n",
    "service_account = direction + '/conf/local/gcp-for-data-science-397913-4fd843feede1.json'\n",
    "\n",
    "# Autentificación \n",
    "credentials = ee.ServiceAccountCredentials(email=None, key_file=service_account)\n",
    "ee.Initialize(credentials)"
   ]
  },
  {
   "metadata": {},
   "cell_type": "markdown",
   "source": "## 2) Importación de imagenes ",
   "id": "4053fedb80171486"
  },
  {
   "metadata": {},
   "cell_type": "code",
   "outputs": [],
   "execution_count": null,
   "source": "",
   "id": "1f6faf6a6f9c92c1"
  },
  {
   "metadata": {},
   "cell_type": "code",
   "outputs": [],
   "execution_count": null,
   "source": "",
   "id": "32b4a1b684ff385e"
  },
  {
   "metadata": {},
   "cell_type": "markdown",
   "source": [
    "## 3) Procesamiento \n",
    "Conceptos relevantes:\n",
    "\n",
    "**SENSOR A UTILIZAR:**  En este caso utulizaremos landsat 9 debido a su sensor infrarrojo termico (Thermal Infrared Sensor (TIRS))\n",
    "\n",
    "\n",
    "\n",
    "\n",
    "\n"
   ],
   "id": "d662d8417dbd9dfe"
  },
  {
   "metadata": {},
   "cell_type": "code",
   "outputs": [],
   "execution_count": null,
   "source": "### AQUI VOY !!!!, hay que hacer bien la descripción del procesamiento que estoy haciendo en la parte de arriba. ",
   "id": "b1061a46bf9d422a"
  },
  {
   "cell_type": "code",
   "execution_count": 5,
   "id": "e26f8a70d610ce31",
   "metadata": {
    "ExecuteTime": {
     "end_time": "2025-01-01T03:31:36.450515Z",
     "start_time": "2025-01-01T03:31:36.443877Z"
    }
   },
   "outputs": [
    {
     "data": {
      "text/html": [
       "\n",
       "            <style>\n",
       "                .geemap-dark {\n",
       "                    --jp-widgets-color: white;\n",
       "                    --jp-widgets-label-color: white;\n",
       "                    --jp-ui-font-color1: white;\n",
       "                    --jp-layout-color2: #454545;\n",
       "                    background-color: #383838;\n",
       "                }\n",
       "\n",
       "                .geemap-dark .jupyter-button {\n",
       "                    --jp-layout-color3: #383838;\n",
       "                }\n",
       "\n",
       "                .geemap-colab {\n",
       "                    background-color: var(--colab-primary-surface-color, white);\n",
       "                }\n",
       "\n",
       "                .geemap-colab .jupyter-button {\n",
       "                    --jp-layout-color3: var(--colab-primary-surface-color, white);\n",
       "                }\n",
       "            </style>\n",
       "            "
      ],
      "text/plain": [
       "<IPython.core.display.HTML object>"
      ]
     },
     "metadata": {},
     "output_type": "display_data"
    }
   ],
   "source": [
    "# Define Area of Interest (AOI)\n",
    "aoi = ee.Geometry.Point([-99.1332, 19.4326])  # Example: Mexico City\n",
    "\n",
    "# Load Landsat 9 Surface Reflectance Collection\n",
    "landsat9 = ee.ImageCollection('LANDSAT/LC09/C02/T1_L2') \\\n",
    "             .filterBounds(aoi) \\\n",
    "             .filterDate('2023-01-01', '2023-12-31') \\\n",
    "             .filterMetadata('CLOUD_COVER', 'less_than', 10)"
   ]
  },
  {
   "cell_type": "code",
   "execution_count": 6,
   "id": "3a4659f23f399e26",
   "metadata": {
    "ExecuteTime": {
     "end_time": "2025-01-01T03:31:41.654192Z",
     "start_time": "2025-01-01T03:31:41.650963Z"
    }
   },
   "outputs": [
    {
     "data": {
      "text/html": [
       "\n",
       "            <style>\n",
       "                .geemap-dark {\n",
       "                    --jp-widgets-color: white;\n",
       "                    --jp-widgets-label-color: white;\n",
       "                    --jp-ui-font-color1: white;\n",
       "                    --jp-layout-color2: #454545;\n",
       "                    background-color: #383838;\n",
       "                }\n",
       "\n",
       "                .geemap-dark .jupyter-button {\n",
       "                    --jp-layout-color3: #383838;\n",
       "                }\n",
       "\n",
       "                .geemap-colab {\n",
       "                    background-color: var(--colab-primary-surface-color, white);\n",
       "                }\n",
       "\n",
       "                .geemap-colab .jupyter-button {\n",
       "                    --jp-layout-color3: var(--colab-primary-surface-color, white);\n",
       "                }\n",
       "            </style>\n",
       "            "
      ],
      "text/plain": [
       "<IPython.core.display.HTML object>"
      ]
     },
     "metadata": {},
     "output_type": "display_data"
    }
   ],
   "source": [
    "# Select the most recent image\n",
    "image = landsat9.first()"
   ]
  },
  {
   "cell_type": "code",
   "execution_count": 7,
   "id": "d3fa94a9aff801ca",
   "metadata": {},
   "outputs": [
    {
     "data": {
      "text/html": [
       "\n",
       "            <style>\n",
       "                .geemap-dark {\n",
       "                    --jp-widgets-color: white;\n",
       "                    --jp-widgets-label-color: white;\n",
       "                    --jp-ui-font-color1: white;\n",
       "                    --jp-layout-color2: #454545;\n",
       "                    background-color: #383838;\n",
       "                }\n",
       "\n",
       "                .geemap-dark .jupyter-button {\n",
       "                    --jp-layout-color3: #383838;\n",
       "                }\n",
       "\n",
       "                .geemap-colab {\n",
       "                    background-color: var(--colab-primary-surface-color, white);\n",
       "                }\n",
       "\n",
       "                .geemap-colab .jupyter-button {\n",
       "                    --jp-layout-color3: var(--colab-primary-surface-color, white);\n",
       "                }\n",
       "            </style>\n",
       "            "
      ],
      "text/plain": [
       "<IPython.core.display.HTML object>"
      ]
     },
     "metadata": {},
     "output_type": "display_data"
    },
    {
     "data": {
      "application/vnd.jupyter.widget-view+json": {
       "model_id": "a552aa4789ac4632a2b9138fa0823e24",
       "version_major": 2,
       "version_minor": 0
      },
      "text/plain": [
       "Map(center=[19.432599999999997, -99.1332], controls=(WidgetControl(options=['position', 'transparent_bg'], wid…"
      ]
     },
     "metadata": {},
     "output_type": "display_data"
    }
   ],
   "source": [
    "# Visualize the True Color Composite\n",
    "true_color = {\n",
    "    'bands': ['SR_B4', 'SR_B3', 'SR_B2'],\n",
    "    'min': 0,\n",
    "    'max': 30000,\n",
    "    'gamma': 1.4\n",
    "}\n",
    "\n",
    "# Apply Scaling Factors (Required for L2 products)\n",
    "def scale_image(image):\n",
    "    sr = image.select('SR_B.*').multiply(0.0000275).add(-0.2)  # Surface Reflectance\n",
    "    tir = image.select('ST_B10').multiply(0.00341802).add(149.0)  # Thermal Band 10\n",
    "    return image.addBands(sr, overwrite=True).addBands(tir, overwrite=True)\n",
    "\n",
    "image = scale_image(image)\n",
    "\n",
    "# Calculate NDVI (for Emissivity Estimation)\n",
    "ndvi = image.normalizedDifference(['SR_B5', 'SR_B4']).rename('NDVI')\n",
    "\n",
    "# Estimate Land Surface Emissivity (LSE) using NDVI\n",
    "def calculate_emissivity(ndvi):\n",
    "    return ndvi.expression(\n",
    "        '0.004 * NDVI + 0.986', {\n",
    "            'NDVI': ndvi\n",
    "        }).rename('Emissivity')\n",
    "\n",
    "emissivity = calculate_emissivity(ndvi)\n",
    "\n",
    "# Calculate Land Surface Temperature (LST) in Kelvin\n",
    "lst = image.select('ST_B10').divide(emissivity).rename('LST')\n",
    "\n",
    "# Convert LST to Celsius\n",
    "lst_celsius = lst.subtract(273.15).rename('LST_Celsius')\n",
    "\n",
    "# Visualization Parameters for LST\n",
    "lst_vis = {\n",
    "    'min': 20,\n",
    "    'max': 40,\n",
    "    'palette': ['blue', 'cyan', 'green', 'yellow', 'red']\n",
    "}\n",
    "\n",
    "# Display on Map\n",
    "Map = geemap.Map()\n",
    "Map.centerObject(aoi, 10)\n",
    "Map.addLayer(image, true_color, \"Landsat 9 True Color\")\n",
    "Map.addLayer(lst_celsius, lst_vis, \"Land Surface Temperature (°C)\")\n",
    "Map"
   ]
  },
  {
   "cell_type": "code",
   "execution_count": null,
   "id": "561d8578",
   "metadata": {},
   "outputs": [],
   "source": []
  }
 ],
 "metadata": {
  "kernelspec": {
   "display_name": "Python 3 (ipykernel)",
   "language": "python",
   "name": "python3"
  },
  "language_info": {
   "codemirror_mode": {
    "name": "ipython",
    "version": 3
   },
   "file_extension": ".py",
   "mimetype": "text/x-python",
   "name": "python",
   "nbconvert_exporter": "python",
   "pygments_lexer": "ipython3",
   "version": "3.11.4"
  }
 },
 "nbformat": 4,
 "nbformat_minor": 5
}
