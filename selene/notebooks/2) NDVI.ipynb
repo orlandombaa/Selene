{
 "cells": [
  {
   "metadata": {},
   "cell_type": "markdown",
   "source": [
    "# Cálculo de NDVI \n",
    "\n",
    "En este notebook se generará la métrica de NDVI. \n",
    "\n",
    "NDVI (Normalized Difference Vegetation Index) is a widely used remote sensing index to measure vegetation health, density, and vigor. It works by leveraging the difference in reflectance properties of vegetation in the red and near-infrared (NIR) portions of the electromagnetic spectrum.\n",
    "\n",
    "Healthy vegetation absorbs most of the red light (used in photosynthesis) and reflects a significant portion of near-infrared light. Unhealthy or sparse vegetation reflects more red light and less near-infrared light.\n",
    "\n",
    "<div style=\"text-align: center;\">\n",
    "    <img src=\"Images/NVDI_formula.png\" alt=\"Descripción de la imagen\" width=\"500\">\n",
    "</div>\n",
    " \n",
    "\n",
    "\n"
   ],
   "id": "421f33b0083f6599"
  },
  {
   "metadata": {},
   "cell_type": "markdown",
   "source": [
    "## 1) Lectura de datos \n",
    "Las imagenes satelitales se almacenaron en un bucket de GCP, por lo que serán leídas de ahi mismo.\n",
    "\n",
    "API Reference: https://developers.google.com/earth-engine/apidocs/ee-image-loadgeotiff"
   ],
   "id": "46efced9abce13ec"
  },
  {
   "metadata": {},
   "cell_type": "code",
   "outputs": [],
   "execution_count": null,
   "source": "",
   "id": "2b054b8d75e5e14b"
  },
  {
   "metadata": {},
   "cell_type": "code",
   "outputs": [],
   "execution_count": null,
   "source": [
    "## EJEMPLO \n",
    "\n",
    "# Path to the image in the GCS bucket\n",
    "gcs_path = 'gs://earth_engine_selene/sentinel2/image.tif'\n",
    "\n",
    "# Load the image from the GCS bucket\n",
    "image = ee.Image.loadGeoTIFF(gcs_path)\n",
    "\n",
    "# Print image information\n",
    "print(image.getInfo())\n",
    "\n",
    "# Example: Clip to a region and visualize or process\n",
    "region = ee.Geometry.Polygon(\n",
    "    [[[-103.0, 20.0], [-103.0, 20.5], [-102.5, 20.5], [-102.5, 20.0], [-103.0, 20.0]]]\n",
    ")\n",
    "\n",
    "# Clip image to the region of interest\n",
    "clipped_image = image.clip(region)\n",
    "\n",
    "# Example process: Calculate NDVI (if bands are organized)\n",
    "ndvi = clipped_image.normalizedDifference(['B8', 'B4']).rename('NDVI')  # Assuming band names\n",
    "print(\"NDVI Calculated\")\n",
    "\n",
    "# Export or display results\n",
    "url = ndvi.getThumbURL({'min': -1, 'max': 1, 'palette': ['blue', 'white', 'green']})\n",
    "print(f\"NDVI Preview URL: {url}\")\n"
   ],
   "id": "48bba7854eb87c94"
  },
  {
   "metadata": {},
   "cell_type": "code",
   "outputs": [],
   "execution_count": null,
   "source": "",
   "id": "b05ade184eb91a25"
  },
  {
   "metadata": {},
   "cell_type": "code",
   "outputs": [],
   "execution_count": null,
   "source": "",
   "id": "486ed06073c7a25c"
  }
 ],
 "metadata": {
  "kernelspec": {
   "display_name": "Python 3",
   "language": "python",
   "name": "python3"
  },
  "language_info": {
   "codemirror_mode": {
    "name": "ipython",
    "version": 2
   },
   "file_extension": ".py",
   "mimetype": "text/x-python",
   "name": "python",
   "nbconvert_exporter": "python",
   "pygments_lexer": "ipython2",
   "version": "2.7.6"
  }
 },
 "nbformat": 4,
 "nbformat_minor": 5
}
