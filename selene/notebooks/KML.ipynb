{
 "cells": [
  {
   "metadata": {},
   "cell_type": "markdown",
   "source": [
    "# KML to GeoJSON\n",
    "\n",
    "Esta scrip convertira un archivo KML en GeoJSON con la finalidad de que pueda ser utilizada como una geometria de earth engine"
   ],
   "id": "a346d8572b66c477"
  },
  {
   "metadata": {},
   "cell_type": "markdown",
   "source": "**IMPORTACION DE LIBRERIAS**",
   "id": "f0a6dec78ad31c89"
  },
  {
   "metadata": {
    "ExecuteTime": {
     "end_time": "2025-01-11T21:12:28.563854Z",
     "start_time": "2025-01-11T21:12:28.560347Z"
    }
   },
   "cell_type": "code",
   "source": [
    "import os\n",
    "import geopandas as gpd\n",
    "import matplotlib.pyplot as plt\n",
    "import json"
   ],
   "id": "ba37e810feaaf41a",
   "outputs": [],
   "execution_count": 7
  },
  {
   "metadata": {
    "ExecuteTime": {
     "end_time": "2025-01-11T21:12:04.547120Z",
     "start_time": "2025-01-11T21:12:04.544659Z"
    }
   },
   "cell_type": "code",
   "source": [
    "# 1) Obtención de la dirección de trabajo\n",
    "direction = os.getcwd()\n",
    "\n",
    "# Remove the last part of the path\n",
    "direction = os.path.dirname(direction)\n"
   ],
   "id": "45ab9da31f748564",
   "outputs": [],
   "execution_count": 5
  },
  {
   "metadata": {},
   "cell_type": "markdown",
   "source": "**CARGA DEL KML**",
   "id": "1e96752e6f086356"
  },
  {
   "metadata": {
    "ExecuteTime": {
     "end_time": "2025-01-11T21:12:05.921302Z",
     "start_time": "2025-01-11T21:12:05.729214Z"
    }
   },
   "cell_type": "code",
   "source": [
    "# Direction of the KML\n",
    "kml_file = direction + \"/data/01_raw/Agricultura.kml\"\n",
    "\n",
    "# Nombre del archivo GeoJson a exportar\n",
    "geojson_file = direction + \"/data/01_raw/Agricultura.geojson\"\n",
    "\n",
    "# 1) Lectura del kml\n",
    "gdf = gpd.read_file(filename=kml_file, driver=\"KML\")\n",
    "\n",
    "# 2) Exportación del kml a un Geo JSON\n",
    "gdf.to_file(filename=geojson_file, driver=\"GeoJSON\")\n",
    "\n",
    "# Plot using Geopandas\n",
    "gdf.plot()\n",
    "\n",
    "# Customize the plot\n",
    "plt.title(\"KML File Visualization\")\n",
    "plt.show()"
   ],
   "id": "bc98823e7d3a6f68",
   "outputs": [
    {
     "data": {
      "text/plain": [
       "<Figure size 640x480 with 1 Axes>"
      ],
      "image/png": "[encoded data removed]"
     },
     "metadata": {},
     "output_type": "display_data"
    }
   ],
   "execution_count": 6
  },
  {
   "metadata": {},
   "cell_type": "markdown",
   "source": [
    "**TRANFORMACION DEL JSON**\n",
    "\n",
    "Tiene unos datos (elevación) que se deben de eliminar"
   ],
   "id": "71fd6ca2a842ff36"
  },
  {
   "metadata": {
    "ExecuteTime": {
     "end_time": "2025-01-11T21:12:35.065478Z",
     "start_time": "2025-01-11T21:12:35.060650Z"
    }
   },
   "cell_type": "code",
   "source": [
    "# Step 1: Load the GeoJSON file\n",
    "with open(geojson_file, \"r\") as f:\n",
    "    geojson_data = json.load(f)\n",
    "\n",
    "geojson_data[\"features\"][0][\"geometry\"] # IMPORTANTE: Vease como contiene una tercera coordenada que es la altura (los valores de 0) , se deben de retirar"
   ],
   "id": "625fc2e74a0a7177",
   "outputs": [
    {
     "data": {
      "text/plain": [
       "{'type': 'Polygon',\n",
       " 'coordinates': [[[-107.6730266244965, 24.75766085153008, 0.0],\n",
       "   [-107.6353327971003, 24.76000824378666, 0.0],\n",
       "   [-107.6440665193485, 24.80059938041618, 0.0],\n",
       "   [-107.6785631858739, 24.79730942750482, 0.0],\n",
       "   [-107.6730266244965, 24.75766085153008, 0.0]]]}"
      ]
     },
     "execution_count": 8,
     "metadata": {},
     "output_type": "execute_result"
    }
   ],
   "execution_count": 8
  },
  {
   "metadata": {
    "ExecuteTime": {
     "end_time": "2025-01-11T21:16:20.779935Z",
     "start_time": "2025-01-11T21:16:20.770156Z"
    }
   },
   "cell_type": "code",
   "source": [
    "# Step 2: Function to remove the third dimension\n",
    "def remove_third_dimension(geometry):\n",
    "    \"\"\"Removes the third dimension (z-values) from GeoJSON coordinates.\"\"\"\n",
    "    if geometry[\"type\"] == \"Polygon\":\n",
    "        geometry[\"coordinates\"] = [\n",
    "            [[coord[0], coord[1]] for coord in ring] for ring in geometry[\"coordinates\"]\n",
    "        ]\n",
    "    elif geometry[\"type\"] == \"MultiPolygon\":\n",
    "        geometry[\"coordinates\"] = [\n",
    "            [[[coord[0], coord[1]] for coord in ring] for ring in polygon]\n",
    "            for polygon in geometry[\"coordinates\"]\n",
    "        ]\n",
    "    elif geometry[\"type\"] == \"LineString\":\n",
    "        geometry[\"coordinates\"] = [[coord[0], coord[1]] for coord in geometry[\"coordinates\"]]\n",
    "    elif geometry[\"type\"] == \"Point\":\n",
    "        geometry[\"coordinates\"] = geometry[\"coordinates\"][:2]\n",
    "    return geometry\n",
    "\n",
    "# Step 3: Clean the geometry, ejecucón de la funcion\n",
    "cleaned_geometry = remove_third_dimension(geojson_data[\"features\"][0][\"geometry\"])\n",
    "cleaned_geometry # Vease ocmo aqui ya estan retirados la tercera dimensión de la altura"
   ],
   "id": "31524ec3e47da105",
   "outputs": [
    {
     "data": {
      "text/plain": [
       "{'type': 'Polygon',\n",
       " 'coordinates': [[[-107.6730266244965, 24.75766085153008],\n",
       "   [-107.6353327971003, 24.76000824378666],\n",
       "   [-107.6440665193485, 24.80059938041618],\n",
       "   [-107.6785631858739, 24.79730942750482],\n",
       "   [-107.6730266244965, 24.75766085153008]]]}"
      ]
     },
     "execution_count": 9,
     "metadata": {},
     "output_type": "execute_result"
    }
   ],
   "execution_count": 9
  },
  {
   "metadata": {},
   "cell_type": "markdown",
   "source": "**EXPORTACION**",
   "id": "e89c96b15e42cef1"
  },
  {
   "metadata": {
    "ExecuteTime": {
     "end_time": "2025-01-11T21:18:57.303679Z",
     "start_time": "2025-01-11T21:18:57.297775Z"
    }
   },
   "cell_type": "code",
   "source": [
    "# Paso 5: Exportar a un archivo GeoJSON\n",
    "output_file = direction + \"/data/01_raw/AOI.geojson\"\n",
    "with open(output_file, \"w\") as file:\n",
    "    json.dump(cleaned_geometry, file, indent=2)"
   ],
   "id": "91b11af96f5d37f0",
   "outputs": [],
   "execution_count": 11
  }
 ],
 "metadata": {
  "kernelspec": {
   "display_name": "Python 3",
   "language": "python",
   "name": "python3"
  },
  "language_info": {
   "codemirror_mode": {
    "name": "ipython",
    "version": 2
   },
   "file_extension": ".py",
   "mimetype": "text/x-python",
   "name": "python",
   "nbconvert_exporter": "python",
   "pygments_lexer": "ipython2",
   "version": "2.7.6"
  }
 },
 "nbformat": 4,
 "nbformat_minor": 5
}
