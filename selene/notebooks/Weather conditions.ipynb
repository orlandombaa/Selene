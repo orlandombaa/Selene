{
 "cells": [
  {
   "metadata": {},
   "cell_type": "markdown",
   "source": [
    "# Weather conditions\n",
    "\n",
    "Distintos proovedeores de datos meterologicos: \n",
    "\n",
    "https://www.meteomatics.com/\n",
    " \n",
    "https://home.openweathermap.org/\n",
    " \n",
    "https://www.tomorrow.io/\n",
    "\n",
    "\n",
    "De acuerdo a chat GPT el más preciso de estos es **meteomatics**. La siguiente imagen muestra como generar sus datos metereológicos. \n",
    "\n",
    "\n",
    "<div style=\"text-align: center;\">\n",
    "    <img src=\"Images/meteomatics.png\" alt=\"Descripción de la imagen\" width=\"500\">\n",
    "</div>\n",
    "\n",
    "\n",
    "Tienen un proceso complejo de recolección de distintas fuentes de datos, asi como su procesamiento utilizando algoritmos especializados. Finalmente lo exponen todo por medio de sus APIs. \n",
    "\n",
    "El sigguiente link contiene información acerca del producto en el que estoy interesado que es Weather API: \n",
    "\n",
    "https://www.meteomatics.com/en/weather-api/\n",
    "\n",
    "\n",
    "\n",
    "Adicionalmente meteomatics tiene \"conectores\" , como lo son librerías para lenguajes de programación incluyendo Python: \n",
    " \n",
    "https://www.meteomatics.com/en/api/data-connectors/python/\n",
    "\n",
    "Acá esta su repositorio en Github: \n",
    "\n",
    "https://github.com/meteomatics/python-connector-api\n",
    "\n",
    "\n",
    "Uso de su API: \n",
    "\n",
    "https://www.youtube.com/watch?v=IzmST1Lht3c"
   ],
   "id": "85ee2f69ad4d49e8"
  },
  {
   "metadata": {},
   "cell_type": "markdown",
   "source": [
    "## 1) Getting data from meteomatics \n",
    "\n",
    "Estos son mis usuarios y contraseñas para mi pruba de 15 dias: \n",
    "\n",
    "Username: selene_barraza_orlando\n",
    " \n",
    "Password: P4cOio9Xw8"
   ],
   "id": "89a5ba34f2b01832"
  },
  {
   "metadata": {
    "ExecuteTime": {
     "end_time": "2025-01-06T05:36:21.539888Z",
     "start_time": "2025-01-06T05:36:20.520532Z"
    }
   },
   "cell_type": "code",
   "source": [
    "from meteomatics.api import query_api\n",
    "from datetime import datetime\n",
    "\n",
    "# Meteomatics API Credentials\n",
    "username = 'selene_barraza_orlando'\n",
    "password = 'P4cOio9Xw8'\n",
    "\n",
    "# Location and parameters\n",
    "latitude = 24.7635\n",
    "longitude = -107.6704\n",
    "location = f\"{latitude},{longitude}\"\n",
    "\n",
    "# Parameters to extract daily precipitation (in mm)\n",
    "parameter = 'precip_24h:mm'  # 24-hour precipitation\n",
    "\n",
    "# Time range for July 2024\n",
    "start_date = datetime(2024, 7, 1) # Tienen que ser fechas de hoy a mañana y pasado mañana, el API gratuita no brinda datos historicos.\n",
    "end_date = datetime(2024, 7, 31)\n",
    "time_interval = '24h'  # Daily interval\n",
    "\n",
    "# La fecha es año, mes y dia \n",
    "url = f\"https://api.meteomatics.com/2025-01-02T00:00:00Z--2025-01-05T00:00:00Z/precip_{time_interval}:mm/{latitude},{longitude}/json\"\n",
    "# El orden de la ubicacion es latitud, longitud \n",
    "\n",
    "# Query API\n",
    "response = query_api(\n",
    "    url=url,\n",
    "    username=username,\n",
    "    password=password)\n",
    "\n",
    "# Print Results\n",
    "response"
   ],
   "id": "9a334c5b490321d5",
   "outputs": [
    {
     "ename": "Forbidden",
     "evalue": "Request with valid date 2025-01-02T00:00:00Z requires data access before 2025-01-05T00:00:00Z, which is not granted with this subscription type (e.g. trial). The valid time period for this account type starts at 2025-01-05T00:00:00Z and ends at 2027-01-06T00:00:00Z. Please contact sales@meteomatics.com and we are happy to provide an extended trial or an upgrade of your account.",
     "output_type": "error",
     "traceback": [
      "\u001B[0;31m---------------------------------------------------------------------------\u001B[0m",
      "\u001B[0;31mForbidden\u001B[0m                                 Traceback (most recent call last)",
      "Cell \u001B[0;32mIn[2], line 26\u001B[0m\n\u001B[1;32m     22\u001B[0m url \u001B[38;5;241m=\u001B[39m \u001B[38;5;124mf\u001B[39m\u001B[38;5;124m\"\u001B[39m\u001B[38;5;124mhttps://api.meteomatics.com/2025-01-02T00:00:00Z--2025-01-05T00:00:00Z/precip_\u001B[39m\u001B[38;5;132;01m{\u001B[39;00mtime_interval\u001B[38;5;132;01m}\u001B[39;00m\u001B[38;5;124m:mm/\u001B[39m\u001B[38;5;132;01m{\u001B[39;00mlatitude\u001B[38;5;132;01m}\u001B[39;00m\u001B[38;5;124m,\u001B[39m\u001B[38;5;132;01m{\u001B[39;00mlongitude\u001B[38;5;132;01m}\u001B[39;00m\u001B[38;5;124m/json\u001B[39m\u001B[38;5;124m\"\u001B[39m\n\u001B[1;32m     23\u001B[0m \u001B[38;5;66;03m# El orden de la ubicacion es latitud, longitud \u001B[39;00m\n\u001B[1;32m     24\u001B[0m \n\u001B[1;32m     25\u001B[0m \u001B[38;5;66;03m# Query API\u001B[39;00m\n\u001B[0;32m---> 26\u001B[0m response \u001B[38;5;241m=\u001B[39m \u001B[43mquery_api\u001B[49m\u001B[43m(\u001B[49m\n\u001B[1;32m     27\u001B[0m \u001B[43m    \u001B[49m\u001B[43murl\u001B[49m\u001B[38;5;241;43m=\u001B[39;49m\u001B[43murl\u001B[49m\u001B[43m,\u001B[49m\n\u001B[1;32m     28\u001B[0m \u001B[43m    \u001B[49m\u001B[43musername\u001B[49m\u001B[38;5;241;43m=\u001B[39;49m\u001B[43musername\u001B[49m\u001B[43m,\u001B[49m\n\u001B[1;32m     29\u001B[0m \u001B[43m    \u001B[49m\u001B[43mpassword\u001B[49m\u001B[38;5;241;43m=\u001B[39;49m\u001B[43mpassword\u001B[49m\u001B[43m)\u001B[49m\n\u001B[1;32m     31\u001B[0m \u001B[38;5;66;03m# Print Results\u001B[39;00m\n\u001B[1;32m     32\u001B[0m response\n",
      "File \u001B[0;32m~/miniconda3/envs/EarthEngine/lib/python3.13/site-packages/meteomatics/api.py:119\u001B[0m, in \u001B[0;36mquery_api\u001B[0;34m(url, username, password, request_type, timeout_seconds, headers)\u001B[0m\n\u001B[1;32m    117\u001B[0m \u001B[38;5;28;01mif\u001B[39;00m response\u001B[38;5;241m.\u001B[39mstatus_code \u001B[38;5;241m!=\u001B[39m requests\u001B[38;5;241m.\u001B[39mcodes\u001B[38;5;241m.\u001B[39mok:\n\u001B[1;32m    118\u001B[0m     exc \u001B[38;5;241m=\u001B[39m API_EXCEPTIONS[response\u001B[38;5;241m.\u001B[39mstatus_code]\n\u001B[0;32m--> 119\u001B[0m     \u001B[38;5;28;01mraise\u001B[39;00m exc(response\u001B[38;5;241m.\u001B[39mtext)\n\u001B[1;32m    121\u001B[0m \u001B[38;5;28;01mreturn\u001B[39;00m response\n",
      "\u001B[0;31mForbidden\u001B[0m: Request with valid date 2025-01-02T00:00:00Z requires data access before 2025-01-05T00:00:00Z, which is not granted with this subscription type (e.g. trial). The valid time period for this account type starts at 2025-01-05T00:00:00Z and ends at 2027-01-06T00:00:00Z. Please contact sales@meteomatics.com and we are happy to provide an extended trial or an upgrade of your account."
     ]
    }
   ],
   "execution_count": 2
  },
  {
   "metadata": {
    "ExecuteTime": {
     "end_time": "2025-01-02T21:50:18.213811Z",
     "start_time": "2025-01-02T21:50:18.209524Z"
    }
   },
   "cell_type": "code",
   "source": "type(response)",
   "id": "8c9d26ca1fc90132",
   "outputs": [
    {
     "data": {
      "text/plain": [
       "requests.models.Response"
      ]
     },
     "execution_count": 31,
     "metadata": {},
     "output_type": "execute_result"
    }
   ],
   "execution_count": 31
  },
  {
   "metadata": {
    "ExecuteTime": {
     "end_time": "2025-01-02T21:50:18.985898Z",
     "start_time": "2025-01-02T21:50:18.982986Z"
    }
   },
   "cell_type": "code",
   "source": "print(response.text) # Aqui esta la respuesta en forma de texto , tambien esta en content ",
   "id": "2a5f9c2064f33cf7",
   "outputs": [
    {
     "name": "stdout",
     "output_type": "stream",
     "text": [
      "{\"version\":\"3.0\",\"user\":\"selene_barraza_orlando\",\"dateGenerated\":\"2025-01-02T21:50:17Z\",\"status\":\"OK\",\"data\":[{\"parameter\":\"precip_24h:mm\",\"coordinates\":[{\"lat\":24.7635,\"lon\":-107.6704,\"dates\":[{\"date\":\"2025-01-02T00:00:00Z\",\"value\":0.00},{\"date\":\"2025-01-02T03:00:00Z\",\"value\":0.00},{\"date\":\"2025-01-02T06:00:00Z\",\"value\":0.00},{\"date\":\"2025-01-02T09:00:00Z\",\"value\":0.00},{\"date\":\"2025-01-02T12:00:00Z\",\"value\":0.00},{\"date\":\"2025-01-02T15:00:00Z\",\"value\":0.00},{\"date\":\"2025-01-02T18:00:00Z\",\"value\":0.00},{\"date\":\"2025-01-02T21:00:00Z\",\"value\":0.00},{\"date\":\"2025-01-03T00:00:00Z\",\"value\":0.00},{\"date\":\"2025-01-03T03:00:00Z\",\"value\":0.00},{\"date\":\"2025-01-03T06:00:00Z\",\"value\":0.00},{\"date\":\"2025-01-03T09:00:00Z\",\"value\":0.00},{\"date\":\"2025-01-03T12:00:00Z\",\"value\":0.00},{\"date\":\"2025-01-03T15:00:00Z\",\"value\":0.00},{\"date\":\"2025-01-03T18:00:00Z\",\"value\":0.00},{\"date\":\"2025-01-03T21:00:00Z\",\"value\":0.00},{\"date\":\"2025-01-04T00:00:00Z\",\"value\":0.00},{\"date\":\"2025-01-04T03:00:00Z\",\"value\":0.00},{\"date\":\"2025-01-04T06:00:00Z\",\"value\":0.00},{\"date\":\"2025-01-04T09:00:00Z\",\"value\":0.00},{\"date\":\"2025-01-04T12:00:00Z\",\"value\":0.00},{\"date\":\"2025-01-04T15:00:00Z\",\"value\":0.00},{\"date\":\"2025-01-04T18:00:00Z\",\"value\":0.00},{\"date\":\"2025-01-04T21:00:00Z\",\"value\":0.00},{\"date\":\"2025-01-05T00:00:00Z\",\"value\":0.00}]}]}]}\n",
      "\n"
     ]
    }
   ],
   "execution_count": 32
  },
  {
   "metadata": {},
   "cell_type": "code",
   "outputs": [],
   "execution_count": null,
   "source": "",
   "id": "81d90bb88eda660e"
  }
 ],
 "metadata": {
  "kernelspec": {
   "display_name": "Python 3",
   "language": "python",
   "name": "python3"
  },
  "language_info": {
   "codemirror_mode": {
    "name": "ipython",
    "version": 2
   },
   "file_extension": ".py",
   "mimetype": "text/x-python",
   "name": "python",
   "nbconvert_exporter": "python",
   "pygments_lexer": "ipython2",
   "version": "2.7.6"
  }
 },
 "nbformat": 4,
 "nbformat_minor": 5
}
