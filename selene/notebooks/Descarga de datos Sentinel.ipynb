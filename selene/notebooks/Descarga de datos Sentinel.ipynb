{
 "cells": [
  {
   "cell_type": "markdown",
   "id": "591c72d926f7520d",
   "metadata": {},
   "source": [
    "# Descarta de datos Sentinel\n",
    "Actualmente se estan descargando los datos del satelite **Sentinel-2 y  Landsat 9**\n"
   ]
  },
  {
   "cell_type": "markdown",
   "id": "311394d52656111b",
   "metadata": {},
   "source": [
    "**ESTABLECIMIENTO DE FECHAS DE INTERES**"
   ]
  },
  {
   "cell_type": "code",
   "id": "1c832ccd14788405",
   "metadata": {
    "ExecuteTime": {
     "end_time": "2025-01-10T23:55:04.825574Z",
     "start_time": "2025-01-10T23:55:04.820058Z"
    }
   },
   "source": [
    "from datetime import datetime\n",
    "\n",
    "# Create a specific date and time\n",
    "start_date = datetime(year=2024, month=10, day=1)  # Year, Month, Day, con un digito las que son de 1\n",
    "\n",
    "# end date\n",
    "end_date = datetime(year=2025, month=1, day=8)"
   ],
   "outputs": [],
   "execution_count": 2
  },
  {
   "cell_type": "markdown",
   "id": "4f0bfce0547801b",
   "metadata": {},
   "source": [
    "**IMPORTACION DE LIBRERIAS**"
   ]
  },
  {
   "cell_type": "code",
   "id": "5bb9b9cd4eb9e169",
   "metadata": {
    "ExecuteTime": {
     "end_time": "2025-01-10T23:55:06.454395Z",
     "start_time": "2025-01-10T23:55:05.035490Z"
    }
   },
   "source": [
    "import os\n",
    "import json\n",
    "import ee \n",
    "import geopandas as gpd\n",
    "import matplotlib.pyplot as plt\n",
    "import geemap\n",
    "import pandas as pd"
   ],
   "outputs": [],
   "execution_count": 3
  },
  {
   "cell_type": "code",
   "id": "51411ca7d9e7712d",
   "metadata": {
    "ExecuteTime": {
     "end_time": "2025-01-10T23:55:06.467412Z",
     "start_time": "2025-01-10T23:55:06.463008Z"
    }
   },
   "source": [
    "# Extración de fechas\n",
    "start_year = start_date.year\n",
    "start_month = start_date.month\n",
    "start_day = start_date.day\n",
    "\n",
    "end_year = end_date.year\n",
    "end_month = end_date.month\n",
    "end_day = end_date.day"
   ],
   "outputs": [
    {
     "data": {
      "text/plain": [
       "<IPython.core.display.HTML object>"
      ],
      "text/html": [
       "\n",
       "            <style>\n",
       "                .geemap-dark {\n",
       "                    --jp-widgets-color: white;\n",
       "                    --jp-widgets-label-color: white;\n",
       "                    --jp-ui-font-color1: white;\n",
       "                    --jp-layout-color2: #454545;\n",
       "                    background-color: #383838;\n",
       "                }\n",
       "\n",
       "                .geemap-dark .jupyter-button {\n",
       "                    --jp-layout-color3: #383838;\n",
       "                }\n",
       "\n",
       "                .geemap-colab {\n",
       "                    background-color: var(--colab-primary-surface-color, white);\n",
       "                }\n",
       "\n",
       "                .geemap-colab .jupyter-button {\n",
       "                    --jp-layout-color3: var(--colab-primary-surface-color, white);\n",
       "                }\n",
       "            </style>\n",
       "            "
      ]
     },
     "metadata": {},
     "output_type": "display_data"
    }
   ],
   "execution_count": 4
  },
  {
   "cell_type": "markdown",
   "id": "daf4986a5dde4c83",
   "metadata": {},
   "source": [
    "## Autentificación para GCP"
   ]
  },
  {
   "cell_type": "code",
   "id": "fc7a058a33f4ea0a",
   "metadata": {
    "ExecuteTime": {
     "end_time": "2025-01-10T23:55:08.748979Z",
     "start_time": "2025-01-10T23:55:06.475291Z"
    }
   },
   "source": [
    "# 1) Obtención de la dirección de trabajo \n",
    "direction = os.getcwd()\n",
    "\n",
    "# Remove the last part of the path\n",
    "direction = os.path.dirname(direction)\n",
    "\n",
    "# Dirección de la llave \n",
    "service_account= direction + '/conf/local/gcp-for-data-science-397913-4fd843feede1.json'\n",
    "\n",
    "# Autentificación \n",
    "credentials = ee.ServiceAccountCredentials(email=None,key_file=service_account)\n",
    "ee.Initialize(credentials)"
   ],
   "outputs": [
    {
     "data": {
      "text/plain": [
       "<IPython.core.display.HTML object>"
      ],
      "text/html": [
       "\n",
       "            <style>\n",
       "                .geemap-dark {\n",
       "                    --jp-widgets-color: white;\n",
       "                    --jp-widgets-label-color: white;\n",
       "                    --jp-ui-font-color1: white;\n",
       "                    --jp-layout-color2: #454545;\n",
       "                    background-color: #383838;\n",
       "                }\n",
       "\n",
       "                .geemap-dark .jupyter-button {\n",
       "                    --jp-layout-color3: #383838;\n",
       "                }\n",
       "\n",
       "                .geemap-colab {\n",
       "                    background-color: var(--colab-primary-surface-color, white);\n",
       "                }\n",
       "\n",
       "                .geemap-colab .jupyter-button {\n",
       "                    --jp-layout-color3: var(--colab-primary-surface-color, white);\n",
       "                }\n",
       "            </style>\n",
       "            "
      ]
     },
     "metadata": {},
     "output_type": "display_data"
    }
   ],
   "execution_count": 5
  },
  {
   "cell_type": "markdown",
   "id": "b54978af94170958",
   "metadata": {},
   "source": [
    "## 1) Importación del área de interés \n",
    "**NOTA:** Se obtiene el área de interés por medio de un archivo tipo Geojson, kml o shape. Para este ejemplo se utilizará un KML. "
   ]
  },
  {
   "cell_type": "markdown",
   "id": "16121ac07cadfe20",
   "metadata": {},
   "source": [
    "### 1.1) Carga y visualización con geopandas"
   ]
  },
  {
   "cell_type": "code",
   "id": "326fd727173f5124",
   "metadata": {
    "ExecuteTime": {
     "end_time": "2025-01-10T23:55:08.877774Z",
     "start_time": "2025-01-10T23:55:08.759321Z"
    }
   },
   "source": [
    "# Direction of the KML \n",
    "kml_file = direction + \"/data/01_raw/Agricultura.kml\"\n",
    "# NOTA: Esto hay que pasarlo a otro notebook.\n",
    "\n",
    "# Nombre del archivo GeoJson a exportar \n",
    "geojson_file = direction + \"/data/01_raw/Agricultura.geojson\"\n",
    "\n",
    "# 1) Lectura del kml \n",
    "gdf = gpd.read_file(filename=kml_file, driver=\"KML\")\n",
    "\n",
    "# 2) Exportación del kml a un Geo JSON \n",
    "gdf.to_file(filename=geojson_file, driver=\"GeoJSON\")\n",
    "\n",
    "# Plot using Geopandas\n",
    "gdf.plot()\n",
    "\n",
    "# Customize the plot\n",
    "plt.title(\"KML File Visualization\")\n",
    "plt.show()"
   ],
   "outputs": [
    {
     "data": {
      "text/plain": [
       "<IPython.core.display.HTML object>"
      ],
      "text/html": [
       "\n",
       "            <style>\n",
       "                .geemap-dark {\n",
       "                    --jp-widgets-color: white;\n",
       "                    --jp-widgets-label-color: white;\n",
       "                    --jp-ui-font-color1: white;\n",
       "                    --jp-layout-color2: #454545;\n",
       "                    background-color: #383838;\n",
       "                }\n",
       "\n",
       "                .geemap-dark .jupyter-button {\n",
       "                    --jp-layout-color3: #383838;\n",
       "                }\n",
       "\n",
       "                .geemap-colab {\n",
       "                    background-color: var(--colab-primary-surface-color, white);\n",
       "                }\n",
       "\n",
       "                .geemap-colab .jupyter-button {\n",
       "                    --jp-layout-color3: var(--colab-primary-surface-color, white);\n",
       "                }\n",
       "            </style>\n",
       "            "
      ]
     },
     "metadata": {},
     "output_type": "display_data"
    },
    {
     "data": {
      "text/plain": [
       "<Figure size 640x480 with 1 Axes>"
      ],
      "image/png": "[encoded data removed]"
     },
     "metadata": {},
     "output_type": "display_data"
    }
   ],
   "execution_count": 6
  },
  {
   "cell_type": "markdown",
   "id": "5151a0452db9fd55",
   "metadata": {},
   "source": [
    "## 2) Descarga de imagenes satelitales\n",
    "En esta sección se abordarán los siguientes procesos \n",
    "\n",
    "- **[Creación de un geometria para Earth Engine](https://developers.google.com/earth-engine/apidocs/ee-geometry)**: La geometria de earth engine se puede crear a partir de un GeoJSON, esto serivara para hacer el corte en las imagenes satelitales de interés\n",
    "  \n",
    "- Descarga de datos satelitales para esa área junto con un filtro al área de intrés, fechas y nubosidad "
   ]
  },
  {
   "cell_type": "markdown",
   "id": "75d7cbd471bee8bc",
   "metadata": {},
   "source": [
    "### 2.1) Creación de una geometría de earth engine \n",
    "Para la creación de una geometría lo más indicado es convertir el KML en un archivo GeoJSON y este leerlo directamtne como geometría "
   ]
  },
  {
   "cell_type": "code",
   "id": "6d5dcc88c47145c0",
   "metadata": {
    "ExecuteTime": {
     "end_time": "2025-01-10T23:55:08.890826Z",
     "start_time": "2025-01-10T23:55:08.886776Z"
    }
   },
   "source": [
    "# Step 1: Load the GeoJSON file\n",
    "with open(geojson_file, \"r\") as f:\n",
    "    geojson_data = json.load(f)\n",
    "\n",
    "geojson_data[\"features\"][0][\"geometry\"] # IMPORTANTE: Vease como contiene una tercera coordenada que es la altura (los valores de 0) , se deben de retirar "
   ],
   "outputs": [
    {
     "data": {
      "text/plain": [
       "<IPython.core.display.HTML object>"
      ],
      "text/html": [
       "\n",
       "            <style>\n",
       "                .geemap-dark {\n",
       "                    --jp-widgets-color: white;\n",
       "                    --jp-widgets-label-color: white;\n",
       "                    --jp-ui-font-color1: white;\n",
       "                    --jp-layout-color2: #454545;\n",
       "                    background-color: #383838;\n",
       "                }\n",
       "\n",
       "                .geemap-dark .jupyter-button {\n",
       "                    --jp-layout-color3: #383838;\n",
       "                }\n",
       "\n",
       "                .geemap-colab {\n",
       "                    background-color: var(--colab-primary-surface-color, white);\n",
       "                }\n",
       "\n",
       "                .geemap-colab .jupyter-button {\n",
       "                    --jp-layout-color3: var(--colab-primary-surface-color, white);\n",
       "                }\n",
       "            </style>\n",
       "            "
      ]
     },
     "metadata": {},
     "output_type": "display_data"
    },
    {
     "data": {
      "text/plain": [
       "{'type': 'Polygon',\n",
       " 'coordinates': [[[-107.6730266244965, 24.75766085153008, 0.0],\n",
       "   [-107.6353327971003, 24.76000824378666, 0.0],\n",
       "   [-107.6440665193485, 24.80059938041618, 0.0],\n",
       "   [-107.6785631858739, 24.79730942750482, 0.0],\n",
       "   [-107.6730266244965, 24.75766085153008, 0.0]]]}"
      ]
     },
     "execution_count": 7,
     "metadata": {},
     "output_type": "execute_result"
    }
   ],
   "execution_count": 7
  },
  {
   "cell_type": "markdown",
   "id": "12ab062c8767034a",
   "metadata": {},
   "source": [
    "**Eliminación de la coordinada de elevación**"
   ]
  },
  {
   "cell_type": "code",
   "id": "aa07c8abc3fa2292",
   "metadata": {
    "ExecuteTime": {
     "end_time": "2025-01-10T23:55:08.920898Z",
     "start_time": "2025-01-10T23:55:08.915428Z"
    }
   },
   "source": [
    "# Step 2: Function to remove the third dimension\n",
    "def remove_third_dimension(geometry):\n",
    "    \"\"\"Removes the third dimension (z-values) from GeoJSON coordinates.\"\"\"\n",
    "    if geometry[\"type\"] == \"Polygon\":\n",
    "        geometry[\"coordinates\"] = [\n",
    "            [[coord[0], coord[1]] for coord in ring] for ring in geometry[\"coordinates\"]\n",
    "        ]\n",
    "    elif geometry[\"type\"] == \"MultiPolygon\":\n",
    "        geometry[\"coordinates\"] = [\n",
    "            [[[coord[0], coord[1]] for coord in ring] for ring in polygon]\n",
    "            for polygon in geometry[\"coordinates\"]\n",
    "        ]\n",
    "    elif geometry[\"type\"] == \"LineString\":\n",
    "        geometry[\"coordinates\"] = [[coord[0], coord[1]] for coord in geometry[\"coordinates\"]]\n",
    "    elif geometry[\"type\"] == \"Point\":\n",
    "        geometry[\"coordinates\"] = geometry[\"coordinates\"][:2]\n",
    "    return geometry\n",
    "\n",
    "# Step 3: Clean the geometry, ejecucón de la funcion \n",
    "cleaned_geometry = remove_third_dimension(geojson_data[\"features\"][0][\"geometry\"])\n",
    "cleaned_geometry # Vease ocmo aqui ya estan retirados la tercera dimensión de la altura "
   ],
   "outputs": [
    {
     "data": {
      "text/plain": [
       "<IPython.core.display.HTML object>"
      ],
      "text/html": [
       "\n",
       "            <style>\n",
       "                .geemap-dark {\n",
       "                    --jp-widgets-color: white;\n",
       "                    --jp-widgets-label-color: white;\n",
       "                    --jp-ui-font-color1: white;\n",
       "                    --jp-layout-color2: #454545;\n",
       "                    background-color: #383838;\n",
       "                }\n",
       "\n",
       "                .geemap-dark .jupyter-button {\n",
       "                    --jp-layout-color3: #383838;\n",
       "                }\n",
       "\n",
       "                .geemap-colab {\n",
       "                    background-color: var(--colab-primary-surface-color, white);\n",
       "                }\n",
       "\n",
       "                .geemap-colab .jupyter-button {\n",
       "                    --jp-layout-color3: var(--colab-primary-surface-color, white);\n",
       "                }\n",
       "            </style>\n",
       "            "
      ]
     },
     "metadata": {},
     "output_type": "display_data"
    },
    {
     "data": {
      "text/plain": [
       "{'type': 'Polygon',\n",
       " 'coordinates': [[[-107.6730266244965, 24.75766085153008],\n",
       "   [-107.6353327971003, 24.76000824378666],\n",
       "   [-107.6440665193485, 24.80059938041618],\n",
       "   [-107.6785631858739, 24.79730942750482],\n",
       "   [-107.6730266244965, 24.75766085153008]]]}"
      ]
     },
     "execution_count": 8,
     "metadata": {},
     "output_type": "execute_result"
    }
   ],
   "execution_count": 8
  },
  {
   "cell_type": "markdown",
   "id": "49a0fe7d8561a870",
   "metadata": {},
   "source": [
    "**Convertir en geometría de Earth Engine**"
   ]
  },
  {
   "cell_type": "code",
   "id": "d72b64dfe299fd34",
   "metadata": {
    "ExecuteTime": {
     "end_time": "2025-01-10T23:55:08.950130Z",
     "start_time": "2025-01-10T23:55:08.946424Z"
    }
   },
   "source": [
    "# Step 4: Convert to Earth Engine Geometry\n",
    "area_interest = ee.Geometry(cleaned_geometry)\n",
    "type(area_interest)"
   ],
   "outputs": [
    {
     "data": {
      "text/plain": [
       "<IPython.core.display.HTML object>"
      ],
      "text/html": [
       "\n",
       "            <style>\n",
       "                .geemap-dark {\n",
       "                    --jp-widgets-color: white;\n",
       "                    --jp-widgets-label-color: white;\n",
       "                    --jp-ui-font-color1: white;\n",
       "                    --jp-layout-color2: #454545;\n",
       "                    background-color: #383838;\n",
       "                }\n",
       "\n",
       "                .geemap-dark .jupyter-button {\n",
       "                    --jp-layout-color3: #383838;\n",
       "                }\n",
       "\n",
       "                .geemap-colab {\n",
       "                    background-color: var(--colab-primary-surface-color, white);\n",
       "                }\n",
       "\n",
       "                .geemap-colab .jupyter-button {\n",
       "                    --jp-layout-color3: var(--colab-primary-surface-color, white);\n",
       "                }\n",
       "            </style>\n",
       "            "
      ]
     },
     "metadata": {},
     "output_type": "display_data"
    },
    {
     "data": {
      "text/plain": [
       "ee.geometry.Geometry"
      ]
     },
     "execution_count": 9,
     "metadata": {},
     "output_type": "execute_result"
    }
   ],
   "execution_count": 9
  },
  {
   "cell_type": "markdown",
   "id": "f96b81270dc108aa",
   "metadata": {},
   "source": [
    "### 2.2) Creación de un mapa base e integración de área de interés"
   ]
  },
  {
   "cell_type": "markdown",
   "id": "4135e9d0c1001f84",
   "metadata": {},
   "source": [
    "**AÑADIMOS LA GEOMETRIA AL MAPA**"
   ]
  },
  {
   "cell_type": "code",
   "id": "e6dfcc8309aea06",
   "metadata": {
    "ExecuteTime": {
     "end_time": "2025-01-10T23:55:09.445859Z",
     "start_time": "2025-01-10T23:55:08.972592Z"
    }
   },
   "source": [
    "# 1) Creación del mapa base \n",
    "Map  = geemap.Map()\n",
    "\n",
    "# Anadimos un base map distinto \n",
    "Map.add_basemap(basemap=\"Esri.WorldImagery\")  # Imagene satelital de ESRI \n",
    "\n",
    "# 2) Add the geometry to the map\n",
    "Map.addLayer(area_interest, {\"color\": \"red\"}, \"Cleaned Geometry\")\n",
    "\n",
    "# Center the map on the geometry\n",
    "Map.centerObject(area_interest, 11)"
   ],
   "outputs": [
    {
     "data": {
      "text/plain": [
       "<IPython.core.display.HTML object>"
      ],
      "text/html": [
       "\n",
       "            <style>\n",
       "                .geemap-dark {\n",
       "                    --jp-widgets-color: white;\n",
       "                    --jp-widgets-label-color: white;\n",
       "                    --jp-ui-font-color1: white;\n",
       "                    --jp-layout-color2: #454545;\n",
       "                    background-color: #383838;\n",
       "                }\n",
       "\n",
       "                .geemap-dark .jupyter-button {\n",
       "                    --jp-layout-color3: #383838;\n",
       "                }\n",
       "\n",
       "                .geemap-colab {\n",
       "                    background-color: var(--colab-primary-surface-color, white);\n",
       "                }\n",
       "\n",
       "                .geemap-colab .jupyter-button {\n",
       "                    --jp-layout-color3: var(--colab-primary-surface-color, white);\n",
       "                }\n",
       "            </style>\n",
       "            "
      ]
     },
     "metadata": {},
     "output_type": "display_data"
    }
   ],
   "execution_count": 10
  },
  {
   "cell_type": "markdown",
   "id": "2ddac04750e4573c",
   "metadata": {},
   "source": [
    "### 2.3) Descarga de imagenes satelitales\n",
    "\n",
    "**IMPORTANTE:**\n",
    " Se hará la descarga de las imagenes en los años que se eligieron al inicio para los siguientes satelites:\n",
    "\n",
    "\n",
    "- Sentinel 2:\n",
    "  Bandas seleccionadas:\n",
    "     - B2: Banda azul, central Wavelength = 490nm\n",
    "     - B3: Banda verde, central Wavelength = 560nm\n",
    "     - B4: Banda roja, central Wavelength = 665nm\n",
    "     - B8: Banda Near Infrared, central Wavelength = 842nm, utilizada con algunas de las bandas RGB para el cálculo del NDVI\n",
    "     - B11: Banda (SWIR 1), central Wavelength = 1610nm,  utilizada para el cálculo de NDWI\n",
    "\n",
    "<br>\n",
    "\n",
    "   - LandSat 9, bandas seleccionadas:\n",
    "     - B10: Banda termica , utilizada para el cálculo de Land Surface Temperature\n"
   ]
  },
  {
   "cell_type": "markdown",
   "id": "48201c9b75950efa",
   "metadata": {},
   "source": [
    "#### 2.3.1) Set up de filtros  "
   ]
  },
  {
   "cell_type": "code",
   "id": "f673964e547274b8",
   "metadata": {
    "ExecuteTime": {
     "end_time": "2025-01-10T23:55:09.462177Z",
     "start_time": "2025-01-10T23:55:09.456252Z"
    }
   },
   "source": [
    "# 1) Importación del image collection de Copernicus\n",
    "sentinel2 = ee.ImageCollection(args=\"COPERNICUS/S2_SR\")\n",
    "\n",
    "# 2) Filtro por área de interés\n",
    "sentinel2 = sentinel2.filterBounds(geometry=area_interest)\n",
    "\n",
    "# 3) Filtro por fechas de interés\n",
    "sentinel2 = sentinel2.filterDate(start=f\"{start_year}-{start_month}-{start_day}\",\n",
    "                                 end=f\"{end_year}-{end_month}-{end_day}\")  # año, mes y día\n",
    "\n",
    "\n",
    "# 4) Filtro por titulo, IMPORATNTE: en el caso de Sentinel 2 apareceran 2 titulos de la misma imagen\n",
    "sentinel2 = sentinel2.filter(ee.Filter.eq('MGRS_TILE', '12RZN'))\n",
    "\n",
    "# 5) Filtro por nubosidad\n",
    "sentinel2 = sentinel2.filter(ee.Filter.lt(\"CLOUDY_PIXEL_PERCENTAGE\", 20))  # nubosidad menor al 20%\n",
    "\n",
    "# NOTE: This is still a image collection object\n",
    "\n",
    "# 6) Seleccion Bandas necesarias\n",
    "sentinel2 = sentinel2.select(['B2', 'B3', 'B4', 'B8', 'B11']) # Bandas de interes\n",
    "type(sentinel2) # Esto es una image collection"
   ],
   "outputs": [
    {
     "data": {
      "text/plain": [
       "<IPython.core.display.HTML object>"
      ],
      "text/html": [
       "\n",
       "            <style>\n",
       "                .geemap-dark {\n",
       "                    --jp-widgets-color: white;\n",
       "                    --jp-widgets-label-color: white;\n",
       "                    --jp-ui-font-color1: white;\n",
       "                    --jp-layout-color2: #454545;\n",
       "                    background-color: #383838;\n",
       "                }\n",
       "\n",
       "                .geemap-dark .jupyter-button {\n",
       "                    --jp-layout-color3: #383838;\n",
       "                }\n",
       "\n",
       "                .geemap-colab {\n",
       "                    background-color: var(--colab-primary-surface-color, white);\n",
       "                }\n",
       "\n",
       "                .geemap-colab .jupyter-button {\n",
       "                    --jp-layout-color3: var(--colab-primary-surface-color, white);\n",
       "                }\n",
       "            </style>\n",
       "            "
      ]
     },
     "metadata": {},
     "output_type": "display_data"
    },
    {
     "data": {
      "text/plain": [
       "ee.imagecollection.ImageCollection"
      ]
     },
     "execution_count": 11,
     "metadata": {},
     "output_type": "execute_result"
    }
   ],
   "execution_count": 11
  },
  {
   "cell_type": "markdown",
   "id": "45c8d98a66b77593",
   "metadata": {},
   "source": [
    "#### 2.3.2) Obtención del ID de cada imagen y sus fechas"
   ]
  },
  {
   "cell_type": "code",
   "id": "6995425d525866dd",
   "metadata": {
    "ExecuteTime": {
     "end_time": "2025-01-10T23:55:09.914739Z",
     "start_time": "2025-01-10T23:55:09.519456Z"
    }
   },
   "source": [
    "# Get the list of image IDs from the filtered ImageCollection\n",
    "sentinel_images_ids = sentinel2.aggregate_array('system:index').getInfo()\n",
    "\n",
    "# Cantidad de imagenes\n",
    "number_sentinel = len(sentinel_images_ids)\n",
    "print(\"Cantidad de imagenes de sentinel:\", number_sentinel)"
   ],
   "outputs": [
    {
     "data": {
      "text/plain": [
       "<IPython.core.display.HTML object>"
      ],
      "text/html": [
       "\n",
       "            <style>\n",
       "                .geemap-dark {\n",
       "                    --jp-widgets-color: white;\n",
       "                    --jp-widgets-label-color: white;\n",
       "                    --jp-ui-font-color1: white;\n",
       "                    --jp-layout-color2: #454545;\n",
       "                    background-color: #383838;\n",
       "                }\n",
       "\n",
       "                .geemap-dark .jupyter-button {\n",
       "                    --jp-layout-color3: #383838;\n",
       "                }\n",
       "\n",
       "                .geemap-colab {\n",
       "                    background-color: var(--colab-primary-surface-color, white);\n",
       "                }\n",
       "\n",
       "                .geemap-colab .jupyter-button {\n",
       "                    --jp-layout-color3: var(--colab-primary-surface-color, white);\n",
       "                }\n",
       "            </style>\n",
       "            "
      ]
     },
     "metadata": {},
     "output_type": "display_data"
    },
    {
     "name": "stdout",
     "output_type": "stream",
     "text": [
      "Cantidad de imagenes de sentinel: 16\n"
     ]
    }
   ],
   "execution_count": 12
  },
  {
   "cell_type": "markdown",
   "id": "8e29e02c24aff543",
   "metadata": {},
   "source": [
    "**SENTINEL**"
   ]
  },
  {
   "cell_type": "code",
   "id": "55be8f21ca58ca53",
   "metadata": {
    "ExecuteTime": {
     "end_time": "2025-01-10T23:56:18.551132Z",
     "start_time": "2025-01-10T23:55:11.275657Z"
    }
   },
   "source": [
    "# Lista donde se almacenara el ID de las imagenes y su fecha\n",
    "sentinel_ids_and_dates = []\n",
    "\n",
    "#  Creación de la lista ee\n",
    "sentinel_list = sentinel2.toList(sentinel2.size()) # Esto genera una ee list que contiene todo el listado de imagenes y metadados\n",
    "\n",
    "for i in range(0,number_sentinel):\n",
    "    # Aqui  se esta obteniedo cada imagen de la lista\n",
    "    image = ee.Image(sentinel_list.get(i)) # Aqui hace la vinculación a una imagen en particula, en este caso toma la lista de ee y va tomar la imagen i, otra opcion tal vez mas sencilla de visualizar es usando directamtne el ID del a imagen (str)\n",
    "\n",
    "    # Se toma el ID de la imagen\n",
    "    image_id = image.get('system:index').getInfo()\n",
    "\n",
    "    # Se toma la fecha de imagen\n",
    "    date = ee.Date(image.get('system:time_start')).format('YYYY-MM-dd').getInfo()\n",
    "\n",
    "    # Se integra los resultados a la lista\n",
    "    sentinel_ids_and_dates.append({'ID': image_id, 'Date': date})\n",
    "\n",
    "# Convertirlo a un pandas DF \n",
    "sentinel_ids_and_dates = pd.DataFrame(data=sentinel_ids_and_dates)\n",
    "print(\"Cantidad de imagenes:\", len(sentinel_ids_and_dates[\"Date\"]))\n",
    "\n",
    "# Tranformar la columna Date a tipo date\n",
    "sentinel_ids_and_dates['Date'] = pd.to_datetime(arg=sentinel_ids_and_dates['Date'])\n",
    "sentinel_ids_and_dates[\"Satelite\"] = \"COPERNICUS/S2_SR\"\n",
    "sentinel_ids_and_dates.head(n=5) # Visualizacion\n",
    "# IMPORTQNTE: Vease que cada fecha tiene 2 imagenes, las inspecciones y son básicamente las mismas"
   ],
   "outputs": [
    {
     "data": {
      "text/plain": [
       "<IPython.core.display.HTML object>"
      ],
      "text/html": [
       "\n",
       "            <style>\n",
       "                .geemap-dark {\n",
       "                    --jp-widgets-color: white;\n",
       "                    --jp-widgets-label-color: white;\n",
       "                    --jp-ui-font-color1: white;\n",
       "                    --jp-layout-color2: #454545;\n",
       "                    background-color: #383838;\n",
       "                }\n",
       "\n",
       "                .geemap-dark .jupyter-button {\n",
       "                    --jp-layout-color3: #383838;\n",
       "                }\n",
       "\n",
       "                .geemap-colab {\n",
       "                    background-color: var(--colab-primary-surface-color, white);\n",
       "                }\n",
       "\n",
       "                .geemap-colab .jupyter-button {\n",
       "                    --jp-layout-color3: var(--colab-primary-surface-color, white);\n",
       "                }\n",
       "            </style>\n",
       "            "
      ]
     },
     "metadata": {},
     "output_type": "display_data"
    },
    {
     "name": "stdout",
     "output_type": "stream",
     "text": [
      "Cantidad de imagenes: 16\n"
     ]
    },
    {
     "data": {
      "text/plain": [
       "                                       ID       Date          Satelite\n",
       "0  20241004T174109_20241004T175248_T12RZN 2024-10-04  COPERNICUS/S2_SR\n",
       "1  20241014T174209_20241014T174540_T12RZN 2024-10-14  COPERNICUS/S2_SR\n",
       "2  20241019T174341_20241019T174809_T12RZN 2024-10-19  COPERNICUS/S2_SR\n",
       "3  20241024T174319_20241024T175436_T12RZN 2024-10-24  COPERNICUS/S2_SR\n",
       "4  20241029T174441_20241029T175146_T12RZN 2024-10-29  COPERNICUS/S2_SR"
      ],
      "text/html": [
       "<div>\n",
       "<style scoped>\n",
       "    .dataframe tbody tr th:only-of-type {\n",
       "        vertical-align: middle;\n",
       "    }\n",
       "\n",
       "    .dataframe tbody tr th {\n",
       "        vertical-align: top;\n",
       "    }\n",
       "\n",
       "    .dataframe thead th {\n",
       "        text-align: right;\n",
       "    }\n",
       "</style>\n",
       "<table border=\"1\" class=\"dataframe\">\n",
       "  <thead>\n",
       "    <tr style=\"text-align: right;\">\n",
       "      <th></th>\n",
       "      <th>ID</th>\n",
       "      <th>Date</th>\n",
       "      <th>Satelite</th>\n",
       "    </tr>\n",
       "  </thead>\n",
       "  <tbody>\n",
       "    <tr>\n",
       "      <th>0</th>\n",
       "      <td>20241004T174109_20241004T175248_T12RZN</td>\n",
       "      <td>2024-10-04</td>\n",
       "      <td>COPERNICUS/S2_SR</td>\n",
       "    </tr>\n",
       "    <tr>\n",
       "      <th>1</th>\n",
       "      <td>20241014T174209_20241014T174540_T12RZN</td>\n",
       "      <td>2024-10-14</td>\n",
       "      <td>COPERNICUS/S2_SR</td>\n",
       "    </tr>\n",
       "    <tr>\n",
       "      <th>2</th>\n",
       "      <td>20241019T174341_20241019T174809_T12RZN</td>\n",
       "      <td>2024-10-19</td>\n",
       "      <td>COPERNICUS/S2_SR</td>\n",
       "    </tr>\n",
       "    <tr>\n",
       "      <th>3</th>\n",
       "      <td>20241024T174319_20241024T175436_T12RZN</td>\n",
       "      <td>2024-10-24</td>\n",
       "      <td>COPERNICUS/S2_SR</td>\n",
       "    </tr>\n",
       "    <tr>\n",
       "      <th>4</th>\n",
       "      <td>20241029T174441_20241029T175146_T12RZN</td>\n",
       "      <td>2024-10-29</td>\n",
       "      <td>COPERNICUS/S2_SR</td>\n",
       "    </tr>\n",
       "  </tbody>\n",
       "</table>\n",
       "</div>"
      ]
     },
     "execution_count": 13,
     "metadata": {},
     "output_type": "execute_result"
    }
   ],
   "execution_count": 13
  },
  {
   "cell_type": "markdown",
   "id": "40b258ac1e2a4d57",
   "metadata": {},
   "source": [
    "### 2.3.3) Solicitud de descarga"
   ]
  },
  {
   "cell_type": "code",
   "id": "452f439a936a33c",
   "metadata": {
    "ExecuteTime": {
     "end_time": "2025-01-11T00:12:49.849133Z",
     "start_time": "2025-01-11T00:12:49.840636Z"
    }
   },
   "source": [
    "# 1) Creación de un diccionario vacio\n",
    "sentinel_images_dic  = {}\n",
    "\n",
    "# Inicio de la solocitud de descarga\n",
    "\n",
    "for i in sentinel_ids_and_dates.index:\n",
    "    # Extracción del ID de la imagen\n",
    "    ID = sentinel_ids_and_dates[\"ID\"].loc[i]\n",
    "\n",
    "    # Extracción de la fecha de la imagen\n",
    "    image_date = sentinel_ids_and_dates[\"Date\"].loc[i]\n",
    "\n",
    "    # Solicitud de descarga DESDE el IMAGE collection\n",
    "    image = sentinel2.filter(ee.Filter.eq(name='system:index',value= ID)).first()\n",
    "\n",
    "    # Recorte de la imagen usando la función de clip de ee\n",
    "    image = image.clip(area_interest)  # Recorta al área de interés\n",
    "\n",
    "    # 7) Almacenar en el diccionario\n",
    "    sentinel_images_dic[f\"Image_{image_date}\"] = image"
   ],
   "outputs": [
    {
     "data": {
      "text/plain": [
       "<IPython.core.display.HTML object>"
      ],
      "text/html": [
       "\n",
       "            <style>\n",
       "                .geemap-dark {\n",
       "                    --jp-widgets-color: white;\n",
       "                    --jp-widgets-label-color: white;\n",
       "                    --jp-ui-font-color1: white;\n",
       "                    --jp-layout-color2: #454545;\n",
       "                    background-color: #383838;\n",
       "                }\n",
       "\n",
       "                .geemap-dark .jupyter-button {\n",
       "                    --jp-layout-color3: #383838;\n",
       "                }\n",
       "\n",
       "                .geemap-colab {\n",
       "                    background-color: var(--colab-primary-surface-color, white);\n",
       "                }\n",
       "\n",
       "                .geemap-colab .jupyter-button {\n",
       "                    --jp-layout-color3: var(--colab-primary-surface-color, white);\n",
       "                }\n",
       "            </style>\n",
       "            "
      ]
     },
     "metadata": {},
     "output_type": "display_data"
    }
   ],
   "execution_count": 28
  },
  {
   "cell_type": "markdown",
   "id": "c98c6ce7788bd208",
   "metadata": {},
   "source": [
    "**PENDIENTE:**\n",
    "- Hay que meter un filtro de nubosidad más estricto, que evaluemos la cantidad de nubes pero SOLO en la zona de interés."
   ]
  },
  {
   "cell_type": "code",
   "id": "dc2a4fa13ee0010",
   "metadata": {
    "ExecuteTime": {
     "end_time": "2025-01-11T00:02:39.769013Z",
     "start_time": "2025-01-11T00:02:39.764006Z"
    }
   },
   "source": [
    "## ES LO QUE ME PUSO EL CHAT PARA EL FILTRADO DE NUBES EN EL AREA DE INTERES \n",
    "\n",
    "#def cloud_percentage_in_aoi(image, aoi):\n",
    " #   \"\"\"Calculate cloud percentage within the area of interest (AOI).\"\"\"\n",
    "    # Mask clouds using QA60 band (1 = clouds, 0 = clear)\n",
    "  #  cloud_mask = image.select('QA60').eq(1)\n",
    "    \n",
    "    # Calculate the total number of pixels in the AOI\n",
    "   # total_pixels = ee.Number(image.clip(aoi).reduceRegion(\n",
    "    #    reducer=ee.Reducer.count(),\n",
    "     #   geometry=aoi,\n",
    "      #  scale=10,\n",
    "       # maxPixels=1e13\n",
    "   # ).values().get(0))\n",
    "\n",
    "    # Calculate cloud pixels in the AOI\n",
    "   # cloud_pixels = ee.Number(cloud_mask.clip(aoi).reduceRegion(\n",
    "    #    reducer=ee.Reducer.count(),\n",
    "     #   geometry=aoi,\n",
    "      #  scale=10,\n",
    "       # maxPixels=1e13\n",
    "   # ).values().get(0))\n",
    "    \n",
    "    # Calculate cloud percentage\n",
    "   # cloud_percentage = cloud_pixels.divide(total_pixels).multiply(100)\n",
    "   # return cloud_percentage\n",
    "\n",
    "# Main script\n",
    "#image_dic = {}  # Dictionary to store images\n",
    "\n",
    "#for i in years:\n",
    " #   for z in months:\n",
    "  #      if i <= current_year and z <= current_month:\n",
    "            # 1) Import Sentinel-2 image collection\n",
    "   #         sentinel2 = ee.ImageCollection(\"COPERNICUS/S2_SR\") \\\n",
    "    #            .filterBounds(area_interest) \\\n",
    "     #           .filterDate(f\"{i}-{z}-01\", f\"{i}-{z}-28\") \\\n",
    "      #          .filter(ee.Filter.lt(\"CLOUDY_PIXEL_PERCENTAGE\", 20))  # Rough initial filter\n",
    "            \n",
    "            # 2) Filter images based on AOI-specific cloud percentage\n",
    "       #     def filter_by_aoi_cloud(image):\n",
    "        #        cloud_percent = cloud_percentage_in_aoi(image, area_interest)\n",
    "         #       return image.set('CLOUD_PERCENT_AOI', cloud_percent)\n",
    "            \n",
    "            # Apply AOI-specific cloud percentage calculation\n",
    "          #  images_with_cloud_info = sentinel2.map(filter_by_aoi_cloud)\n",
    "\n",
    "            # Filter images where AOI cloud coverage is less than 10%\n",
    "  #          filtered_images = images_with_cloud_info.filter(ee.Filter.lt('CLOUD_PERCENT_AOI', 10))\n",
    "            \n",
    "            # Select the first image\n",
    "   #         image = filtered_images.first()\n",
    "            \n",
    "            # Check if image exists and process\n",
    "    #        if image.getInfo() is not None:\n",
    "                # Select visible bands and band 8\n",
    "     #           image = image.select(['B2', 'B3', 'B4', 'B8'])\n",
    "      #          image = image.clip(area_interest)\n",
    "                \n",
    "                # Store the image\n",
    "       #         image_dic[f\"{i}-{z}\"] = image\n",
    "        #        print(f\"Image for {i}-{z} meets cloud criteria in AOI.\")\n",
    "         #   else:\n",
    "          #      print(f\"No valid image found for {i}-{z}.\")\n"
   ],
   "outputs": [
    {
     "data": {
      "text/plain": [
       "<IPython.core.display.HTML object>"
      ],
      "text/html": [
       "\n",
       "            <style>\n",
       "                .geemap-dark {\n",
       "                    --jp-widgets-color: white;\n",
       "                    --jp-widgets-label-color: white;\n",
       "                    --jp-ui-font-color1: white;\n",
       "                    --jp-layout-color2: #454545;\n",
       "                    background-color: #383838;\n",
       "                }\n",
       "\n",
       "                .geemap-dark .jupyter-button {\n",
       "                    --jp-layout-color3: #383838;\n",
       "                }\n",
       "\n",
       "                .geemap-colab {\n",
       "                    background-color: var(--colab-primary-surface-color, white);\n",
       "                }\n",
       "\n",
       "                .geemap-colab .jupyter-button {\n",
       "                    --jp-layout-color3: var(--colab-primary-surface-color, white);\n",
       "                }\n",
       "            </style>\n",
       "            "
      ]
     },
     "metadata": {},
     "output_type": "display_data"
    }
   ],
   "execution_count": 18
  },
  {
   "cell_type": "markdown",
   "id": "74ee86c2d295e660",
   "metadata": {},
   "source": [
    "## 3) Exportación \n",
    "La exportación la realizaremos a un bucket de GCP\n",
    " \n",
    "API Reference: https://developers.google.com/earth-engine/apidocs/export-image-tocloudstorage#colab-python\n",
    "\n",
    "**NOTA IMPORTANTE:** La exportación de las imagenes debe de cumplir ciertos requerimientos para que earth engine pueda aceder a ellos, los cuales son: \n",
    "\n",
    "It must be located in the US multi-region or US-CENTRAL1 region."
   ]
  },
  {
   "cell_type": "markdown",
   "id": "2d06604fc17e55ac",
   "metadata": {},
   "source": [
    "### 3.1) Exportación de imagenes Sentinel"
   ]
  },
  {
   "cell_type": "code",
   "id": "c5f976677fb72d1c",
   "metadata": {
    "ExecuteTime": {
     "end_time": "2025-01-11T00:12:27.788242Z",
     "start_time": "2025-01-11T00:12:22.788924Z"
    }
   },
   "source": [
    "# 1) Obtención de las llaves del diccionario\n",
    "keys = list(sentinel_images_dic.keys())\n",
    "sentinel_images_names =[]\n",
    "\n",
    "# Inicio del ciclo \n",
    "for i in keys: \n",
    "    \n",
    "    # 1) Lectura de los datos \n",
    "    image = sentinel_images_dic[i]\n",
    "    \n",
    "    task = ee.batch.Export.image.toCloudStorage(\n",
    "    image=image,\n",
    "    #description=f\"Export\", # Este es el nombre del archivo que se exportara , si vas a usar el filenameprexi no es necesario esto \n",
    "    bucket='earth_engine_selene',  # Cambia esto al nombre de tu bucket\n",
    "    region = area_interest, # el parámetro region sirve para definir el área geográfica específica que se va a exportar.\n",
    "    fileNamePrefix=f\"sentinel2/Row_Data/{i}\", # Damos una dirección dentro del bucket y le damos nombre\n",
    "    scale=10,  # Resolución en metros\n",
    "    fileFormat='GeoTIFF')  # Formato de archivo\n",
    "    \n",
    "    task.start()  # Inicia la tarea de exportación\n",
    "    print(\"Se exportó la imagen a Cloud Storage:\", i)    \n",
    "    \n",
    "    # Image name\n",
    "    name = f\"{i}\"\n",
    "    sentinel_images_names.append(name)"
   ],
   "outputs": [
    {
     "data": {
      "text/plain": [
       "<IPython.core.display.HTML object>"
      ],
      "text/html": [
       "\n",
       "            <style>\n",
       "                .geemap-dark {\n",
       "                    --jp-widgets-color: white;\n",
       "                    --jp-widgets-label-color: white;\n",
       "                    --jp-ui-font-color1: white;\n",
       "                    --jp-layout-color2: #454545;\n",
       "                    background-color: #383838;\n",
       "                }\n",
       "\n",
       "                .geemap-dark .jupyter-button {\n",
       "                    --jp-layout-color3: #383838;\n",
       "                }\n",
       "\n",
       "                .geemap-colab {\n",
       "                    background-color: var(--colab-primary-surface-color, white);\n",
       "                }\n",
       "\n",
       "                .geemap-colab .jupyter-button {\n",
       "                    --jp-layout-color3: var(--colab-primary-surface-color, white);\n",
       "                }\n",
       "            </style>\n",
       "            "
      ]
     },
     "metadata": {},
     "output_type": "display_data"
    },
    {
     "name": "stdout",
     "output_type": "stream",
     "text": [
      "Se exportó la imagen a Cloud Storage: Image_2024-10-04 00:00:00\n",
      "Se exportó la imagen a Cloud Storage: Image_2024-10-14 00:00:00\n",
      "Se exportó la imagen a Cloud Storage: Image_2024-10-19 00:00:00\n",
      "Se exportó la imagen a Cloud Storage: Image_2024-10-24 00:00:00\n",
      "Se exportó la imagen a Cloud Storage: Image_2024-10-29 00:00:00\n",
      "Se exportó la imagen a Cloud Storage: Image_2024-11-03 00:00:00\n",
      "Se exportó la imagen a Cloud Storage: Image_2024-11-08 00:00:00\n",
      "Se exportó la imagen a Cloud Storage: Image_2024-11-13 00:00:00\n",
      "Se exportó la imagen a Cloud Storage: Image_2024-11-18 00:00:00\n",
      "Se exportó la imagen a Cloud Storage: Image_2024-11-23 00:00:00\n",
      "Se exportó la imagen a Cloud Storage: Image_2024-11-28 00:00:00\n",
      "Se exportó la imagen a Cloud Storage: Image_2024-12-03 00:00:00\n",
      "Se exportó la imagen a Cloud Storage: Image_2024-12-18 00:00:00\n",
      "Se exportó la imagen a Cloud Storage: Image_2024-12-23 00:00:00\n",
      "Se exportó la imagen a Cloud Storage: Image_2024-12-28 00:00:00\n",
      "Se exportó la imagen a Cloud Storage: Image_2025-01-02 00:00:00\n"
     ]
    }
   ],
   "execution_count": 26
  },
  {
   "cell_type": "markdown",
   "id": "2a226d43fb14ee7b",
   "metadata": {},
   "source": [
    "### 3.2) Exportación de mapa html \n",
    "Este mapa contiene las capas agregadas, en este caso solo el área de interés "
   ]
  },
  {
   "cell_type": "code",
   "id": "ef1f5c791afa3107",
   "metadata": {
    "ExecuteTime": {
     "end_time": "2025-01-11T00:03:34.859536Z",
     "start_time": "2025-01-11T00:03:34.841614Z"
    }
   },
   "source": [
    "# Visualizacion del mapa en un broswer \n",
    "html_file = direction + \"/data/02_intermediate/Map.html\" # String de la direccion de exportacion\n",
    "Map.to_html(filename=html_file, title=\"My Map\", width=\"100%\", height=\"880px\") # Exporacion a una html \n",
    "# NOTA : En estos momentos solo agrege el area de interes, no estan las imagenes TIF "
   ],
   "outputs": [
    {
     "data": {
      "text/plain": [
       "<IPython.core.display.HTML object>"
      ],
      "text/html": [
       "\n",
       "            <style>\n",
       "                .geemap-dark {\n",
       "                    --jp-widgets-color: white;\n",
       "                    --jp-widgets-label-color: white;\n",
       "                    --jp-ui-font-color1: white;\n",
       "                    --jp-layout-color2: #454545;\n",
       "                    background-color: #383838;\n",
       "                }\n",
       "\n",
       "                .geemap-dark .jupyter-button {\n",
       "                    --jp-layout-color3: #383838;\n",
       "                }\n",
       "\n",
       "                .geemap-colab {\n",
       "                    background-color: var(--colab-primary-surface-color, white);\n",
       "                }\n",
       "\n",
       "                .geemap-colab .jupyter-button {\n",
       "                    --jp-layout-color3: var(--colab-primary-surface-color, white);\n",
       "                }\n",
       "            </style>\n",
       "            "
      ]
     },
     "metadata": {},
     "output_type": "display_data"
    }
   ],
   "execution_count": 21
  },
  {
   "cell_type": "markdown",
   "id": "153e48cc07688b7f",
   "metadata": {},
   "source": [
    "### 3.3) Exportación del nombre de las imagenes \n",
    "Esto lo utilizaremos pasa saber exactamente que es lo que se exporto al bucket "
   ]
  },
  {
   "cell_type": "code",
   "id": "2ffe3dd1f4f53222",
   "metadata": {
    "ExecuteTime": {
     "end_time": "2025-01-11T00:04:06.787661Z",
     "start_time": "2025-01-11T00:04:06.781743Z"
    }
   },
   "source": [
    "# 1) Creación del pandas DF \n",
    "names = pd.DataFrame(data=sentinel_images_names, columns=[\"Images names\"])\n",
    "\n",
    "# 2) Exportación a csv \n",
    "names.to_csv(path_or_buf=direction + \"/data/02_intermediate/sentinel_images_names.csv\", index=False)"
   ],
   "outputs": [
    {
     "data": {
      "text/plain": [
       "<IPython.core.display.HTML object>"
      ],
      "text/html": [
       "\n",
       "            <style>\n",
       "                .geemap-dark {\n",
       "                    --jp-widgets-color: white;\n",
       "                    --jp-widgets-label-color: white;\n",
       "                    --jp-ui-font-color1: white;\n",
       "                    --jp-layout-color2: #454545;\n",
       "                    background-color: #383838;\n",
       "                }\n",
       "\n",
       "                .geemap-dark .jupyter-button {\n",
       "                    --jp-layout-color3: #383838;\n",
       "                }\n",
       "\n",
       "                .geemap-colab {\n",
       "                    background-color: var(--colab-primary-surface-color, white);\n",
       "                }\n",
       "\n",
       "                .geemap-colab .jupyter-button {\n",
       "                    --jp-layout-color3: var(--colab-primary-surface-color, white);\n",
       "                }\n",
       "            </style>\n",
       "            "
      ]
     },
     "metadata": {},
     "output_type": "display_data"
    }
   ],
   "execution_count": 23
  }
 ],
 "metadata": {
  "kernelspec": {
   "display_name": "Python 3 (ipykernel)",
   "language": "python",
   "name": "python3"
  },
  "language_info": {
   "codemirror_mode": {
    "name": "ipython",
    "version": 3
   },
   "file_extension": ".py",
   "mimetype": "text/x-python",
   "name": "python",
   "nbconvert_exporter": "python",
   "pygments_lexer": "ipython3",
   "version": "3.13.1"
  }
 },
 "nbformat": 4,
 "nbformat_minor": 5
}
