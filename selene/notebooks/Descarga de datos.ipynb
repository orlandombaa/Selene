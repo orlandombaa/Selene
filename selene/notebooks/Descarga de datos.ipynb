{
 "cells": [
  {
   "cell_type": "markdown",
   "id": "591c72d926f7520d",
   "metadata": {},
   "source": [
    "# Descarta de datos\n",
    "Actualmente se estan descargando los datos del satelite **Sentinel-2**\n",
    "\n",
    "Faltantes en el codigo:\n",
    "- Descargar 2 imagenes, la imagen completa satlital correspondiendte a la zona de interés, quiero una imagen ligeramente más grande que el área de interes. \n",
    "- Hacer el filtro de nubosidad solo para el área de interés "
   ]
  },
  {
   "cell_type": "markdown",
   "id": "311394d52656111b",
   "metadata": {},
   "source": [
    "**ESTABLECIMIENTO DE FECHAS DE INTERES**"
   ]
  },
  {
   "cell_type": "code",
   "id": "1c832ccd14788405",
   "metadata": {
    "ExecuteTime": {
     "end_time": "2025-01-09T17:56:33.958412Z",
     "start_time": "2025-01-09T17:56:33.956116Z"
    }
   },
   "source": [
    "from datetime import datetime\n",
    "\n",
    "# Create a specific date and time\n",
    "start_date = datetime(year=2024, month=10, day=1)  # Year, Month, Day, con un digito las que son de 1\n",
    "\n",
    "# end date\n",
    "end_date = datetime(year=2025, month=1, day=8)"
   ],
   "outputs": [],
   "execution_count": 1
  },
  {
   "cell_type": "markdown",
   "id": "4f0bfce0547801b",
   "metadata": {},
   "source": [
    "**IMPORTACION DE LIBRERIAS**"
   ]
  },
  {
   "cell_type": "code",
   "id": "5bb9b9cd4eb9e169",
   "metadata": {
    "ExecuteTime": {
     "end_time": "2025-01-09T17:56:37.760976Z",
     "start_time": "2025-01-09T17:56:36.342964Z"
    }
   },
   "source": [
    "import os\n",
    "import ee \n",
    "import geopandas as gpd\n",
    "import matplotlib.pyplot as plt\n",
    "import datetime\n",
    "import geemap\n",
    "import pandas as pd"
   ],
   "outputs": [],
   "execution_count": 2
  },
  {
   "cell_type": "code",
   "id": "51411ca7d9e7712d",
   "metadata": {
    "ExecuteTime": {
     "end_time": "2025-01-09T17:56:38.158053Z",
     "start_time": "2025-01-09T17:56:38.153004Z"
    }
   },
   "source": [
    "# Extración de fechas\n",
    "start_year = start_date.year\n",
    "start_month = start_date.month\n",
    "start_day = start_date.day\n",
    "\n",
    "end_year = end_date.year\n",
    "end_month = end_date.month\n",
    "end_day = end_date.day"
   ],
   "outputs": [
    {
     "data": {
      "text/plain": [
       "<IPython.core.display.HTML object>"
      ],
      "text/html": [
       "\n",
       "            <style>\n",
       "                .geemap-dark {\n",
       "                    --jp-widgets-color: white;\n",
       "                    --jp-widgets-label-color: white;\n",
       "                    --jp-ui-font-color1: white;\n",
       "                    --jp-layout-color2: #454545;\n",
       "                    background-color: #383838;\n",
       "                }\n",
       "\n",
       "                .geemap-dark .jupyter-button {\n",
       "                    --jp-layout-color3: #383838;\n",
       "                }\n",
       "\n",
       "                .geemap-colab {\n",
       "                    background-color: var(--colab-primary-surface-color, white);\n",
       "                }\n",
       "\n",
       "                .geemap-colab .jupyter-button {\n",
       "                    --jp-layout-color3: var(--colab-primary-surface-color, white);\n",
       "                }\n",
       "            </style>\n",
       "            "
      ]
     },
     "metadata": {},
     "output_type": "display_data"
    }
   ],
   "execution_count": 3
  },
  {
   "cell_type": "markdown",
   "id": "daf4986a5dde4c83",
   "metadata": {},
   "source": [
    "## Autentificación para GCP "
   ]
  },
  {
   "cell_type": "code",
   "id": "fc7a058a33f4ea0a",
   "metadata": {
    "ExecuteTime": {
     "end_time": "2025-01-09T17:56:40.368996Z",
     "start_time": "2025-01-09T17:56:39.047267Z"
    }
   },
   "source": [
    "# 1) Obtención de la dirección de trabajo \n",
    "direction = os.getcwd()\n",
    "\n",
    "# Remove the last part of the path\n",
    "direction = os.path.dirname(direction)\n",
    "\n",
    "# Dirección de la llave \n",
    "service_account= direction + '/conf/local/gcp-for-data-science-397913-4fd843feede1.json'\n",
    "\n",
    "# Autentificación \n",
    "credentials = ee.ServiceAccountCredentials(email=None,key_file=service_account)\n",
    "ee.Initialize(credentials)"
   ],
   "outputs": [
    {
     "data": {
      "text/plain": [
       "<IPython.core.display.HTML object>"
      ],
      "text/html": [
       "\n",
       "            <style>\n",
       "                .geemap-dark {\n",
       "                    --jp-widgets-color: white;\n",
       "                    --jp-widgets-label-color: white;\n",
       "                    --jp-ui-font-color1: white;\n",
       "                    --jp-layout-color2: #454545;\n",
       "                    background-color: #383838;\n",
       "                }\n",
       "\n",
       "                .geemap-dark .jupyter-button {\n",
       "                    --jp-layout-color3: #383838;\n",
       "                }\n",
       "\n",
       "                .geemap-colab {\n",
       "                    background-color: var(--colab-primary-surface-color, white);\n",
       "                }\n",
       "\n",
       "                .geemap-colab .jupyter-button {\n",
       "                    --jp-layout-color3: var(--colab-primary-surface-color, white);\n",
       "                }\n",
       "            </style>\n",
       "            "
      ]
     },
     "metadata": {},
     "output_type": "display_data"
    }
   ],
   "execution_count": 4
  },
  {
   "cell_type": "markdown",
   "id": "b54978af94170958",
   "metadata": {},
   "source": [
    "## 1) Importación del área de interés \n",
    "**NOTA:** Se obtiene el área de interés por medio de un archivo tipo Geojson, kml o shape. Para este ejemplo se utilizará un KML. "
   ]
  },
  {
   "cell_type": "markdown",
   "id": "16121ac07cadfe20",
   "metadata": {},
   "source": [
    "### 1.1) Carga y visualización con geopandas"
   ]
  },
  {
   "cell_type": "code",
   "id": "326fd727173f5124",
   "metadata": {
    "ExecuteTime": {
     "end_time": "2025-01-09T17:56:40.583356Z",
     "start_time": "2025-01-09T17:56:40.375868Z"
    }
   },
   "source": [
    "# Direction of the KML \n",
    "kml_file = direction + \"/data/01_raw/Agricultura.kml\"\n",
    "\n",
    "# Nombre del archivo GeoJson a exportar \n",
    "geojson_file = direction + \"/data/01_raw/Agricultura.geojson\"\n",
    "\n",
    "# 1) Lectura del kml \n",
    "gdf = gpd.read_file(filename=kml_file, driver=\"KML\")\n",
    "\n",
    "# 2) Exportación del kml a un Geo JSON \n",
    "gdf.to_file(filename=geojson_file, driver=\"GeoJSON\")\n",
    "\n",
    "# Plot using Geopandas\n",
    "gdf.plot()\n",
    "\n",
    "# Customize the plot\n",
    "plt.title(\"KML File Visualization\")\n",
    "plt.show()"
   ],
   "outputs": [
    {
     "data": {
      "text/plain": [
       "<IPython.core.display.HTML object>"
      ],
      "text/html": [
       "\n",
       "            <style>\n",
       "                .geemap-dark {\n",
       "                    --jp-widgets-color: white;\n",
       "                    --jp-widgets-label-color: white;\n",
       "                    --jp-ui-font-color1: white;\n",
       "                    --jp-layout-color2: #454545;\n",
       "                    background-color: #383838;\n",
       "                }\n",
       "\n",
       "                .geemap-dark .jupyter-button {\n",
       "                    --jp-layout-color3: #383838;\n",
       "                }\n",
       "\n",
       "                .geemap-colab {\n",
       "                    background-color: var(--colab-primary-surface-color, white);\n",
       "                }\n",
       "\n",
       "                .geemap-colab .jupyter-button {\n",
       "                    --jp-layout-color3: var(--colab-primary-surface-color, white);\n",
       "                }\n",
       "            </style>\n",
       "            "
      ]
     },
     "metadata": {},
     "output_type": "display_data"
    },
    {
     "data": {
      "text/plain": [
       "<Figure size 640x480 with 1 Axes>"
      ],
      "image/png": "[encoded data removed]"
     },
     "metadata": {},
     "output_type": "display_data"
    }
   ],
   "execution_count": 5
  },
  {
   "cell_type": "markdown",
   "id": "5151a0452db9fd55",
   "metadata": {},
   "source": [
    "## 2) Descarga de imagenes satelitales\n",
    "En esta sección se abordarán los siguientes procesos \n",
    "\n",
    "- **[Creación de un geometria para Earth Engine](https://developers.google.com/earth-engine/apidocs/ee-geometry)**: La geometria de earth engine se puede crear a partir de un GeoJSON, esto serivara para hacer el corte en las imagenes satelitales de interés\n",
    "  \n",
    "- Descarga de datos satelitales para esa área junto con un filtro al área de intrés, fechas y nubosidad "
   ]
  },
  {
   "cell_type": "markdown",
   "id": "75d7cbd471bee8bc",
   "metadata": {},
   "source": [
    "### 2.1) Creación de una geometría de earth engine \n",
    "Para la creación de una geometría lo más indicado es convertir el KML en un archivo GeoJSON y este leerlo directamtne como geometría "
   ]
  },
  {
   "cell_type": "code",
   "id": "6d5dcc88c47145c0",
   "metadata": {
    "ExecuteTime": {
     "end_time": "2025-01-09T17:56:41.253776Z",
     "start_time": "2025-01-09T17:56:41.249090Z"
    }
   },
   "source": [
    "import json\n",
    "# Step 1: Load the GeoJSON file\n",
    "\n",
    "with open(geojson_file, \"r\") as f:\n",
    "    geojson_data = json.load(f)\n",
    "\n",
    "geojson_data[\"features\"][0][\"geometry\"] # IMPORTANTE: Vease como contiene una tercera coordenada que es la altura (los valores de 0) , se deben de retirar "
   ],
   "outputs": [
    {
     "data": {
      "text/plain": [
       "<IPython.core.display.HTML object>"
      ],
      "text/html": [
       "\n",
       "            <style>\n",
       "                .geemap-dark {\n",
       "                    --jp-widgets-color: white;\n",
       "                    --jp-widgets-label-color: white;\n",
       "                    --jp-ui-font-color1: white;\n",
       "                    --jp-layout-color2: #454545;\n",
       "                    background-color: #383838;\n",
       "                }\n",
       "\n",
       "                .geemap-dark .jupyter-button {\n",
       "                    --jp-layout-color3: #383838;\n",
       "                }\n",
       "\n",
       "                .geemap-colab {\n",
       "                    background-color: var(--colab-primary-surface-color, white);\n",
       "                }\n",
       "\n",
       "                .geemap-colab .jupyter-button {\n",
       "                    --jp-layout-color3: var(--colab-primary-surface-color, white);\n",
       "                }\n",
       "            </style>\n",
       "            "
      ]
     },
     "metadata": {},
     "output_type": "display_data"
    },
    {
     "data": {
      "text/plain": [
       "{'type': 'Polygon',\n",
       " 'coordinates': [[[-107.6730266244965, 24.75766085153008, 0.0],\n",
       "   [-107.6353327971003, 24.76000824378666, 0.0],\n",
       "   [-107.6440665193485, 24.80059938041618, 0.0],\n",
       "   [-107.6785631858739, 24.79730942750482, 0.0],\n",
       "   [-107.6730266244965, 24.75766085153008, 0.0]]]}"
      ]
     },
     "execution_count": 6,
     "metadata": {},
     "output_type": "execute_result"
    }
   ],
   "execution_count": 6
  },
  {
   "cell_type": "markdown",
   "id": "12ab062c8767034a",
   "metadata": {},
   "source": [
    "**Eliminación de la coordinada de elevación**"
   ]
  },
  {
   "cell_type": "code",
   "id": "aa07c8abc3fa2292",
   "metadata": {
    "ExecuteTime": {
     "end_time": "2025-01-09T17:56:41.803466Z",
     "start_time": "2025-01-09T17:56:41.796873Z"
    }
   },
   "source": [
    "# Step 2: Function to remove the third dimension\n",
    "def remove_third_dimension(geometry):\n",
    "    \"\"\"Removes the third dimension (z-values) from GeoJSON coordinates.\"\"\"\n",
    "    if geometry[\"type\"] == \"Polygon\":\n",
    "        geometry[\"coordinates\"] = [\n",
    "            [[coord[0], coord[1]] for coord in ring] for ring in geometry[\"coordinates\"]\n",
    "        ]\n",
    "    elif geometry[\"type\"] == \"MultiPolygon\":\n",
    "        geometry[\"coordinates\"] = [\n",
    "            [[[coord[0], coord[1]] for coord in ring] for ring in polygon]\n",
    "            for polygon in geometry[\"coordinates\"]\n",
    "        ]\n",
    "    elif geometry[\"type\"] == \"LineString\":\n",
    "        geometry[\"coordinates\"] = [[coord[0], coord[1]] for coord in geometry[\"coordinates\"]]\n",
    "    elif geometry[\"type\"] == \"Point\":\n",
    "        geometry[\"coordinates\"] = geometry[\"coordinates\"][:2]\n",
    "    return geometry\n",
    "\n",
    "# Step 3: Clean the geometry, ejecucón de la funcion \n",
    "cleaned_geometry = remove_third_dimension(geojson_data[\"features\"][0][\"geometry\"])\n",
    "cleaned_geometry # Vease ocmo aqui ya estan retirados la tercera dimensión de la altura "
   ],
   "outputs": [
    {
     "data": {
      "text/plain": [
       "<IPython.core.display.HTML object>"
      ],
      "text/html": [
       "\n",
       "            <style>\n",
       "                .geemap-dark {\n",
       "                    --jp-widgets-color: white;\n",
       "                    --jp-widgets-label-color: white;\n",
       "                    --jp-ui-font-color1: white;\n",
       "                    --jp-layout-color2: #454545;\n",
       "                    background-color: #383838;\n",
       "                }\n",
       "\n",
       "                .geemap-dark .jupyter-button {\n",
       "                    --jp-layout-color3: #383838;\n",
       "                }\n",
       "\n",
       "                .geemap-colab {\n",
       "                    background-color: var(--colab-primary-surface-color, white);\n",
       "                }\n",
       "\n",
       "                .geemap-colab .jupyter-button {\n",
       "                    --jp-layout-color3: var(--colab-primary-surface-color, white);\n",
       "                }\n",
       "            </style>\n",
       "            "
      ]
     },
     "metadata": {},
     "output_type": "display_data"
    },
    {
     "data": {
      "text/plain": [
       "{'type': 'Polygon',\n",
       " 'coordinates': [[[-107.6730266244965, 24.75766085153008],\n",
       "   [-107.6353327971003, 24.76000824378666],\n",
       "   [-107.6440665193485, 24.80059938041618],\n",
       "   [-107.6785631858739, 24.79730942750482],\n",
       "   [-107.6730266244965, 24.75766085153008]]]}"
      ]
     },
     "execution_count": 7,
     "metadata": {},
     "output_type": "execute_result"
    }
   ],
   "execution_count": 7
  },
  {
   "cell_type": "markdown",
   "id": "49a0fe7d8561a870",
   "metadata": {},
   "source": [
    "**Convertir en geometría de Earth Engine**"
   ]
  },
  {
   "cell_type": "code",
   "id": "d72b64dfe299fd34",
   "metadata": {
    "ExecuteTime": {
     "end_time": "2025-01-09T17:56:42.833296Z",
     "start_time": "2025-01-09T17:56:42.828513Z"
    }
   },
   "source": [
    "# Step 4: Convert to Earth Engine Geometry\n",
    "area_interest = ee.Geometry(cleaned_geometry)\n",
    "type(area_interest)"
   ],
   "outputs": [
    {
     "data": {
      "text/plain": [
       "<IPython.core.display.HTML object>"
      ],
      "text/html": [
       "\n",
       "            <style>\n",
       "                .geemap-dark {\n",
       "                    --jp-widgets-color: white;\n",
       "                    --jp-widgets-label-color: white;\n",
       "                    --jp-ui-font-color1: white;\n",
       "                    --jp-layout-color2: #454545;\n",
       "                    background-color: #383838;\n",
       "                }\n",
       "\n",
       "                .geemap-dark .jupyter-button {\n",
       "                    --jp-layout-color3: #383838;\n",
       "                }\n",
       "\n",
       "                .geemap-colab {\n",
       "                    background-color: var(--colab-primary-surface-color, white);\n",
       "                }\n",
       "\n",
       "                .geemap-colab .jupyter-button {\n",
       "                    --jp-layout-color3: var(--colab-primary-surface-color, white);\n",
       "                }\n",
       "            </style>\n",
       "            "
      ]
     },
     "metadata": {},
     "output_type": "display_data"
    },
    {
     "data": {
      "text/plain": [
       "ee.geometry.Geometry"
      ]
     },
     "execution_count": 8,
     "metadata": {},
     "output_type": "execute_result"
    }
   ],
   "execution_count": 8
  },
  {
   "cell_type": "markdown",
   "id": "f96b81270dc108aa",
   "metadata": {},
   "source": [
    "### 2.2) Creación de un mapa base e integración de área de interés"
   ]
  },
  {
   "cell_type": "markdown",
   "id": "4135e9d0c1001f84",
   "metadata": {},
   "source": [
    "**AÑADIMOS LA GEOMETRIA AL MAPA**"
   ]
  },
  {
   "cell_type": "code",
   "id": "e6dfcc8309aea06",
   "metadata": {
    "ExecuteTime": {
     "end_time": "2025-01-09T17:56:45.090577Z",
     "start_time": "2025-01-09T17:56:44.623059Z"
    }
   },
   "source": [
    "# 1) Creación del mapa base \n",
    "Map  = geemap.Map()\n",
    "\n",
    "# Anadimos un base map distinto \n",
    "Map.add_basemap(basemap=\"Esri.WorldImagery\")  # Imagene satelital de ESRI \n",
    "\n",
    "# 2) Add the geometry to the map\n",
    "Map.addLayer(area_interest, {\"color\": \"red\"}, \"Cleaned Geometry\")\n",
    "\n",
    "# Center the map on the geometry\n",
    "Map.centerObject(area_interest, 11)"
   ],
   "outputs": [
    {
     "data": {
      "text/plain": [
       "<IPython.core.display.HTML object>"
      ],
      "text/html": [
       "\n",
       "            <style>\n",
       "                .geemap-dark {\n",
       "                    --jp-widgets-color: white;\n",
       "                    --jp-widgets-label-color: white;\n",
       "                    --jp-ui-font-color1: white;\n",
       "                    --jp-layout-color2: #454545;\n",
       "                    background-color: #383838;\n",
       "                }\n",
       "\n",
       "                .geemap-dark .jupyter-button {\n",
       "                    --jp-layout-color3: #383838;\n",
       "                }\n",
       "\n",
       "                .geemap-colab {\n",
       "                    background-color: var(--colab-primary-surface-color, white);\n",
       "                }\n",
       "\n",
       "                .geemap-colab .jupyter-button {\n",
       "                    --jp-layout-color3: var(--colab-primary-surface-color, white);\n",
       "                }\n",
       "            </style>\n",
       "            "
      ]
     },
     "metadata": {},
     "output_type": "display_data"
    }
   ],
   "execution_count": 9
  },
  {
   "cell_type": "markdown",
   "id": "2ddac04750e4573c",
   "metadata": {},
   "source": [
    "### 2.3) Descarga de imagenes satelitales\n",
    "\n",
    "**IMPORTANTE:** Se hará la descarga de las imagenes en los años que se eligieron al inicio "
   ]
  },
  {
   "cell_type": "code",
   "id": "f673964e547274b8",
   "metadata": {
    "ExecuteTime": {
     "end_time": "2025-01-09T17:56:46.757275Z",
     "start_time": "2025-01-09T17:56:46.750446Z"
    }
   },
   "source": [
    "# Definición del diccionario de imágenes\n",
    "image_dic = {}  # Lista vacía\n",
    "\n",
    "# 1) Importación del image collection de Copernicus\n",
    "sentinel2 = ee.ImageCollection(\"COPERNICUS/S2_SR\")\n",
    "            \n",
    "# 2) Filtro por área de interés\n",
    "sentinel2 = sentinel2.filterBounds(geometry=area_interest)\n",
    "\n",
    "# 3) Filtro por fechas de interés\n",
    "sentinel2 = sentinel2.filterDate(start=f\"{start_year}-{start_month}-{start_day}\",\n",
    "                                 end=f\"{end_year}-{end_month}-{end_day}\")  # año, mes y día\n",
    "\n",
    "# 4) Filtro por titulo, IMPORATNTE: de lo contrario apareceran 2 titulos de la misma imagen \n",
    "sentinel2 = sentinel2.filter(ee.Filter.eq('MGRS_TILE', '12RZN'))\n",
    "\n",
    "# 5) Filtro por nubosidad\n",
    "sentinel2 = sentinel2.filter(ee.Filter.lt(\"CLOUDY_PIXEL_PERCENTAGE\", 20))  # nubosidad menor al 20%\n",
    "# NOTE: This is still a image collection object\n",
    "\n",
    "# 6) Seleccion Bandas necesarias\n",
    "sentinel2 = sentinel2.select(['B2', 'B3', 'B4', 'B8', 'B11'])\n",
    "\n",
    "  # Bandas seleccionadas:\n",
    "    # - B2: Banda azul, central Wavelength = 490nm\n",
    "    # - B3: Banda verde, central Wavelength = 560nm\n",
    "    # - B4: Banda roja, central Wavelength = 665nm\n",
    "    # - B8: Banda Near Infrared, central Wavelength = 842nm\n",
    "    # - B11: Banda (SWIR 1), central Wavelength = 1610nm\n",
    "\n",
    "type(sentinel2) # Esto es una image collection"
   ],
   "outputs": [
    {
     "data": {
      "text/plain": [
       "<IPython.core.display.HTML object>"
      ],
      "text/html": [
       "\n",
       "            <style>\n",
       "                .geemap-dark {\n",
       "                    --jp-widgets-color: white;\n",
       "                    --jp-widgets-label-color: white;\n",
       "                    --jp-ui-font-color1: white;\n",
       "                    --jp-layout-color2: #454545;\n",
       "                    background-color: #383838;\n",
       "                }\n",
       "\n",
       "                .geemap-dark .jupyter-button {\n",
       "                    --jp-layout-color3: #383838;\n",
       "                }\n",
       "\n",
       "                .geemap-colab {\n",
       "                    background-color: var(--colab-primary-surface-color, white);\n",
       "                }\n",
       "\n",
       "                .geemap-colab .jupyter-button {\n",
       "                    --jp-layout-color3: var(--colab-primary-surface-color, white);\n",
       "                }\n",
       "            </style>\n",
       "            "
      ]
     },
     "metadata": {},
     "output_type": "display_data"
    },
    {
     "data": {
      "text/plain": [
       "ee.imagecollection.ImageCollection"
      ]
     },
     "execution_count": 10,
     "metadata": {},
     "output_type": "execute_result"
    }
   ],
   "execution_count": 10
  },
  {
   "cell_type": "code",
   "id": "6995425d525866dd",
   "metadata": {
    "ExecuteTime": {
     "end_time": "2025-01-09T17:56:51.234948Z",
     "start_time": "2025-01-09T17:56:50.909226Z"
    }
   },
   "source": [
    "# Get the list of image IDs from the filtered ImageCollection\n",
    "image_ids = sentinel2.aggregate_array('system:index').getInfo()\n",
    "image_ids"
   ],
   "outputs": [
    {
     "data": {
      "text/plain": [
       "<IPython.core.display.HTML object>"
      ],
      "text/html": [
       "\n",
       "            <style>\n",
       "                .geemap-dark {\n",
       "                    --jp-widgets-color: white;\n",
       "                    --jp-widgets-label-color: white;\n",
       "                    --jp-ui-font-color1: white;\n",
       "                    --jp-layout-color2: #454545;\n",
       "                    background-color: #383838;\n",
       "                }\n",
       "\n",
       "                .geemap-dark .jupyter-button {\n",
       "                    --jp-layout-color3: #383838;\n",
       "                }\n",
       "\n",
       "                .geemap-colab {\n",
       "                    background-color: var(--colab-primary-surface-color, white);\n",
       "                }\n",
       "\n",
       "                .geemap-colab .jupyter-button {\n",
       "                    --jp-layout-color3: var(--colab-primary-surface-color, white);\n",
       "                }\n",
       "            </style>\n",
       "            "
      ]
     },
     "metadata": {},
     "output_type": "display_data"
    },
    {
     "data": {
      "text/plain": [
       "['20241004T174109_20241004T175248_T12RZN',\n",
       " '20241014T174209_20241014T174540_T12RZN',\n",
       " '20241019T174341_20241019T174809_T12RZN',\n",
       " '20241024T174319_20241024T175436_T12RZN',\n",
       " '20241029T174441_20241029T175146_T12RZN',\n",
       " '20241103T174419_20241103T175519_T12RZN',\n",
       " '20241108T174541_20241108T175436_T12RZN',\n",
       " '20241113T174509_20241113T175617_T12RZN',\n",
       " '20241118T174631_20241118T175637_T12RZN',\n",
       " '20241123T174559_20241123T175306_T12RZN',\n",
       " '20241128T174701_20241128T174941_T12RZN',\n",
       " '20241203T174629_20241203T174733_T12RZN',\n",
       " '20241218T174741_20241218T175528_T12RZN',\n",
       " '20241223T174649_20241223T174803_T12RZN',\n",
       " '20241228T174741_20241228T175120_T12RZN',\n",
       " '20250102T174639_20250102T175210_T12RZN']"
      ]
     },
     "execution_count": 11,
     "metadata": {},
     "output_type": "execute_result"
    }
   ],
   "execution_count": 11
  },
  {
   "cell_type": "code",
   "id": "55be8f21ca58ca53",
   "metadata": {
    "ExecuteTime": {
     "end_time": "2025-01-09T17:57:53.906603Z",
     "start_time": "2025-01-09T17:57:08.120718Z"
    }
   },
   "source": [
    "# Get IDs and dates\n",
    "image_list = sentinel2.toList(sentinel2.size()) # Esto genera una ee list que contiene todo el listado de imagenes con sus metadados\n",
    "\n",
    "# Lista donde se almacenara el ID de las imagenes y su fecha\n",
    "ids_and_dates = []\n",
    "\n",
    "for i in range(image_list.size().getInfo()): # Esto va iterar sobre la lista de de earth engine\n",
    "    # Aqui  se esta obteniedo cada imagen de la lista\n",
    "    image = ee.Image(image_list.get(i))\n",
    "\n",
    "    # Se topa el ID de la imagen\n",
    "    image_id = image.get('system:index').getInfo()\n",
    "\n",
    "    # Se toma la fecha de imagen\n",
    "    date = ee.Date(image.get('system:time_start')).format('YYYY-MM-dd').getInfo()\n",
    "\n",
    "    # Se integra los resultados a la lista\n",
    "    ids_and_dates.append({'ID': image_id, 'Date': date})\n",
    "\n",
    "# Convertirlo a un pandas DF \n",
    "ids_and_dates = pd.DataFrame(data=ids_and_dates)\n",
    "ids_and_dates.head(n=5) # Visualizacion \n",
    "# IMPORTQNTE: Vease que cada fecha tiene 2 imagenes, las inspecciones y son básicamente las mismas"
   ],
   "outputs": [
    {
     "data": {
      "text/plain": [
       "<IPython.core.display.HTML object>"
      ],
      "text/html": [
       "\n",
       "            <style>\n",
       "                .geemap-dark {\n",
       "                    --jp-widgets-color: white;\n",
       "                    --jp-widgets-label-color: white;\n",
       "                    --jp-ui-font-color1: white;\n",
       "                    --jp-layout-color2: #454545;\n",
       "                    background-color: #383838;\n",
       "                }\n",
       "\n",
       "                .geemap-dark .jupyter-button {\n",
       "                    --jp-layout-color3: #383838;\n",
       "                }\n",
       "\n",
       "                .geemap-colab {\n",
       "                    background-color: var(--colab-primary-surface-color, white);\n",
       "                }\n",
       "\n",
       "                .geemap-colab .jupyter-button {\n",
       "                    --jp-layout-color3: var(--colab-primary-surface-color, white);\n",
       "                }\n",
       "            </style>\n",
       "            "
      ]
     },
     "metadata": {},
     "output_type": "display_data"
    },
    {
     "data": {
      "text/plain": [
       "                                       ID        Date\n",
       "0  20241004T174109_20241004T175248_T12RZN  2024-10-04\n",
       "1  20241014T174209_20241014T174540_T12RZN  2024-10-14\n",
       "2  20241019T174341_20241019T174809_T12RZN  2024-10-19\n",
       "3  20241024T174319_20241024T175436_T12RZN  2024-10-24\n",
       "4  20241029T174441_20241029T175146_T12RZN  2024-10-29"
      ],
      "text/html": [
       "<div>\n",
       "<style scoped>\n",
       "    .dataframe tbody tr th:only-of-type {\n",
       "        vertical-align: middle;\n",
       "    }\n",
       "\n",
       "    .dataframe tbody tr th {\n",
       "        vertical-align: top;\n",
       "    }\n",
       "\n",
       "    .dataframe thead th {\n",
       "        text-align: right;\n",
       "    }\n",
       "</style>\n",
       "<table border=\"1\" class=\"dataframe\">\n",
       "  <thead>\n",
       "    <tr style=\"text-align: right;\">\n",
       "      <th></th>\n",
       "      <th>ID</th>\n",
       "      <th>Date</th>\n",
       "    </tr>\n",
       "  </thead>\n",
       "  <tbody>\n",
       "    <tr>\n",
       "      <th>0</th>\n",
       "      <td>20241004T174109_20241004T175248_T12RZN</td>\n",
       "      <td>2024-10-04</td>\n",
       "    </tr>\n",
       "    <tr>\n",
       "      <th>1</th>\n",
       "      <td>20241014T174209_20241014T174540_T12RZN</td>\n",
       "      <td>2024-10-14</td>\n",
       "    </tr>\n",
       "    <tr>\n",
       "      <th>2</th>\n",
       "      <td>20241019T174341_20241019T174809_T12RZN</td>\n",
       "      <td>2024-10-19</td>\n",
       "    </tr>\n",
       "    <tr>\n",
       "      <th>3</th>\n",
       "      <td>20241024T174319_20241024T175436_T12RZN</td>\n",
       "      <td>2024-10-24</td>\n",
       "    </tr>\n",
       "    <tr>\n",
       "      <th>4</th>\n",
       "      <td>20241029T174441_20241029T175146_T12RZN</td>\n",
       "      <td>2024-10-29</td>\n",
       "    </tr>\n",
       "  </tbody>\n",
       "</table>\n",
       "</div>"
      ]
     },
     "execution_count": 12,
     "metadata": {},
     "output_type": "execute_result"
    }
   ],
   "execution_count": 12
  },
  {
   "cell_type": "code",
   "id": "4f8f17f9-ea44-4fb8-91bf-9e8dd6d7d788",
   "metadata": {
    "ExecuteTime": {
     "end_time": "2025-01-09T18:10:26.363606Z",
     "start_time": "2025-01-09T18:10:26.326163Z"
    }
   },
   "source": [
    "# 1) Tranformar la columna Date a tipo date \n",
    "ids_and_dates['Date'] = pd.to_datetime(arg=ids_and_dates['Date'])\n",
    "\n",
    "# 2) Obtención de los datos de interes\n",
    "ids_and_dates[\"Year\"] = ids_and_dates[\"Date\"].dt.year\n",
    "ids_and_dates[\"Month\"] = ids_and_dates[\"Date\"].dt.month\n",
    "ids_and_dates[\"Week\"] = ids_and_dates[\"Date\"].dt.isocalendar().week\n",
    "ids_and_dates[\"Day_of_the_week\"] = ids_and_dates[\"Date\"].dt.dayofweek\n",
    "\n",
    "# 3) Generating and alternative ID\n",
    "ids_and_dates[\"ID_Code\"] =  (\n",
    "                            ids_and_dates[\"Year\"].astype(str) +\n",
    "                            ids_and_dates [\"Month\"].astype(str) +\n",
    "                            ids_and_dates[\"Week\"].astype(str)\n",
    "                             )\n",
    "\n",
    "print(\"Cantidad de imagenes:\", len(ids_and_dates))\n",
    "ids_and_dates # Si existen semanas con más de 1 imagen por semana, por lo que nos quedaremos solo con 1 imagen por semana"
   ],
   "outputs": [
    {
     "data": {
      "text/plain": [
       "<IPython.core.display.HTML object>"
      ],
      "text/html": [
       "\n",
       "            <style>\n",
       "                .geemap-dark {\n",
       "                    --jp-widgets-color: white;\n",
       "                    --jp-widgets-label-color: white;\n",
       "                    --jp-ui-font-color1: white;\n",
       "                    --jp-layout-color2: #454545;\n",
       "                    background-color: #383838;\n",
       "                }\n",
       "\n",
       "                .geemap-dark .jupyter-button {\n",
       "                    --jp-layout-color3: #383838;\n",
       "                }\n",
       "\n",
       "                .geemap-colab {\n",
       "                    background-color: var(--colab-primary-surface-color, white);\n",
       "                }\n",
       "\n",
       "                .geemap-colab .jupyter-button {\n",
       "                    --jp-layout-color3: var(--colab-primary-surface-color, white);\n",
       "                }\n",
       "            </style>\n",
       "            "
      ]
     },
     "metadata": {},
     "output_type": "display_data"
    },
    {
     "name": "stdout",
     "output_type": "stream",
     "text": [
      "Cantidad de imagenes: 16\n"
     ]
    },
    {
     "data": {
      "text/plain": [
       "                                        ID       Date  Year  Month  Week  \\\n",
       "0   20241004T174109_20241004T175248_T12RZN 2024-10-04  2024     10    40   \n",
       "1   20241014T174209_20241014T174540_T12RZN 2024-10-14  2024     10    42   \n",
       "2   20241019T174341_20241019T174809_T12RZN 2024-10-19  2024     10    42   \n",
       "3   20241024T174319_20241024T175436_T12RZN 2024-10-24  2024     10    43   \n",
       "4   20241029T174441_20241029T175146_T12RZN 2024-10-29  2024     10    44   \n",
       "5   20241103T174419_20241103T175519_T12RZN 2024-11-03  2024     11    44   \n",
       "6   20241108T174541_20241108T175436_T12RZN 2024-11-08  2024     11    45   \n",
       "7   20241113T174509_20241113T175617_T12RZN 2024-11-13  2024     11    46   \n",
       "8   20241118T174631_20241118T175637_T12RZN 2024-11-18  2024     11    47   \n",
       "9   20241123T174559_20241123T175306_T12RZN 2024-11-23  2024     11    47   \n",
       "10  20241128T174701_20241128T174941_T12RZN 2024-11-28  2024     11    48   \n",
       "11  20241203T174629_20241203T174733_T12RZN 2024-12-03  2024     12    49   \n",
       "12  20241218T174741_20241218T175528_T12RZN 2024-12-18  2024     12    51   \n",
       "13  20241223T174649_20241223T174803_T12RZN 2024-12-23  2024     12    52   \n",
       "14  20241228T174741_20241228T175120_T12RZN 2024-12-28  2024     12    52   \n",
       "15  20250102T174639_20250102T175210_T12RZN 2025-01-02  2025      1     1   \n",
       "\n",
       "    Day_of_the_week   ID_Code  \n",
       "0                 4  20241040  \n",
       "1                 0  20241042  \n",
       "2                 5  20241042  \n",
       "3                 3  20241043  \n",
       "4                 1  20241044  \n",
       "5                 6  20241144  \n",
       "6                 4  20241145  \n",
       "7                 2  20241146  \n",
       "8                 0  20241147  \n",
       "9                 5  20241147  \n",
       "10                3  20241148  \n",
       "11                1  20241249  \n",
       "12                2  20241251  \n",
       "13                0  20241252  \n",
       "14                5  20241252  \n",
       "15                3    202511  "
      ],
      "text/html": [
       "<div>\n",
       "<style scoped>\n",
       "    .dataframe tbody tr th:only-of-type {\n",
       "        vertical-align: middle;\n",
       "    }\n",
       "\n",
       "    .dataframe tbody tr th {\n",
       "        vertical-align: top;\n",
       "    }\n",
       "\n",
       "    .dataframe thead th {\n",
       "        text-align: right;\n",
       "    }\n",
       "</style>\n",
       "<table border=\"1\" class=\"dataframe\">\n",
       "  <thead>\n",
       "    <tr style=\"text-align: right;\">\n",
       "      <th></th>\n",
       "      <th>ID</th>\n",
       "      <th>Date</th>\n",
       "      <th>Year</th>\n",
       "      <th>Month</th>\n",
       "      <th>Week</th>\n",
       "      <th>Day_of_the_week</th>\n",
       "      <th>ID_Code</th>\n",
       "    </tr>\n",
       "  </thead>\n",
       "  <tbody>\n",
       "    <tr>\n",
       "      <th>0</th>\n",
       "      <td>20241004T174109_20241004T175248_T12RZN</td>\n",
       "      <td>2024-10-04</td>\n",
       "      <td>2024</td>\n",
       "      <td>10</td>\n",
       "      <td>40</td>\n",
       "      <td>4</td>\n",
       "      <td>20241040</td>\n",
       "    </tr>\n",
       "    <tr>\n",
       "      <th>1</th>\n",
       "      <td>20241014T174209_20241014T174540_T12RZN</td>\n",
       "      <td>2024-10-14</td>\n",
       "      <td>2024</td>\n",
       "      <td>10</td>\n",
       "      <td>42</td>\n",
       "      <td>0</td>\n",
       "      <td>20241042</td>\n",
       "    </tr>\n",
       "    <tr>\n",
       "      <th>2</th>\n",
       "      <td>20241019T174341_20241019T174809_T12RZN</td>\n",
       "      <td>2024-10-19</td>\n",
       "      <td>2024</td>\n",
       "      <td>10</td>\n",
       "      <td>42</td>\n",
       "      <td>5</td>\n",
       "      <td>20241042</td>\n",
       "    </tr>\n",
       "    <tr>\n",
       "      <th>3</th>\n",
       "      <td>20241024T174319_20241024T175436_T12RZN</td>\n",
       "      <td>2024-10-24</td>\n",
       "      <td>2024</td>\n",
       "      <td>10</td>\n",
       "      <td>43</td>\n",
       "      <td>3</td>\n",
       "      <td>20241043</td>\n",
       "    </tr>\n",
       "    <tr>\n",
       "      <th>4</th>\n",
       "      <td>20241029T174441_20241029T175146_T12RZN</td>\n",
       "      <td>2024-10-29</td>\n",
       "      <td>2024</td>\n",
       "      <td>10</td>\n",
       "      <td>44</td>\n",
       "      <td>1</td>\n",
       "      <td>20241044</td>\n",
       "    </tr>\n",
       "    <tr>\n",
       "      <th>5</th>\n",
       "      <td>20241103T174419_20241103T175519_T12RZN</td>\n",
       "      <td>2024-11-03</td>\n",
       "      <td>2024</td>\n",
       "      <td>11</td>\n",
       "      <td>44</td>\n",
       "      <td>6</td>\n",
       "      <td>20241144</td>\n",
       "    </tr>\n",
       "    <tr>\n",
       "      <th>6</th>\n",
       "      <td>20241108T174541_20241108T175436_T12RZN</td>\n",
       "      <td>2024-11-08</td>\n",
       "      <td>2024</td>\n",
       "      <td>11</td>\n",
       "      <td>45</td>\n",
       "      <td>4</td>\n",
       "      <td>20241145</td>\n",
       "    </tr>\n",
       "    <tr>\n",
       "      <th>7</th>\n",
       "      <td>20241113T174509_20241113T175617_T12RZN</td>\n",
       "      <td>2024-11-13</td>\n",
       "      <td>2024</td>\n",
       "      <td>11</td>\n",
       "      <td>46</td>\n",
       "      <td>2</td>\n",
       "      <td>20241146</td>\n",
       "    </tr>\n",
       "    <tr>\n",
       "      <th>8</th>\n",
       "      <td>20241118T174631_20241118T175637_T12RZN</td>\n",
       "      <td>2024-11-18</td>\n",
       "      <td>2024</td>\n",
       "      <td>11</td>\n",
       "      <td>47</td>\n",
       "      <td>0</td>\n",
       "      <td>20241147</td>\n",
       "    </tr>\n",
       "    <tr>\n",
       "      <th>9</th>\n",
       "      <td>20241123T174559_20241123T175306_T12RZN</td>\n",
       "      <td>2024-11-23</td>\n",
       "      <td>2024</td>\n",
       "      <td>11</td>\n",
       "      <td>47</td>\n",
       "      <td>5</td>\n",
       "      <td>20241147</td>\n",
       "    </tr>\n",
       "    <tr>\n",
       "      <th>10</th>\n",
       "      <td>20241128T174701_20241128T174941_T12RZN</td>\n",
       "      <td>2024-11-28</td>\n",
       "      <td>2024</td>\n",
       "      <td>11</td>\n",
       "      <td>48</td>\n",
       "      <td>3</td>\n",
       "      <td>20241148</td>\n",
       "    </tr>\n",
       "    <tr>\n",
       "      <th>11</th>\n",
       "      <td>20241203T174629_20241203T174733_T12RZN</td>\n",
       "      <td>2024-12-03</td>\n",
       "      <td>2024</td>\n",
       "      <td>12</td>\n",
       "      <td>49</td>\n",
       "      <td>1</td>\n",
       "      <td>20241249</td>\n",
       "    </tr>\n",
       "    <tr>\n",
       "      <th>12</th>\n",
       "      <td>20241218T174741_20241218T175528_T12RZN</td>\n",
       "      <td>2024-12-18</td>\n",
       "      <td>2024</td>\n",
       "      <td>12</td>\n",
       "      <td>51</td>\n",
       "      <td>2</td>\n",
       "      <td>20241251</td>\n",
       "    </tr>\n",
       "    <tr>\n",
       "      <th>13</th>\n",
       "      <td>20241223T174649_20241223T174803_T12RZN</td>\n",
       "      <td>2024-12-23</td>\n",
       "      <td>2024</td>\n",
       "      <td>12</td>\n",
       "      <td>52</td>\n",
       "      <td>0</td>\n",
       "      <td>20241252</td>\n",
       "    </tr>\n",
       "    <tr>\n",
       "      <th>14</th>\n",
       "      <td>20241228T174741_20241228T175120_T12RZN</td>\n",
       "      <td>2024-12-28</td>\n",
       "      <td>2024</td>\n",
       "      <td>12</td>\n",
       "      <td>52</td>\n",
       "      <td>5</td>\n",
       "      <td>20241252</td>\n",
       "    </tr>\n",
       "    <tr>\n",
       "      <th>15</th>\n",
       "      <td>20250102T174639_20250102T175210_T12RZN</td>\n",
       "      <td>2025-01-02</td>\n",
       "      <td>2025</td>\n",
       "      <td>1</td>\n",
       "      <td>1</td>\n",
       "      <td>3</td>\n",
       "      <td>202511</td>\n",
       "    </tr>\n",
       "  </tbody>\n",
       "</table>\n",
       "</div>"
      ]
     },
     "execution_count": 23,
     "metadata": {},
     "output_type": "execute_result"
    }
   ],
   "execution_count": 23
  },
  {
   "metadata": {},
   "cell_type": "markdown",
   "source": "**Selección de imagenes por semana**",
   "id": "d231988276bc4ae9"
  },
  {
   "metadata": {
    "ExecuteTime": {
     "end_time": "2025-01-09T18:13:17.485468Z",
     "start_time": "2025-01-09T18:13:17.459953Z"
    }
   },
   "cell_type": "code",
   "source": [
    "# Group by Year, Month, Week and find the index of the minimum \"Day_of_the_week\"\n",
    "idx = ids_and_dates.groupby([\"Year\", \"Month\", \"Week\"])[\"Day_of_the_week\"].idxmin()\n",
    "idx"
   ],
   "id": "7cf3993e18bdbe63",
   "outputs": [
    {
     "data": {
      "text/plain": [
       "<IPython.core.display.HTML object>"
      ],
      "text/html": [
       "\n",
       "            <style>\n",
       "                .geemap-dark {\n",
       "                    --jp-widgets-color: white;\n",
       "                    --jp-widgets-label-color: white;\n",
       "                    --jp-ui-font-color1: white;\n",
       "                    --jp-layout-color2: #454545;\n",
       "                    background-color: #383838;\n",
       "                }\n",
       "\n",
       "                .geemap-dark .jupyter-button {\n",
       "                    --jp-layout-color3: #383838;\n",
       "                }\n",
       "\n",
       "                .geemap-colab {\n",
       "                    background-color: var(--colab-primary-surface-color, white);\n",
       "                }\n",
       "\n",
       "                .geemap-colab .jupyter-button {\n",
       "                    --jp-layout-color3: var(--colab-primary-surface-color, white);\n",
       "                }\n",
       "            </style>\n",
       "            "
      ]
     },
     "metadata": {},
     "output_type": "display_data"
    },
    {
     "data": {
      "text/plain": [
       "Year  Month  Week\n",
       "2024  10     40       0\n",
       "             42       1\n",
       "             43       3\n",
       "             44       4\n",
       "      11     44       5\n",
       "             45       6\n",
       "             46       7\n",
       "             47       8\n",
       "             48      10\n",
       "      12     49      11\n",
       "             51      12\n",
       "             52      13\n",
       "2025  1      1       15\n",
       "Name: Day_of_the_week, dtype: int64"
      ]
     },
     "execution_count": 25,
     "metadata": {},
     "output_type": "execute_result"
    }
   ],
   "execution_count": 25
  },
  {
   "metadata": {
    "ExecuteTime": {
     "end_time": "2025-01-09T18:13:34.641081Z",
     "start_time": "2025-01-09T18:13:34.630422Z"
    }
   },
   "cell_type": "code",
   "source": [
    "\n",
    "# Select rows corresponding to the original indices\n",
    "result = ids_and_dates.loc[idx].reset_index(drop=True)\n",
    "result"
   ],
   "id": "13e6906d6d8c3c0f",
   "outputs": [
    {
     "data": {
      "text/plain": [
       "<IPython.core.display.HTML object>"
      ],
      "text/html": [
       "\n",
       "            <style>\n",
       "                .geemap-dark {\n",
       "                    --jp-widgets-color: white;\n",
       "                    --jp-widgets-label-color: white;\n",
       "                    --jp-ui-font-color1: white;\n",
       "                    --jp-layout-color2: #454545;\n",
       "                    background-color: #383838;\n",
       "                }\n",
       "\n",
       "                .geemap-dark .jupyter-button {\n",
       "                    --jp-layout-color3: #383838;\n",
       "                }\n",
       "\n",
       "                .geemap-colab {\n",
       "                    background-color: var(--colab-primary-surface-color, white);\n",
       "                }\n",
       "\n",
       "                .geemap-colab .jupyter-button {\n",
       "                    --jp-layout-color3: var(--colab-primary-surface-color, white);\n",
       "                }\n",
       "            </style>\n",
       "            "
      ]
     },
     "metadata": {},
     "output_type": "display_data"
    },
    {
     "data": {
      "text/plain": [
       "                                        ID       Date  Year  Month  Week  \\\n",
       "0   20241004T174109_20241004T175248_T12RZN 2024-10-04  2024     10    40   \n",
       "1   20241014T174209_20241014T174540_T12RZN 2024-10-14  2024     10    42   \n",
       "2   20241024T174319_20241024T175436_T12RZN 2024-10-24  2024     10    43   \n",
       "3   20241029T174441_20241029T175146_T12RZN 2024-10-29  2024     10    44   \n",
       "4   20241103T174419_20241103T175519_T12RZN 2024-11-03  2024     11    44   \n",
       "5   20241108T174541_20241108T175436_T12RZN 2024-11-08  2024     11    45   \n",
       "6   20241113T174509_20241113T175617_T12RZN 2024-11-13  2024     11    46   \n",
       "7   20241118T174631_20241118T175637_T12RZN 2024-11-18  2024     11    47   \n",
       "8   20241128T174701_20241128T174941_T12RZN 2024-11-28  2024     11    48   \n",
       "9   20241203T174629_20241203T174733_T12RZN 2024-12-03  2024     12    49   \n",
       "10  20241218T174741_20241218T175528_T12RZN 2024-12-18  2024     12    51   \n",
       "11  20241223T174649_20241223T174803_T12RZN 2024-12-23  2024     12    52   \n",
       "12  20250102T174639_20250102T175210_T12RZN 2025-01-02  2025      1     1   \n",
       "\n",
       "    Day_of_the_week   ID_Code  \n",
       "0                 4  20241040  \n",
       "1                 0  20241042  \n",
       "2                 3  20241043  \n",
       "3                 1  20241044  \n",
       "4                 6  20241144  \n",
       "5                 4  20241145  \n",
       "6                 2  20241146  \n",
       "7                 0  20241147  \n",
       "8                 3  20241148  \n",
       "9                 1  20241249  \n",
       "10                2  20241251  \n",
       "11                0  20241252  \n",
       "12                3    202511  "
      ],
      "text/html": [
       "<div>\n",
       "<style scoped>\n",
       "    .dataframe tbody tr th:only-of-type {\n",
       "        vertical-align: middle;\n",
       "    }\n",
       "\n",
       "    .dataframe tbody tr th {\n",
       "        vertical-align: top;\n",
       "    }\n",
       "\n",
       "    .dataframe thead th {\n",
       "        text-align: right;\n",
       "    }\n",
       "</style>\n",
       "<table border=\"1\" class=\"dataframe\">\n",
       "  <thead>\n",
       "    <tr style=\"text-align: right;\">\n",
       "      <th></th>\n",
       "      <th>ID</th>\n",
       "      <th>Date</th>\n",
       "      <th>Year</th>\n",
       "      <th>Month</th>\n",
       "      <th>Week</th>\n",
       "      <th>Day_of_the_week</th>\n",
       "      <th>ID_Code</th>\n",
       "    </tr>\n",
       "  </thead>\n",
       "  <tbody>\n",
       "    <tr>\n",
       "      <th>0</th>\n",
       "      <td>20241004T174109_20241004T175248_T12RZN</td>\n",
       "      <td>2024-10-04</td>\n",
       "      <td>2024</td>\n",
       "      <td>10</td>\n",
       "      <td>40</td>\n",
       "      <td>4</td>\n",
       "      <td>20241040</td>\n",
       "    </tr>\n",
       "    <tr>\n",
       "      <th>1</th>\n",
       "      <td>20241014T174209_20241014T174540_T12RZN</td>\n",
       "      <td>2024-10-14</td>\n",
       "      <td>2024</td>\n",
       "      <td>10</td>\n",
       "      <td>42</td>\n",
       "      <td>0</td>\n",
       "      <td>20241042</td>\n",
       "    </tr>\n",
       "    <tr>\n",
       "      <th>2</th>\n",
       "      <td>20241024T174319_20241024T175436_T12RZN</td>\n",
       "      <td>2024-10-24</td>\n",
       "      <td>2024</td>\n",
       "      <td>10</td>\n",
       "      <td>43</td>\n",
       "      <td>3</td>\n",
       "      <td>20241043</td>\n",
       "    </tr>\n",
       "    <tr>\n",
       "      <th>3</th>\n",
       "      <td>20241029T174441_20241029T175146_T12RZN</td>\n",
       "      <td>2024-10-29</td>\n",
       "      <td>2024</td>\n",
       "      <td>10</td>\n",
       "      <td>44</td>\n",
       "      <td>1</td>\n",
       "      <td>20241044</td>\n",
       "    </tr>\n",
       "    <tr>\n",
       "      <th>4</th>\n",
       "      <td>20241103T174419_20241103T175519_T12RZN</td>\n",
       "      <td>2024-11-03</td>\n",
       "      <td>2024</td>\n",
       "      <td>11</td>\n",
       "      <td>44</td>\n",
       "      <td>6</td>\n",
       "      <td>20241144</td>\n",
       "    </tr>\n",
       "    <tr>\n",
       "      <th>5</th>\n",
       "      <td>20241108T174541_20241108T175436_T12RZN</td>\n",
       "      <td>2024-11-08</td>\n",
       "      <td>2024</td>\n",
       "      <td>11</td>\n",
       "      <td>45</td>\n",
       "      <td>4</td>\n",
       "      <td>20241145</td>\n",
       "    </tr>\n",
       "    <tr>\n",
       "      <th>6</th>\n",
       "      <td>20241113T174509_20241113T175617_T12RZN</td>\n",
       "      <td>2024-11-13</td>\n",
       "      <td>2024</td>\n",
       "      <td>11</td>\n",
       "      <td>46</td>\n",
       "      <td>2</td>\n",
       "      <td>20241146</td>\n",
       "    </tr>\n",
       "    <tr>\n",
       "      <th>7</th>\n",
       "      <td>20241118T174631_20241118T175637_T12RZN</td>\n",
       "      <td>2024-11-18</td>\n",
       "      <td>2024</td>\n",
       "      <td>11</td>\n",
       "      <td>47</td>\n",
       "      <td>0</td>\n",
       "      <td>20241147</td>\n",
       "    </tr>\n",
       "    <tr>\n",
       "      <th>8</th>\n",
       "      <td>20241128T174701_20241128T174941_T12RZN</td>\n",
       "      <td>2024-11-28</td>\n",
       "      <td>2024</td>\n",
       "      <td>11</td>\n",
       "      <td>48</td>\n",
       "      <td>3</td>\n",
       "      <td>20241148</td>\n",
       "    </tr>\n",
       "    <tr>\n",
       "      <th>9</th>\n",
       "      <td>20241203T174629_20241203T174733_T12RZN</td>\n",
       "      <td>2024-12-03</td>\n",
       "      <td>2024</td>\n",
       "      <td>12</td>\n",
       "      <td>49</td>\n",
       "      <td>1</td>\n",
       "      <td>20241249</td>\n",
       "    </tr>\n",
       "    <tr>\n",
       "      <th>10</th>\n",
       "      <td>20241218T174741_20241218T175528_T12RZN</td>\n",
       "      <td>2024-12-18</td>\n",
       "      <td>2024</td>\n",
       "      <td>12</td>\n",
       "      <td>51</td>\n",
       "      <td>2</td>\n",
       "      <td>20241251</td>\n",
       "    </tr>\n",
       "    <tr>\n",
       "      <th>11</th>\n",
       "      <td>20241223T174649_20241223T174803_T12RZN</td>\n",
       "      <td>2024-12-23</td>\n",
       "      <td>2024</td>\n",
       "      <td>12</td>\n",
       "      <td>52</td>\n",
       "      <td>0</td>\n",
       "      <td>20241252</td>\n",
       "    </tr>\n",
       "    <tr>\n",
       "      <th>12</th>\n",
       "      <td>20250102T174639_20250102T175210_T12RZN</td>\n",
       "      <td>2025-01-02</td>\n",
       "      <td>2025</td>\n",
       "      <td>1</td>\n",
       "      <td>1</td>\n",
       "      <td>3</td>\n",
       "      <td>202511</td>\n",
       "    </tr>\n",
       "  </tbody>\n",
       "</table>\n",
       "</div>"
      ]
     },
     "execution_count": 26,
     "metadata": {},
     "output_type": "execute_result"
    }
   ],
   "execution_count": 26
  },
  {
   "cell_type": "code",
   "id": "9c322394-1f0a-473c-8e48-54c48c186ef0",
   "metadata": {
    "ExecuteTime": {
     "end_time": "2025-01-09T18:11:28.560583Z",
     "start_time": "2025-01-09T18:11:28.544375Z"
    }
   },
   "source": [
    "ids_and_dates_2 = ids_and_dates.groupby(by=[\"Year\", \"Month\", \"Week\"])[\"Day_of_the_week\"].min().reset_index()\n",
    "\n",
    "# Generating again the alternative code\n",
    "ids_and_dates_2"
   ],
   "outputs": [
    {
     "data": {
      "text/plain": [
       "<IPython.core.display.HTML object>"
      ],
      "text/html": [
       "\n",
       "            <style>\n",
       "                .geemap-dark {\n",
       "                    --jp-widgets-color: white;\n",
       "                    --jp-widgets-label-color: white;\n",
       "                    --jp-ui-font-color1: white;\n",
       "                    --jp-layout-color2: #454545;\n",
       "                    background-color: #383838;\n",
       "                }\n",
       "\n",
       "                .geemap-dark .jupyter-button {\n",
       "                    --jp-layout-color3: #383838;\n",
       "                }\n",
       "\n",
       "                .geemap-colab {\n",
       "                    background-color: var(--colab-primary-surface-color, white);\n",
       "                }\n",
       "\n",
       "                .geemap-colab .jupyter-button {\n",
       "                    --jp-layout-color3: var(--colab-primary-surface-color, white);\n",
       "                }\n",
       "            </style>\n",
       "            "
      ]
     },
     "metadata": {},
     "output_type": "display_data"
    },
    {
     "data": {
      "text/plain": [
       "    Year  Month  Week  Day_of_the_week\n",
       "0   2024     10    40                4\n",
       "1   2024     10    42                0\n",
       "2   2024     10    43                3\n",
       "3   2024     10    44                1\n",
       "4   2024     11    44                6\n",
       "5   2024     11    45                4\n",
       "6   2024     11    46                2\n",
       "7   2024     11    47                0\n",
       "8   2024     11    48                3\n",
       "9   2024     12    49                1\n",
       "10  2024     12    51                2\n",
       "11  2024     12    52                0\n",
       "12  2025      1     1                3"
      ],
      "text/html": [
       "<div>\n",
       "<style scoped>\n",
       "    .dataframe tbody tr th:only-of-type {\n",
       "        vertical-align: middle;\n",
       "    }\n",
       "\n",
       "    .dataframe tbody tr th {\n",
       "        vertical-align: top;\n",
       "    }\n",
       "\n",
       "    .dataframe thead th {\n",
       "        text-align: right;\n",
       "    }\n",
       "</style>\n",
       "<table border=\"1\" class=\"dataframe\">\n",
       "  <thead>\n",
       "    <tr style=\"text-align: right;\">\n",
       "      <th></th>\n",
       "      <th>Year</th>\n",
       "      <th>Month</th>\n",
       "      <th>Week</th>\n",
       "      <th>Day_of_the_week</th>\n",
       "    </tr>\n",
       "  </thead>\n",
       "  <tbody>\n",
       "    <tr>\n",
       "      <th>0</th>\n",
       "      <td>2024</td>\n",
       "      <td>10</td>\n",
       "      <td>40</td>\n",
       "      <td>4</td>\n",
       "    </tr>\n",
       "    <tr>\n",
       "      <th>1</th>\n",
       "      <td>2024</td>\n",
       "      <td>10</td>\n",
       "      <td>42</td>\n",
       "      <td>0</td>\n",
       "    </tr>\n",
       "    <tr>\n",
       "      <th>2</th>\n",
       "      <td>2024</td>\n",
       "      <td>10</td>\n",
       "      <td>43</td>\n",
       "      <td>3</td>\n",
       "    </tr>\n",
       "    <tr>\n",
       "      <th>3</th>\n",
       "      <td>2024</td>\n",
       "      <td>10</td>\n",
       "      <td>44</td>\n",
       "      <td>1</td>\n",
       "    </tr>\n",
       "    <tr>\n",
       "      <th>4</th>\n",
       "      <td>2024</td>\n",
       "      <td>11</td>\n",
       "      <td>44</td>\n",
       "      <td>6</td>\n",
       "    </tr>\n",
       "    <tr>\n",
       "      <th>5</th>\n",
       "      <td>2024</td>\n",
       "      <td>11</td>\n",
       "      <td>45</td>\n",
       "      <td>4</td>\n",
       "    </tr>\n",
       "    <tr>\n",
       "      <th>6</th>\n",
       "      <td>2024</td>\n",
       "      <td>11</td>\n",
       "      <td>46</td>\n",
       "      <td>2</td>\n",
       "    </tr>\n",
       "    <tr>\n",
       "      <th>7</th>\n",
       "      <td>2024</td>\n",
       "      <td>11</td>\n",
       "      <td>47</td>\n",
       "      <td>0</td>\n",
       "    </tr>\n",
       "    <tr>\n",
       "      <th>8</th>\n",
       "      <td>2024</td>\n",
       "      <td>11</td>\n",
       "      <td>48</td>\n",
       "      <td>3</td>\n",
       "    </tr>\n",
       "    <tr>\n",
       "      <th>9</th>\n",
       "      <td>2024</td>\n",
       "      <td>12</td>\n",
       "      <td>49</td>\n",
       "      <td>1</td>\n",
       "    </tr>\n",
       "    <tr>\n",
       "      <th>10</th>\n",
       "      <td>2024</td>\n",
       "      <td>12</td>\n",
       "      <td>51</td>\n",
       "      <td>2</td>\n",
       "    </tr>\n",
       "    <tr>\n",
       "      <th>11</th>\n",
       "      <td>2024</td>\n",
       "      <td>12</td>\n",
       "      <td>52</td>\n",
       "      <td>0</td>\n",
       "    </tr>\n",
       "    <tr>\n",
       "      <th>12</th>\n",
       "      <td>2025</td>\n",
       "      <td>1</td>\n",
       "      <td>1</td>\n",
       "      <td>3</td>\n",
       "    </tr>\n",
       "  </tbody>\n",
       "</table>\n",
       "</div>"
      ]
     },
     "execution_count": 24,
     "metadata": {},
     "output_type": "execute_result"
    }
   ],
   "execution_count": 24
  },
  {
   "cell_type": "code",
   "execution_count": null,
   "id": "f6a18c64-12d7-4703-b300-7184c1b34848",
   "metadata": {},
   "outputs": [],
   "source": []
  },
  {
   "cell_type": "code",
   "execution_count": null,
   "id": "aea7bfb3-e958-4ecd-aee0-483943cf64a5",
   "metadata": {},
   "outputs": [],
   "source": []
  },
  {
   "cell_type": "code",
   "execution_count": null,
   "id": "e5704140844dd3e3",
   "metadata": {},
   "outputs": [],
   "source": [
    "# 5) Select the first cloud-free image de ese mes de ese año que cumpla con el filtro\n",
    "image = sentinel2.first()\n",
    "\n",
    "# 6) Recorte de la imagen\n",
    "if image.getInfo() is not None:  # Validar que la imagen no sea null\n",
    "\n",
    "     # *elección de bandas visibles y banda 8 (infra rojo cercano)\n",
    "    image = image.select(['B2', 'B3', 'B4', 'B8', 'B11'])\n",
    "    # Bandas seleccionadas:\n",
    "    # - B2: Banda azul, central Wavelength = 490nm\n",
    "    # - B3: Banda verde, central Wavelength = 560nm\n",
    "    # - B4: Banda roja, central Wavelength = 665nm\n",
    "    # - B8: Banda Near Infrared, central Wavelength = 842nm\n",
    "    # - B11: Banda (SWIR 1), central Wavelength = 1610nm\n",
    "\n",
    "\n",
    "    # Recorte de la imagen usando la función de clip de ee\n",
    "    image = image.clip(area_interest)  # Recorta al área de interés\n",
    "\n",
    "    # 7) Almacenar en el diccionario\n",
    "    image_dic[f\"{i}-{z}\"] = image\n",
    "    print(f\"Solicitud de descarga en la fecha: {i}-{z}\")\n",
    "else:\n",
    "    print(f\"No se encontró ninguna imagen válida para {i}-{z}\")"
   ]
  },
  {
   "cell_type": "markdown",
   "id": "c98c6ce7788bd208",
   "metadata": {},
   "source": [
    "**PENDIENTE:** Hay que meter un filtro de nubosidad más estricto, que evaluemos la cantidad de nubes pero SOLO en la zona de interés. "
   ]
  },
  {
   "cell_type": "code",
   "execution_count": 11,
   "id": "dc2a4fa13ee0010",
   "metadata": {
    "ExecuteTime": {
     "end_time": "2024-12-28T07:16:37.150636Z",
     "start_time": "2024-12-28T07:16:37.142770Z"
    }
   },
   "outputs": [
    {
     "data": {
      "text/html": [
       "\n",
       "            <style>\n",
       "                .geemap-dark {\n",
       "                    --jp-widgets-color: white;\n",
       "                    --jp-widgets-label-color: white;\n",
       "                    --jp-ui-font-color1: white;\n",
       "                    --jp-layout-color2: #454545;\n",
       "                    background-color: #383838;\n",
       "                }\n",
       "\n",
       "                .geemap-dark .jupyter-button {\n",
       "                    --jp-layout-color3: #383838;\n",
       "                }\n",
       "\n",
       "                .geemap-colab {\n",
       "                    background-color: var(--colab-primary-surface-color, white);\n",
       "                }\n",
       "\n",
       "                .geemap-colab .jupyter-button {\n",
       "                    --jp-layout-color3: var(--colab-primary-surface-color, white);\n",
       "                }\n",
       "            </style>\n",
       "            "
      ],
      "text/plain": [
       "<IPython.core.display.HTML object>"
      ]
     },
     "metadata": {},
     "output_type": "display_data"
    }
   ],
   "source": [
    "## ES LO QUE ME PUSO EL CHAT PARA EL FILTRADO DE NUBES EN EL AREA DE INTERES \n",
    "\n",
    "#def cloud_percentage_in_aoi(image, aoi):\n",
    " #   \"\"\"Calculate cloud percentage within the area of interest (AOI).\"\"\"\n",
    "    # Mask clouds using QA60 band (1 = clouds, 0 = clear)\n",
    "  #  cloud_mask = image.select('QA60').eq(1)\n",
    "    \n",
    "    # Calculate the total number of pixels in the AOI\n",
    "   # total_pixels = ee.Number(image.clip(aoi).reduceRegion(\n",
    "    #    reducer=ee.Reducer.count(),\n",
    "     #   geometry=aoi,\n",
    "      #  scale=10,\n",
    "       # maxPixels=1e13\n",
    "   # ).values().get(0))\n",
    "\n",
    "    # Calculate cloud pixels in the AOI\n",
    "   # cloud_pixels = ee.Number(cloud_mask.clip(aoi).reduceRegion(\n",
    "    #    reducer=ee.Reducer.count(),\n",
    "     #   geometry=aoi,\n",
    "      #  scale=10,\n",
    "       # maxPixels=1e13\n",
    "   # ).values().get(0))\n",
    "    \n",
    "    # Calculate cloud percentage\n",
    "   # cloud_percentage = cloud_pixels.divide(total_pixels).multiply(100)\n",
    "   # return cloud_percentage\n",
    "\n",
    "# Main script\n",
    "#image_dic = {}  # Dictionary to store images\n",
    "\n",
    "#for i in years:\n",
    " #   for z in months:\n",
    "  #      if i <= current_year and z <= current_month:\n",
    "            # 1) Import Sentinel-2 image collection\n",
    "   #         sentinel2 = ee.ImageCollection(\"COPERNICUS/S2_SR\") \\\n",
    "    #            .filterBounds(area_interest) \\\n",
    "     #           .filterDate(f\"{i}-{z}-01\", f\"{i}-{z}-28\") \\\n",
    "      #          .filter(ee.Filter.lt(\"CLOUDY_PIXEL_PERCENTAGE\", 20))  # Rough initial filter\n",
    "            \n",
    "            # 2) Filter images based on AOI-specific cloud percentage\n",
    "       #     def filter_by_aoi_cloud(image):\n",
    "        #        cloud_percent = cloud_percentage_in_aoi(image, area_interest)\n",
    "         #       return image.set('CLOUD_PERCENT_AOI', cloud_percent)\n",
    "            \n",
    "            # Apply AOI-specific cloud percentage calculation\n",
    "          #  images_with_cloud_info = sentinel2.map(filter_by_aoi_cloud)\n",
    "\n",
    "            # Filter images where AOI cloud coverage is less than 10%\n",
    "  #          filtered_images = images_with_cloud_info.filter(ee.Filter.lt('CLOUD_PERCENT_AOI', 10))\n",
    "            \n",
    "            # Select the first image\n",
    "   #         image = filtered_images.first()\n",
    "            \n",
    "            # Check if image exists and process\n",
    "    #        if image.getInfo() is not None:\n",
    "                # Select visible bands and band 8\n",
    "     #           image = image.select(['B2', 'B3', 'B4', 'B8'])\n",
    "      #          image = image.clip(area_interest)\n",
    "                \n",
    "                # Store the image\n",
    "       #         image_dic[f\"{i}-{z}\"] = image\n",
    "        #        print(f\"Image for {i}-{z} meets cloud criteria in AOI.\")\n",
    "         #   else:\n",
    "          #      print(f\"No valid image found for {i}-{z}.\")\n"
   ]
  },
  {
   "cell_type": "code",
   "execution_count": 12,
   "id": "f42cf3e6f8f2658f",
   "metadata": {
    "ExecuteTime": {
     "end_time": "2024-12-28T07:16:45.239782Z",
     "start_time": "2024-12-28T07:16:40.941984Z"
    }
   },
   "outputs": [
    {
     "data": {
      "text/html": [
       "\n",
       "            <style>\n",
       "                .geemap-dark {\n",
       "                    --jp-widgets-color: white;\n",
       "                    --jp-widgets-label-color: white;\n",
       "                    --jp-ui-font-color1: white;\n",
       "                    --jp-layout-color2: #454545;\n",
       "                    background-color: #383838;\n",
       "                }\n",
       "\n",
       "                .geemap-dark .jupyter-button {\n",
       "                    --jp-layout-color3: #383838;\n",
       "                }\n",
       "\n",
       "                .geemap-colab {\n",
       "                    background-color: var(--colab-primary-surface-color, white);\n",
       "                }\n",
       "\n",
       "                .geemap-colab .jupyter-button {\n",
       "                    --jp-layout-color3: var(--colab-primary-surface-color, white);\n",
       "                }\n",
       "            </style>\n",
       "            "
      ],
      "text/plain": [
       "<IPython.core.display.HTML object>"
      ]
     },
     "metadata": {},
     "output_type": "display_data"
    },
    {
     "data": {
      "text/html": [
       "<div><style>:root {\n",
       "  --font-color-primary: var(--jp-content-font-color0, rgba(0, 0, 0, 1));\n",
       "  --font-color-secondary: var(--jp-content-font-color2, rgba(0, 0, 0, 0.6));\n",
       "  --font-color-accent: rgba(123, 31, 162, 1);\n",
       "  --border-color: var(--jp-border-color2, #e0e0e0);\n",
       "  --background-color: var(--jp-layout-color0, white);\n",
       "  --background-color-row-even: var(--jp-layout-color1, white);\n",
       "  --background-color-row-odd: var(--jp-layout-color2, #eeeeee);\n",
       "}\n",
       "\n",
       "html[theme=\"dark\"],\n",
       "body[data-theme=\"dark\"],\n",
       "body.vscode-dark {\n",
       "  --font-color-primary: rgba(255, 255, 255, 1);\n",
       "  --font-color-secondary: rgba(255, 255, 255, 0.6);\n",
       "  --font-color-accent: rgb(173, 132, 190);\n",
       "  --border-color: #2e2e2e;\n",
       "  --background-color: #111111;\n",
       "  --background-color-row-even: #111111;\n",
       "  --background-color-row-odd: #313131;\n",
       "}\n",
       "\n",
       ".ee {\n",
       "  padding: 1em;\n",
       "  line-height: 1.5em;\n",
       "  min-width: 300px;\n",
       "  max-width: 1200px;\n",
       "  overflow-y: scroll;\n",
       "  max-height: 600px;\n",
       "  border: 1px solid var(--border-color);\n",
       "  font-family: monospace;\n",
       "}\n",
       "\n",
       ".ee li {\n",
       "  list-style-type: none;\n",
       "}\n",
       "\n",
       ".ee ul {\n",
       "  padding-left: 1.5em !important;\n",
       "  margin: 0;\n",
       "}\n",
       "\n",
       ".ee > ul {\n",
       "  padding-left: 0 !important;\n",
       "}\n",
       "\n",
       ".ee-open,\n",
       ".ee-shut {\n",
       "  color: var(--font-color-secondary);\n",
       "  cursor: pointer;\n",
       "  margin: 0;\n",
       "}\n",
       "\n",
       ".ee-open:hover,\n",
       ".ee-shut:hover {\n",
       "  color: var(--font-color-primary);\n",
       "}\n",
       "\n",
       ".ee-k {\n",
       "  color: var(--font-color-accent);\n",
       "  margin-right: 6px;\n",
       "}\n",
       "\n",
       ".ee-v {\n",
       "  color: var(--font-color-primary);\n",
       "}\n",
       "\n",
       ".ee-toggle {\n",
       "  display: none;\n",
       "}\n",
       "\n",
       ".ee-shut + ul {\n",
       "  display: none;\n",
       "}\n",
       "\n",
       ".ee-open + ul {\n",
       "  display: block;\n",
       "}\n",
       "\n",
       ".ee-shut::before {\n",
       "  display: inline-block;\n",
       "  content: \"▼\";\n",
       "  margin-right: 6px;\n",
       "  transform: rotate(-90deg);\n",
       "  transition: transform 0.2s;\n",
       "}\n",
       "\n",
       ".ee-open::before {\n",
       "  transform: rotate(0deg);\n",
       "  display: inline-block;\n",
       "  content: \"▼\";\n",
       "  margin-right: 6px;\n",
       "  transition: transform 0.2s;\n",
       "}\n",
       "</style><div class='ee'><ul><li><label class='ee-shut'>Image COPERNICUS/S2_SR/20231119T174629_20231119T174849_T12RZN (5 bands)<input type='checkbox' class='ee-toggle'></label><ul><li><span class='ee-k'>type:</span><span class='ee-v'>Image</span></li><li><span class='ee-k'>id:</span><span class='ee-v'>COPERNICUS/S2_SR/20231119T174629_20231119T174849_T12RZN</span></li><li><span class='ee-k'>version:</span><span class='ee-v'>1703270152159185</span></li><li><label class='ee-shut'>bands: List (5 elements)<input type='checkbox' class='ee-toggle'></label><ul><li><label class='ee-shut'>0: \"B2\", unsigned int16, EPSG:32612, 449x485 px<input type='checkbox' class='ee-toggle'></label><ul><li><span class='ee-k'>id:</span><span class='ee-v'>B2</span></li><li><span class='ee-k'>crs:</span><span class='ee-v'>EPSG:32612</span></li><li><label class='ee-shut'>crs_transform: [10, 0, 799980, 0, -10, 2800020]<input type='checkbox' class='ee-toggle'></label><ul><li><span class='ee-k'>0:</span><span class='ee-v'>10</span></li><li><span class='ee-k'>1:</span><span class='ee-v'>0</span></li><li><span class='ee-k'>2:</span><span class='ee-v'>799980</span></li><li><span class='ee-k'>3:</span><span class='ee-v'>0</span></li><li><span class='ee-k'>4:</span><span class='ee-v'>-10</span></li><li><span class='ee-k'>5:</span><span class='ee-v'>2800020</span></li></ul></li><li><label class='ee-shut'>data_type: unsigned int16<input type='checkbox' class='ee-toggle'></label><ul><li><span class='ee-k'>type:</span><span class='ee-v'>PixelType</span></li><li><span class='ee-k'>max:</span><span class='ee-v'>65535</span></li><li><span class='ee-k'>min:</span><span class='ee-v'>0</span></li><li><span class='ee-k'>precision:</span><span class='ee-v'>int</span></li></ul></li><li><label class='ee-shut'>dimensions: [449, 485]<input type='checkbox' class='ee-toggle'></label><ul><li><span class='ee-k'>0:</span><span class='ee-v'>449</span></li><li><span class='ee-k'>1:</span><span class='ee-v'>485</span></li></ul></li><li><label class='ee-shut'>origin: [3585, 5297]<input type='checkbox' class='ee-toggle'></label><ul><li><span class='ee-k'>0:</span><span class='ee-v'>3585</span></li><li><span class='ee-k'>1:</span><span class='ee-v'>5297</span></li></ul></li></ul></li><li><label class='ee-shut'>1: \"B3\", unsigned int16, EPSG:32612, 449x485 px<input type='checkbox' class='ee-toggle'></label><ul><li><span class='ee-k'>id:</span><span class='ee-v'>B3</span></li><li><span class='ee-k'>crs:</span><span class='ee-v'>EPSG:32612</span></li><li><label class='ee-shut'>crs_transform: [10, 0, 799980, 0, -10, 2800020]<input type='checkbox' class='ee-toggle'></label><ul><li><span class='ee-k'>0:</span><span class='ee-v'>10</span></li><li><span class='ee-k'>1:</span><span class='ee-v'>0</span></li><li><span class='ee-k'>2:</span><span class='ee-v'>799980</span></li><li><span class='ee-k'>3:</span><span class='ee-v'>0</span></li><li><span class='ee-k'>4:</span><span class='ee-v'>-10</span></li><li><span class='ee-k'>5:</span><span class='ee-v'>2800020</span></li></ul></li><li><label class='ee-shut'>data_type: unsigned int16<input type='checkbox' class='ee-toggle'></label><ul><li><span class='ee-k'>type:</span><span class='ee-v'>PixelType</span></li><li><span class='ee-k'>max:</span><span class='ee-v'>65535</span></li><li><span class='ee-k'>min:</span><span class='ee-v'>0</span></li><li><span class='ee-k'>precision:</span><span class='ee-v'>int</span></li></ul></li><li><label class='ee-shut'>dimensions: [449, 485]<input type='checkbox' class='ee-toggle'></label><ul><li><span class='ee-k'>0:</span><span class='ee-v'>449</span></li><li><span class='ee-k'>1:</span><span class='ee-v'>485</span></li></ul></li><li><label class='ee-shut'>origin: [3585, 5297]<input type='checkbox' class='ee-toggle'></label><ul><li><span class='ee-k'>0:</span><span class='ee-v'>3585</span></li><li><span class='ee-k'>1:</span><span class='ee-v'>5297</span></li></ul></li></ul></li><li><label class='ee-shut'>2: \"B4\", unsigned int16, EPSG:32612, 449x485 px<input type='checkbox' class='ee-toggle'></label><ul><li><span class='ee-k'>id:</span><span class='ee-v'>B4</span></li><li><span class='ee-k'>crs:</span><span class='ee-v'>EPSG:32612</span></li><li><label class='ee-shut'>crs_transform: [10, 0, 799980, 0, -10, 2800020]<input type='checkbox' class='ee-toggle'></label><ul><li><span class='ee-k'>0:</span><span class='ee-v'>10</span></li><li><span class='ee-k'>1:</span><span class='ee-v'>0</span></li><li><span class='ee-k'>2:</span><span class='ee-v'>799980</span></li><li><span class='ee-k'>3:</span><span class='ee-v'>0</span></li><li><span class='ee-k'>4:</span><span class='ee-v'>-10</span></li><li><span class='ee-k'>5:</span><span class='ee-v'>2800020</span></li></ul></li><li><label class='ee-shut'>data_type: unsigned int16<input type='checkbox' class='ee-toggle'></label><ul><li><span class='ee-k'>type:</span><span class='ee-v'>PixelType</span></li><li><span class='ee-k'>max:</span><span class='ee-v'>65535</span></li><li><span class='ee-k'>min:</span><span class='ee-v'>0</span></li><li><span class='ee-k'>precision:</span><span class='ee-v'>int</span></li></ul></li><li><label class='ee-shut'>dimensions: [449, 485]<input type='checkbox' class='ee-toggle'></label><ul><li><span class='ee-k'>0:</span><span class='ee-v'>449</span></li><li><span class='ee-k'>1:</span><span class='ee-v'>485</span></li></ul></li><li><label class='ee-shut'>origin: [3585, 5297]<input type='checkbox' class='ee-toggle'></label><ul><li><span class='ee-k'>0:</span><span class='ee-v'>3585</span></li><li><span class='ee-k'>1:</span><span class='ee-v'>5297</span></li></ul></li></ul></li><li><label class='ee-shut'>3: \"B8\", unsigned int16, EPSG:32612, 449x485 px<input type='checkbox' class='ee-toggle'></label><ul><li><span class='ee-k'>id:</span><span class='ee-v'>B8</span></li><li><span class='ee-k'>crs:</span><span class='ee-v'>EPSG:32612</span></li><li><label class='ee-shut'>crs_transform: [10, 0, 799980, 0, -10, 2800020]<input type='checkbox' class='ee-toggle'></label><ul><li><span class='ee-k'>0:</span><span class='ee-v'>10</span></li><li><span class='ee-k'>1:</span><span class='ee-v'>0</span></li><li><span class='ee-k'>2:</span><span class='ee-v'>799980</span></li><li><span class='ee-k'>3:</span><span class='ee-v'>0</span></li><li><span class='ee-k'>4:</span><span class='ee-v'>-10</span></li><li><span class='ee-k'>5:</span><span class='ee-v'>2800020</span></li></ul></li><li><label class='ee-shut'>data_type: unsigned int16<input type='checkbox' class='ee-toggle'></label><ul><li><span class='ee-k'>type:</span><span class='ee-v'>PixelType</span></li><li><span class='ee-k'>max:</span><span class='ee-v'>65535</span></li><li><span class='ee-k'>min:</span><span class='ee-v'>0</span></li><li><span class='ee-k'>precision:</span><span class='ee-v'>int</span></li></ul></li><li><label class='ee-shut'>dimensions: [449, 485]<input type='checkbox' class='ee-toggle'></label><ul><li><span class='ee-k'>0:</span><span class='ee-v'>449</span></li><li><span class='ee-k'>1:</span><span class='ee-v'>485</span></li></ul></li><li><label class='ee-shut'>origin: [3585, 5297]<input type='checkbox' class='ee-toggle'></label><ul><li><span class='ee-k'>0:</span><span class='ee-v'>3585</span></li><li><span class='ee-k'>1:</span><span class='ee-v'>5297</span></li></ul></li></ul></li><li><label class='ee-shut'>4: \"B11\", unsigned int16, EPSG:32612, 225x243 px<input type='checkbox' class='ee-toggle'></label><ul><li><span class='ee-k'>id:</span><span class='ee-v'>B11</span></li><li><span class='ee-k'>crs:</span><span class='ee-v'>EPSG:32612</span></li><li><label class='ee-shut'>crs_transform: [20, 0, 799980, 0, -20, 2800020]<input type='checkbox' class='ee-toggle'></label><ul><li><span class='ee-k'>0:</span><span class='ee-v'>20</span></li><li><span class='ee-k'>1:</span><span class='ee-v'>0</span></li><li><span class='ee-k'>2:</span><span class='ee-v'>799980</span></li><li><span class='ee-k'>3:</span><span class='ee-v'>0</span></li><li><span class='ee-k'>4:</span><span class='ee-v'>-20</span></li><li><span class='ee-k'>5:</span><span class='ee-v'>2800020</span></li></ul></li><li><label class='ee-shut'>data_type: unsigned int16<input type='checkbox' class='ee-toggle'></label><ul><li><span class='ee-k'>type:</span><span class='ee-v'>PixelType</span></li><li><span class='ee-k'>max:</span><span class='ee-v'>65535</span></li><li><span class='ee-k'>min:</span><span class='ee-v'>0</span></li><li><span class='ee-k'>precision:</span><span class='ee-v'>int</span></li></ul></li><li><label class='ee-shut'>dimensions: [225, 243]<input type='checkbox' class='ee-toggle'></label><ul><li><span class='ee-k'>0:</span><span class='ee-v'>225</span></li><li><span class='ee-k'>1:</span><span class='ee-v'>243</span></li></ul></li><li><label class='ee-shut'>origin: [1792, 2648]<input type='checkbox' class='ee-toggle'></label><ul><li><span class='ee-k'>0:</span><span class='ee-v'>1792</span></li><li><span class='ee-k'>1:</span><span class='ee-v'>2648</span></li></ul></li></ul></li></ul></li><li><label class='ee-shut'>properties: Object (101 properties)<input type='checkbox' class='ee-toggle'></label><ul><li><span class='ee-k'>AOT_RETRIEVAL_ACCURACY:</span><span class='ee-v'>0</span></li><li><span class='ee-k'>AOT_RETRIEVAL_METHOD:</span><span class='ee-v'>SEN2COR_DDV</span></li><li><span class='ee-k'>BOA_ADD_OFFSET_B1:</span><span class='ee-v'>-1000</span></li><li><span class='ee-k'>BOA_ADD_OFFSET_B10:</span><span class='ee-v'>-1000</span></li><li><span class='ee-k'>BOA_ADD_OFFSET_B11:</span><span class='ee-v'>-1000</span></li><li><span class='ee-k'>BOA_ADD_OFFSET_B12:</span><span class='ee-v'>-1000</span></li><li><span class='ee-k'>BOA_ADD_OFFSET_B2:</span><span class='ee-v'>-1000</span></li><li><span class='ee-k'>BOA_ADD_OFFSET_B3:</span><span class='ee-v'>-1000</span></li><li><span class='ee-k'>BOA_ADD_OFFSET_B4:</span><span class='ee-v'>-1000</span></li><li><span class='ee-k'>BOA_ADD_OFFSET_B5:</span><span class='ee-v'>-1000</span></li><li><span class='ee-k'>BOA_ADD_OFFSET_B6:</span><span class='ee-v'>-1000</span></li><li><span class='ee-k'>BOA_ADD_OFFSET_B7:</span><span class='ee-v'>-1000</span></li><li><span class='ee-k'>BOA_ADD_OFFSET_B8:</span><span class='ee-v'>-1000</span></li><li><span class='ee-k'>BOA_ADD_OFFSET_B8A:</span><span class='ee-v'>-1000</span></li><li><span class='ee-k'>BOA_ADD_OFFSET_B9:</span><span class='ee-v'>-1000</span></li><li><span class='ee-k'>CLOUDY_PIXEL_OVER_LAND_PERCENTAGE:</span><span class='ee-v'>10.212751</span></li><li><span class='ee-k'>CLOUDY_PIXEL_PERCENTAGE:</span><span class='ee-v'>8.712605</span></li><li><span class='ee-k'>CLOUD_COVERAGE_ASSESSMENT:</span><span class='ee-v'>8.712605</span></li><li><span class='ee-k'>CLOUD_SHADOW_PERCENTAGE:</span><span class='ee-v'>3.767217</span></li><li><span class='ee-k'>DARK_FEATURES_PERCENTAGE:</span><span class='ee-v'>0.023666</span></li><li><span class='ee-k'>DATASTRIP_ID:</span><span class='ee-v'>S2B_OPER_MSI_L2A_DS_2BPS_20231119T203246_S20231119T174849_N05.09</span></li><li><span class='ee-k'>DATATAKE_IDENTIFIER:</span><span class='ee-v'>GS2B_20231119T174629_035016_N05.09</span></li><li><span class='ee-k'>DATATAKE_TYPE:</span><span class='ee-v'>INS-NOBS</span></li><li><span class='ee-k'>DEGRADED_MSI_DATA_PERCENTAGE:</span><span class='ee-v'>0.0013</span></li><li><span class='ee-k'>FORMAT_CORRECTNESS:</span><span class='ee-v'>PASSED</span></li><li><span class='ee-k'>GENERAL_QUALITY:</span><span class='ee-v'>PASSED</span></li><li><span class='ee-k'>GENERATION_TIME:</span><span class='ee-v'>1700425966000</span></li><li><span class='ee-k'>GEOMETRIC_QUALITY:</span><span class='ee-v'>PASSED</span></li><li><span class='ee-k'>GRANULE_ID:</span><span class='ee-v'>L2A_T12RZN_A035016_20231119T174849</span></li><li><span class='ee-k'>GRANULE_MEAN_AOT:</span><span class='ee-v'>0.141326</span></li><li><span class='ee-k'>GRANULE_MEAN_WV:</span><span class='ee-v'>3.775013</span></li><li><span class='ee-k'>HIGH_PROBA_CLOUDS_PERCENTAGE:</span><span class='ee-v'>1.976125</span></li><li><span class='ee-k'>L2A_QUALITY:</span><span class='ee-v'>PASSED</span></li><li><span class='ee-k'>MEAN_INCIDENCE_AZIMUTH_ANGLE_B1:</span><span class='ee-v'>224.129723564603</span></li><li><span class='ee-k'>MEAN_INCIDENCE_AZIMUTH_ANGLE_B10:</span><span class='ee-v'>226.633883096554</span></li><li><span class='ee-k'>MEAN_INCIDENCE_AZIMUTH_ANGLE_B11:</span><span class='ee-v'>225.192748677609</span></li><li><span class='ee-k'>MEAN_INCIDENCE_AZIMUTH_ANGLE_B12:</span><span class='ee-v'>224.453349241292</span></li><li><span class='ee-k'>MEAN_INCIDENCE_AZIMUTH_ANGLE_B2:</span><span class='ee-v'>230.54885251536</span></li><li><span class='ee-k'>MEAN_INCIDENCE_AZIMUTH_ANGLE_B3:</span><span class='ee-v'>227.889164842515</span></li><li><span class='ee-k'>MEAN_INCIDENCE_AZIMUTH_ANGLE_B4:</span><span class='ee-v'>226.321301072999</span></li><li><span class='ee-k'>MEAN_INCIDENCE_AZIMUTH_ANGLE_B5:</span><span class='ee-v'>225.689047992537</span></li><li><span class='ee-k'>MEAN_INCIDENCE_AZIMUTH_ANGLE_B6:</span><span class='ee-v'>225.18992333904</span></li><li><span class='ee-k'>MEAN_INCIDENCE_AZIMUTH_ANGLE_B7:</span><span class='ee-v'>224.77501316323</span></li><li><span class='ee-k'>MEAN_INCIDENCE_AZIMUTH_ANGLE_B8:</span><span class='ee-v'>229.183982649404</span></li><li><span class='ee-k'>MEAN_INCIDENCE_AZIMUTH_ANGLE_B8A:</span><span class='ee-v'>224.445426267633</span></li><li><span class='ee-k'>MEAN_INCIDENCE_AZIMUTH_ANGLE_B9:</span><span class='ee-v'>223.905147396172</span></li><li><span class='ee-k'>MEAN_INCIDENCE_ZENITH_ANGLE_B1:</span><span class='ee-v'>3.75497728076435</span></li><li><span class='ee-k'>MEAN_INCIDENCE_ZENITH_ANGLE_B10:</span><span class='ee-v'>3.34710003883598</span></li><li><span class='ee-k'>MEAN_INCIDENCE_ZENITH_ANGLE_B11:</span><span class='ee-v'>3.50790101698013</span></li><li><span class='ee-k'>MEAN_INCIDENCE_ZENITH_ANGLE_B12:</span><span class='ee-v'>3.69168368017688</span></li><li><span class='ee-k'>MEAN_INCIDENCE_ZENITH_ANGLE_B2:</span><span class='ee-v'>3.17159573907012</span></li><li><span class='ee-k'>MEAN_INCIDENCE_ZENITH_ANGLE_B3:</span><span class='ee-v'>3.26998447007885</span></li><li><span class='ee-k'>MEAN_INCIDENCE_ZENITH_ANGLE_B4:</span><span class='ee-v'>3.38063797414513</span></li><li><span class='ee-k'>MEAN_INCIDENCE_ZENITH_ANGLE_B5:</span><span class='ee-v'>3.44757545025058</span></li><li><span class='ee-k'>MEAN_INCIDENCE_ZENITH_ANGLE_B6:</span><span class='ee-v'>3.51874337878914</span></li><li><span class='ee-k'>MEAN_INCIDENCE_ZENITH_ANGLE_B7:</span><span class='ee-v'>3.59378254927617</span></li><li><span class='ee-k'>MEAN_INCIDENCE_ZENITH_ANGLE_B8:</span><span class='ee-v'>3.21526113737402</span></li><li><span class='ee-k'>MEAN_INCIDENCE_ZENITH_ANGLE_B8A:</span><span class='ee-v'>3.67226330915455</span></li><li><span class='ee-k'>MEAN_INCIDENCE_ZENITH_ANGLE_B9:</span><span class='ee-v'>3.84209233199074</span></li><li><span class='ee-k'>MEAN_SOLAR_AZIMUTH_ANGLE:</span><span class='ee-v'>160.963555705999</span></li><li><span class='ee-k'>MEAN_SOLAR_ZENITH_ANGLE:</span><span class='ee-v'>46.5060117769159</span></li><li><span class='ee-k'>MEDIUM_PROBA_CLOUDS_PERCENTAGE:</span><span class='ee-v'>3.3704</span></li><li><span class='ee-k'>MGRS_TILE:</span><span class='ee-v'>12RZN</span></li><li><span class='ee-k'>NODATA_PIXEL_PERCENTAGE:</span><span class='ee-v'>0</span></li><li><span class='ee-k'>NOT_VEGETATED_PERCENTAGE:</span><span class='ee-v'>26.437083</span></li><li><span class='ee-k'>OZONE_SOURCE:</span><span class='ee-v'>AUX_ECMWFT</span></li><li><span class='ee-k'>OZONE_VALUE:</span><span class='ee-v'>251.786368</span></li><li><span class='ee-k'>PROCESSING_BASELINE:</span><span class='ee-v'>05.09</span></li><li><span class='ee-k'>PRODUCT_ID:</span><span class='ee-v'>S2B_MSIL2A_20231119T174629_N0509_R098_T12RZN_20231119T203246</span></li><li><span class='ee-k'>RADIATIVE_TRANSFER_ACCURACY:</span><span class='ee-v'>0</span></li><li><span class='ee-k'>RADIOMETRIC_QUALITY:</span><span class='ee-v'>PASSED</span></li><li><span class='ee-k'>REFLECTANCE_CONVERSION_CORRECTION:</span><span class='ee-v'>1.02261045037935</span></li><li><span class='ee-k'>SATURATED_DEFECTIVE_PIXEL_PERCENTAGE:</span><span class='ee-v'>0</span></li><li><span class='ee-k'>SENSING_ORBIT_DIRECTION:</span><span class='ee-v'>DESCENDING</span></li><li><span class='ee-k'>SENSING_ORBIT_NUMBER:</span><span class='ee-v'>98</span></li><li><span class='ee-k'>SENSOR_QUALITY:</span><span class='ee-v'>PASSED</span></li><li><span class='ee-k'>SNOW_ICE_PERCENTAGE:</span><span class='ee-v'>0</span></li><li><span class='ee-k'>SOLAR_IRRADIANCE_B1:</span><span class='ee-v'>1874.3</span></li><li><span class='ee-k'>SOLAR_IRRADIANCE_B10:</span><span class='ee-v'>365.41</span></li><li><span class='ee-k'>SOLAR_IRRADIANCE_B11:</span><span class='ee-v'>247.08</span></li><li><span class='ee-k'>SOLAR_IRRADIANCE_B12:</span><span class='ee-v'>87.75</span></li><li><span class='ee-k'>SOLAR_IRRADIANCE_B2:</span><span class='ee-v'>1959.75</span></li><li><span class='ee-k'>SOLAR_IRRADIANCE_B3:</span><span class='ee-v'>1824.93</span></li><li><span class='ee-k'>SOLAR_IRRADIANCE_B4:</span><span class='ee-v'>1512.79</span></li><li><span class='ee-k'>SOLAR_IRRADIANCE_B5:</span><span class='ee-v'>1425.78</span></li><li><span class='ee-k'>SOLAR_IRRADIANCE_B6:</span><span class='ee-v'>1291.13</span></li><li><span class='ee-k'>SOLAR_IRRADIANCE_B7:</span><span class='ee-v'>1175.57</span></li><li><span class='ee-k'>SOLAR_IRRADIANCE_B8:</span><span class='ee-v'>1041.28</span></li><li><span class='ee-k'>SOLAR_IRRADIANCE_B8A:</span><span class='ee-v'>953.93</span></li><li><span class='ee-k'>SOLAR_IRRADIANCE_B9:</span><span class='ee-v'>817.58</span></li><li><span class='ee-k'>SPACECRAFT_NAME:</span><span class='ee-v'>Sentinel-2B</span></li><li><span class='ee-k'>THIN_CIRRUS_PERCENTAGE:</span><span class='ee-v'>3.36608</span></li><li><span class='ee-k'>UNCLASSIFIED_PERCENTAGE:</span><span class='ee-v'>0.453247</span></li><li><span class='ee-k'>VEGETATION_PERCENTAGE:</span><span class='ee-v'>44.296339</span></li><li><span class='ee-k'>WATER_PERCENTAGE:</span><span class='ee-v'>16.309842</span></li><li><span class='ee-k'>WATER_VAPOUR_RETRIEVAL_ACCURACY:</span><span class='ee-v'>0</span></li><li><span class='ee-k'>system:asset_size:</span><span class='ee-v'>1679615297</span></li><li><label class='ee-shut'>system:footprint: Polygon (5 vertices)<input type='checkbox' class='ee-toggle'></label><ul><li><span class='ee-k'>type:</span><span class='ee-v'>Polygon</span></li><li><label class='ee-shut'>coordinates: List (1 element)<input type='checkbox' class='ee-toggle'></label><ul><li><label class='ee-shut'>0: List (5 elements)<input type='checkbox' class='ee-toggle'></label><ul><li><label class='ee-shut'>0: [-107.6730266244965, 24.75766085153008]<input type='checkbox' class='ee-toggle'></label><ul><li><span class='ee-k'>0:</span><span class='ee-v'>-107.6730266244965</span></li><li><span class='ee-k'>1:</span><span class='ee-v'>24.75766085153008</span></li></ul></li><li><label class='ee-shut'>1: [-107.63533279710032, 24.760008243786665]<input type='checkbox' class='ee-toggle'></label><ul><li><span class='ee-k'>0:</span><span class='ee-v'>-107.63533279710032</span></li><li><span class='ee-k'>1:</span><span class='ee-v'>24.760008243786665</span></li></ul></li><li><label class='ee-shut'>2: [-107.6440665193485, 24.80059938041618]<input type='checkbox' class='ee-toggle'></label><ul><li><span class='ee-k'>0:</span><span class='ee-v'>-107.6440665193485</span></li><li><span class='ee-k'>1:</span><span class='ee-v'>24.80059938041618</span></li></ul></li><li><label class='ee-shut'>3: [-107.6785631858739, 24.79730942750482]<input type='checkbox' class='ee-toggle'></label><ul><li><span class='ee-k'>0:</span><span class='ee-v'>-107.6785631858739</span></li><li><span class='ee-k'>1:</span><span class='ee-v'>24.79730942750482</span></li></ul></li><li><label class='ee-shut'>4: [-107.6730266244965, 24.75766085153008]<input type='checkbox' class='ee-toggle'></label><ul><li><span class='ee-k'>0:</span><span class='ee-v'>-107.6730266244965</span></li><li><span class='ee-k'>1:</span><span class='ee-v'>24.75766085153008</span></li></ul></li></ul></li></ul></li></ul></li><li><span class='ee-k'>system:index:</span><span class='ee-v'>20231119T174629_20231119T174849_T12RZN</span></li><li><span class='ee-k'>system:time_end:</span><span class='ee-v'>1700416629904</span></li><li><span class='ee-k'>system:time_start:</span><span class='ee-v'>1700416629904</span></li></ul></li></ul></li></ul></div><script>function toggleHeader() {\n",
       "    const parent = this.parentElement;\n",
       "    parent.className = parent.className === \"ee-open\" ? \"ee-shut\" : \"ee-open\";\n",
       "}\n",
       "\n",
       "for (let c of document.getElementsByClassName(\"ee-toggle\")) {\n",
       "    c.onclick = toggleHeader;\n",
       "}</script></div>"
      ],
      "text/plain": [
       "<ee.image.Image at 0x12f03e9c0>"
      ]
     },
     "execution_count": 12,
     "metadata": {},
     "output_type": "execute_result"
    }
   ],
   "source": [
    "image # Vease que en los metadatos de la imagenes se muestran las bandas selecionadas "
   ]
  },
  {
   "cell_type": "markdown",
   "id": "74ee86c2d295e660",
   "metadata": {},
   "source": [
    "## 3) Exportación \n",
    "La exportación la realizaremos a un bucket de GCP\n",
    " \n",
    "API Reference: https://developers.google.com/earth-engine/apidocs/export-image-tocloudstorage#colab-python\n",
    "\n",
    "**NOTA IMPORTANTE:** La exportación de las imagenes debe de cumplir ciertos requerimientos para que earth engine pueda aceder a ellos, los cuales son: \n",
    "\n",
    "It must be located in the US multi-region or US-CENTRAL1 region."
   ]
  },
  {
   "cell_type": "markdown",
   "id": "2d06604fc17e55ac",
   "metadata": {},
   "source": [
    "### 3.1) Exportación de imagenes"
   ]
  },
  {
   "cell_type": "code",
   "execution_count": 12,
   "id": "c5f976677fb72d1c",
   "metadata": {
    "ExecuteTime": {
     "end_time": "2024-12-30T19:21:03.847586Z",
     "start_time": "2024-12-30T19:21:01.678724Z"
    }
   },
   "outputs": [
    {
     "data": {
      "text/html": [
       "\n",
       "            <style>\n",
       "                .geemap-dark {\n",
       "                    --jp-widgets-color: white;\n",
       "                    --jp-widgets-label-color: white;\n",
       "                    --jp-ui-font-color1: white;\n",
       "                    --jp-layout-color2: #454545;\n",
       "                    background-color: #383838;\n",
       "                }\n",
       "\n",
       "                .geemap-dark .jupyter-button {\n",
       "                    --jp-layout-color3: #383838;\n",
       "                }\n",
       "\n",
       "                .geemap-colab {\n",
       "                    background-color: var(--colab-primary-surface-color, white);\n",
       "                }\n",
       "\n",
       "                .geemap-colab .jupyter-button {\n",
       "                    --jp-layout-color3: var(--colab-primary-surface-color, white);\n",
       "                }\n",
       "            </style>\n",
       "            "
      ],
      "text/plain": [
       "<IPython.core.display.HTML object>"
      ]
     },
     "metadata": {},
     "output_type": "display_data"
    },
    {
     "name": "stdout",
     "output_type": "stream",
     "text": [
      "Se exportó la imagen a Cloud Storage: 2023-1\n",
      "Se exportó la imagen a Cloud Storage: 2023-3\n",
      "Se exportó la imagen a Cloud Storage: 2023-5\n",
      "Se exportó la imagen a Cloud Storage: 2023-7\n",
      "Se exportó la imagen a Cloud Storage: 2023-9\n",
      "Se exportó la imagen a Cloud Storage: 2023-10\n",
      "Se exportó la imagen a Cloud Storage: 2023-11\n"
     ]
    }
   ],
   "source": [
    "# 1) Obtención de las llaves del diccionario\n",
    "keys = list(image_dic.keys())\n",
    "images_names =[]\n",
    "\n",
    "# Inicio del ciclo \n",
    "for i in keys: \n",
    "    \n",
    "    # 1) Lectura de los datos \n",
    "    image = image_dic[i]\n",
    "    \n",
    "    task = ee.batch.Export.image.toCloudStorage(\n",
    "    image=image,\n",
    "    #description=f\"Export\", # Este es el nombre del archivo que se exportara , si vas a usar el filenameprexi no es necesario esto \n",
    "    bucket='earth_engine_selene',  # Cambia esto al nombre de tu bucket\n",
    "    region = area_interest, # el parámetro region sirve para definir el área geográfica específica que se va a exportar.\n",
    "    fileNamePrefix=f\"sentinel2/image_{i}\", # Damos una dirección dentro del bucket y le damos nombre \n",
    "    scale=10,  # Resolución en metros\n",
    "    fileFormat='GeoTIFF')  # Formato de archivo\n",
    "    \n",
    "    task.start()  # Inicia la tarea de exportación\n",
    "    print(\"Se exportó la imagen a Cloud Storage:\", i)    \n",
    "    \n",
    "    # Image name\n",
    "    name = f\"image_{i}\"\n",
    "    images_names.append(name)"
   ]
  },
  {
   "cell_type": "markdown",
   "id": "2a226d43fb14ee7b",
   "metadata": {},
   "source": [
    "### 3.2) Exportación de mapa html \n",
    "Este mapa contiene las capas agregadas, en este caso solo el área de interés "
   ]
  },
  {
   "cell_type": "code",
   "execution_count": 13,
   "id": "ef1f5c791afa3107",
   "metadata": {
    "ExecuteTime": {
     "end_time": "2024-12-30T19:21:11.499561Z",
     "start_time": "2024-12-30T19:21:11.482728Z"
    }
   },
   "outputs": [
    {
     "data": {
      "text/html": [
       "\n",
       "            <style>\n",
       "                .geemap-dark {\n",
       "                    --jp-widgets-color: white;\n",
       "                    --jp-widgets-label-color: white;\n",
       "                    --jp-ui-font-color1: white;\n",
       "                    --jp-layout-color2: #454545;\n",
       "                    background-color: #383838;\n",
       "                }\n",
       "\n",
       "                .geemap-dark .jupyter-button {\n",
       "                    --jp-layout-color3: #383838;\n",
       "                }\n",
       "\n",
       "                .geemap-colab {\n",
       "                    background-color: var(--colab-primary-surface-color, white);\n",
       "                }\n",
       "\n",
       "                .geemap-colab .jupyter-button {\n",
       "                    --jp-layout-color3: var(--colab-primary-surface-color, white);\n",
       "                }\n",
       "            </style>\n",
       "            "
      ],
      "text/plain": [
       "<IPython.core.display.HTML object>"
      ]
     },
     "metadata": {},
     "output_type": "display_data"
    }
   ],
   "source": [
    "# Visualizacion del mapa en un broswer \n",
    "html_file = direction + \"/data/02_intermediate/Map.html\" # String de la direccion de exportacion\n",
    "Map.to_html(filename=html_file, title=\"My Map\", width=\"100%\", height=\"880px\") # Exporacion a una html \n",
    "# NOTA : En estos momentos solo agrege el area de interes, no estan las imagenes TIF "
   ]
  },
  {
   "cell_type": "markdown",
   "id": "153e48cc07688b7f",
   "metadata": {},
   "source": [
    "### 3.3) Exportación del nombre de las imagenes \n",
    "Esto lo utilizaremos pasa saber exactamente que es lo que se exporto al bucket "
   ]
  },
  {
   "cell_type": "code",
   "execution_count": 14,
   "id": "2ffe3dd1f4f53222",
   "metadata": {
    "ExecuteTime": {
     "end_time": "2024-12-30T19:21:13.259274Z",
     "start_time": "2024-12-30T19:21:13.244521Z"
    }
   },
   "outputs": [
    {
     "data": {
      "text/html": [
       "\n",
       "            <style>\n",
       "                .geemap-dark {\n",
       "                    --jp-widgets-color: white;\n",
       "                    --jp-widgets-label-color: white;\n",
       "                    --jp-ui-font-color1: white;\n",
       "                    --jp-layout-color2: #454545;\n",
       "                    background-color: #383838;\n",
       "                }\n",
       "\n",
       "                .geemap-dark .jupyter-button {\n",
       "                    --jp-layout-color3: #383838;\n",
       "                }\n",
       "\n",
       "                .geemap-colab {\n",
       "                    background-color: var(--colab-primary-surface-color, white);\n",
       "                }\n",
       "\n",
       "                .geemap-colab .jupyter-button {\n",
       "                    --jp-layout-color3: var(--colab-primary-surface-color, white);\n",
       "                }\n",
       "            </style>\n",
       "            "
      ],
      "text/plain": [
       "<IPython.core.display.HTML object>"
      ]
     },
     "metadata": {},
     "output_type": "display_data"
    }
   ],
   "source": [
    "# 1) Creación del pandas DF \n",
    "names = pd.DataFrame(data=images_names, columns=[\"Images names\"])\n",
    "\n",
    "# 2) Exportación a csv \n",
    "names.to_csv(path_or_buf=direction + \"/data/02_intermediate/images_names.csv\", index=False)"
   ]
  },
  {
   "cell_type": "code",
   "execution_count": null,
   "id": "4fe34b4ca763ae97",
   "metadata": {},
   "outputs": [],
   "source": []
  }
 ],
 "metadata": {
  "kernelspec": {
   "display_name": "Python 3 (ipykernel)",
   "language": "python",
   "name": "python3"
  },
  "language_info": {
   "codemirror_mode": {
    "name": "ipython",
    "version": 3
   },
   "file_extension": ".py",
   "mimetype": "text/x-python",
   "name": "python",
   "nbconvert_exporter": "python",
   "pygments_lexer": "ipython3",
   "version": "3.13.1"
  }
 },
 "nbformat": 4,
 "nbformat_minor": 5
}
