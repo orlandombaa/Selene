{
 "cells": [
  {
   "metadata": {},
   "cell_type": "markdown",
   "source": [
    "# Descarta de datos\n",
    "Actualmente se estan descargando los datos del satelite **Sentinel-2**\n",
    "\n",
    "Faltantes en el codigo:\n",
    "- Descargar 2 imagenes, la imagen completa satlital correspondiendte a la zona de interés, quiero una imagen ligeramente más grande que el área de interes. \n",
    "- Hacer el filtro de nubosidad solo para el área de interés "
   ],
   "id": "591c72d926f7520d"
  },
  {
   "metadata": {},
   "cell_type": "markdown",
   "source": "**DATOS DE INTERES**",
   "id": "311394d52656111b"
  },
  {
   "metadata": {
    "ExecuteTime": {
     "end_time": "2024-12-27T04:13:03.552398Z",
     "start_time": "2024-12-27T04:13:03.548146Z"
    }
   },
   "cell_type": "code",
   "source": [
    "years =[2023] # Para simplificar el proceso ahora solo integraremos un año  \n",
    "months = [1,3,5,7,9,10,11]  "
   ],
   "id": "1c832ccd14788405",
   "outputs": [],
   "execution_count": 1
  },
  {
   "metadata": {},
   "cell_type": "markdown",
   "source": "**IMPORTACION DE LIBRERIAS**",
   "id": "4f0bfce0547801b"
  },
  {
   "metadata": {
    "ExecuteTime": {
     "end_time": "2024-12-27T04:13:06.191391Z",
     "start_time": "2024-12-27T04:13:04.369245Z"
    }
   },
   "cell_type": "code",
   "source": [
    "import os\n",
    "import ee \n",
    "import geopandas as gpd\n",
    "import matplotlib.pyplot as plt\n",
    "import datetime\n",
    "import geemap\n",
    "import pandas as pd\n"
   ],
   "id": "5bb9b9cd4eb9e169",
   "outputs": [],
   "execution_count": 2
  },
  {
   "metadata": {
    "ExecuteTime": {
     "end_time": "2024-12-27T04:13:06.207753Z",
     "start_time": "2024-12-27T04:13:06.202816Z"
    }
   },
   "cell_type": "code",
   "source": [
    "current_date = datetime.date.today()\n",
    "\n",
    "# Extraremos el año y mes \n",
    "current_year= current_date.year\n",
    "current_month = current_date.month\n",
    "print(\"Mes actual:\", current_month)\n",
    "print(\"Año actual:\", current_year)"
   ],
   "id": "c33ca24cb81c2e12",
   "outputs": [
    {
     "data": {
      "text/plain": [
       "<IPython.core.display.HTML object>"
      ],
      "text/html": [
       "\n",
       "            <style>\n",
       "                .geemap-dark {\n",
       "                    --jp-widgets-color: white;\n",
       "                    --jp-widgets-label-color: white;\n",
       "                    --jp-ui-font-color1: white;\n",
       "                    --jp-layout-color2: #454545;\n",
       "                    background-color: #383838;\n",
       "                }\n",
       "\n",
       "                .geemap-dark .jupyter-button {\n",
       "                    --jp-layout-color3: #383838;\n",
       "                }\n",
       "\n",
       "                .geemap-colab {\n",
       "                    background-color: var(--colab-primary-surface-color, white);\n",
       "                }\n",
       "\n",
       "                .geemap-colab .jupyter-button {\n",
       "                    --jp-layout-color3: var(--colab-primary-surface-color, white);\n",
       "                }\n",
       "            </style>\n",
       "            "
      ]
     },
     "metadata": {},
     "output_type": "display_data"
    },
    {
     "name": "stdout",
     "output_type": "stream",
     "text": [
      "Mes actual: 12\n",
      "Año actual: 2024\n"
     ]
    }
   ],
   "execution_count": 3
  },
  {
   "metadata": {},
   "cell_type": "markdown",
   "source": "## Autentificación para GCP ",
   "id": "daf4986a5dde4c83"
  },
  {
   "metadata": {
    "ExecuteTime": {
     "end_time": "2024-12-27T04:13:07.599607Z",
     "start_time": "2024-12-27T04:13:06.220228Z"
    }
   },
   "cell_type": "code",
   "source": [
    "# 1) Obtención de la dirección de trabajo \n",
    "direction = os.getcwd()\n",
    "\n",
    "# Remove the last part of the path\n",
    "direction = os.path.dirname(direction)\n",
    "\n",
    "# Dirección de la llave \n",
    "service_account= direction + '/conf/local/gcp-for-data-science-397913-4fd843feede1.json'\n",
    "\n",
    "# Autentificación \n",
    "credentials = ee.ServiceAccountCredentials(email=None,key_file=service_account)\n",
    "ee.Initialize(credentials)"
   ],
   "id": "fc7a058a33f4ea0a",
   "outputs": [
    {
     "data": {
      "text/plain": [
       "<IPython.core.display.HTML object>"
      ],
      "text/html": [
       "\n",
       "            <style>\n",
       "                .geemap-dark {\n",
       "                    --jp-widgets-color: white;\n",
       "                    --jp-widgets-label-color: white;\n",
       "                    --jp-ui-font-color1: white;\n",
       "                    --jp-layout-color2: #454545;\n",
       "                    background-color: #383838;\n",
       "                }\n",
       "\n",
       "                .geemap-dark .jupyter-button {\n",
       "                    --jp-layout-color3: #383838;\n",
       "                }\n",
       "\n",
       "                .geemap-colab {\n",
       "                    background-color: var(--colab-primary-surface-color, white);\n",
       "                }\n",
       "\n",
       "                .geemap-colab .jupyter-button {\n",
       "                    --jp-layout-color3: var(--colab-primary-surface-color, white);\n",
       "                }\n",
       "            </style>\n",
       "            "
      ]
     },
     "metadata": {},
     "output_type": "display_data"
    }
   ],
   "execution_count": 4
  },
  {
   "metadata": {},
   "cell_type": "markdown",
   "source": [
    "## 1) Importación del área de interés \n",
    "**NOTA:** Se obtiene el área de interés por medio de un archivo tipo Geojson, kml o shape. Para este ejemplo se utilizará un KML. "
   ],
   "id": "b54978af94170958"
  },
  {
   "metadata": {},
   "cell_type": "markdown",
   "source": "### 1.1) Carga y visualización con geopandas",
   "id": "16121ac07cadfe20"
  },
  {
   "metadata": {
    "ExecuteTime": {
     "end_time": "2024-12-27T04:13:08.281847Z",
     "start_time": "2024-12-27T04:13:07.609118Z"
    }
   },
   "cell_type": "code",
   "source": [
    "# Direction of the KML \n",
    "kml_file = direction + \"/data/01_raw/Agricultura.kml\"\n",
    "\n",
    "# Nombre del archivo GeoJson a exportar \n",
    "geojson_file = direction + \"/data/01_raw/Agricultura.geojson\"\n",
    "\n",
    "# 1) Lectura del kml \n",
    "gdf = gpd.read_file(filename=kml_file, driver=\"KML\")\n",
    "\n",
    "# 2) Exportación del kml a un Geo JSON \n",
    "gdf.to_file(filename=geojson_file, driver=\"GeoJSON\")\n",
    "\n",
    "# Plot using Geopandas\n",
    "gdf.plot()\n",
    "\n",
    "# Customize the plot\n",
    "plt.title(\"KML File Visualization\")\n",
    "plt.show()"
   ],
   "id": "326fd727173f5124",
   "outputs": [
    {
     "data": {
      "text/plain": [
       "<IPython.core.display.HTML object>"
      ],
      "text/html": [
       "\n",
       "            <style>\n",
       "                .geemap-dark {\n",
       "                    --jp-widgets-color: white;\n",
       "                    --jp-widgets-label-color: white;\n",
       "                    --jp-ui-font-color1: white;\n",
       "                    --jp-layout-color2: #454545;\n",
       "                    background-color: #383838;\n",
       "                }\n",
       "\n",
       "                .geemap-dark .jupyter-button {\n",
       "                    --jp-layout-color3: #383838;\n",
       "                }\n",
       "\n",
       "                .geemap-colab {\n",
       "                    background-color: var(--colab-primary-surface-color, white);\n",
       "                }\n",
       "\n",
       "                .geemap-colab .jupyter-button {\n",
       "                    --jp-layout-color3: var(--colab-primary-surface-color, white);\n",
       "                }\n",
       "            </style>\n",
       "            "
      ]
     },
     "metadata": {},
     "output_type": "display_data"
    },
    {
     "data": {
      "text/plain": [
       "<Figure size 640x480 with 1 Axes>"
      ],
      "image/png": "[encoded data removed]"
     },
     "metadata": {},
     "output_type": "display_data"
    }
   ],
   "execution_count": 5
  },
  {
   "metadata": {},
   "cell_type": "markdown",
   "source": [
    "## 2) Descarga de imagenes satelitales\n",
    "En esta sección se abordarán los siguientes procesos \n",
    "\n",
    "- **[Creación de un geometria para Earth Engine](https://developers.google.com/earth-engine/apidocs/ee-geometry)**: La geometria de earth engine se puede crear a partir de un GeoJSON, esto serivara para hacer el corte en las imagenes satelitales de interés\n",
    "  \n",
    "- Descarga de datos satelitales para esa área junto con un filtro al área de intrés, fechas y nubosidad "
   ],
   "id": "5151a0452db9fd55"
  },
  {
   "metadata": {},
   "cell_type": "markdown",
   "source": [
    "### 2.1) Creación de una geometría de earth engine \n",
    "Para la creación de una geometría lo más indicado es convertir el KML en un archivo GeoJSON y este leerlo directamtne como geometría "
   ],
   "id": "75d7cbd471bee8bc"
  },
  {
   "metadata": {
    "ExecuteTime": {
     "end_time": "2024-12-27T04:13:08.297396Z",
     "start_time": "2024-12-27T04:13:08.292829Z"
    }
   },
   "cell_type": "code",
   "source": [
    "import json\n",
    "# Step 1: Load the GeoJSON file\n",
    "\n",
    "with open(geojson_file, \"r\") as f:\n",
    "    geojson_data = json.load(f)\n",
    "\n",
    "geojson_data[\"features\"][0][\"geometry\"] # IMPORTANTE: Vease como contiene una tercera coordenada que es la altura (los valores de 0) , se deben de retirar "
   ],
   "id": "6d5dcc88c47145c0",
   "outputs": [
    {
     "data": {
      "text/plain": [
       "<IPython.core.display.HTML object>"
      ],
      "text/html": [
       "\n",
       "            <style>\n",
       "                .geemap-dark {\n",
       "                    --jp-widgets-color: white;\n",
       "                    --jp-widgets-label-color: white;\n",
       "                    --jp-ui-font-color1: white;\n",
       "                    --jp-layout-color2: #454545;\n",
       "                    background-color: #383838;\n",
       "                }\n",
       "\n",
       "                .geemap-dark .jupyter-button {\n",
       "                    --jp-layout-color3: #383838;\n",
       "                }\n",
       "\n",
       "                .geemap-colab {\n",
       "                    background-color: var(--colab-primary-surface-color, white);\n",
       "                }\n",
       "\n",
       "                .geemap-colab .jupyter-button {\n",
       "                    --jp-layout-color3: var(--colab-primary-surface-color, white);\n",
       "                }\n",
       "            </style>\n",
       "            "
      ]
     },
     "metadata": {},
     "output_type": "display_data"
    },
    {
     "data": {
      "text/plain": [
       "{'type': 'Polygon',\n",
       " 'coordinates': [[[-107.6730266244965, 24.75766085153008, 0.0],\n",
       "   [-107.6353327971003, 24.76000824378666, 0.0],\n",
       "   [-107.6440665193485, 24.80059938041618, 0.0],\n",
       "   [-107.6785631858739, 24.79730942750482, 0.0],\n",
       "   [-107.6730266244965, 24.75766085153008, 0.0]]]}"
      ]
     },
     "execution_count": 6,
     "metadata": {},
     "output_type": "execute_result"
    }
   ],
   "execution_count": 6
  },
  {
   "metadata": {},
   "cell_type": "markdown",
   "source": "**Eliminación de la coordinada de elevación**",
   "id": "12ab062c8767034a"
  },
  {
   "metadata": {
    "ExecuteTime": {
     "end_time": "2024-12-27T04:13:08.498945Z",
     "start_time": "2024-12-27T04:13:08.493538Z"
    }
   },
   "cell_type": "code",
   "source": [
    "# Step 2: Function to remove the third dimension\n",
    "def remove_third_dimension(geometry):\n",
    "    \"\"\"Removes the third dimension (z-values) from GeoJSON coordinates.\"\"\"\n",
    "    if geometry[\"type\"] == \"Polygon\":\n",
    "        geometry[\"coordinates\"] = [\n",
    "            [[coord[0], coord[1]] for coord in ring] for ring in geometry[\"coordinates\"]\n",
    "        ]\n",
    "    elif geometry[\"type\"] == \"MultiPolygon\":\n",
    "        geometry[\"coordinates\"] = [\n",
    "            [[[coord[0], coord[1]] for coord in ring] for ring in polygon]\n",
    "            for polygon in geometry[\"coordinates\"]\n",
    "        ]\n",
    "    elif geometry[\"type\"] == \"LineString\":\n",
    "        geometry[\"coordinates\"] = [[coord[0], coord[1]] for coord in geometry[\"coordinates\"]]\n",
    "    elif geometry[\"type\"] == \"Point\":\n",
    "        geometry[\"coordinates\"] = geometry[\"coordinates\"][:2]\n",
    "    return geometry\n",
    "\n",
    "# Step 3: Clean the geometry, ejecucón de la funcion \n",
    "cleaned_geometry = remove_third_dimension(geojson_data[\"features\"][0][\"geometry\"])\n",
    "cleaned_geometry # Vease ocmo aqui ya estan retirados la tercera dimensión de la altura "
   ],
   "id": "aa07c8abc3fa2292",
   "outputs": [
    {
     "data": {
      "text/plain": [
       "<IPython.core.display.HTML object>"
      ],
      "text/html": [
       "\n",
       "            <style>\n",
       "                .geemap-dark {\n",
       "                    --jp-widgets-color: white;\n",
       "                    --jp-widgets-label-color: white;\n",
       "                    --jp-ui-font-color1: white;\n",
       "                    --jp-layout-color2: #454545;\n",
       "                    background-color: #383838;\n",
       "                }\n",
       "\n",
       "                .geemap-dark .jupyter-button {\n",
       "                    --jp-layout-color3: #383838;\n",
       "                }\n",
       "\n",
       "                .geemap-colab {\n",
       "                    background-color: var(--colab-primary-surface-color, white);\n",
       "                }\n",
       "\n",
       "                .geemap-colab .jupyter-button {\n",
       "                    --jp-layout-color3: var(--colab-primary-surface-color, white);\n",
       "                }\n",
       "            </style>\n",
       "            "
      ]
     },
     "metadata": {},
     "output_type": "display_data"
    },
    {
     "data": {
      "text/plain": [
       "{'type': 'Polygon',\n",
       " 'coordinates': [[[-107.6730266244965, 24.75766085153008],\n",
       "   [-107.6353327971003, 24.76000824378666],\n",
       "   [-107.6440665193485, 24.80059938041618],\n",
       "   [-107.6785631858739, 24.79730942750482],\n",
       "   [-107.6730266244965, 24.75766085153008]]]}"
      ]
     },
     "execution_count": 7,
     "metadata": {},
     "output_type": "execute_result"
    }
   ],
   "execution_count": 7
  },
  {
   "metadata": {},
   "cell_type": "markdown",
   "source": "**Convertir en geometría de Earth Engine**",
   "id": "49a0fe7d8561a870"
  },
  {
   "metadata": {
    "ExecuteTime": {
     "end_time": "2024-12-27T04:13:09.405234Z",
     "start_time": "2024-12-27T04:13:09.401097Z"
    }
   },
   "cell_type": "code",
   "source": [
    "# Step 4: Convert to Earth Engine Geometry\n",
    "area_interest = ee.Geometry(cleaned_geometry)\n",
    "type(area_interest)"
   ],
   "id": "d72b64dfe299fd34",
   "outputs": [
    {
     "data": {
      "text/plain": [
       "<IPython.core.display.HTML object>"
      ],
      "text/html": [
       "\n",
       "            <style>\n",
       "                .geemap-dark {\n",
       "                    --jp-widgets-color: white;\n",
       "                    --jp-widgets-label-color: white;\n",
       "                    --jp-ui-font-color1: white;\n",
       "                    --jp-layout-color2: #454545;\n",
       "                    background-color: #383838;\n",
       "                }\n",
       "\n",
       "                .geemap-dark .jupyter-button {\n",
       "                    --jp-layout-color3: #383838;\n",
       "                }\n",
       "\n",
       "                .geemap-colab {\n",
       "                    background-color: var(--colab-primary-surface-color, white);\n",
       "                }\n",
       "\n",
       "                .geemap-colab .jupyter-button {\n",
       "                    --jp-layout-color3: var(--colab-primary-surface-color, white);\n",
       "                }\n",
       "            </style>\n",
       "            "
      ]
     },
     "metadata": {},
     "output_type": "display_data"
    },
    {
     "data": {
      "text/plain": [
       "ee.geometry.Geometry"
      ]
     },
     "execution_count": 8,
     "metadata": {},
     "output_type": "execute_result"
    }
   ],
   "execution_count": 8
  },
  {
   "metadata": {},
   "cell_type": "markdown",
   "source": "### 2.2) Creación de un mapa base e integración de área de interés",
   "id": "f96b81270dc108aa"
  },
  {
   "metadata": {},
   "cell_type": "markdown",
   "source": "**AÑADIMOS LA GEOMETRIA AL MAPA**",
   "id": "4135e9d0c1001f84"
  },
  {
   "metadata": {
    "ExecuteTime": {
     "end_time": "2024-12-27T04:13:11.034347Z",
     "start_time": "2024-12-27T04:13:10.490875Z"
    }
   },
   "cell_type": "code",
   "source": [
    "# 1) Creación del mapa base \n",
    "Map  = geemap.Map()\n",
    "\n",
    "# Anadimos un base map distinto \n",
    "Map.add_basemap(basemap=\"Esri.WorldImagery\")  # Imagene satelital de ESRI \n",
    "\n",
    "# 2) Add the geometry to the map\n",
    "Map.addLayer(area_interest, {\"color\": \"red\"}, \"Cleaned Geometry\")\n",
    "\n",
    "# Center the map on the geometry\n",
    "Map.centerObject(area_interest, 11)"
   ],
   "id": "e6dfcc8309aea06",
   "outputs": [
    {
     "data": {
      "text/plain": [
       "<IPython.core.display.HTML object>"
      ],
      "text/html": [
       "\n",
       "            <style>\n",
       "                .geemap-dark {\n",
       "                    --jp-widgets-color: white;\n",
       "                    --jp-widgets-label-color: white;\n",
       "                    --jp-ui-font-color1: white;\n",
       "                    --jp-layout-color2: #454545;\n",
       "                    background-color: #383838;\n",
       "                }\n",
       "\n",
       "                .geemap-dark .jupyter-button {\n",
       "                    --jp-layout-color3: #383838;\n",
       "                }\n",
       "\n",
       "                .geemap-colab {\n",
       "                    background-color: var(--colab-primary-surface-color, white);\n",
       "                }\n",
       "\n",
       "                .geemap-colab .jupyter-button {\n",
       "                    --jp-layout-color3: var(--colab-primary-surface-color, white);\n",
       "                }\n",
       "            </style>\n",
       "            "
      ]
     },
     "metadata": {},
     "output_type": "display_data"
    }
   ],
   "execution_count": 9
  },
  {
   "metadata": {},
   "cell_type": "markdown",
   "source": [
    "### 2.3) Descarga de imagenes satelitales\n",
    "\n",
    "**IMPORTANTE:** Se hará la descarga de las imagenes en los años que se eligieron al inicio "
   ],
   "id": "2ddac04750e4573c"
  },
  {
   "metadata": {
    "ExecuteTime": {
     "end_time": "2024-12-27T04:13:29.212225Z",
     "start_time": "2024-12-27T04:13:19.824292Z"
    }
   },
   "cell_type": "code",
   "source": [
    "# Definición del diccionario de imágenes\n",
    "image_dic = {}  # Lista vacía\n",
    "\n",
    "for i in years:\n",
    "    for z in months:\n",
    "        \n",
    "        # Condicionante para pasar meses futuros\n",
    "        if i <= current_year and z <= current_month:\n",
    "            \n",
    "            # 1) Importación del image collection de Copernicus\n",
    "            sentinel2 = ee.ImageCollection(\"COPERNICUS/S2_SR\")\n",
    "            \n",
    "            # 2) Filtro por área de interés\n",
    "            sentinel2 = sentinel2.filterBounds(geometry=area_interest)\n",
    "            \n",
    "            # 3) Filtro por fechas de interés\n",
    "            sentinel2 = sentinel2.filterDate(start=f\"{i}-{z}-01\", end=f\"{i}-{z}-28\")  # año, mes y día\n",
    "            \n",
    "            # 4) Filtro por nubosidad\n",
    "            sentinel2 = sentinel2.filter(ee.Filter.lt(\"CLOUDY_PIXEL_PERCENTAGE\", 20))  # nubosidad menor al 20%\n",
    "            # NOTE: This is still a image collection object \n",
    "           \n",
    "            # NOTA IMPORTANTE: Este filtro de nubosidad es bueno, pero es para toda la imagen satelital, qué pasa si mi área de interpres no tiene nubes?, debo determinar el área de nubosidad exactamente sobre mi área de interes \n",
    "            \n",
    "            # 5) Select the first cloud-free image de ese mes de ese año que cumpla con el filtro\n",
    "            image = sentinel2.first()\n",
    "            \n",
    "            # 6) Recorte de la imagen\n",
    "            if image.getInfo() is not None:  # Validar que la imagen no sea null\n",
    "                \n",
    "                # *elección de bandas visibles y banda 8 (infra rojo cercano) \n",
    "                image = image.select(['B2', 'B3', 'B4', 'B8'])\n",
    "                \n",
    "                # Recorte de la imagen usando la función de clip de ee\n",
    "                image = image.clip(area_interest)  # Recorta al área de interés\n",
    "                                \n",
    "                # 7) Almacenar en el diccionario\n",
    "                image_dic[f\"{i}-{z}\"] = image\n",
    "                print(f\"Solicitud de descarga en la fecha: {i}-{z}\")\n",
    "            else:\n",
    "                print(f\"No se encontró ninguna imagen válida para {i}-{z}\")"
   ],
   "id": "f673964e547274b8",
   "outputs": [
    {
     "data": {
      "text/plain": [
       "<IPython.core.display.HTML object>"
      ],
      "text/html": [
       "\n",
       "            <style>\n",
       "                .geemap-dark {\n",
       "                    --jp-widgets-color: white;\n",
       "                    --jp-widgets-label-color: white;\n",
       "                    --jp-ui-font-color1: white;\n",
       "                    --jp-layout-color2: #454545;\n",
       "                    background-color: #383838;\n",
       "                }\n",
       "\n",
       "                .geemap-dark .jupyter-button {\n",
       "                    --jp-layout-color3: #383838;\n",
       "                }\n",
       "\n",
       "                .geemap-colab {\n",
       "                    background-color: var(--colab-primary-surface-color, white);\n",
       "                }\n",
       "\n",
       "                .geemap-colab .jupyter-button {\n",
       "                    --jp-layout-color3: var(--colab-primary-surface-color, white);\n",
       "                }\n",
       "            </style>\n",
       "            "
      ]
     },
     "metadata": {},
     "output_type": "display_data"
    },
    {
     "name": "stdout",
     "output_type": "stream",
     "text": [
      "Solicitud de descarga en la fecha: 2023-1\n",
      "Solicitud de descarga en la fecha: 2023-3\n",
      "Solicitud de descarga en la fecha: 2023-5\n",
      "Solicitud de descarga en la fecha: 2023-7\n",
      "Solicitud de descarga en la fecha: 2023-9\n",
      "Solicitud de descarga en la fecha: 2023-10\n",
      "Solicitud de descarga en la fecha: 2023-11\n"
     ]
    }
   ],
   "execution_count": 11
  },
  {
   "metadata": {},
   "cell_type": "markdown",
   "source": "**PENDIENTE:** Hay que meter un filtro de nubosidad más estricto, que evaluemos la cantidad de nubes pero SOLO en la zona de interés. ",
   "id": "c98c6ce7788bd208"
  },
  {
   "metadata": {
    "ExecuteTime": {
     "end_time": "2024-12-18T02:52:58.598069Z",
     "start_time": "2024-12-18T02:52:58.594250Z"
    }
   },
   "cell_type": "code",
   "source": [
    "## ES LO QUE ME PUSO EL CHAT PARA EL FILTRADO DE NUBES EN EL AREA DE INTERES \n",
    "\n",
    "#def cloud_percentage_in_aoi(image, aoi):\n",
    " #   \"\"\"Calculate cloud percentage within the area of interest (AOI).\"\"\"\n",
    "    # Mask clouds using QA60 band (1 = clouds, 0 = clear)\n",
    "  #  cloud_mask = image.select('QA60').eq(1)\n",
    "    \n",
    "    # Calculate the total number of pixels in the AOI\n",
    "   # total_pixels = ee.Number(image.clip(aoi).reduceRegion(\n",
    "    #    reducer=ee.Reducer.count(),\n",
    "     #   geometry=aoi,\n",
    "      #  scale=10,\n",
    "       # maxPixels=1e13\n",
    "   # ).values().get(0))\n",
    "\n",
    "    # Calculate cloud pixels in the AOI\n",
    "   # cloud_pixels = ee.Number(cloud_mask.clip(aoi).reduceRegion(\n",
    "    #    reducer=ee.Reducer.count(),\n",
    "     #   geometry=aoi,\n",
    "      #  scale=10,\n",
    "       # maxPixels=1e13\n",
    "   # ).values().get(0))\n",
    "    \n",
    "    # Calculate cloud percentage\n",
    "   # cloud_percentage = cloud_pixels.divide(total_pixels).multiply(100)\n",
    "   # return cloud_percentage\n",
    "\n",
    "# Main script\n",
    "#image_dic = {}  # Dictionary to store images\n",
    "\n",
    "#for i in years:\n",
    " #   for z in months:\n",
    "  #      if i <= current_year and z <= current_month:\n",
    "            # 1) Import Sentinel-2 image collection\n",
    "   #         sentinel2 = ee.ImageCollection(\"COPERNICUS/S2_SR\") \\\n",
    "    #            .filterBounds(area_interest) \\\n",
    "     #           .filterDate(f\"{i}-{z}-01\", f\"{i}-{z}-28\") \\\n",
    "      #          .filter(ee.Filter.lt(\"CLOUDY_PIXEL_PERCENTAGE\", 20))  # Rough initial filter\n",
    "            \n",
    "            # 2) Filter images based on AOI-specific cloud percentage\n",
    "       #     def filter_by_aoi_cloud(image):\n",
    "        #        cloud_percent = cloud_percentage_in_aoi(image, area_interest)\n",
    "         #       return image.set('CLOUD_PERCENT_AOI', cloud_percent)\n",
    "            \n",
    "            # Apply AOI-specific cloud percentage calculation\n",
    "          #  images_with_cloud_info = sentinel2.map(filter_by_aoi_cloud)\n",
    "\n",
    "            # Filter images where AOI cloud coverage is less than 10%\n",
    "  #          filtered_images = images_with_cloud_info.filter(ee.Filter.lt('CLOUD_PERCENT_AOI', 10))\n",
    "            \n",
    "            # Select the first image\n",
    "   #         image = filtered_images.first()\n",
    "            \n",
    "            # Check if image exists and process\n",
    "    #        if image.getInfo() is not None:\n",
    "                # Select visible bands and band 8\n",
    "     #           image = image.select(['B2', 'B3', 'B4', 'B8'])\n",
    "      #          image = image.clip(area_interest)\n",
    "                \n",
    "                # Store the image\n",
    "       #         image_dic[f\"{i}-{z}\"] = image\n",
    "        #        print(f\"Image for {i}-{z} meets cloud criteria in AOI.\")\n",
    "         #   else:\n",
    "          #      print(f\"No valid image found for {i}-{z}.\")\n"
   ],
   "id": "dc2a4fa13ee0010",
   "outputs": [
    {
     "data": {
      "text/plain": [
       "<IPython.core.display.HTML object>"
      ],
      "text/html": [
       "\n",
       "            <style>\n",
       "                .geemap-dark {\n",
       "                    --jp-widgets-color: white;\n",
       "                    --jp-widgets-label-color: white;\n",
       "                    --jp-ui-font-color1: white;\n",
       "                    --jp-layout-color2: #454545;\n",
       "                    background-color: #383838;\n",
       "                }\n",
       "\n",
       "                .geemap-dark .jupyter-button {\n",
       "                    --jp-layout-color3: #383838;\n",
       "                }\n",
       "\n",
       "                .geemap-colab {\n",
       "                    background-color: var(--colab-primary-surface-color, white);\n",
       "                }\n",
       "\n",
       "                .geemap-colab .jupyter-button {\n",
       "                    --jp-layout-color3: var(--colab-primary-surface-color, white);\n",
       "                }\n",
       "            </style>\n",
       "            "
      ]
     },
     "metadata": {},
     "output_type": "display_data"
    }
   ],
   "execution_count": 32
  },
  {
   "metadata": {
    "ExecuteTime": {
     "end_time": "2024-12-18T02:52:58.615919Z",
     "start_time": "2024-12-18T02:52:58.611785Z"
    }
   },
   "cell_type": "code",
   "source": "image # Vease que en los metadatos de la imagenes solo se muestran 4 imagenes ",
   "id": "f42cf3e6f8f2658f",
   "outputs": [
    {
     "data": {
      "text/plain": [
       "<IPython.core.display.HTML object>"
      ],
      "text/html": [
       "\n",
       "            <style>\n",
       "                .geemap-dark {\n",
       "                    --jp-widgets-color: white;\n",
       "                    --jp-widgets-label-color: white;\n",
       "                    --jp-ui-font-color1: white;\n",
       "                    --jp-layout-color2: #454545;\n",
       "                    background-color: #383838;\n",
       "                }\n",
       "\n",
       "                .geemap-dark .jupyter-button {\n",
       "                    --jp-layout-color3: #383838;\n",
       "                }\n",
       "\n",
       "                .geemap-colab {\n",
       "                    background-color: var(--colab-primary-surface-color, white);\n",
       "                }\n",
       "\n",
       "                .geemap-colab .jupyter-button {\n",
       "                    --jp-layout-color3: var(--colab-primary-surface-color, white);\n",
       "                }\n",
       "            </style>\n",
       "            "
      ]
     },
     "metadata": {},
     "output_type": "display_data"
    },
    {
     "data": {
      "text/plain": [
       "<ee.image.Image at 0x11a0e22d0>"
      ],
      "text/html": [
       "<div><style>:root {\n",
       "  --font-color-primary: var(--jp-content-font-color0, rgba(0, 0, 0, 1));\n",
       "  --font-color-secondary: var(--jp-content-font-color2, rgba(0, 0, 0, 0.6));\n",
       "  --font-color-accent: rgba(123, 31, 162, 1);\n",
       "  --border-color: var(--jp-border-color2, #e0e0e0);\n",
       "  --background-color: var(--jp-layout-color0, white);\n",
       "  --background-color-row-even: var(--jp-layout-color1, white);\n",
       "  --background-color-row-odd: var(--jp-layout-color2, #eeeeee);\n",
       "}\n",
       "\n",
       "html[theme=\"dark\"],\n",
       "body[data-theme=\"dark\"],\n",
       "body.vscode-dark {\n",
       "  --font-color-primary: rgba(255, 255, 255, 1);\n",
       "  --font-color-secondary: rgba(255, 255, 255, 0.6);\n",
       "  --font-color-accent: rgb(173, 132, 190);\n",
       "  --border-color: #2e2e2e;\n",
       "  --background-color: #111111;\n",
       "  --background-color-row-even: #111111;\n",
       "  --background-color-row-odd: #313131;\n",
       "}\n",
       "\n",
       ".ee {\n",
       "  padding: 1em;\n",
       "  line-height: 1.5em;\n",
       "  min-width: 300px;\n",
       "  max-width: 1200px;\n",
       "  overflow-y: scroll;\n",
       "  max-height: 600px;\n",
       "  border: 1px solid var(--border-color);\n",
       "  font-family: monospace;\n",
       "}\n",
       "\n",
       ".ee li {\n",
       "  list-style-type: none;\n",
       "}\n",
       "\n",
       ".ee ul {\n",
       "  padding-left: 1.5em !important;\n",
       "  margin: 0;\n",
       "}\n",
       "\n",
       ".ee > ul {\n",
       "  padding-left: 0 !important;\n",
       "}\n",
       "\n",
       ".ee-open,\n",
       ".ee-shut {\n",
       "  color: var(--font-color-secondary);\n",
       "  cursor: pointer;\n",
       "  margin: 0;\n",
       "}\n",
       "\n",
       ".ee-open:hover,\n",
       ".ee-shut:hover {\n",
       "  color: var(--font-color-primary);\n",
       "}\n",
       "\n",
       ".ee-k {\n",
       "  color: var(--font-color-accent);\n",
       "  margin-right: 6px;\n",
       "}\n",
       "\n",
       ".ee-v {\n",
       "  color: var(--font-color-primary);\n",
       "}\n",
       "\n",
       ".ee-toggle {\n",
       "  display: none;\n",
       "}\n",
       "\n",
       ".ee-shut + ul {\n",
       "  display: none;\n",
       "}\n",
       "\n",
       ".ee-open + ul {\n",
       "  display: block;\n",
       "}\n",
       "\n",
       ".ee-shut::before {\n",
       "  display: inline-block;\n",
       "  content: \"▼\";\n",
       "  margin-right: 6px;\n",
       "  transform: rotate(-90deg);\n",
       "  transition: transform 0.2s;\n",
       "}\n",
       "\n",
       ".ee-open::before {\n",
       "  transform: rotate(0deg);\n",
       "  display: inline-block;\n",
       "  content: \"▼\";\n",
       "  margin-right: 6px;\n",
       "  transition: transform 0.2s;\n",
       "}\n",
       "</style><div class='ee'><ul><li><label class='ee-shut'>Image COPERNICUS/S2_SR/20241103T174419_20241103T175519_T12RZN (4 bands)<input type='checkbox' class='ee-toggle'></label><ul><li><span class='ee-k'>type:</span><span class='ee-v'>Image</span></li><li><span class='ee-k'>id:</span><span class='ee-v'>COPERNICUS/S2_SR/20241103T174419_20241103T175519_T12RZN</span></li><li><span class='ee-k'>version:</span><span class='ee-v'>1730679780831926</span></li><li><label class='ee-shut'>bands: List (4 elements)<input type='checkbox' class='ee-toggle'></label><ul><li><label class='ee-shut'>0: \"B2\", unsigned int16, EPSG:32612, 449x485 px<input type='checkbox' class='ee-toggle'></label><ul><li><span class='ee-k'>id:</span><span class='ee-v'>B2</span></li><li><span class='ee-k'>crs:</span><span class='ee-v'>EPSG:32612</span></li><li><label class='ee-shut'>crs_transform: [10, 0, 799980, 0, -10, 2800020]<input type='checkbox' class='ee-toggle'></label><ul><li><span class='ee-k'>0:</span><span class='ee-v'>10</span></li><li><span class='ee-k'>1:</span><span class='ee-v'>0</span></li><li><span class='ee-k'>2:</span><span class='ee-v'>799980</span></li><li><span class='ee-k'>3:</span><span class='ee-v'>0</span></li><li><span class='ee-k'>4:</span><span class='ee-v'>-10</span></li><li><span class='ee-k'>5:</span><span class='ee-v'>2800020</span></li></ul></li><li><label class='ee-shut'>data_type: unsigned int16<input type='checkbox' class='ee-toggle'></label><ul><li><span class='ee-k'>type:</span><span class='ee-v'>PixelType</span></li><li><span class='ee-k'>max:</span><span class='ee-v'>65535</span></li><li><span class='ee-k'>min:</span><span class='ee-v'>0</span></li><li><span class='ee-k'>precision:</span><span class='ee-v'>int</span></li></ul></li><li><label class='ee-shut'>dimensions: [449, 485]<input type='checkbox' class='ee-toggle'></label><ul><li><span class='ee-k'>0:</span><span class='ee-v'>449</span></li><li><span class='ee-k'>1:</span><span class='ee-v'>485</span></li></ul></li><li><label class='ee-shut'>origin: [3585, 5297]<input type='checkbox' class='ee-toggle'></label><ul><li><span class='ee-k'>0:</span><span class='ee-v'>3585</span></li><li><span class='ee-k'>1:</span><span class='ee-v'>5297</span></li></ul></li></ul></li><li><label class='ee-shut'>1: \"B3\", unsigned int16, EPSG:32612, 449x485 px<input type='checkbox' class='ee-toggle'></label><ul><li><span class='ee-k'>id:</span><span class='ee-v'>B3</span></li><li><span class='ee-k'>crs:</span><span class='ee-v'>EPSG:32612</span></li><li><label class='ee-shut'>crs_transform: [10, 0, 799980, 0, -10, 2800020]<input type='checkbox' class='ee-toggle'></label><ul><li><span class='ee-k'>0:</span><span class='ee-v'>10</span></li><li><span class='ee-k'>1:</span><span class='ee-v'>0</span></li><li><span class='ee-k'>2:</span><span class='ee-v'>799980</span></li><li><span class='ee-k'>3:</span><span class='ee-v'>0</span></li><li><span class='ee-k'>4:</span><span class='ee-v'>-10</span></li><li><span class='ee-k'>5:</span><span class='ee-v'>2800020</span></li></ul></li><li><label class='ee-shut'>data_type: unsigned int16<input type='checkbox' class='ee-toggle'></label><ul><li><span class='ee-k'>type:</span><span class='ee-v'>PixelType</span></li><li><span class='ee-k'>max:</span><span class='ee-v'>65535</span></li><li><span class='ee-k'>min:</span><span class='ee-v'>0</span></li><li><span class='ee-k'>precision:</span><span class='ee-v'>int</span></li></ul></li><li><label class='ee-shut'>dimensions: [449, 485]<input type='checkbox' class='ee-toggle'></label><ul><li><span class='ee-k'>0:</span><span class='ee-v'>449</span></li><li><span class='ee-k'>1:</span><span class='ee-v'>485</span></li></ul></li><li><label class='ee-shut'>origin: [3585, 5297]<input type='checkbox' class='ee-toggle'></label><ul><li><span class='ee-k'>0:</span><span class='ee-v'>3585</span></li><li><span class='ee-k'>1:</span><span class='ee-v'>5297</span></li></ul></li></ul></li><li><label class='ee-shut'>2: \"B4\", unsigned int16, EPSG:32612, 449x485 px<input type='checkbox' class='ee-toggle'></label><ul><li><span class='ee-k'>id:</span><span class='ee-v'>B4</span></li><li><span class='ee-k'>crs:</span><span class='ee-v'>EPSG:32612</span></li><li><label class='ee-shut'>crs_transform: [10, 0, 799980, 0, -10, 2800020]<input type='checkbox' class='ee-toggle'></label><ul><li><span class='ee-k'>0:</span><span class='ee-v'>10</span></li><li><span class='ee-k'>1:</span><span class='ee-v'>0</span></li><li><span class='ee-k'>2:</span><span class='ee-v'>799980</span></li><li><span class='ee-k'>3:</span><span class='ee-v'>0</span></li><li><span class='ee-k'>4:</span><span class='ee-v'>-10</span></li><li><span class='ee-k'>5:</span><span class='ee-v'>2800020</span></li></ul></li><li><label class='ee-shut'>data_type: unsigned int16<input type='checkbox' class='ee-toggle'></label><ul><li><span class='ee-k'>type:</span><span class='ee-v'>PixelType</span></li><li><span class='ee-k'>max:</span><span class='ee-v'>65535</span></li><li><span class='ee-k'>min:</span><span class='ee-v'>0</span></li><li><span class='ee-k'>precision:</span><span class='ee-v'>int</span></li></ul></li><li><label class='ee-shut'>dimensions: [449, 485]<input type='checkbox' class='ee-toggle'></label><ul><li><span class='ee-k'>0:</span><span class='ee-v'>449</span></li><li><span class='ee-k'>1:</span><span class='ee-v'>485</span></li></ul></li><li><label class='ee-shut'>origin: [3585, 5297]<input type='checkbox' class='ee-toggle'></label><ul><li><span class='ee-k'>0:</span><span class='ee-v'>3585</span></li><li><span class='ee-k'>1:</span><span class='ee-v'>5297</span></li></ul></li></ul></li><li><label class='ee-shut'>3: \"B8\", unsigned int16, EPSG:32612, 449x485 px<input type='checkbox' class='ee-toggle'></label><ul><li><span class='ee-k'>id:</span><span class='ee-v'>B8</span></li><li><span class='ee-k'>crs:</span><span class='ee-v'>EPSG:32612</span></li><li><label class='ee-shut'>crs_transform: [10, 0, 799980, 0, -10, 2800020]<input type='checkbox' class='ee-toggle'></label><ul><li><span class='ee-k'>0:</span><span class='ee-v'>10</span></li><li><span class='ee-k'>1:</span><span class='ee-v'>0</span></li><li><span class='ee-k'>2:</span><span class='ee-v'>799980</span></li><li><span class='ee-k'>3:</span><span class='ee-v'>0</span></li><li><span class='ee-k'>4:</span><span class='ee-v'>-10</span></li><li><span class='ee-k'>5:</span><span class='ee-v'>2800020</span></li></ul></li><li><label class='ee-shut'>data_type: unsigned int16<input type='checkbox' class='ee-toggle'></label><ul><li><span class='ee-k'>type:</span><span class='ee-v'>PixelType</span></li><li><span class='ee-k'>max:</span><span class='ee-v'>65535</span></li><li><span class='ee-k'>min:</span><span class='ee-v'>0</span></li><li><span class='ee-k'>precision:</span><span class='ee-v'>int</span></li></ul></li><li><label class='ee-shut'>dimensions: [449, 485]<input type='checkbox' class='ee-toggle'></label><ul><li><span class='ee-k'>0:</span><span class='ee-v'>449</span></li><li><span class='ee-k'>1:</span><span class='ee-v'>485</span></li></ul></li><li><label class='ee-shut'>origin: [3585, 5297]<input type='checkbox' class='ee-toggle'></label><ul><li><span class='ee-k'>0:</span><span class='ee-v'>3585</span></li><li><span class='ee-k'>1:</span><span class='ee-v'>5297</span></li></ul></li></ul></li></ul></li><li><label class='ee-shut'>properties: Object (101 properties)<input type='checkbox' class='ee-toggle'></label><ul><li><span class='ee-k'>AOT_RETRIEVAL_ACCURACY:</span><span class='ee-v'>0</span></li><li><span class='ee-k'>AOT_RETRIEVAL_METHOD:</span><span class='ee-v'>SEN2COR_DDV</span></li><li><span class='ee-k'>BOA_ADD_OFFSET_B1:</span><span class='ee-v'>-1000</span></li><li><span class='ee-k'>BOA_ADD_OFFSET_B10:</span><span class='ee-v'>-1000</span></li><li><span class='ee-k'>BOA_ADD_OFFSET_B11:</span><span class='ee-v'>-1000</span></li><li><span class='ee-k'>BOA_ADD_OFFSET_B12:</span><span class='ee-v'>-1000</span></li><li><span class='ee-k'>BOA_ADD_OFFSET_B2:</span><span class='ee-v'>-1000</span></li><li><span class='ee-k'>BOA_ADD_OFFSET_B3:</span><span class='ee-v'>-1000</span></li><li><span class='ee-k'>BOA_ADD_OFFSET_B4:</span><span class='ee-v'>-1000</span></li><li><span class='ee-k'>BOA_ADD_OFFSET_B5:</span><span class='ee-v'>-1000</span></li><li><span class='ee-k'>BOA_ADD_OFFSET_B6:</span><span class='ee-v'>-1000</span></li><li><span class='ee-k'>BOA_ADD_OFFSET_B7:</span><span class='ee-v'>-1000</span></li><li><span class='ee-k'>BOA_ADD_OFFSET_B8:</span><span class='ee-v'>-1000</span></li><li><span class='ee-k'>BOA_ADD_OFFSET_B8A:</span><span class='ee-v'>-1000</span></li><li><span class='ee-k'>BOA_ADD_OFFSET_B9:</span><span class='ee-v'>-1000</span></li><li><span class='ee-k'>CAST_SHADOW_PERCENTAGE:</span><span class='ee-v'>0.151582</span></li><li><span class='ee-k'>CLOUDY_PIXEL_OVER_LAND_PERCENTAGE:</span><span class='ee-v'>6.710976</span></li><li><span class='ee-k'>CLOUDY_PIXEL_PERCENTAGE:</span><span class='ee-v'>5.877336</span></li><li><span class='ee-k'>CLOUD_COVERAGE_ASSESSMENT:</span><span class='ee-v'>5.877336</span></li><li><span class='ee-k'>CLOUD_SHADOW_PERCENTAGE:</span><span class='ee-v'>0.001785</span></li><li><span class='ee-k'>DATASTRIP_ID:</span><span class='ee-v'>S2B_OPER_MSI_L2A_DS_2BPS_20241103T214158_S20241103T175519_N05.11</span></li><li><span class='ee-k'>DATATAKE_IDENTIFIER:</span><span class='ee-v'>GS2B_20241103T174419_040021_N05.11</span></li><li><span class='ee-k'>DATATAKE_TYPE:</span><span class='ee-v'>INS-NOBS</span></li><li><span class='ee-k'>DEGRADED_MSI_DATA_PERCENTAGE:</span><span class='ee-v'>0.0014</span></li><li><span class='ee-k'>FORMAT_CORRECTNESS:</span><span class='ee-v'>PASSED</span></li><li><span class='ee-k'>GENERAL_QUALITY:</span><span class='ee-v'>PASSED</span></li><li><span class='ee-k'>GENERATION_TIME:</span><span class='ee-v'>1730670118000</span></li><li><span class='ee-k'>GEOMETRIC_QUALITY:</span><span class='ee-v'>PASSED</span></li><li><span class='ee-k'>GRANULE_ID:</span><span class='ee-v'>L2A_T12RZN_A040021_20241103T175519</span></li><li><span class='ee-k'>GRANULE_MEAN_AOT:</span><span class='ee-v'>0.09417</span></li><li><span class='ee-k'>GRANULE_MEAN_WV:</span><span class='ee-v'>1.641461</span></li><li><span class='ee-k'>HIGH_PROBA_CLOUDS_PERCENTAGE:</span><span class='ee-v'>0.004396</span></li><li><span class='ee-k'>L2A_QUALITY:</span><span class='ee-v'>PASSED</span></li><li><span class='ee-k'>MEAN_INCIDENCE_AZIMUTH_ANGLE_B1:</span><span class='ee-v'>224.084733735027</span></li><li><span class='ee-k'>MEAN_INCIDENCE_AZIMUTH_ANGLE_B10:</span><span class='ee-v'>226.687994719311</span></li><li><span class='ee-k'>MEAN_INCIDENCE_AZIMUTH_ANGLE_B11:</span><span class='ee-v'>225.264105672411</span></li><li><span class='ee-k'>MEAN_INCIDENCE_AZIMUTH_ANGLE_B12:</span><span class='ee-v'>224.406386400313</span></li><li><span class='ee-k'>MEAN_INCIDENCE_AZIMUTH_ANGLE_B2:</span><span class='ee-v'>230.681295178167</span></li><li><span class='ee-k'>MEAN_INCIDENCE_AZIMUTH_ANGLE_B3:</span><span class='ee-v'>228.063642037676</span></li><li><span class='ee-k'>MEAN_INCIDENCE_AZIMUTH_ANGLE_B4:</span><span class='ee-v'>226.526528327527</span></li><li><span class='ee-k'>MEAN_INCIDENCE_AZIMUTH_ANGLE_B5:</span><span class='ee-v'>225.755079395489</span></li><li><span class='ee-k'>MEAN_INCIDENCE_AZIMUTH_ANGLE_B6:</span><span class='ee-v'>225.262547318885</span></li><li><span class='ee-k'>MEAN_INCIDENCE_AZIMUTH_ANGLE_B7:</span><span class='ee-v'>224.725407429914</span></li><li><span class='ee-k'>MEAN_INCIDENCE_AZIMUTH_ANGLE_B8:</span><span class='ee-v'>229.21609898538</span></li><li><span class='ee-k'>MEAN_INCIDENCE_AZIMUTH_ANGLE_B8A:</span><span class='ee-v'>224.398335669584</span></li><li><span class='ee-k'>MEAN_INCIDENCE_AZIMUTH_ANGLE_B9:</span><span class='ee-v'>223.862182842833</span></li><li><span class='ee-k'>MEAN_INCIDENCE_ZENITH_ANGLE_B1:</span><span class='ee-v'>3.75468381909784</span></li><li><span class='ee-k'>MEAN_INCIDENCE_ZENITH_ANGLE_B10:</span><span class='ee-v'>3.35097773097845</span></li><li><span class='ee-k'>MEAN_INCIDENCE_ZENITH_ANGLE_B11:</span><span class='ee-v'>3.51173042790231</span></li><li><span class='ee-k'>MEAN_INCIDENCE_ZENITH_ANGLE_B12:</span><span class='ee-v'>3.69137596467411</span></li><li><span class='ee-k'>MEAN_INCIDENCE_ZENITH_ANGLE_B2:</span><span class='ee-v'>3.17309830494911</span></li><li><span class='ee-k'>MEAN_INCIDENCE_ZENITH_ANGLE_B3:</span><span class='ee-v'>3.2715203141255</span></li><li><span class='ee-k'>MEAN_INCIDENCE_ZENITH_ANGLE_B4:</span><span class='ee-v'>3.38216087199413</span></li><li><span class='ee-k'>MEAN_INCIDENCE_ZENITH_ANGLE_B5:</span><span class='ee-v'>3.45142659409264</span></li><li><span class='ee-k'>MEAN_INCIDENCE_ZENITH_ANGLE_B6:</span><span class='ee-v'>3.52256407075344</span></li><li><span class='ee-k'>MEAN_INCIDENCE_ZENITH_ANGLE_B7:</span><span class='ee-v'>3.59343880607044</span></li><li><span class='ee-k'>MEAN_INCIDENCE_ZENITH_ANGLE_B8:</span><span class='ee-v'>3.21909635752539</span></li><li><span class='ee-k'>MEAN_INCIDENCE_ZENITH_ANGLE_B8A:</span><span class='ee-v'>3.67194508283902</span></li><li><span class='ee-k'>MEAN_INCIDENCE_ZENITH_ANGLE_B9:</span><span class='ee-v'>3.84180897152316</span></li><li><span class='ee-k'>MEAN_SOLAR_AZIMUTH_ANGLE:</span><span class='ee-v'>159.655801930837</span></li><li><span class='ee-k'>MEAN_SOLAR_ZENITH_ANGLE:</span><span class='ee-v'>42.4442933217454</span></li><li><span class='ee-k'>MEDIUM_PROBA_CLOUDS_PERCENTAGE:</span><span class='ee-v'>0.024642</span></li><li><span class='ee-k'>MGRS_TILE:</span><span class='ee-v'>12RZN</span></li><li><span class='ee-k'>NODATA_PIXEL_PERCENTAGE:</span><span class='ee-v'>0</span></li><li><span class='ee-k'>NOT_VEGETATED_PERCENTAGE:</span><span class='ee-v'>36.935279</span></li><li><span class='ee-k'>OZONE_SOURCE:</span><span class='ee-v'>AUX_ECMWFT</span></li><li><span class='ee-k'>OZONE_VALUE:</span><span class='ee-v'>279.550283</span></li><li><span class='ee-k'>PROCESSING_BASELINE:</span><span class='ee-v'>05.11</span></li><li><span class='ee-k'>PRODUCT_ID:</span><span class='ee-v'>S2B_MSIL2A_20241103T174419_N0511_R098_T12RZN_20241103T214158</span></li><li><span class='ee-k'>RADIATIVE_TRANSFER_ACCURACY:</span><span class='ee-v'>0</span></li><li><span class='ee-k'>RADIOMETRIC_QUALITY:</span><span class='ee-v'>PASSED</span></li><li><span class='ee-k'>REFLECTANCE_CONVERSION_CORRECTION:</span><span class='ee-v'>1.01513227207566</span></li><li><span class='ee-k'>SATURATED_DEFECTIVE_PIXEL_PERCENTAGE:</span><span class='ee-v'>0</span></li><li><span class='ee-k'>SENSING_ORBIT_DIRECTION:</span><span class='ee-v'>DESCENDING</span></li><li><span class='ee-k'>SENSING_ORBIT_NUMBER:</span><span class='ee-v'>98</span></li><li><span class='ee-k'>SENSOR_QUALITY:</span><span class='ee-v'>PASSED</span></li><li><span class='ee-k'>SNOW_ICE_PERCENTAGE:</span><span class='ee-v'>0</span></li><li><span class='ee-k'>SOLAR_IRRADIANCE_B1:</span><span class='ee-v'>1874.3</span></li><li><span class='ee-k'>SOLAR_IRRADIANCE_B10:</span><span class='ee-v'>365.41</span></li><li><span class='ee-k'>SOLAR_IRRADIANCE_B11:</span><span class='ee-v'>247.08</span></li><li><span class='ee-k'>SOLAR_IRRADIANCE_B12:</span><span class='ee-v'>87.75</span></li><li><span class='ee-k'>SOLAR_IRRADIANCE_B2:</span><span class='ee-v'>1959.75</span></li><li><span class='ee-k'>SOLAR_IRRADIANCE_B3:</span><span class='ee-v'>1824.93</span></li><li><span class='ee-k'>SOLAR_IRRADIANCE_B4:</span><span class='ee-v'>1512.79</span></li><li><span class='ee-k'>SOLAR_IRRADIANCE_B5:</span><span class='ee-v'>1425.78</span></li><li><span class='ee-k'>SOLAR_IRRADIANCE_B6:</span><span class='ee-v'>1291.13</span></li><li><span class='ee-k'>SOLAR_IRRADIANCE_B7:</span><span class='ee-v'>1175.57</span></li><li><span class='ee-k'>SOLAR_IRRADIANCE_B8:</span><span class='ee-v'>1041.28</span></li><li><span class='ee-k'>SOLAR_IRRADIANCE_B8A:</span><span class='ee-v'>953.93</span></li><li><span class='ee-k'>SOLAR_IRRADIANCE_B9:</span><span class='ee-v'>817.58</span></li><li><span class='ee-k'>SPACECRAFT_NAME:</span><span class='ee-v'>Sentinel-2B</span></li><li><span class='ee-k'>THIN_CIRRUS_PERCENTAGE:</span><span class='ee-v'>5.848299</span></li><li><span class='ee-k'>UNCLASSIFIED_PERCENTAGE:</span><span class='ee-v'>1.876822</span></li><li><span class='ee-k'>VEGETATION_PERCENTAGE:</span><span class='ee-v'>39.313719</span></li><li><span class='ee-k'>WATER_PERCENTAGE:</span><span class='ee-v'>15.843478</span></li><li><span class='ee-k'>WATER_VAPOUR_RETRIEVAL_ACCURACY:</span><span class='ee-v'>0</span></li><li><span class='ee-k'>system:asset_size:</span><span class='ee-v'>1635673648</span></li><li><label class='ee-shut'>system:footprint: Polygon (5 vertices)<input type='checkbox' class='ee-toggle'></label><ul><li><span class='ee-k'>type:</span><span class='ee-v'>Polygon</span></li><li><label class='ee-shut'>coordinates: List (1 element)<input type='checkbox' class='ee-toggle'></label><ul><li><label class='ee-shut'>0: List (5 elements)<input type='checkbox' class='ee-toggle'></label><ul><li><label class='ee-shut'>0: [-107.6730266244965, 24.75766085153008]<input type='checkbox' class='ee-toggle'></label><ul><li><span class='ee-k'>0:</span><span class='ee-v'>-107.6730266244965</span></li><li><span class='ee-k'>1:</span><span class='ee-v'>24.75766085153008</span></li></ul></li><li><label class='ee-shut'>1: [-107.63533279710032, 24.760008243786665]<input type='checkbox' class='ee-toggle'></label><ul><li><span class='ee-k'>0:</span><span class='ee-v'>-107.63533279710032</span></li><li><span class='ee-k'>1:</span><span class='ee-v'>24.760008243786665</span></li></ul></li><li><label class='ee-shut'>2: [-107.6440665193485, 24.80059938041618]<input type='checkbox' class='ee-toggle'></label><ul><li><span class='ee-k'>0:</span><span class='ee-v'>-107.6440665193485</span></li><li><span class='ee-k'>1:</span><span class='ee-v'>24.80059938041618</span></li></ul></li><li><label class='ee-shut'>3: [-107.6785631858739, 24.79730942750482]<input type='checkbox' class='ee-toggle'></label><ul><li><span class='ee-k'>0:</span><span class='ee-v'>-107.6785631858739</span></li><li><span class='ee-k'>1:</span><span class='ee-v'>24.79730942750482</span></li></ul></li><li><label class='ee-shut'>4: [-107.6730266244965, 24.75766085153008]<input type='checkbox' class='ee-toggle'></label><ul><li><span class='ee-k'>0:</span><span class='ee-v'>-107.6730266244965</span></li><li><span class='ee-k'>1:</span><span class='ee-v'>24.75766085153008</span></li></ul></li></ul></li></ul></li></ul></li><li><span class='ee-k'>system:index:</span><span class='ee-v'>20241103T174419_20241103T175519_T12RZN</span></li><li><span class='ee-k'>system:time_end:</span><span class='ee-v'>1730656629857</span></li><li><span class='ee-k'>system:time_start:</span><span class='ee-v'>1730656629857</span></li></ul></li></ul></li></ul></div><script>function toggleHeader() {\n",
       "    const parent = this.parentElement;\n",
       "    parent.className = parent.className === \"ee-open\" ? \"ee-shut\" : \"ee-open\";\n",
       "}\n",
       "\n",
       "for (let c of document.getElementsByClassName(\"ee-toggle\")) {\n",
       "    c.onclick = toggleHeader;\n",
       "}</script></div>"
      ]
     },
     "execution_count": 33,
     "metadata": {},
     "output_type": "execute_result"
    }
   ],
   "execution_count": 33
  },
  {
   "metadata": {},
   "cell_type": "markdown",
   "source": [
    "## 3) Exportación \n",
    "La exportación la realizaremos a un bucket de GCP\n",
    " \n",
    "API Reference: https://developers.google.com/earth-engine/apidocs/export-image-tocloudstorage#colab-python\n",
    "\n",
    "**NOTA IMPORTANTE:** La exportación de las imagenes debe de cumplir ciertos requerimientos para que earth engine pueda aceder a ellos, los cuales son: \n",
    "\n",
    "It must be located in the US multi-region or US-CENTRAL1 region."
   ],
   "id": "74ee86c2d295e660"
  },
  {
   "metadata": {},
   "cell_type": "markdown",
   "source": "### 3.1) Exportación de imagenes",
   "id": "2d06604fc17e55ac"
  },
  {
   "metadata": {
    "ExecuteTime": {
     "end_time": "2024-12-27T04:13:38.940651Z",
     "start_time": "2024-12-27T04:13:36.687052Z"
    }
   },
   "cell_type": "code",
   "source": [
    "# 1) Obtención de las llaves del diccionario\n",
    "keys = list(image_dic.keys())\n",
    "images_names =[]\n",
    "\n",
    "# Inicio del ciclo \n",
    "for i in keys: \n",
    "    \n",
    "    # 1) Lectura de los datos \n",
    "    image = image_dic[i]\n",
    "    \n",
    "    task = ee.batch.Export.image.toCloudStorage(\n",
    "    image=image,\n",
    "    #description=f\"Export\", # Este es el nombre del archivo que se exportara , si vas a usar el filenameprexi no es necesario esto \n",
    "    bucket='earth_engine_selene',  # Cambia esto al nombre de tu bucket\n",
    "    region = area_interest,\n",
    "    fileNamePrefix=f\"sentinel2/image_{i}\", # Damos una dirección dentro del bucket y le damos nombre \n",
    "    scale=10,  # Resolución en metros\n",
    "    fileFormat='GeoTIFF')  # Formato de archivo\n",
    "    \n",
    "    task.start()  # Inicia la tarea de exportación\n",
    "    print(\"Se exportó la imagen a Cloud Storage:\", i)    \n",
    "    \n",
    "    # Image name\n",
    "    name = f\"image_{i}\"\n",
    "    images_names.append(name)"
   ],
   "id": "c5f976677fb72d1c",
   "outputs": [
    {
     "data": {
      "text/plain": [
       "<IPython.core.display.HTML object>"
      ],
      "text/html": [
       "\n",
       "            <style>\n",
       "                .geemap-dark {\n",
       "                    --jp-widgets-color: white;\n",
       "                    --jp-widgets-label-color: white;\n",
       "                    --jp-ui-font-color1: white;\n",
       "                    --jp-layout-color2: #454545;\n",
       "                    background-color: #383838;\n",
       "                }\n",
       "\n",
       "                .geemap-dark .jupyter-button {\n",
       "                    --jp-layout-color3: #383838;\n",
       "                }\n",
       "\n",
       "                .geemap-colab {\n",
       "                    background-color: var(--colab-primary-surface-color, white);\n",
       "                }\n",
       "\n",
       "                .geemap-colab .jupyter-button {\n",
       "                    --jp-layout-color3: var(--colab-primary-surface-color, white);\n",
       "                }\n",
       "            </style>\n",
       "            "
      ]
     },
     "metadata": {},
     "output_type": "display_data"
    },
    {
     "name": "stdout",
     "output_type": "stream",
     "text": [
      "Se exportó la imagen: 2023-1\n",
      "Se exportó la imagen: 2023-3\n",
      "Se exportó la imagen: 2023-5\n",
      "Se exportó la imagen: 2023-7\n",
      "Se exportó la imagen: 2023-9\n",
      "Se exportó la imagen: 2023-10\n",
      "Se exportó la imagen: 2023-11\n"
     ]
    }
   ],
   "execution_count": 12
  },
  {
   "metadata": {},
   "cell_type": "markdown",
   "source": [
    "### 3.2) Exportación de mapa html \n",
    "Este mapa contiene las capas agregadas, en este caso solo el área de interés "
   ],
   "id": "2a226d43fb14ee7b"
  },
  {
   "metadata": {
    "ExecuteTime": {
     "end_time": "2024-12-17T02:47:23.651667Z",
     "start_time": "2024-12-17T02:47:23.620773Z"
    }
   },
   "cell_type": "code",
   "source": [
    "# Visualizacion del mapa en un broswer \n",
    "html_file = direction + \"/data/02_intermediate/Map.html\" # String de la direccion de exportacion\n",
    "Map.to_html(filename=html_file, title=\"My Map\", width=\"100%\", height=\"880px\") # Exporacion a una html \n",
    "# NOTA : En estos momentos solo agrege el area de interes, no estan las imagenes TIF "
   ],
   "id": "ef1f5c791afa3107",
   "outputs": [
    {
     "data": {
      "text/plain": [
       "<IPython.core.display.HTML object>"
      ],
      "text/html": [
       "\n",
       "            <style>\n",
       "                .geemap-dark {\n",
       "                    --jp-widgets-color: white;\n",
       "                    --jp-widgets-label-color: white;\n",
       "                    --jp-ui-font-color1: white;\n",
       "                    --jp-layout-color2: #454545;\n",
       "                    background-color: #383838;\n",
       "                }\n",
       "\n",
       "                .geemap-dark .jupyter-button {\n",
       "                    --jp-layout-color3: #383838;\n",
       "                }\n",
       "\n",
       "                .geemap-colab {\n",
       "                    background-color: var(--colab-primary-surface-color, white);\n",
       "                }\n",
       "\n",
       "                .geemap-colab .jupyter-button {\n",
       "                    --jp-layout-color3: var(--colab-primary-surface-color, white);\n",
       "                }\n",
       "            </style>\n",
       "            "
      ]
     },
     "metadata": {},
     "output_type": "display_data"
    }
   ],
   "execution_count": 34
  },
  {
   "metadata": {},
   "cell_type": "markdown",
   "source": [
    "### 3.3) Exportación del nombre de las imagenes \n",
    "Esto lo utilizaremos pasa saber exactamente que es lo que se exporto al bucket "
   ],
   "id": "153e48cc07688b7f"
  },
  {
   "metadata": {
    "ExecuteTime": {
     "end_time": "2024-12-18T00:34:44.633070Z",
     "start_time": "2024-12-18T00:34:44.618980Z"
    }
   },
   "cell_type": "code",
   "source": [
    "# 1) Creación del pandas DF \n",
    "names = pd.DataFrame(data=images_names, columns=[\"Images names\"])\n",
    "\n",
    "# 2) Exportación a csv \n",
    "names.to_csv(path_or_buf=direction + \"/data/02_intermediate/images_names.csv\", index=False)"
   ],
   "id": "2ffe3dd1f4f53222",
   "outputs": [
    {
     "data": {
      "text/plain": [
       "<IPython.core.display.HTML object>"
      ],
      "text/html": [
       "\n",
       "            <style>\n",
       "                .geemap-dark {\n",
       "                    --jp-widgets-color: white;\n",
       "                    --jp-widgets-label-color: white;\n",
       "                    --jp-ui-font-color1: white;\n",
       "                    --jp-layout-color2: #454545;\n",
       "                    background-color: #383838;\n",
       "                }\n",
       "\n",
       "                .geemap-dark .jupyter-button {\n",
       "                    --jp-layout-color3: #383838;\n",
       "                }\n",
       "\n",
       "                .geemap-colab {\n",
       "                    background-color: var(--colab-primary-surface-color, white);\n",
       "                }\n",
       "\n",
       "                .geemap-colab .jupyter-button {\n",
       "                    --jp-layout-color3: var(--colab-primary-surface-color, white);\n",
       "                }\n",
       "            </style>\n",
       "            "
      ]
     },
     "metadata": {},
     "output_type": "display_data"
    }
   ],
   "execution_count": 20
  }
 ],
 "metadata": {
  "kernelspec": {
   "display_name": "Python 3",
   "language": "python",
   "name": "python3"
  },
  "language_info": {
   "codemirror_mode": {
    "name": "ipython",
    "version": 2
   },
   "file_extension": ".py",
   "mimetype": "text/x-python",
   "name": "python",
   "nbconvert_exporter": "python",
   "pygments_lexer": "ipython2",
   "version": "2.7.6"
  }
 },
 "nbformat": 4,
 "nbformat_minor": 5
}
