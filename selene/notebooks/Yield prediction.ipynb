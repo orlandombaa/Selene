{
 "cells": [
  {
   "metadata": {},
   "cell_type": "markdown",
   "source": [
    "# Yield prediction\n",
    "El yield prediction hace referencia a la predicción de cosecha de cultivos. De acuerdo con [Liangliang Zhang](https://www.sciencedirect.com/science/article/abs/pii/S016819232100352X) es posible predecir la producción de culitivos con una alta presición con el uso de los siguientes indicadores: \n",
    "\n",
    "- Green chlorophyll vegetation index (GCVI)\n",
    "- Land Surface Temperature (LST)\n",
    "- Cumulative precipitation (Pgs)\n",
    "- Standardized precipitation index (SPI)\n",
    "\n",
    "Yo agregaría las siguientes:\n",
    "- Algún indice que mida nutrientes en el sulo \n",
    "- Humedad en las plantas\n",
    "- NVDI\n",
    "\n",
    "**IMPORTANTE:** Buena parte de la referencia que se puede utilizar para crear esto se necuentra en el capitulo 8 llamnado **Interpreting an Image: Regression**.\n",
    "\n"
   ],
   "id": "fa786295bcc240cc"
  },
  {
   "metadata": {
    "ExecuteTime": {
     "end_time": "2024-12-28T03:16:10.389720Z",
     "start_time": "2024-12-28T03:16:10.385704Z"
    }
   },
   "cell_type": "code",
   "source": [
    "a = 2 \n",
    "a "
   ],
   "id": "f15e24620aec3a50",
   "outputs": [
    {
     "data": {
      "text/plain": [
       "2"
      ]
     },
     "execution_count": 1,
     "metadata": {},
     "output_type": "execute_result"
    }
   ],
   "execution_count": 1
  },
  {
   "metadata": {},
   "cell_type": "code",
   "outputs": [],
   "execution_count": null,
   "source": "",
   "id": "3f0c5d0a6dbac914"
  },
  {
   "metadata": {},
   "cell_type": "code",
   "outputs": [],
   "execution_count": null,
   "source": "",
   "id": "abe67dfb32b4188a"
  }
 ],
 "metadata": {
  "kernelspec": {
   "display_name": "Python 3",
   "language": "python",
   "name": "python3"
  },
  "language_info": {
   "codemirror_mode": {
    "name": "ipython",
    "version": 2
   },
   "file_extension": ".py",
   "mimetype": "text/x-python",
   "name": "python",
   "nbconvert_exporter": "python",
   "pygments_lexer": "ipython2",
   "version": "2.7.6"
  }
 },
 "nbformat": 4,
 "nbformat_minor": 5
}
