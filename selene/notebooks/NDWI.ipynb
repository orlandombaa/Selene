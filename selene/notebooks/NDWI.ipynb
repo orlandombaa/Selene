{
 "cells": [
  {
   "metadata": {},
   "cell_type": "markdown",
   "source": [
    "# Normalized Difference Water Index (NDWI) \n",
    "\n",
    "Articulo de referencia\n",
    " \n",
    "https://www.sciencedirect.com/science/article/abs/pii/S0034425796000673\n",
    "\n",
    "El Índice de Agua de Diferencia Normalizada (NDWI) fue desarrollado por Gao (1996) como un índice del contenido de agua de la vegetación. El índice es sensible a los cambios en el contenido líquido de los doseles vegetales. Esto significa que el índice se puede utilizar, por ejemplo, para detectar vegetación que experimenta condiciones de sequía o diferenciar los niveles de riego de los cultivos. En áreas secas, los cultivos que se irrigan se pueden diferenciar de la vegetación natural. También se denomina a veces Índice de Humedad de Diferencia Normalizada (NDMI)."
   ],
   "id": "b2c426f685fd3d38"
  },
  {
   "metadata": {},
   "cell_type": "markdown",
   "source": "**IMPORTACION DE LIBRERIAS**",
   "id": "fac83457ca36c4fe"
  },
  {
   "metadata": {
    "ExecuteTime": {
     "end_time": "2024-12-27T03:57:49.274925Z",
     "start_time": "2024-12-27T03:57:46.840362Z"
    }
   },
   "cell_type": "code",
   "source": [
    "import os \n",
    "import ee \n",
    "import geemap"
   ],
   "id": "709bfe927dde815a",
   "outputs": [],
   "execution_count": 3
  },
  {
   "metadata": {},
   "cell_type": "markdown",
   "source": "**AUTENTIFICACION**",
   "id": "d644aa866aee1ef2"
  },
  {
   "metadata": {},
   "cell_type": "code",
   "outputs": [],
   "execution_count": null,
   "source": "",
   "id": "71df7f5da04b32ed"
  }
 ],
 "metadata": {
  "kernelspec": {
   "display_name": "Python 3",
   "language": "python",
   "name": "python3"
  },
  "language_info": {
   "codemirror_mode": {
    "name": "ipython",
    "version": 2
   },
   "file_extension": ".py",
   "mimetype": "text/x-python",
   "name": "python",
   "nbconvert_exporter": "python",
   "pygments_lexer": "ipython2",
   "version": "2.7.6"
  }
 },
 "nbformat": 4,
 "nbformat_minor": 5
}
