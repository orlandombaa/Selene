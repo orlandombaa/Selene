{
 "cells": [
  {
   "metadata": {},
   "cell_type": "markdown",
   "source": [
    "# Normalized Difference Water Index (NDWI) \n",
    "\n",
    "Articulo de referencia\n",
    " \n",
    "https://www.sciencedirect.com/science/article/abs/pii/S0034425796000673\n",
    "\n",
    "El Índice de Agua de Diferencia Normalizada (NDWI) fue desarrollado por Gao (1996) como un índice del contenido de agua de la vegetación. El índice es sensible a los cambios en el contenido líquido de los doseles vegetales. Esto significa que el índice se puede utilizar, por ejemplo, para detectar vegetación que experimenta condiciones de sequía o diferenciar los niveles de riego de los cultivos. En áreas secas, los cultivos que se irrigan se pueden diferenciar de la vegetación natural. También se denomina a veces Índice de Humedad de Diferencia Normalizada (NDMI).\n",
    "\n",
    "\n",
    "\n",
    "**How it Works:**\n",
    " \n",
    "**Healthy Vegetation:**\n",
    "- High NIR reflectance (due to leaf structure).\n",
    "- Low SWIR reflectance (water strongly absorbs SWIR).\n",
    "- Result: Positive NDWI values indicate high water content.\n",
    " \n",
    "**Stressed or Dry Vegetation:**\n",
    "\n",
    "- NIR reflectance decreases slightly, but SWIR reflectance increases significantly (less water absorption).\n",
    "- Result: NDWI values decrease, approaching zero or negative, indicating low water content.\n",
    "\n",
    "\n",
    "**Interpretation:**\n",
    "- High NDWI (Near 1) – Vegetation with high water content (healthy).\n",
    "- Moderate NDWI (0 to 0.5) – Vegetation with moderate water content.\n",
    "- Low NDWI (Negative values) – Stressed or dry vegetation\n",
    "\n",
    "\n",
    "**Applications:**\n",
    "- Agriculture – Monitor crop water stress and optimize irrigation.\n",
    "- Forestry – Assess drought conditions in forests and detect forest fires.\n",
    "- Climate Studies – Track large-scale vegetation response to climate change.\n",
    "- Disaster Management – Identify areas of vegetation at risk of drought or fire.\n",
    "\n",
    "La formula del NDWI es la siguiente: \n",
    "\n",
    "<div style=\"text-align: center;\">\n",
    "    <img src=\"Images/NDWI formula.png\" alt=\"Descripción de la imagen\" width=\"500\">\n",
    "</div>\n",
    " \n",
    "\n",
    "**BANDAS NECESARIAS:** \n",
    " \n",
    "En este caso utilizaremos imagenes de Sentinel 2. Por ende, hay que encontrar cuales son las bandas en sentinel 2 que corresponden a estas longitudes de onda. \n",
    "\n",
    "En el caso de Sentinel 2 la banda NIR (Near Infrared) es la banda **8** con una longitud de onda de Central Wavelength = 842nm.  Por otra parte, la banda de SWIR (short-wave infrared) es mejor el uso de la banda 11 que tiene un centro de longitud de onda  = 1610nm. \n",
    "\n",
    "**NOTA:** El rnago de SWIR adecuados aparentmenete son entre 1,400 a 1,900 nm. \n",
    "\n"
   ],
   "id": "b2c426f685fd3d38"
  },
  {
   "metadata": {},
   "cell_type": "markdown",
   "source": "**IMPORTACION DE LIBRERIAS**",
   "id": "fac83457ca36c4fe"
  },
  {
   "metadata": {
    "ExecuteTime": {
     "end_time": "2025-01-31T20:18:47.735424Z",
     "start_time": "2025-01-31T20:18:44.822945Z"
    }
   },
   "cell_type": "code",
   "source": [
    "import os \n",
    "import ee \n",
    "import geemap\n",
    "import pandas as pd \n",
    "import requests"
   ],
   "id": "709bfe927dde815a",
   "outputs": [],
   "execution_count": 1
  },
  {
   "metadata": {},
   "cell_type": "markdown",
   "source": "**AUTENTIFICACION**",
   "id": "d644aa866aee1ef2"
  },
  {
   "metadata": {
    "ExecuteTime": {
     "end_time": "2025-01-31T20:18:52.556707Z",
     "start_time": "2025-01-31T20:18:51.173025Z"
    }
   },
   "cell_type": "code",
   "source": [
    "# 1) Obtención de la dirección de trabajo \n",
    "direction = os.getcwd()\n",
    "\n",
    "# Remove the last part of the path\n",
    "direction = os.path.dirname(direction)\n",
    "\n",
    "# Dirección de la llave \n",
    "service_account = direction + '/conf/local/gcp-for-data-science-397913-4fd843feede1.json'\n",
    "\n",
    "# Autentificación \n",
    "credentials = ee.ServiceAccountCredentials(email=None, key_file=service_account)\n",
    "ee.Initialize(credentials)"
   ],
   "id": "627d4afab63b1eda",
   "outputs": [
    {
     "data": {
      "text/plain": [
       "<IPython.core.display.HTML object>"
      ],
      "text/html": [
       "\n",
       "            <style>\n",
       "                .geemap-dark {\n",
       "                    --jp-widgets-color: white;\n",
       "                    --jp-widgets-label-color: white;\n",
       "                    --jp-ui-font-color1: white;\n",
       "                    --jp-layout-color2: #454545;\n",
       "                    background-color: #383838;\n",
       "                }\n",
       "\n",
       "                .geemap-dark .jupyter-button {\n",
       "                    --jp-layout-color3: #383838;\n",
       "                }\n",
       "\n",
       "                .geemap-colab {\n",
       "                    background-color: var(--colab-primary-surface-color, white);\n",
       "                }\n",
       "\n",
       "                .geemap-colab .jupyter-button {\n",
       "                    --jp-layout-color3: var(--colab-primary-surface-color, white);\n",
       "                }\n",
       "            </style>\n",
       "            "
      ]
     },
     "metadata": {},
     "output_type": "display_data"
    }
   ],
   "execution_count": 2
  },
  {
   "metadata": {},
   "cell_type": "markdown",
   "source": [
    "## 1) Lectura y procesamiento de imagenes  \n",
    "Las imagenes satelitales se almacenaron en un bucket de GCP, por lo que serán leídas de ahi mismo.\n",
    "\n",
    "API Reference:\n",
    " \n",
    "  https://developers.google.com/earth-engine/apidocs/ee-image-loadgeotiff"
   ],
   "id": "259efec5bec97974"
  },
  {
   "metadata": {},
   "cell_type": "markdown",
   "source": "### 1.1) Cálculo y exportación de imagenes con NDWI",
   "id": "2c4c7537015aa65a"
  },
  {
   "metadata": {
    "ExecuteTime": {
     "end_time": "2025-01-31T20:29:56.194604Z",
     "start_time": "2025-01-31T20:29:27.764618Z"
    }
   },
   "cell_type": "code",
   "source": [
    "# 1) Lectura del nombre de las imagenes en el bucket \n",
    "images_names = pd.read_csv(filepath_or_buffer=direction + \"/data/02_intermediate/sentinel_images_names.csv\")\n",
    "\n",
    "# Diccionario vacio, aqui almacenaremos los resultados \n",
    "NDWI ={}\n",
    "\n",
    "# Creación del mapa base \n",
    "Map = geemap.Map()\n",
    "\n",
    "# Path to the image in the GCS bucket\n",
    "image_center = images_names[\"Images names\"][0]\n",
    "image_center   = f'gs://earth_engine_selene/sentinel2/Row_Data/{image_center}.tif'\n",
    "\n",
    "# Load the image from the GCS bucket\n",
    "image = ee.Image.loadGeoTIFF(uri=image_center)\n",
    "\n",
    "# Central el mapa \n",
    "Map.centerObject(ee_object=image, zoom= 9)\n",
    "\n",
    "# 2) Inicio del ciclo \n",
    "for i in images_names[\"Images names\"]:\n",
    "\n",
    "    # 1) Descarga de imagenes\n",
    "    # Path to the image in the GCS bucket\n",
    "    gcs_path = f'gs://earth_engine_selene/sentinel2/Row_Data/{i}.tif' # Crear más bien un GCP path base\n",
    "\n",
    "    # Load the image from the GCS bucket\n",
    "    image = ee.Image.loadGeoTIFF(gcs_path)\n",
    "\n",
    "    # 2) Calculate NDVI (if bands are organized)\n",
    "    image = image.normalizedDifference(bandNames=['B8', 'B11']).rename('NDWI')  # Renombre de la banda resultante (capa)\n",
    "    print(f\"NDWI Calculated for {i}\")\n",
    "    \n",
    "    # Define visualization parameters\n",
    "    vis_params = {\n",
    "        'min': -0.5,\n",
    "        'max': 1,\n",
    "        'palette': ['brown', 'yellow', 'green']\n",
    "    }\n",
    "\n",
    "    # 4) Descarga de la imagen a PNG\n",
    "    # Obtener el url de la imagen\n",
    "    url = image.getThumbURL(params=vis_params)\n",
    "    print(f\"Thumbnail URL for {i}: {url}\")\n",
    "\n",
    "    #Download the image and save it locally\n",
    "    output_file = direction + f\"/data/07_model_output/Sentinel/NDWI/Row_Results/NDWI_{i}.png\"\n",
    "    \n",
    "    response = requests.get(url)\n",
    "    if response.status_code == 200:\n",
    "        with open(output_file, 'wb') as f:\n",
    "            f.write(response.content)\n",
    "        print(f\"Image successfully downloaded as '{output_file}'\")\n",
    "    else:\n",
    "        print(f\"Error: Unable to download the image. HTTP status code {response.status_code}\")\n",
    "        \n",
    "    # 5) Almacenamiento de resultados en un diccionario \n",
    "    NDWI[i] = image\n",
    "\n",
    "    # 6) Exportación de las imágen procesado geotiff al bucket de GCP, está imagen ya cotiene el cálculo de NDWI\n",
    "    # Indicamos la tarea de exportacion\n",
    "    task = ee.batch.Export.image.toCloudStorage(\n",
    "    image=image,\n",
    "    #description=f\"Export\", # Este es el nombre del archivo que se exportara , si vas a usar el filenameprexi no es necesario esto\n",
    "    bucket='earth_engine_selene',  # Cambia esto al nombre de tu bucket\n",
    "    fileNamePrefix=f\"sentinel2/NDWI/NDWI_{i}\", # Damos una dirección dentro del bucket y le damos nombre\n",
    "    scale=10,  # Resolución en metros\n",
    "    fileFormat='GeoTIFF')  # Formato de archivo\n",
    "\n",
    "    # Inicio de la exportación\n",
    "    task.start()  # Inicia la tarea de exportación\n",
    "    print(\"Se exportó la imagen a Cloud Storage:\", i)\n",
    "\n",
    "    # 7) Añadimos la imagen al mapa html\n",
    "    Map.addLayer(ee_object=image,  vis_params= vis_params, name=f'NDWI {i}', shown=False)\n",
    "    \n",
    "# Exportación del HTML \n",
    "html_file = direction + \"/data/07_model_output/Sentinel/NDWI/Map_NDWI.html\"\n",
    "Map.to_html(filename=html_file, title=\"My Map\", width=\"100%\", height=\"880px\") # Exporacion a una html"
   ],
   "id": "af2fead55bb6fcc",
   "outputs": [
    {
     "data": {
      "text/plain": [
       "<IPython.core.display.HTML object>"
      ],
      "text/html": [
       "\n",
       "            <style>\n",
       "                .geemap-dark {\n",
       "                    --jp-widgets-color: white;\n",
       "                    --jp-widgets-label-color: white;\n",
       "                    --jp-ui-font-color1: white;\n",
       "                    --jp-layout-color2: #454545;\n",
       "                    background-color: #383838;\n",
       "                }\n",
       "\n",
       "                .geemap-dark .jupyter-button {\n",
       "                    --jp-layout-color3: #383838;\n",
       "                }\n",
       "\n",
       "                .geemap-colab {\n",
       "                    background-color: var(--colab-primary-surface-color, white);\n",
       "                }\n",
       "\n",
       "                .geemap-colab .jupyter-button {\n",
       "                    --jp-layout-color3: var(--colab-primary-surface-color, white);\n",
       "                }\n",
       "            </style>\n",
       "            "
      ]
     },
     "metadata": {},
     "output_type": "display_data"
    },
    {
     "name": "stdout",
     "output_type": "stream",
     "text": [
      "NDWI Calculated for Image_2024-10-04 00:00:00\n",
      "Thumbnail URL for Image_2024-10-04 00:00:00: https://earthengine.googleapis.com/v1/projects/earthengine-legacy/thumbnails/b17df706def3c61b29ca0983bc6dd26f-cba280bf441f23066ea6266e0963baf3:getPixels\n",
      "Image successfully downloaded as '/Users/orlandoandrade/Documents/Negocios/Satelites/selene/data/07_model_output/Sentinel/NDWI/Row_Results/NDWI_Image_2024-10-04 00:00:00.png'\n",
      "Se exportó la imagen a Cloud Storage: Image_2024-10-04 00:00:00\n",
      "NDWI Calculated for Image_2024-10-14 00:00:00\n",
      "Thumbnail URL for Image_2024-10-14 00:00:00: https://earthengine.googleapis.com/v1/projects/earthengine-legacy/thumbnails/36e06b642ef32f28657ce65bf1013c6d-19ce974f124fe86e30bbc7acf7090541:getPixels\n",
      "Image successfully downloaded as '/Users/orlandoandrade/Documents/Negocios/Satelites/selene/data/07_model_output/Sentinel/NDWI/Row_Results/NDWI_Image_2024-10-14 00:00:00.png'\n",
      "Se exportó la imagen a Cloud Storage: Image_2024-10-14 00:00:00\n",
      "NDWI Calculated for Image_2024-10-19 00:00:00\n",
      "Thumbnail URL for Image_2024-10-19 00:00:00: https://earthengine.googleapis.com/v1/projects/earthengine-legacy/thumbnails/71557b04962669d20ea98f72ccf8c983-d9a06808f64801d9d220f1e7bd0748e1:getPixels\n",
      "Image successfully downloaded as '/Users/orlandoandrade/Documents/Negocios/Satelites/selene/data/07_model_output/Sentinel/NDWI/Row_Results/NDWI_Image_2024-10-19 00:00:00.png'\n",
      "Se exportó la imagen a Cloud Storage: Image_2024-10-19 00:00:00\n",
      "NDWI Calculated for Image_2024-10-24 00:00:00\n",
      "Thumbnail URL for Image_2024-10-24 00:00:00: https://earthengine.googleapis.com/v1/projects/earthengine-legacy/thumbnails/80d111f14d4e3b3efec541443a8df233-77be732a63df9b55a8f9d381c65b7592:getPixels\n",
      "Image successfully downloaded as '/Users/orlandoandrade/Documents/Negocios/Satelites/selene/data/07_model_output/Sentinel/NDWI/Row_Results/NDWI_Image_2024-10-24 00:00:00.png'\n",
      "Se exportó la imagen a Cloud Storage: Image_2024-10-24 00:00:00\n",
      "NDWI Calculated for Image_2024-10-29 00:00:00\n",
      "Thumbnail URL for Image_2024-10-29 00:00:00: https://earthengine.googleapis.com/v1/projects/earthengine-legacy/thumbnails/161be46d40117910f6a95f61f436c023-07eec77b0437a613ea404e3abbd12a98:getPixels\n",
      "Image successfully downloaded as '/Users/orlandoandrade/Documents/Negocios/Satelites/selene/data/07_model_output/Sentinel/NDWI/Row_Results/NDWI_Image_2024-10-29 00:00:00.png'\n",
      "Se exportó la imagen a Cloud Storage: Image_2024-10-29 00:00:00\n",
      "NDWI Calculated for Image_2024-11-03 00:00:00\n",
      "Thumbnail URL for Image_2024-11-03 00:00:00: https://earthengine.googleapis.com/v1/projects/earthengine-legacy/thumbnails/2f45f4f72d6fc527ad0dfe9fb8c1064f-3e7b5ab283ab29bbbea006703c23135b:getPixels\n",
      "Image successfully downloaded as '/Users/orlandoandrade/Documents/Negocios/Satelites/selene/data/07_model_output/Sentinel/NDWI/Row_Results/NDWI_Image_2024-11-03 00:00:00.png'\n",
      "Se exportó la imagen a Cloud Storage: Image_2024-11-03 00:00:00\n",
      "NDWI Calculated for Image_2024-11-08 00:00:00\n",
      "Thumbnail URL for Image_2024-11-08 00:00:00: https://earthengine.googleapis.com/v1/projects/earthengine-legacy/thumbnails/9a355700a46191710e84c223991b3ea5-142234e0c34d26a5f709185ee023911c:getPixels\n",
      "Image successfully downloaded as '/Users/orlandoandrade/Documents/Negocios/Satelites/selene/data/07_model_output/Sentinel/NDWI/Row_Results/NDWI_Image_2024-11-08 00:00:00.png'\n",
      "Se exportó la imagen a Cloud Storage: Image_2024-11-08 00:00:00\n",
      "NDWI Calculated for Image_2024-11-13 00:00:00\n",
      "Thumbnail URL for Image_2024-11-13 00:00:00: https://earthengine.googleapis.com/v1/projects/earthengine-legacy/thumbnails/3dd855dbb199686cb296b786aea84658-a0ba13d2ef1af0e532b73db0a36055ef:getPixels\n",
      "Image successfully downloaded as '/Users/orlandoandrade/Documents/Negocios/Satelites/selene/data/07_model_output/Sentinel/NDWI/Row_Results/NDWI_Image_2024-11-13 00:00:00.png'\n",
      "Se exportó la imagen a Cloud Storage: Image_2024-11-13 00:00:00\n",
      "NDWI Calculated for Image_2024-11-18 00:00:00\n",
      "Thumbnail URL for Image_2024-11-18 00:00:00: https://earthengine.googleapis.com/v1/projects/earthengine-legacy/thumbnails/c948c12f040d0138ad265eb1809e820c-05ce085cfc5ff2cabaa250e76dd9c7c4:getPixels\n",
      "Image successfully downloaded as '/Users/orlandoandrade/Documents/Negocios/Satelites/selene/data/07_model_output/Sentinel/NDWI/Row_Results/NDWI_Image_2024-11-18 00:00:00.png'\n",
      "Se exportó la imagen a Cloud Storage: Image_2024-11-18 00:00:00\n",
      "NDWI Calculated for Image_2024-11-23 00:00:00\n",
      "Thumbnail URL for Image_2024-11-23 00:00:00: https://earthengine.googleapis.com/v1/projects/earthengine-legacy/thumbnails/ef97fb45aa9a70fa5c618d7dd5bb454b-8f348030e055299bcacd358a80fc34ad:getPixels\n",
      "Image successfully downloaded as '/Users/orlandoandrade/Documents/Negocios/Satelites/selene/data/07_model_output/Sentinel/NDWI/Row_Results/NDWI_Image_2024-11-23 00:00:00.png'\n",
      "Se exportó la imagen a Cloud Storage: Image_2024-11-23 00:00:00\n",
      "NDWI Calculated for Image_2024-11-28 00:00:00\n",
      "Thumbnail URL for Image_2024-11-28 00:00:00: https://earthengine.googleapis.com/v1/projects/earthengine-legacy/thumbnails/6235bf330b4114771b89fb8a07aca017-a5a05663b3a6870e1d482ec314412080:getPixels\n",
      "Image successfully downloaded as '/Users/orlandoandrade/Documents/Negocios/Satelites/selene/data/07_model_output/Sentinel/NDWI/Row_Results/NDWI_Image_2024-11-28 00:00:00.png'\n",
      "Se exportó la imagen a Cloud Storage: Image_2024-11-28 00:00:00\n",
      "NDWI Calculated for Image_2024-12-03 00:00:00\n",
      "Thumbnail URL for Image_2024-12-03 00:00:00: https://earthengine.googleapis.com/v1/projects/earthengine-legacy/thumbnails/00b1712a64ca0fb069a94935c0b38dc6-ded94c4c58000669b737efa34da34ae9:getPixels\n",
      "Image successfully downloaded as '/Users/orlandoandrade/Documents/Negocios/Satelites/selene/data/07_model_output/Sentinel/NDWI/Row_Results/NDWI_Image_2024-12-03 00:00:00.png'\n",
      "Se exportó la imagen a Cloud Storage: Image_2024-12-03 00:00:00\n",
      "NDWI Calculated for Image_2024-12-18 00:00:00\n",
      "Thumbnail URL for Image_2024-12-18 00:00:00: https://earthengine.googleapis.com/v1/projects/earthengine-legacy/thumbnails/0885d42b67b8192f2e80882c26e8c69b-5d6161cd201a01ff2871d9a6dd4d46ad:getPixels\n",
      "Image successfully downloaded as '/Users/orlandoandrade/Documents/Negocios/Satelites/selene/data/07_model_output/Sentinel/NDWI/Row_Results/NDWI_Image_2024-12-18 00:00:00.png'\n",
      "Se exportó la imagen a Cloud Storage: Image_2024-12-18 00:00:00\n",
      "NDWI Calculated for Image_2024-12-23 00:00:00\n",
      "Thumbnail URL for Image_2024-12-23 00:00:00: https://earthengine.googleapis.com/v1/projects/earthengine-legacy/thumbnails/ca636fb437cb8fcbcea0a1bbe2385708-4b3752f113d1641d3a1dd0ca48b60b35:getPixels\n",
      "Image successfully downloaded as '/Users/orlandoandrade/Documents/Negocios/Satelites/selene/data/07_model_output/Sentinel/NDWI/Row_Results/NDWI_Image_2024-12-23 00:00:00.png'\n",
      "Se exportó la imagen a Cloud Storage: Image_2024-12-23 00:00:00\n",
      "NDWI Calculated for Image_2024-12-28 00:00:00\n",
      "Thumbnail URL for Image_2024-12-28 00:00:00: https://earthengine.googleapis.com/v1/projects/earthengine-legacy/thumbnails/3ac3e8db7b99ab2299a1582d08783885-3b220425d458590eeb70229f9dc3d260:getPixels\n",
      "Image successfully downloaded as '/Users/orlandoandrade/Documents/Negocios/Satelites/selene/data/07_model_output/Sentinel/NDWI/Row_Results/NDWI_Image_2024-12-28 00:00:00.png'\n",
      "Se exportó la imagen a Cloud Storage: Image_2024-12-28 00:00:00\n",
      "NDWI Calculated for Image_2025-01-02 00:00:00\n",
      "Thumbnail URL for Image_2025-01-02 00:00:00: https://earthengine.googleapis.com/v1/projects/earthengine-legacy/thumbnails/c7cb8112e742c429668e371792055616-40ea030b979f0f64ec592a4c8f5caf37:getPixels\n",
      "Image successfully downloaded as '/Users/orlandoandrade/Documents/Negocios/Satelites/selene/data/07_model_output/Sentinel/NDWI/Row_Results/NDWI_Image_2025-01-02 00:00:00.png'\n",
      "Se exportó la imagen a Cloud Storage: Image_2025-01-02 00:00:00\n"
     ]
    }
   ],
   "execution_count": 12
  },
  {
   "metadata": {},
   "cell_type": "markdown",
   "source": [
    "### 2) Post procesamiento\n",
    "En esta sección  lo que se busca es  tomas los geotiff generados del NDVI y generar un mapa a partir de estos. El mapa contendrá los siguientes elementos adicionales:\n",
    "\n",
    "- Titulo\n",
    "- Fecha de la imagen\n",
    "- Leyenda con el valor de los colores\n",
    "- Escala de la imagen\n",
    "\n",
    "Para esto se utilizarán 2 librerías adicionales las cuales son: **Rasterio y matplolib**.\n",
    "\n",
    "[Rasterio tiene un modulo de visualización (plot)](https://rasterio.readthedocs.io/en/stable/topics/plotting.html) que se convina con matplotlib para la visualización de archivos tipo raster\n",
    "\n",
    "**IMPORTANTE:** Para que rasterio pueda hacer la lectura directamente desde el bucket es necesario que haga la autentificación con mi service account en variasbles del sistema.\n"
   ],
   "id": "fc3be46047eb6647"
  },
  {
   "metadata": {
    "ExecuteTime": {
     "end_time": "2025-01-31T20:30:31.646209Z",
     "start_time": "2025-01-31T20:30:31.636126Z"
    }
   },
   "cell_type": "code",
   "source": [
    "# Autentificacion , variables del sistema\n",
    "import os\n",
    "os.environ['GOOGLE_APPLICATION_CREDENTIALS'] =  service_account"
   ],
   "id": "995da96eb377b3d2",
   "outputs": [
    {
     "data": {
      "text/plain": [
       "<IPython.core.display.HTML object>"
      ],
      "text/html": [
       "\n",
       "            <style>\n",
       "                .geemap-dark {\n",
       "                    --jp-widgets-color: white;\n",
       "                    --jp-widgets-label-color: white;\n",
       "                    --jp-ui-font-color1: white;\n",
       "                    --jp-layout-color2: #454545;\n",
       "                    background-color: #383838;\n",
       "                }\n",
       "\n",
       "                .geemap-dark .jupyter-button {\n",
       "                    --jp-layout-color3: #383838;\n",
       "                }\n",
       "\n",
       "                .geemap-colab {\n",
       "                    background-color: var(--colab-primary-surface-color, white);\n",
       "                }\n",
       "\n",
       "                .geemap-colab .jupyter-button {\n",
       "                    --jp-layout-color3: var(--colab-primary-surface-color, white);\n",
       "                }\n",
       "            </style>\n",
       "            "
      ]
     },
     "metadata": {},
     "output_type": "display_data"
    }
   ],
   "execution_count": 13
  },
  {
   "metadata": {
    "ExecuteTime": {
     "end_time": "2025-01-31T22:10:03.419233Z",
     "start_time": "2025-01-31T22:10:01.824525Z"
    }
   },
   "cell_type": "code",
   "source": [
    "import rasterio\n",
    "from rasterio.plot import show\n",
    "import matplotlib.pyplot as plt\n",
    "from matplotlib.colors import ListedColormap, Normalize\n",
    "from matplotlib_scalebar.scalebar import ScaleBar  # <-- for the scale bar\n",
    "\n",
    "# Definir la paleta de colores personalizada\n",
    "palette = [\n",
    "    \"#FF0000\", \"#FF1700\", \"#FF2E00\", \"#FF4500\", \"#FF6500\", \"#FF8500\",\n",
    "    \"#FFA500\", \"#FAC008\", \"#F6D80F\", \"#F1F117\", \"#D1ED19\", \"#B1E91B\",\n",
    "    \"#91E51D\", \"#6FE120\", \"#53C918\", \"#37B110\", \"#1B9908\", \"#008000\"\n",
    "]\n",
    "\n",
    "cmap = ListedColormap(colors=palette) # Esto crea una lista de colores que puede ser integrado directamente en la figura\n",
    "\n",
    "# Fijar el rango de valores de -1 a 1 para todas las imágenes\n",
    "norm = Normalize(vmin=-1, vmax=1) # IMPORTANTE: Hay que confirmar si es necesario que las imagenes las mostremos de -1 a 1. Por lo que entiendo de los valores de NDVI en las plantas su valores realmente van desde cercano de 0 a 1. Los valores negativos serán asociados a otras superfices. Por lo que no veo necesario inclurilas dentro de la escala (los valores negativos).\n",
    "\n",
    "# Suponiendo que 'images_names' es un DataFrame o diccionario con la llave \"Images names\"\n",
    "# Y que 'direction' es una variable con la ruta de salida\n",
    "for i in images_names[\"Images names\"]:\n",
    "    print(i)\n",
    "\n",
    "    # Ruta del archivo TIFF\n",
    "    tiff_path = f\"gs://earth_engine_selene/sentinel2/NDWI/NDWI_{i}.tif\"\n",
    "\n",
    "    # Lectura del archivo\n",
    "    with rasterio.open(tiff_path) as src:\n",
    "        # Lectura del archivo\n",
    "        raster_data = src.read(1) # Creo que aqui se selecciona la banda de la imagen, hay que confirmar\n",
    "\n",
    "        fig, ax = plt.subplots(figsize=(8, 6))\n",
    "\n",
    "        # Plot del raster con la paleta personalizada y escala fija\n",
    "        img = ax.imshow(raster_data, cmap=cmap, norm=norm)\n",
    "\n",
    "        # Añadir una barra de colores (leyenda de NDVI)\n",
    "        cbar = fig.colorbar(img, ax=ax)\n",
    "        cbar.set_label('NDWI Value')\n",
    "\n",
    "        # -------------------------------------------------\n",
    "        # AÑADIR LA BARRA DE ESCALA (ScaleBar)\n",
    "        # -------------------------------------------------\n",
    "        # (1) Obtener la resolución de pixel (asumiendo un CRS en metros, por ejemplo UTM)\n",
    "        pixel_size_x = abs(src.transform[0])  # tamaño de pixel en X (ej. metros)\n",
    "\n",
    "        # (2) Crear y añadir la ScaleBar\n",
    "        scalebar = ScaleBar(\n",
    "            pixel_size_x,\n",
    "            units='m',         # 'm' para metros, 'km' si desea kilómetros\n",
    "            location='lower left',  # use espacio, no subrayado (p.ej. \"lower left\")\n",
    "            length_fraction=0.25    # porcentaje del ancho del eje que ocupa la scale bar\n",
    "        )\n",
    "        ax.add_artist(scalebar)\n",
    "\n",
    "        # Quitar los valores de los ejes X e Y\n",
    "        ax.set_xticks([])\n",
    "        ax.set_yticks([])\n",
    "        ax.set_xlabel('')\n",
    "        ax.set_ylabel('')\n",
    "\n",
    "        # Añadir título\n",
    "        ax.set_title(f\"NDWI Map {i}\")\n",
    "\n",
    "        # Guardar la figura en un archivo .png\n",
    "        fig.savefig(direction + f\"/data/07_model_output/Sentinel/NDWI/Final_Results/NDVI_{i}.png\")\n",
    "\n",
    "        # Cerrar la figura para no mostrarla en pantalla\n",
    "        plt.close(fig)"
   ],
   "id": "c6f7f8c5e458180",
   "outputs": [
    {
     "data": {
      "text/plain": [
       "<IPython.core.display.HTML object>"
      ],
      "text/html": [
       "\n",
       "            <style>\n",
       "                .geemap-dark {\n",
       "                    --jp-widgets-color: white;\n",
       "                    --jp-widgets-label-color: white;\n",
       "                    --jp-ui-font-color1: white;\n",
       "                    --jp-layout-color2: #454545;\n",
       "                    background-color: #383838;\n",
       "                }\n",
       "\n",
       "                .geemap-dark .jupyter-button {\n",
       "                    --jp-layout-color3: #383838;\n",
       "                }\n",
       "\n",
       "                .geemap-colab {\n",
       "                    background-color: var(--colab-primary-surface-color, white);\n",
       "                }\n",
       "\n",
       "                .geemap-colab .jupyter-button {\n",
       "                    --jp-layout-color3: var(--colab-primary-surface-color, white);\n",
       "                }\n",
       "            </style>\n",
       "            "
      ]
     },
     "metadata": {},
     "output_type": "display_data"
    },
    {
     "name": "stdout",
     "output_type": "stream",
     "text": [
      "Image_2024-10-04 00:00:00\n",
      "Image_2024-10-14 00:00:00\n",
      "Image_2024-10-19 00:00:00\n",
      "Image_2024-10-24 00:00:00\n",
      "Image_2024-10-29 00:00:00\n",
      "Image_2024-11-03 00:00:00\n",
      "Image_2024-11-08 00:00:00\n",
      "Image_2024-11-13 00:00:00\n",
      "Image_2024-11-18 00:00:00\n",
      "Image_2024-11-23 00:00:00\n",
      "Image_2024-11-28 00:00:00\n",
      "Image_2024-12-03 00:00:00\n",
      "Image_2024-12-18 00:00:00\n",
      "Image_2024-12-23 00:00:00\n",
      "Image_2024-12-28 00:00:00\n",
      "Image_2025-01-02 00:00:00\n"
     ]
    }
   ],
   "execution_count": 15
  },
  {
   "metadata": {},
   "cell_type": "code",
   "outputs": [],
   "execution_count": null,
   "source": "",
   "id": "e9376badc38c1f9c"
  },
  {
   "metadata": {},
   "cell_type": "code",
   "outputs": [],
   "execution_count": null,
   "source": "",
   "id": "aee5398847ad6a72"
  }
 ],
 "metadata": {
  "kernelspec": {
   "display_name": "Python 3",
   "language": "python",
   "name": "python3"
  },
  "language_info": {
   "codemirror_mode": {
    "name": "ipython",
    "version": 2
   },
   "file_extension": ".py",
   "mimetype": "text/x-python",
   "name": "python",
   "nbconvert_exporter": "python",
   "pygments_lexer": "ipython2",
   "version": "2.7.6"
  }
 },
 "nbformat": 4,
 "nbformat_minor": 5
}
