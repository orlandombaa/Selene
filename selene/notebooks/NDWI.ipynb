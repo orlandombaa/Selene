{
 "cells": [
  {
   "metadata": {},
   "cell_type": "markdown",
   "source": [
    "# Normalized Difference Water Index (NDWI) \n",
    "\n",
    "Articulo de referencia\n",
    " \n",
    "https://www.sciencedirect.com/science/article/abs/pii/S0034425796000673\n",
    "\n",
    "El Índice de Agua de Diferencia Normalizada (NDWI) fue desarrollado por Gao (1996) como un índice del contenido de agua de la vegetación. El índice es sensible a los cambios en el contenido líquido de los doseles vegetales. Esto significa que el índice se puede utilizar, por ejemplo, para detectar vegetación que experimenta condiciones de sequía o diferenciar los niveles de riego de los cultivos. En áreas secas, los cultivos que se irrigan se pueden diferenciar de la vegetación natural. También se denomina a veces Índice de Humedad de Diferencia Normalizada (NDMI).\n",
    "\n",
    "\n",
    "\n",
    "**How it Works:**\n",
    " \n",
    "**Healthy Vegetation:**\n",
    "- High NIR reflectance (due to leaf structure).\n",
    "- Low SWIR reflectance (water strongly absorbs SWIR).\n",
    "- Result: Positive NDWI values indicate high water content.\n",
    " \n",
    "**Stressed or Dry Vegetation:**\n",
    "\n",
    "- NIR reflectance decreases slightly, but SWIR reflectance increases significantly (less water absorption).\n",
    "- Result: NDWI values decrease, approaching zero or negative, indicating low water content.\n",
    "\n",
    "\n",
    "**Interpretation:**\n",
    "- High NDWI (Near 1) – Vegetation with high water content (healthy).\n",
    "- Moderate NDWI (0 to 0.5) – Vegetation with moderate water content.\n",
    "- Low NDWI (Negative values) – Stressed or dry vegetation\n",
    "\n",
    "\n",
    "**Applications:**\n",
    "- Agriculture – Monitor crop water stress and optimize irrigation.\n",
    "- Forestry – Assess drought conditions in forests and detect forest fires.\n",
    "- Climate Studies – Track large-scale vegetation response to climate change.\n",
    "- Disaster Management – Identify areas of vegetation at risk of drought or fire.\n",
    "\n",
    "La formula del NDWI es la siguiente: \n",
    "\n",
    "<div style=\"text-align: center;\">\n",
    "    <img src=\"Images/NDWI formula.png\" alt=\"Descripción de la imagen\" width=\"500\">\n",
    "</div>\n",
    " \n",
    "\n",
    "**BANDAS NECESARIAS:** \n",
    " \n",
    "En este caso utilizaremos imagenes de Sentinel 2. Por ende, hay que encontrar cuales son las bandas en sentinel 2 que corresponden a estas longitudes de onda. \n",
    "\n",
    "En el caso de Sentinel 2 la banda NIR (Near Infrared) es la banda **8** con una longitud de onda de Central Wavelength = 842nm.  Por otra parte, la banda de SWIR (short-wave infrared) es mejor el uso de la banda 11 que tiene un centro de longitud de onda  = 1610nm. \n",
    "\n",
    "**NOTA:** El rnago de SWIR adecuados aparentmenete son entre 1,400 a 1,900 nm. \n",
    "\n"
   ],
   "id": "b2c426f685fd3d38"
  },
  {
   "metadata": {},
   "cell_type": "markdown",
   "source": "**IMPORTACION DE LIBRERIAS**",
   "id": "fac83457ca36c4fe"
  },
  {
   "metadata": {
    "ExecuteTime": {
     "end_time": "2024-12-30T19:23:15.840203Z",
     "start_time": "2024-12-30T19:23:14.904264Z"
    }
   },
   "cell_type": "code",
   "source": [
    "import os \n",
    "import ee \n",
    "import geemap\n",
    "import pandas as pd \n",
    "import requests"
   ],
   "id": "709bfe927dde815a",
   "outputs": [],
   "execution_count": 1
  },
  {
   "metadata": {},
   "cell_type": "markdown",
   "source": "**AUTENTIFICACION**",
   "id": "d644aa866aee1ef2"
  },
  {
   "metadata": {
    "ExecuteTime": {
     "end_time": "2024-12-30T19:23:19.267071Z",
     "start_time": "2024-12-30T19:23:17.875197Z"
    }
   },
   "cell_type": "code",
   "source": [
    "# 1) Obtención de la dirección de trabajo \n",
    "direction = os.getcwd()\n",
    "\n",
    "# Remove the last part of the path\n",
    "direction = os.path.dirname(direction)\n",
    "\n",
    "# Dirección de la llave \n",
    "service_account = direction + '/conf/local/gcp-for-data-science-397913-4fd843feede1.json'\n",
    "\n",
    "# Autentificación \n",
    "credentials = ee.ServiceAccountCredentials(email=None, key_file=service_account)\n",
    "ee.Initialize(credentials)"
   ],
   "id": "627d4afab63b1eda",
   "outputs": [
    {
     "data": {
      "text/plain": [
       "<IPython.core.display.HTML object>"
      ],
      "text/html": [
       "\n",
       "            <style>\n",
       "                .geemap-dark {\n",
       "                    --jp-widgets-color: white;\n",
       "                    --jp-widgets-label-color: white;\n",
       "                    --jp-ui-font-color1: white;\n",
       "                    --jp-layout-color2: #454545;\n",
       "                    background-color: #383838;\n",
       "                }\n",
       "\n",
       "                .geemap-dark .jupyter-button {\n",
       "                    --jp-layout-color3: #383838;\n",
       "                }\n",
       "\n",
       "                .geemap-colab {\n",
       "                    background-color: var(--colab-primary-surface-color, white);\n",
       "                }\n",
       "\n",
       "                .geemap-colab .jupyter-button {\n",
       "                    --jp-layout-color3: var(--colab-primary-surface-color, white);\n",
       "                }\n",
       "            </style>\n",
       "            "
      ]
     },
     "metadata": {},
     "output_type": "display_data"
    }
   ],
   "execution_count": 2
  },
  {
   "metadata": {},
   "cell_type": "markdown",
   "source": [
    "## 1) Lectura y procesamiento de imagenes  \n",
    "Las imagenes satelitales se almacenaron en un bucket de GCP, por lo que serán leídas de ahi mismo.\n",
    "\n",
    "API Reference:\n",
    " \n",
    "  https://developers.google.com/earth-engine/apidocs/ee-image-loadgeotiff"
   ],
   "id": "259efec5bec97974"
  },
  {
   "metadata": {},
   "cell_type": "markdown",
   "source": "### 1.1) Cálculo y exportación de imagenes con NDWI",
   "id": "2c4c7537015aa65a"
  },
  {
   "metadata": {
    "ExecuteTime": {
     "end_time": "2024-12-30T19:23:32.316303Z",
     "start_time": "2024-12-30T19:23:21.263706Z"
    }
   },
   "cell_type": "code",
   "source": [
    "# 1) Lectura del nombre de las imagenes en el bucket \n",
    "images_names = pd.read_csv(filepath_or_buffer=direction + \"/data/02_intermediate/images_names.csv\")\n",
    "\n",
    "# Diccionario vacio, aqui almacenaremos los resultados \n",
    "NDWI ={}\n",
    "\n",
    "# Creación del mapa base \n",
    "Map = geemap.Map()\n",
    "\n",
    "# Path to the image in the GCS bucket\n",
    "image_center = images_names[\"Images names\"][0]\n",
    "image_center   = f'gs://earth_engine_selene/sentinel2/{image_center}.tif'\n",
    "    \n",
    "# Load the image from the GCS bucket\n",
    "image = ee.Image.loadGeoTIFF(uri=image_center)\n",
    "\n",
    "# Central el mapa \n",
    "Map.centerObject(ee_object=image, zoom= 9)\n",
    "\n",
    "# 2) Inicio del ciclo \n",
    "for i in images_names[\"Images names\"]:\n",
    "    \n",
    "    # 1) Descarga de imagenes \n",
    "    # Path to the image in the GCS bucket\n",
    "    gcs_path = f'gs://earth_engine_selene/sentinel2/{i}.tif'\n",
    "    \n",
    "    # Load the image from the GCS bucket\n",
    "    image = ee.Image.loadGeoTIFF(gcs_path)\n",
    "      \n",
    "    # 2) Calculate NDVI (if bands are organized)\n",
    "    image = image.normalizedDifference(bandNames=['B8', 'B11']).rename('NDWI')  # Renombre de la banda resultante (capa) \n",
    "    print(f\"NDWI Calculated for {i}\")\n",
    "    \n",
    "    # Define visualization parameters\n",
    "    vis_params = {\n",
    "        'min': -0.5,\n",
    "        'max': 1,\n",
    "        'palette': ['brown', 'yellow', 'green']\n",
    "    }\n",
    "    \n",
    "    url = image.getThumbURL(params=vis_params)\n",
    "    print(f\"Thumbnail URL for {i}: {url}\")\n",
    "        \n",
    "    # 4) Descarga de los datos \n",
    "    # Download the image and save it locally\n",
    "    output_file = direction + f\"/data/07_model_output/NDWI_{i}.png\"\n",
    "    \n",
    "    response = requests.get(url)\n",
    "    if response.status_code == 200:\n",
    "        with open(output_file, 'wb') as f:\n",
    "            f.write(response.content)\n",
    "        print(f\"Image successfully downloaded as '{output_file}'\")\n",
    "    else:\n",
    "        print(f\"Error: Unable to download the image. HTTP status code {response.status_code}\")\n",
    "        \n",
    "    # 5) Almacenamiento de resultados en un diccionario \n",
    "    NDWI[i] = image\n",
    "    \n",
    "    # 6) Añadimos la imagen al mapa html \n",
    "    Map.addLayer(ee_object=image,  vis_params= vis_params, name=f'NDWI {i}', shown=False)\n",
    "    \n",
    "# Exportación del HTML \n",
    "html_file = direction + \"/data/07_model_output/Map_NDWI.html\"\n",
    "Map.to_html(filename=html_file, title=\"My Map\", width=\"100%\", height=\"880px\") # Exporacion a una html "
   ],
   "id": "af2fead55bb6fcc",
   "outputs": [
    {
     "data": {
      "text/plain": [
       "<IPython.core.display.HTML object>"
      ],
      "text/html": [
       "\n",
       "            <style>\n",
       "                .geemap-dark {\n",
       "                    --jp-widgets-color: white;\n",
       "                    --jp-widgets-label-color: white;\n",
       "                    --jp-ui-font-color1: white;\n",
       "                    --jp-layout-color2: #454545;\n",
       "                    background-color: #383838;\n",
       "                }\n",
       "\n",
       "                .geemap-dark .jupyter-button {\n",
       "                    --jp-layout-color3: #383838;\n",
       "                }\n",
       "\n",
       "                .geemap-colab {\n",
       "                    background-color: var(--colab-primary-surface-color, white);\n",
       "                }\n",
       "\n",
       "                .geemap-colab .jupyter-button {\n",
       "                    --jp-layout-color3: var(--colab-primary-surface-color, white);\n",
       "                }\n",
       "            </style>\n",
       "            "
      ]
     },
     "metadata": {},
     "output_type": "display_data"
    },
    {
     "name": "stdout",
     "output_type": "stream",
     "text": [
      "NDWI Calculated for image_2023-1\n",
      "Thumbnail URL for image_2023-1: https://earthengine.googleapis.com/v1/projects/earthengine-legacy/thumbnails/3b23aba317e5633080cf0ac949b88039-6a649921b277d67aee8db69fcf637ae7:getPixels\n",
      "Image successfully downloaded as '/Users/orlandoandrade/Documents/Negocios/Satelites/selene/data/07_model_output/NDWI_image_2023-1.png'\n",
      "NDWI Calculated for image_2023-3\n",
      "Thumbnail URL for image_2023-3: https://earthengine.googleapis.com/v1/projects/earthengine-legacy/thumbnails/20fed02535b5f4b46243cb4ad9d0a29f-fea028f18ff75b9c236ea6f216d176a0:getPixels\n",
      "Image successfully downloaded as '/Users/orlandoandrade/Documents/Negocios/Satelites/selene/data/07_model_output/NDWI_image_2023-3.png'\n",
      "NDWI Calculated for image_2023-5\n",
      "Thumbnail URL for image_2023-5: https://earthengine.googleapis.com/v1/projects/earthengine-legacy/thumbnails/8403922e1df202040c56e58c0bf15b34-70195376b41e885c768272fb34ac828c:getPixels\n",
      "Image successfully downloaded as '/Users/orlandoandrade/Documents/Negocios/Satelites/selene/data/07_model_output/NDWI_image_2023-5.png'\n",
      "NDWI Calculated for image_2023-7\n",
      "Thumbnail URL for image_2023-7: https://earthengine.googleapis.com/v1/projects/earthengine-legacy/thumbnails/c5494cd9dbaf83ff9a1d26a2061e812d-63d7afd0ef646fd734c82c0f2839355e:getPixels\n",
      "Image successfully downloaded as '/Users/orlandoandrade/Documents/Negocios/Satelites/selene/data/07_model_output/NDWI_image_2023-7.png'\n",
      "NDWI Calculated for image_2023-9\n",
      "Thumbnail URL for image_2023-9: https://earthengine.googleapis.com/v1/projects/earthengine-legacy/thumbnails/f36c1a7575b3aa4fbd7f9f02bc4821ba-b988f981cbc18ef8a0ce1d6f332f735d:getPixels\n",
      "Image successfully downloaded as '/Users/orlandoandrade/Documents/Negocios/Satelites/selene/data/07_model_output/NDWI_image_2023-9.png'\n",
      "NDWI Calculated for image_2023-10\n",
      "Thumbnail URL for image_2023-10: https://earthengine.googleapis.com/v1/projects/earthengine-legacy/thumbnails/eaeced3107f79cb980a3bd0814015af2-9a9024843de85aeede115152bbe9983a:getPixels\n",
      "Image successfully downloaded as '/Users/orlandoandrade/Documents/Negocios/Satelites/selene/data/07_model_output/NDWI_image_2023-10.png'\n",
      "NDWI Calculated for image_2023-11\n",
      "Thumbnail URL for image_2023-11: https://earthengine.googleapis.com/v1/projects/earthengine-legacy/thumbnails/280ad46a97f618ace29f3d3b3bbe549c-4b6221f6cf54d72379fcf7aa2e0d30c1:getPixels\n",
      "Image successfully downloaded as '/Users/orlandoandrade/Documents/Negocios/Satelites/selene/data/07_model_output/NDWI_image_2023-11.png'\n"
     ]
    }
   ],
   "execution_count": 3
  },
  {
   "metadata": {},
   "cell_type": "code",
   "outputs": [],
   "execution_count": null,
   "source": "",
   "id": "9cf39b1af6370837"
  }
 ],
 "metadata": {
  "kernelspec": {
   "display_name": "Python 3",
   "language": "python",
   "name": "python3"
  },
  "language_info": {
   "codemirror_mode": {
    "name": "ipython",
    "version": 2
   },
   "file_extension": ".py",
   "mimetype": "text/x-python",
   "name": "python",
   "nbconvert_exporter": "python",
   "pygments_lexer": "ipython2",
   "version": "2.7.6"
  }
 },
 "nbformat": 4,
 "nbformat_minor": 5
}
