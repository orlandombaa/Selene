{
 "cells": [
  {
   "metadata": {},
   "cell_type": "markdown",
   "source": [
    "# Normalized Difference Water Index (NDWI) \n",
    "\n",
    "Articulo de referencia\n",
    " \n",
    "https://www.sciencedirect.com/science/article/abs/pii/S0034425796000673\n",
    "\n",
    "El Índice de Agua de Diferencia Normalizada (NDWI) fue desarrollado por Gao (1996) como un índice del contenido de agua de la vegetación. El índice es sensible a los cambios en el contenido líquido de los doseles vegetales. Esto significa que el índice se puede utilizar, por ejemplo, para detectar vegetación que experimenta condiciones de sequía o diferenciar los niveles de riego de los cultivos. En áreas secas, los cultivos que se irrigan se pueden diferenciar de la vegetación natural. También se denomina a veces Índice de Humedad de Diferencia Normalizada (NDMI).\n",
    "\n",
    "\n",
    "\n",
    "**How it Works:**\n",
    " \n",
    "**Healthy Vegetation:**\n",
    "- High NIR reflectance (due to leaf structure).\n",
    "- Low SWIR reflectance (water strongly absorbs SWIR).\n",
    "- Result: Positive NDWI values indicate high water content.\n",
    " \n",
    "**Stressed or Dry Vegetation:**\n",
    "\n",
    "- NIR reflectance decreases slightly, but SWIR reflectance increases significantly (less water absorption).\n",
    "- Result: NDWI values decrease, approaching zero or negative, indicating low water content.\n",
    "\n",
    "\n",
    "**Interpretation:**\n",
    "- High NDWI (Near 1) – Vegetation with high water content (healthy).\n",
    "- Moderate NDWI (0 to 0.5) – Vegetation with moderate water content.\n",
    "- Low NDWI (Negative values) – Stressed or dry vegetation\n",
    "\n",
    "\n",
    "**Applications:**\n",
    "- Agriculture – Monitor crop water stress and optimize irrigation.\n",
    "- Forestry – Assess drought conditions in forests and detect forest fires.\n",
    "- Climate Studies – Track large-scale vegetation response to climate change.\n",
    "- Disaster Management – Identify areas of vegetation at risk of drought or fire.\n",
    "\n",
    "La formula del NDWI es la siguiente: \n",
    "\n",
    "<div style=\"text-align: center;\">\n",
    "    <img src=\"Images/NDWI formula.png\" alt=\"Descripción de la imagen\" width=\"500\">\n",
    "</div>\n",
    " \n",
    "\n",
    "**BANDAS NECESARIAS:** \n",
    " \n",
    "En este caso utilizaremos imagenes de Sentinel 2. Por ende, hay que encontrar cuales son las bandas en sentinel 2 que corresponden a estas longitudes de onda. \n",
    "\n",
    "En el caso de Sentinel 2 la banda NIR (Near Infrared) es la banda **8** con una longitud de onda de Central Wavelength = 842nm.  Por otra parte, la banda de SWIR (short-wave infrared) es mejor el uso de la banda 11 que tiene un centro de longitud de onda  = 1610nm. \n",
    "\n",
    "**NOTA:** El rnago de SWIR adecuados aparentmenete son entre 1,400 a 1,900 nm. \n",
    "\n"
   ],
   "id": "b2c426f685fd3d38"
  },
  {
   "metadata": {},
   "cell_type": "markdown",
   "source": "**IMPORTACION DE LIBRERIAS**",
   "id": "fac83457ca36c4fe"
  },
  {
   "metadata": {
    "ExecuteTime": {
     "end_time": "2024-12-28T07:25:59.777979Z",
     "start_time": "2024-12-28T07:25:59.769693Z"
    }
   },
   "cell_type": "code",
   "source": [
    "import os \n",
    "import ee \n",
    "import geemap\n",
    "import pandas as pd "
   ],
   "id": "709bfe927dde815a",
   "outputs": [
    {
     "data": {
      "text/plain": [
       "<IPython.core.display.HTML object>"
      ],
      "text/html": [
       "\n",
       "            <style>\n",
       "                .geemap-dark {\n",
       "                    --jp-widgets-color: white;\n",
       "                    --jp-widgets-label-color: white;\n",
       "                    --jp-ui-font-color1: white;\n",
       "                    --jp-layout-color2: #454545;\n",
       "                    background-color: #383838;\n",
       "                }\n",
       "\n",
       "                .geemap-dark .jupyter-button {\n",
       "                    --jp-layout-color3: #383838;\n",
       "                }\n",
       "\n",
       "                .geemap-colab {\n",
       "                    background-color: var(--colab-primary-surface-color, white);\n",
       "                }\n",
       "\n",
       "                .geemap-colab .jupyter-button {\n",
       "                    --jp-layout-color3: var(--colab-primary-surface-color, white);\n",
       "                }\n",
       "            </style>\n",
       "            "
      ]
     },
     "metadata": {},
     "output_type": "display_data"
    }
   ],
   "execution_count": 4
  },
  {
   "metadata": {},
   "cell_type": "markdown",
   "source": "**AUTENTIFICACION**",
   "id": "d644aa866aee1ef2"
  },
  {
   "metadata": {
    "ExecuteTime": {
     "end_time": "2024-12-28T07:06:34.325324Z",
     "start_time": "2024-12-28T07:06:32.949810Z"
    }
   },
   "cell_type": "code",
   "source": [
    "# 1) Obtención de la dirección de trabajo \n",
    "direction = os.getcwd()\n",
    "\n",
    "# Remove the last part of the path\n",
    "direction = os.path.dirname(direction)\n",
    "\n",
    "# Dirección de la llave \n",
    "service_account = direction + '/conf/local/gcp-for-data-science-397913-4fd843feede1.json'\n",
    "\n",
    "# Autentificación \n",
    "credentials = ee.ServiceAccountCredentials(email=None, key_file=service_account)\n",
    "ee.Initialize(credentials)"
   ],
   "id": "627d4afab63b1eda",
   "outputs": [
    {
     "data": {
      "text/plain": [
       "<IPython.core.display.HTML object>"
      ],
      "text/html": [
       "\n",
       "            <style>\n",
       "                .geemap-dark {\n",
       "                    --jp-widgets-color: white;\n",
       "                    --jp-widgets-label-color: white;\n",
       "                    --jp-ui-font-color1: white;\n",
       "                    --jp-layout-color2: #454545;\n",
       "                    background-color: #383838;\n",
       "                }\n",
       "\n",
       "                .geemap-dark .jupyter-button {\n",
       "                    --jp-layout-color3: #383838;\n",
       "                }\n",
       "\n",
       "                .geemap-colab {\n",
       "                    background-color: var(--colab-primary-surface-color, white);\n",
       "                }\n",
       "\n",
       "                .geemap-colab .jupyter-button {\n",
       "                    --jp-layout-color3: var(--colab-primary-surface-color, white);\n",
       "                }\n",
       "            </style>\n",
       "            "
      ]
     },
     "metadata": {},
     "output_type": "display_data"
    }
   ],
   "execution_count": 3
  },
  {
   "metadata": {},
   "cell_type": "markdown",
   "source": [
    "## 1) Lectura y procesamiento de imagenes  \n",
    "Las imagenes satelitales se almacenaron en un bucket de GCP, por lo que serán leídas de ahi mismo.\n",
    "\n",
    "API Reference:\n",
    " \n",
    "  https://developers.google.com/earth-engine/apidocs/ee-image-loadgeotiff"
   ],
   "id": "259efec5bec97974"
  },
  {
   "metadata": {},
   "cell_type": "markdown",
   "source": "### 1.1) Cálculo y exportación de imagenes con NDWI",
   "id": "2c4c7537015aa65a"
  },
  {
   "metadata": {},
   "cell_type": "code",
   "outputs": [],
   "execution_count": null,
   "source": "### AQUI VOY !! , tengo que modificar el ciclo para que calcule el ndwi. \n",
   "id": "af2fead55bb6fcc"
  },
  {
   "metadata": {
    "ExecuteTime": {
     "end_time": "2024-12-28T02:22:54.937246Z",
     "start_time": "2024-12-28T02:22:35.008038Z"
    }
   },
   "cell_type": "code",
   "outputs": [
    {
     "data": {
      "text/plain": [
       "<IPython.core.display.HTML object>"
      ],
      "text/html": [
       "\n",
       "            <style>\n",
       "                .geemap-dark {\n",
       "                    --jp-widgets-color: white;\n",
       "                    --jp-widgets-label-color: white;\n",
       "                    --jp-ui-font-color1: white;\n",
       "                    --jp-layout-color2: #454545;\n",
       "                    background-color: #383838;\n",
       "                }\n",
       "\n",
       "                .geemap-dark .jupyter-button {\n",
       "                    --jp-layout-color3: #383838;\n",
       "                }\n",
       "\n",
       "                .geemap-colab {\n",
       "                    background-color: var(--colab-primary-surface-color, white);\n",
       "                }\n",
       "\n",
       "                .geemap-colab .jupyter-button {\n",
       "                    --jp-layout-color3: var(--colab-primary-surface-color, white);\n",
       "                }\n",
       "            </style>\n",
       "            "
      ]
     },
     "metadata": {},
     "output_type": "display_data"
    },
    {
     "name": "stdout",
     "output_type": "stream",
     "text": [
      "NDVI Calculated for image_2023-1\n",
      "Thumbnail URL for image_2023-1: https://earthengine.googleapis.com/v1/projects/earthengine-legacy/thumbnails/5bdbb88cdd7920d17c235b1703cbecc8-a9d44e2cb8422c78cb799a06b742ff39:getPixels\n",
      "Image successfully downloaded as '/Users/orlandoandrade/Documents/Negocios/Satelites/selene/data/07_model_output/image_2023-1.png'\n",
      "NDVI Calculated for image_2023-3\n",
      "Thumbnail URL for image_2023-3: https://earthengine.googleapis.com/v1/projects/earthengine-legacy/thumbnails/1b059d6e797423d39b16590e4c74a088-73938f4a728c81ce384c17386b5cd5e0:getPixels\n",
      "Image successfully downloaded as '/Users/orlandoandrade/Documents/Negocios/Satelites/selene/data/07_model_output/image_2023-3.png'\n",
      "NDVI Calculated for image_2023-5\n",
      "Thumbnail URL for image_2023-5: https://earthengine.googleapis.com/v1/projects/earthengine-legacy/thumbnails/58e58f7585a29879b275da0a9dfb2215-d5f867b8bc8c55cc752f5c361668386d:getPixels\n",
      "Image successfully downloaded as '/Users/orlandoandrade/Documents/Negocios/Satelites/selene/data/07_model_output/image_2023-5.png'\n",
      "NDVI Calculated for image_2023-7\n",
      "Thumbnail URL for image_2023-7: https://earthengine.googleapis.com/v1/projects/earthengine-legacy/thumbnails/abdaff20da08d481dbcbfd92c52995d5-780947b7f40d65f5913605eeb81055b0:getPixels\n",
      "Image successfully downloaded as '/Users/orlandoandrade/Documents/Negocios/Satelites/selene/data/07_model_output/image_2023-7.png'\n",
      "NDVI Calculated for image_2023-9\n",
      "Thumbnail URL for image_2023-9: https://earthengine.googleapis.com/v1/projects/earthengine-legacy/thumbnails/4701e603d15c53353c3f6c324f077d58-723c212133aa266b0f758f4116de8564:getPixels\n",
      "Image successfully downloaded as '/Users/orlandoandrade/Documents/Negocios/Satelites/selene/data/07_model_output/image_2023-9.png'\n",
      "NDVI Calculated for image_2023-10\n",
      "Thumbnail URL for image_2023-10: https://earthengine.googleapis.com/v1/projects/earthengine-legacy/thumbnails/bad5731d1ef28ca2f1828bb8ae5fa0d3-4f3d6be68ee929fa1549a2dcea59e228:getPixels\n",
      "Image successfully downloaded as '/Users/orlandoandrade/Documents/Negocios/Satelites/selene/data/07_model_output/image_2023-10.png'\n",
      "NDVI Calculated for image_2023-11\n",
      "Thumbnail URL for image_2023-11: https://earthengine.googleapis.com/v1/projects/earthengine-legacy/thumbnails/24355e2bb57a459db6d44ef82c064731-9f8f0a982eaf3f6c1071c8505f5ef1e7:getPixels\n",
      "Image successfully downloaded as '/Users/orlandoandrade/Documents/Negocios/Satelites/selene/data/07_model_output/image_2023-11.png'\n",
      "NDVI Calculated for image_2024-1\n",
      "Thumbnail URL for image_2024-1: https://earthengine.googleapis.com/v1/projects/earthengine-legacy/thumbnails/c9b1dfbcb6e55cdf9ffcbe86bff54496-4f2d0bd46cb564032f57cb10ceafc2dc:getPixels\n",
      "Image successfully downloaded as '/Users/orlandoandrade/Documents/Negocios/Satelites/selene/data/07_model_output/image_2024-1.png'\n",
      "NDVI Calculated for image_2024-3\n",
      "Thumbnail URL for image_2024-3: https://earthengine.googleapis.com/v1/projects/earthengine-legacy/thumbnails/65cd6c403ff2c8167fba63b9b3947735-cdc298dfd50f23d7c2a8afbc55dc42cd:getPixels\n",
      "Image successfully downloaded as '/Users/orlandoandrade/Documents/Negocios/Satelites/selene/data/07_model_output/image_2024-3.png'\n",
      "NDVI Calculated for image_2024-5\n",
      "Thumbnail URL for image_2024-5: https://earthengine.googleapis.com/v1/projects/earthengine-legacy/thumbnails/0265a3a6c3ee7c977bec04abb9e1250b-3e9e38503ae9f3274a6d720eb3a7ae05:getPixels\n",
      "Image successfully downloaded as '/Users/orlandoandrade/Documents/Negocios/Satelites/selene/data/07_model_output/image_2024-5.png'\n",
      "NDVI Calculated for image_2024-7\n",
      "Thumbnail URL for image_2024-7: https://earthengine.googleapis.com/v1/projects/earthengine-legacy/thumbnails/8c24e062741dd816540021c12dc1d90e-3449529a7d6b97e5739a9da66190c963:getPixels\n",
      "Image successfully downloaded as '/Users/orlandoandrade/Documents/Negocios/Satelites/selene/data/07_model_output/image_2024-7.png'\n",
      "NDVI Calculated for image_2024-9\n",
      "Thumbnail URL for image_2024-9: https://earthengine.googleapis.com/v1/projects/earthengine-legacy/thumbnails/51e65e6284902c5e173da05110d72a05-2142e9fea2dc9acac9e574ffffcd2997:getPixels\n",
      "Image successfully downloaded as '/Users/orlandoandrade/Documents/Negocios/Satelites/selene/data/07_model_output/image_2024-9.png'\n",
      "NDVI Calculated for image_2024-10\n",
      "Thumbnail URL for image_2024-10: https://earthengine.googleapis.com/v1/projects/earthengine-legacy/thumbnails/7a4123f94909ba1266747d05081cd422-2494beb014cde1e7f134f0c2aa7f2105:getPixels\n",
      "Image successfully downloaded as '/Users/orlandoandrade/Documents/Negocios/Satelites/selene/data/07_model_output/image_2024-10.png'\n",
      "NDVI Calculated for image_2024-11\n",
      "Thumbnail URL for image_2024-11: https://earthengine.googleapis.com/v1/projects/earthengine-legacy/thumbnails/5604b0ee0692c107bf19cf0d5bbf85bb-b16308ab43478896edb09c7c68eb844d:getPixels\n",
      "Image successfully downloaded as '/Users/orlandoandrade/Documents/Negocios/Satelites/selene/data/07_model_output/image_2024-11.png'\n"
     ]
    }
   ],
   "execution_count": 3,
   "source": [
    "# 1) Lectura del nombre de las imagenes en el bucket \n",
    "images_names = pd.read_csv(filepath_or_buffer=direction + \"/data/02_intermediate/images_names.csv\")\n",
    "\n",
    "# diccionario de imagenes \n",
    "images_dic = {}\n",
    "\n",
    "# 2) Inicio del ciclo \n",
    "for i in images_names[\"Images names\"]:\n",
    "    \n",
    "    # 1) Descarga de imagenes \n",
    "    # Path to the image in the GCS bucket\n",
    "    gcs_path = f'gs://earth_engine_selene/sentinel2/{i}.tif'\n",
    "    \n",
    "    # Load the image from the GCS bucket\n",
    "    image = ee.Image.loadGeoTIFF(gcs_path)\n",
    "     \n",
    "    # 2) Calculate NDVI (if bands are organized)\n",
    "    image = image.normalizedDifference(['B8', 'B4']).rename('NDVI')  # Renombre de la banda resultante (capa) \n",
    "    print(f\"NDVI Calculated for {i}\")\n",
    "    \n",
    "    # 3) Generaación de URL \n",
    "    rgb_bands = [\"NDVI\"]\n",
    "\n",
    "    ndvi_vis = {\n",
    "                \"min\": 0,\n",
    "                \"max\": 1,\n",
    "                \"palette\": [\"red\", \"yellow\", \"green\"], \n",
    "    \"bands\":rgb_bands}\n",
    "\n",
    "    url = image.getThumbURL(ndvi_vis)\n",
    "    print(f\"Thumbnail URL for {i}: {url}\")\n",
    "        \n",
    "    # 4) Descarga de los datos \n",
    "    # Download the image and save it locally\n",
    "    output_file = direction + f\"/data/07_model_output/{i}.png\"\n",
    "    \n",
    "    response = requests.get(url)\n",
    "    if response.status_code == 200:\n",
    "        with open(output_file, 'wb') as f:\n",
    "            f.write(response.content)\n",
    "        print(f\"Image successfully downloaded as '{output_file}'\")\n",
    "    else:\n",
    "        print(f\"Error: Unable to download the image. HTTP status code {response.status_code}\")\n",
    "    \n",
    "    images_dic[i]  = image"
   ],
   "id": "dc4beedd4b7e3e50"
  },
  {
   "metadata": {},
   "cell_type": "code",
   "outputs": [],
   "execution_count": null,
   "source": [
    "### SUGERENCIA DE CHAT GPT: \n",
    "\n",
    "import ee\n",
    "import geemap\n",
    "\n",
    "# Initialize Earth Engine\n",
    "ee.Initialize()\n",
    "\n",
    "# Load a Sentinel-2 image (TOA or SR)\n",
    "image = ee.Image('COPERNICUS/S2_SR/20240101T180011_20240101T180013_T10SEG')\n",
    "\n",
    "# Select NIR (B8) and SWIR (B11) bands\n",
    "nir = image.select('B8')  # NIR\n",
    "swir = image.select('B11')  # SWIR\n",
    "\n",
    "# Calculate NDWI using normalizedDifference\n",
    "ndwi = image.normalizedDifference(['B8', 'B11']).rename('NDWI')\n",
    "\n",
    "# Define visualization parameters\n",
    "vis_params = {\n",
    "    'min': -0.5,\n",
    "    'max': 1,\n",
    "    'palette': ['brown', 'yellow', 'green']\n",
    "}\n",
    "\n",
    "# Visualize the NDWI\n",
    "Map = geemap.Map()\n",
    "Map.centerObject(image, 9)\n",
    "Map.addLayer(ndwi, vis_params, 'NDWI (Gao 1996)')\n",
    "Map.addLayer(image.select(['B4', 'B3', 'B2']), {'min': 0, 'max': 3000}, 'True Color')\n",
    "Map\n"
   ],
   "id": "54ca899d532754b1"
  }
 ],
 "metadata": {
  "kernelspec": {
   "display_name": "Python 3",
   "language": "python",
   "name": "python3"
  },
  "language_info": {
   "codemirror_mode": {
    "name": "ipython",
    "version": 2
   },
   "file_extension": ".py",
   "mimetype": "text/x-python",
   "name": "python",
   "nbconvert_exporter": "python",
   "pygments_lexer": "ipython2",
   "version": "2.7.6"
  }
 },
 "nbformat": 4,
 "nbformat_minor": 5
}
