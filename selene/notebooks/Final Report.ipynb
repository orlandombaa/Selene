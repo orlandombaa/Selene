{
 "cells": [
  {
   "metadata": {},
   "cell_type": "markdown",
   "source": [
    "# Final report\n",
    "\n",
    "Este notebook integrará las respuestas del análisis automático que hará el modelo de lenguaje. Por ende se centrará unicamente en integrar esas respuesta  y presentar los resultados utilizando la librería"
   ],
   "id": "66f301a4ca00db54"
  },
  {
   "metadata": {
    "ExecuteTime": {
     "end_time": "2025-01-05T00:50:40.954468Z",
     "start_time": "2025-01-05T00:50:40.949240Z"
    }
   },
   "cell_type": "code",
   "source": [
    "import os\n",
    "\n",
    "\n",
    "direction = os.getcwd()\n",
    "direction = os.path.dirname(direction)\n",
    "direction"
   ],
   "id": "385617967a79fdad",
   "outputs": [
    {
     "data": {
      "text/plain": [
       "'/Users/orlandoandrade/Documents/Negocios/Satelites/selene'"
      ]
     },
     "execution_count": 9,
     "metadata": {},
     "output_type": "execute_result"
    }
   ],
   "execution_count": 9
  },
  {
   "metadata": {},
   "cell_type": "markdown",
   "source": "## 1) Lectura de resultados",
   "id": "551e285e98da2e2f"
  },
  {
   "metadata": {
    "ExecuteTime": {
     "end_time": "2025-01-05T00:51:00.585574Z",
     "start_time": "2025-01-05T00:51:00.580659Z"
    }
   },
   "cell_type": "code",
   "source": [
    "# Read the .txt file\n",
    "with open(file= direction + \"/data/07_model_output/interpretacion/report.txt\",  mode=\"r\", encoding=\"utf-8\") as file:\n",
    "    content = file.read()\n",
    "\n",
    "content"
   ],
   "id": "f70f3ea7d2a9a1ec",
   "outputs": [
    {
     "data": {
      "text/plain": [
       "'Para evaluar la salud del cultivo utilizando los valores de NDVI proporcionados, primero es importante entender cómo interpretar estos valores. El NDVI (Índice de Vegetación de Diferencia Normalizada) mide la densidad y salud de la vegetación en un área determinada, donde los valores oscilan entre -1 y 1. Generalmente, se pueden clasificar los valores de la siguiente manera:\\n\\nNDVI < 0: ausencia de vegetación\\n0 < NDVI < 0.2: vegetación escasa o muy poco saludable\\n0.2 < NDVI < 0.5: vegetación moderadamente saludable\\n0.5 < NDVI < 0.8: vegetación sana y densa\\nNDVI > 0.8: vegetación muy densa y saludable\\n\\nAhora, analicemos los valores de NDVI que has proporcionado:\\n\\nimage_2023-1: NDVI 0.245787\\n\\nConsiderado vegetación moderadamente saludable.\\n\\n\\nimage_2023-3: NDVI 0.358347\\n\\n\\nAumento en comparación con enero, indicando una mejora en la salud de la vegetación.\\n\\n\\nimage_2023-5: NDVI 0.261947\\n\\n\\nHay una ligera disminución en la salud de la vegetación en comparación con marzo, pero todavía está en el rango de vegetación moderadamente saludable.\\n\\n\\nimage_2023-7: NDVI 0.117241\\n\\n\\nUn descenso significativo, indicando una vegetación poco saludable.\\n\\n\\nimage_2023-9: NDVI 0.143728\\n\\n\\nMantiene un nivel bajo en comparación con julio, lo que sugiere que la salud del cultivo sigue siendo preocupante.\\n\\n\\nimage_2023-10: NDVI 0.167872\\n\\n\\nUn ligero aumento en comparación con septiembre, pero todavía en un rango bajo.\\n\\n\\nimage_2023-11: NDVI 0.123687\\n\\nUn nuevo descenso, lo que indica que la salud de la vegetación está en un estado crítico.\\n\\nResumen de la Evaluación:\\n\\nTendencia General: Los datos muestran una tendencia general de disminución en la salud del cultivo desde marzo hasta noviembre, alcanzando su punto más bajo en julio, septiembre y noviembre, con valores que indican vegetación poco saludable.\\nPuntos Críticos: El periodo de julio a noviembre es especialmente preocupante, ya que todos los valores están por debajo de 0.2, lo que sugiere un estrés considerable en la vegetación. Esto podría deberse a factores ambientales como sequías, plagas, enfermedades o condiciones del suelo.\\nRecomendaciones: Se sugiere investigar las causas del deterioro de la salud de la vegetación y tomar medidas correctivas, como la mejora en el manejo del riego, la fertilización adecuada, la implementación de prácticas de control de plagas y enfermedades, y la evaluación de las condiciones del suelo.\\n\\nEstos análisis son fundamentales para la toma de decisiones en la gestión agrícola y para mejorar la salud y productividad de los cultivos.'"
      ]
     },
     "execution_count": 11,
     "metadata": {},
     "output_type": "execute_result"
    }
   ],
   "execution_count": 11
  },
  {
   "metadata": {},
   "cell_type": "code",
   "outputs": [],
   "execution_count": null,
   "source": "",
   "id": "382ec13e417efd9b"
  },
  {
   "metadata": {},
   "cell_type": "markdown",
   "source": "## 2) Procesamiento",
   "id": "d36d69e278ddf807"
  },
  {
   "metadata": {},
   "cell_type": "markdown",
   "source": [
    "**PRUEBA para la generación de un PDF**\n",
    "Esto se hará utilizando la librería ReportLab\n",
    "\n",
    "[Referencia](https://docs.reportlab.com/reportlab/userguide/ch1_intro/)\n",
    "\n",
    "[API Reference Report LAb]()"
   ],
   "id": "b661b7741b6d7408"
  },
  {
   "metadata": {
    "ExecuteTime": {
     "end_time": "2025-01-05T00:51:34.672774Z",
     "start_time": "2025-01-05T00:51:34.573256Z"
    }
   },
   "cell_type": "code",
   "source": [
    "from reportlab.lib.pagesizes import A4\n",
    "from reportlab.pdfgen import canvas\n",
    "from reportlab.lib.utils import simpleSplit\n",
    "from PIL import Image  # Para obtener dimensiones reales de la imagen\n",
    "\n",
    "# Rutas\n",
    "pdf_path = direction + \"/data/08_reporting/Example.pdf\"\n",
    "image_path = direction + \"/data/07_model_output/image_2023-5.png\"\n",
    "\n",
    "# Crear canvas\n",
    "c = canvas.Canvas(filename=pdf_path, pagesize=A4)\n",
    "\n",
    "# Añadir título centrado\n",
    "width, height = A4  # Dimensiones del PDF\n",
    "title = \"Monthly Report - May 2023\"\n",
    "title_size = 20  # Tamaño de fuente del título\n",
    "c.setFont(\"Helvetica-Bold\", title_size)\n",
    "\n",
    "# Calcular posición para centrar el título\n",
    "text_width = c.stringWidth(title, \"Helvetica-Bold\", title_size)\n",
    "x_position = (width - text_width) / 2\n",
    "y_position = height - 50  # Posición a 50 puntos del borde superior\n",
    "\n",
    "# Dibujar el título\n",
    "c.drawString(x_position, y_position, title)\n",
    "\n",
    "# Añadir texto largo con ajuste automático\n",
    "c.setFont(\"Helvetica\", 12)\n",
    "\n",
    "# Definir posición inicial y ancho máximo\n",
    "x_start = 100\n",
    "y_start = 750\n",
    "max_width_text = 400  # Ancho máximo permitido para el texto\n",
    "\n",
    "# Dividir el texto en múltiples líneas\n",
    "lines = simpleSplit(content, c._fontname, c._fontsize, max_width_text)\n",
    "\n",
    "# Dibujar cada línea de texto\n",
    "for line in lines:\n",
    "    c.drawString(x_start, y_start, line)\n",
    "    y_start -= 20  # Espaciado entre líneas\n",
    "\n",
    "# Obtener dimensiones de la imagen\n",
    "with Image.open(image_path) as img:\n",
    "    img_width, img_height = img.size\n",
    "\n",
    "# Escalar la imagen manteniendo la relación de aspecto\n",
    "max_width = 200\n",
    "max_height = 150\n",
    "aspect_ratio = img_width / img_height\n",
    "\n",
    "if img_width > img_height:  # Imagen horizontal\n",
    "    scaled_width = max_width\n",
    "    scaled_height = max_width / aspect_ratio\n",
    "else:  # Imagen vertical\n",
    "    scaled_height = max_height\n",
    "    scaled_width = max_height * aspect_ratio\n",
    "\n",
    "# Dibujar la imagen en el PDF\n",
    "c.drawImage(image_path, 100, 500, width=scaled_width, height=scaled_height)\n",
    "\n",
    "# Guardar el PDF\n",
    "c.save()"
   ],
   "id": "d44b3712cae09a58",
   "outputs": [],
   "execution_count": 12
  },
  {
   "metadata": {},
   "cell_type": "code",
   "outputs": [],
   "execution_count": null,
   "source": "",
   "id": "def063687bd46a26"
  },
  {
   "metadata": {},
   "cell_type": "code",
   "outputs": [],
   "execution_count": null,
   "source": "",
   "id": "22b275c47f0b658"
  },
  {
   "metadata": {},
   "cell_type": "code",
   "outputs": [],
   "execution_count": null,
   "source": "",
   "id": "ae251ba745ec3405"
  },
  {
   "metadata": {},
   "cell_type": "code",
   "outputs": [],
   "execution_count": null,
   "source": [
    "# Respuesta chat GPT para añadir imagenes dinamicas (cuadricula):\n",
    "\n",
    "from reportlab.lib.pagesizes import A4\n",
    "from reportlab.pdfgen import canvas\n",
    "from PIL import Image  # Para obtener dimensiones reales de la imagen\n",
    "import os\n",
    "\n",
    "# Rutas\n",
    "pdf_path = direction + \"/data/08_reporting/Example.pdf\"\n",
    "image_folder = direction + \"/data/07_model_output/\"\n",
    "\n",
    "# Crear canvas\n",
    "c = canvas.Canvas(filename=pdf_path, pagesize=A4)\n",
    "width, height = A4  # Dimensiones de la página\n",
    "\n",
    "# Añadir título centrado\n",
    "title = \"Monthly Report - May 2023\"\n",
    "title_size = 20\n",
    "c.setFont(\"Helvetica-Bold\", title_size)\n",
    "text_width = c.stringWidth(title, \"Helvetica-Bold\", title_size)\n",
    "x_position = (width - text_width) / 2\n",
    "y_position = height - 50\n",
    "c.drawString(x_position, y_position, title)\n",
    "\n",
    "# Añadir texto descriptivo\n",
    "c.setFont(\"Helvetica\", 12)\n",
    "c.drawString(100, 750, \"Hello, Este es un reporte automático con múltiples imágenes\")\n",
    "\n",
    "# Parámetros para organizar imágenes\n",
    "max_width = 180  # Ancho máximo por imagen\n",
    "max_height = 120  # Alto máximo por imagen\n",
    "padding = 20     # Espacio entre imágenes\n",
    "x_start = 50     # Margen izquierdo\n",
    "y_start = 650    # Margen superior\n",
    "columns = 3      # Número de imágenes por fila\n",
    "x, y = x_start, y_start\n",
    "\n",
    "# Obtener lista de imágenes\n",
    "image_files = [f for f in os.listdir(image_folder) if f.endswith(('.png', '.jpg', '.jpeg'))]\n",
    "\n",
    "# Bucle para añadir imágenes\n",
    "for idx, image_file in enumerate(image_files):\n",
    "    image_path = os.path.join(image_folder, image_file)\n",
    "\n",
    "    # Obtener dimensiones de la imagen\n",
    "    with Image.open(image_path) as img:\n",
    "        img_width, img_height = img.size\n",
    "\n",
    "    # Mantener relación de aspecto\n",
    "    aspect_ratio = img_width / img_height\n",
    "    if img_width > img_height:\n",
    "        scaled_width = max_width\n",
    "        scaled_height = max_width / aspect_ratio\n",
    "    else:\n",
    "        scaled_height = max_height\n",
    "        scaled_width = max_height * aspect_ratio\n",
    "\n",
    "    # Dibujar imagen en posición calculada\n",
    "    c.drawImage(image_path, x, y, width=scaled_width, height=scaled_height)\n",
    "\n",
    "    # Calcular nueva posición (de izquierda a derecha)\n",
    "    x += scaled_width + padding\n",
    "\n",
    "    # Si alcanzamos el límite de columnas, pasamos a la siguiente fila\n",
    "    if (idx + 1) % columns == 0:\n",
    "        x = x_start  # Reiniciar a la izquierda\n",
    "        y -= (scaled_height + padding)  # Mover hacia abajo\n",
    "\n",
    "    # Si la página se llena, añadir una nueva\n",
    "    if y < 150:\n",
    "        c.showPage()\n",
    "        y = y_start\n",
    "        x = x_start\n",
    "        c.setFont(\"Helvetica\", 12)  # Reiniciar texto\n",
    "\n",
    "# Guardar PDF\n",
    "c.save()\n"
   ],
   "id": "ffd51ab22b57f8ea"
  },
  {
   "metadata": {},
   "cell_type": "code",
   "outputs": [],
   "execution_count": null,
   "source": "",
   "id": "8b67cc621b433b07"
  },
  {
   "metadata": {},
   "cell_type": "code",
   "outputs": [],
   "execution_count": null,
   "source": "",
   "id": "859f6753ebde335f"
  },
  {
   "metadata": {},
   "cell_type": "markdown",
   "source": "## 3) Exportación del reporte",
   "id": "1896d9ac7ef85ee7"
  },
  {
   "metadata": {},
   "cell_type": "code",
   "outputs": [],
   "execution_count": null,
   "source": "",
   "id": "8237d6e51da68576"
  }
 ],
 "metadata": {
  "kernelspec": {
   "display_name": "Python 3",
   "language": "python",
   "name": "python3"
  },
  "language_info": {
   "codemirror_mode": {
    "name": "ipython",
    "version": 2
   },
   "file_extension": ".py",
   "mimetype": "text/x-python",
   "name": "python",
   "nbconvert_exporter": "python",
   "pygments_lexer": "ipython2",
   "version": "2.7.6"
  }
 },
 "nbformat": 4,
 "nbformat_minor": 5
}
